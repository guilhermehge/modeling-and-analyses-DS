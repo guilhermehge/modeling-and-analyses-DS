{
 "cells": [
  {
   "cell_type": "markdown",
   "metadata": {},
   "source": [
    "# Segmentação de clientes que converteram\n",
    "\n",
    "Autor: Guilherme Henrique Garcia Elias"
   ]
  },
  {
   "cell_type": "markdown",
   "metadata": {},
   "source": [
    "# Sumário\n",
    "\n",
    "1. [Importanto bilbiotecas padrão](#bibliotecas)<br>\n",
    "2. [Funções úteis](#funcoes_uteis)<br>\n",
    "3. [Importação e análise preliminar do banco de dados](#bd)<br>\n",
    "    3.1. [n_sessoes](#bd_n_sessoes)<br>\n",
    "    3.2. [sessoes_conversoras](#bd_sessoes_conversoras)<br>\n",
    "    3.3. [qtde_transacoes](#bd_qtde_transacoes)<br>\n",
    "    3.4. [soma_receitas](#bd_soma_receitas)<br>\n",
    "    3.5. [media_receitas_transacao](#bd_media_receitas_transacao)<br>\n",
    "    3.6. [data_ultima_transacao](#bd_data_ultima_transacao)<br>\n",
    "4. [Análise univariada](#anunivar)<br>\n",
    "    4.1. [n_sessoes](#auni_n_sessoes)<br>\n",
    "    4.2. [sessoes_conversoras](#auni_sessoes_conversoras)<br>\n",
    "    4.3. [qtde_transacoes](#auni_qtde_transacoes)<br>\n",
    "    4.4. [soma_receitas](#auni_soma_receitas)<br>\n",
    "    4.5. [media_receitas_transacao](#auni_media_receitas_transacao)<br>\n",
    "    4.6. [data_ultima_transacao](#auni_data_ultima_transacao)<br>\n",
    "5. [Análise bivariada](#abid)<br>\n",
    "    5.1. [n_sessoes x sessoes_conversoras](#abid_1)<br>\n",
    "    5.2. [n_sessoes x qtde_transacoes](#abid_2)<br>\n",
    "    5.3. [n_sessoes x soma_receitas](#abid_3)<br>\n",
    "    5.4. [n_sessoes x media_receitas_transacao](#abid_4)<br>\n",
    "6. [Modelagem](#mod)<br>\n",
    "    6.1. [Padronização](#mod_1)<br>\n",
    "    6.2. [Método do cotovelo](#mod_2)<br>\n",
    "    6.3. [Score da Silhueta](#mod_3)<br>\n",
    "    6.4. [Modelo com 6 clusters (cotovelo)](#mod_4)<br>\n",
    "    6.5. [Modelo com 2 clusters (silhueta)](#mod_5)<br>\n",
    "    6.6. [Modelo com 3 clusters (palpite próprio)](#mod_6)<br>\n",
    "    \n",
    "Obs: Cada uma das modelagens possuem a interpretação dos grupos formados e os *insights* para o negócio    "
   ]
  },
  {
   "cell_type": "markdown",
   "metadata": {},
   "source": [
    "# Resumo da análise e da modelagem"
   ]
  },
  {
   "cell_type": "markdown",
   "metadata": {},
   "source": [
    "**Através da análise exploratória uni e bivariada é possível identificar que:**\n",
    "* A maior parte dos clientes que converteram, converteram em poucas sessões mas compraram apenas 1 ou 2 vezes;\n",
    "* Em geral, a soma e a média das receitas para um único cliente é relativamente baixa. Existem muitos clientes que compraram apenas um produto barato e nunca mais acessaram o site da loja;\n",
    "* Há alguns clientes que visitam muitas vezes antes de converter, mas quando convertem, realizam um maior número de transações com receitas mais altas;\n",
    "* Alguns clientes realizaram compras apenas 1 vez porém com valor alto. Isso pode puxar a média de receitas para cima.<br><br>\n",
    "\n",
    "**Através da modelagem é possível identificar que:**\n",
    "* O método do cotovelo indicou 6 clusters e o score da silhueta indicou 2 clusters;\n",
    "* A modelagem com 6 clusters foi capaz de dividir os clientes entre os itens observaods na análise exploratória, maioria dos clientes com poucas sessões, poucas conversões, poucas transações e receita baixa, porém com certa sazonalidade.\n",
    "    - A ideia seria realizar uma campanha de marketing para reter estes clientes, **\"Decididos de início e fim de ano\"** e torná-los recorrentes, comprando mais de uma vez e visitando mais o e-commerce ao longo do ano. Pode-se, também, levar em conta a sazonalidade destes grupos. O grupo 1 compra mais no fim do ano e o 2 mais no início. A ideia seria fazê-los comprar ao longo do ano todo.\n",
    "* A modelagem com 2 clusters também confirmou a maioria dos clientes com poucas sessões, conversões, transações e receitas, porém não mostrou a sazonalidade;\n",
    "* A modelagem com 3 clusters confirma, também a predominância deste grupo e confirma a sazonalidade mostrada na clusterização com 6 grupos;\n",
    "* A área responsável poderá decidir entre 6 e 3 clusters para direcionar suas campanhas.\n",
    "* O estudo dos grupos está localizado em:\n",
    "    - [Modelo com 6 clusters (cotovelo)](#mod_4)<br>"
   ]
  },
  {
   "cell_type": "markdown",
   "metadata": {},
   "source": [
    "## 1. Importação de bibliotecas padrão <a name=\"bibliotecas\"></a>"
   ]
  },
  {
   "cell_type": "code",
   "execution_count": 1,
   "metadata": {},
   "outputs": [],
   "source": [
    "import pandas as pd\n",
    "import numpy as np\n",
    "import seaborn as sns\n",
    "import matplotlib.pyplot as plt"
   ]
  },
  {
   "cell_type": "markdown",
   "metadata": {},
   "source": [
    "## 2. Funções úteis <a name=\"funcoes_uteis\"></a>"
   ]
  },
  {
   "cell_type": "code",
   "execution_count": 2,
   "metadata": {},
   "outputs": [],
   "source": [
    "def plot_hist_box(column, bins = 30):\n",
    "    '''\n",
    "    Plota um histograma e um boxplot de uma variável numérica\n",
    "    '''\n",
    "    fig, axs = plt.subplots(1, 2, tight_layout=True, figsize=(10,4));\n",
    "    axs[0].hist(column, bins=bins);\n",
    "    axs[1].boxplot(column);\n",
    "\n",
    "\n",
    "def outlier_bounds(column):\n",
    "    '''\n",
    "    Calcula os limites inferior e superior para outliers\n",
    "    '''\n",
    "    \n",
    "    q1, q3 = np.percentile(column, [25,75])\n",
    "    iqr = q3 - q1\n",
    "    lower_bound = q1 -(1.5 * iqr) \n",
    "    upper_bound = q3 +(1.5 * iqr)\n",
    "    return print(' Lower bound =', lower_bound,'\\n', 'Upper bound =', upper_bound)"
   ]
  },
  {
   "cell_type": "code",
   "execution_count": 3,
   "metadata": {},
   "outputs": [],
   "source": [
    "# pip install tabulate - Instalar se já não tiver para rodar as funções abaixo. Não precisa chamar biblioteca, basta instalar\n",
    "def tabcont_1var(df, column):\n",
    "    '''\n",
    "    Tabela de frequência para 1 variável apenas. Utilizada em análise univariada\n",
    "    O output são 2 tabelas, uma com valores absolutos e a outra com a % na coluna, sendo o total da coluna = 1\n",
    "    Variáveis necessárias: df = dataframe, column = coluna\n",
    "    '''\n",
    "    print('Valores absolutos')\n",
    "    print(df[column].value_counts(dropna=False).sort_index().to_markdown())\n",
    "    print('\\n')\n",
    "    print('Proporção')\n",
    "    print((df[column].value_counts(dropna=False).sort_index()/len(df)*100).to_markdown())\n",
    "\n",
    "def tabcont_2var(column1, column2):    \n",
    "    '''\n",
    "    Tabela de contingência para analisar 2 variáveis. \n",
    "    O output são 3 tabelas, uma com valores absolutos, outra com % na linha, sendo o total da linha = 1 \n",
    "    e outra com % na coluna, sendo o total da coluna = 1.\n",
    "    Variáveis necessárias: column1 = coluna 1, column2 = coluna 2\n",
    "    '''\n",
    "    tabcont_pl = pd.crosstab(index=column1, columns=column2, margins=True)\n",
    "    print('Valores absolutos:\\n')\n",
    "    print(tabcont_pl.to_markdown())    \n",
    "    print('\\nPorcentagem na linha:\\n')\n",
    "    print(round(tabcont_pl.div(tabcont_pl['All'], axis=0),2).to_markdown())\n",
    "    print('\\nPorcentagem na coluna:\\n')\n",
    "    print(round(tabcont_pl.div(tabcont_pl.loc['All'], axis=1),2).to_markdown())"
   ]
  },
  {
   "cell_type": "markdown",
   "metadata": {},
   "source": [
    "## 3. Importação e análise preliminar do banco de dados<a name=\"bd\"></a>\n",
    "Este BD traz apenas CLIENTES QUE CONVERTERAM"
   ]
  },
  {
   "cell_type": "code",
   "execution_count": 4,
   "metadata": {},
   "outputs": [
    {
     "data": {
      "text/html": [
       "<div>\n",
       "<style scoped>\n",
       "    .dataframe tbody tr th:only-of-type {\n",
       "        vertical-align: middle;\n",
       "    }\n",
       "\n",
       "    .dataframe tbody tr th {\n",
       "        vertical-align: top;\n",
       "    }\n",
       "\n",
       "    .dataframe thead th {\n",
       "        text-align: right;\n",
       "    }\n",
       "</style>\n",
       "<table border=\"1\" class=\"dataframe\">\n",
       "  <thead>\n",
       "    <tr style=\"text-align: right;\">\n",
       "      <th></th>\n",
       "      <th>ID_usuario</th>\n",
       "      <th>n_sessoes</th>\n",
       "      <th>sessoes_conversoras</th>\n",
       "      <th>qtde_transacoes</th>\n",
       "      <th>soma_receitas</th>\n",
       "      <th>media_receitas_transacao</th>\n",
       "      <th>data_ultima_transacao</th>\n",
       "    </tr>\n",
       "  </thead>\n",
       "  <tbody>\n",
       "    <tr>\n",
       "      <th>0</th>\n",
       "      <td>1814166460229302850</td>\n",
       "      <td>15</td>\n",
       "      <td>7</td>\n",
       "      <td>7</td>\n",
       "      <td>7073.51</td>\n",
       "      <td>1010.50</td>\n",
       "      <td>2017-07-31</td>\n",
       "    </tr>\n",
       "    <tr>\n",
       "      <th>1</th>\n",
       "      <td>3835134197841326255</td>\n",
       "      <td>8</td>\n",
       "      <td>3</td>\n",
       "      <td>3</td>\n",
       "      <td>4034.48</td>\n",
       "      <td>1344.83</td>\n",
       "      <td>2017-02-21</td>\n",
       "    </tr>\n",
       "    <tr>\n",
       "      <th>2</th>\n",
       "      <td>2904329822175970539</td>\n",
       "      <td>36</td>\n",
       "      <td>8</td>\n",
       "      <td>9</td>\n",
       "      <td>3897.22</td>\n",
       "      <td>487.15</td>\n",
       "      <td>2018-04-06</td>\n",
       "    </tr>\n",
       "    <tr>\n",
       "      <th>3</th>\n",
       "      <td>6052206455243513477</td>\n",
       "      <td>4</td>\n",
       "      <td>2</td>\n",
       "      <td>2</td>\n",
       "      <td>3314.40</td>\n",
       "      <td>1657.20</td>\n",
       "      <td>2017-07-25</td>\n",
       "    </tr>\n",
       "    <tr>\n",
       "      <th>4</th>\n",
       "      <td>2969957690756250633</td>\n",
       "      <td>8</td>\n",
       "      <td>2</td>\n",
       "      <td>2</td>\n",
       "      <td>2686.96</td>\n",
       "      <td>1343.48</td>\n",
       "      <td>2017-04-26</td>\n",
       "    </tr>\n",
       "  </tbody>\n",
       "</table>\n",
       "</div>"
      ],
      "text/plain": [
       "            ID_usuario  n_sessoes  sessoes_conversoras  qtde_transacoes  \\\n",
       "0  1814166460229302850         15                    7                7   \n",
       "1  3835134197841326255          8                    3                3   \n",
       "2  2904329822175970539         36                    8                9   \n",
       "3  6052206455243513477          4                    2                2   \n",
       "4  2969957690756250633          8                    2                2   \n",
       "\n",
       "   soma_receitas  media_receitas_transacao data_ultima_transacao  \n",
       "0        7073.51                   1010.50            2017-07-31  \n",
       "1        4034.48                   1344.83            2017-02-21  \n",
       "2        3897.22                    487.15            2018-04-06  \n",
       "3        3314.40                   1657.20            2017-07-25  \n",
       "4        2686.96                   1343.48            2017-04-26  "
      ]
     },
     "execution_count": 4,
     "metadata": {},
     "output_type": "execute_result"
    }
   ],
   "source": [
    "df = pd.read_csv('consulta-final.csv')\n",
    "df.head()"
   ]
  },
  {
   "cell_type": "code",
   "execution_count": 5,
   "metadata": {},
   "outputs": [
    {
     "name": "stdout",
     "output_type": "stream",
     "text": [
      "<class 'pandas.core.frame.DataFrame'>\n",
      "RangeIndex: 703 entries, 0 to 702\n",
      "Data columns (total 7 columns):\n",
      " #   Column                    Non-Null Count  Dtype  \n",
      "---  ------                    --------------  -----  \n",
      " 0   ID_usuario                703 non-null    uint64 \n",
      " 1   n_sessoes                 703 non-null    int64  \n",
      " 2   sessoes_conversoras       703 non-null    int64  \n",
      " 3   qtde_transacoes           703 non-null    int64  \n",
      " 4   soma_receitas             703 non-null    float64\n",
      " 5   media_receitas_transacao  702 non-null    float64\n",
      " 6   data_ultima_transacao     703 non-null    object \n",
      "dtypes: float64(2), int64(3), object(1), uint64(1)\n",
      "memory usage: 38.6+ KB\n"
     ]
    }
   ],
   "source": [
    "df.info()"
   ]
  },
  {
   "cell_type": "markdown",
   "metadata": {},
   "source": [
    "Pontos a se observar:\n",
    "* Não há colunas vazias\n",
    "* É necessário converter a coluna de data em datetime para uma melhor análise dos meses e anos das transações"
   ]
  },
  {
   "cell_type": "code",
   "execution_count": 6,
   "metadata": {},
   "outputs": [
    {
     "name": "stdout",
     "output_type": "stream",
     "text": [
      "<class 'pandas.core.frame.DataFrame'>\n",
      "RangeIndex: 703 entries, 0 to 702\n",
      "Data columns (total 7 columns):\n",
      " #   Column                    Non-Null Count  Dtype         \n",
      "---  ------                    --------------  -----         \n",
      " 0   ID_usuario                703 non-null    uint64        \n",
      " 1   n_sessoes                 703 non-null    int64         \n",
      " 2   sessoes_conversoras       703 non-null    int64         \n",
      " 3   qtde_transacoes           703 non-null    int64         \n",
      " 4   soma_receitas             703 non-null    float64       \n",
      " 5   media_receitas_transacao  702 non-null    float64       \n",
      " 6   data_ultima_transacao     703 non-null    datetime64[ns]\n",
      "dtypes: datetime64[ns](1), float64(2), int64(3), uint64(1)\n",
      "memory usage: 38.6 KB\n"
     ]
    },
    {
     "data": {
      "text/html": [
       "<div>\n",
       "<style scoped>\n",
       "    .dataframe tbody tr th:only-of-type {\n",
       "        vertical-align: middle;\n",
       "    }\n",
       "\n",
       "    .dataframe tbody tr th {\n",
       "        vertical-align: top;\n",
       "    }\n",
       "\n",
       "    .dataframe thead th {\n",
       "        text-align: right;\n",
       "    }\n",
       "</style>\n",
       "<table border=\"1\" class=\"dataframe\">\n",
       "  <thead>\n",
       "    <tr style=\"text-align: right;\">\n",
       "      <th></th>\n",
       "      <th>ID_usuario</th>\n",
       "      <th>n_sessoes</th>\n",
       "      <th>sessoes_conversoras</th>\n",
       "      <th>qtde_transacoes</th>\n",
       "      <th>soma_receitas</th>\n",
       "      <th>media_receitas_transacao</th>\n",
       "      <th>data_ultima_transacao</th>\n",
       "    </tr>\n",
       "  </thead>\n",
       "  <tbody>\n",
       "    <tr>\n",
       "      <th>0</th>\n",
       "      <td>1814166460229302850</td>\n",
       "      <td>15</td>\n",
       "      <td>7</td>\n",
       "      <td>7</td>\n",
       "      <td>7073.51</td>\n",
       "      <td>1010.50</td>\n",
       "      <td>2017-07-31</td>\n",
       "    </tr>\n",
       "    <tr>\n",
       "      <th>1</th>\n",
       "      <td>3835134197841326255</td>\n",
       "      <td>8</td>\n",
       "      <td>3</td>\n",
       "      <td>3</td>\n",
       "      <td>4034.48</td>\n",
       "      <td>1344.83</td>\n",
       "      <td>2017-02-21</td>\n",
       "    </tr>\n",
       "    <tr>\n",
       "      <th>2</th>\n",
       "      <td>2904329822175970539</td>\n",
       "      <td>36</td>\n",
       "      <td>8</td>\n",
       "      <td>9</td>\n",
       "      <td>3897.22</td>\n",
       "      <td>487.15</td>\n",
       "      <td>2018-04-06</td>\n",
       "    </tr>\n",
       "    <tr>\n",
       "      <th>3</th>\n",
       "      <td>6052206455243513477</td>\n",
       "      <td>4</td>\n",
       "      <td>2</td>\n",
       "      <td>2</td>\n",
       "      <td>3314.40</td>\n",
       "      <td>1657.20</td>\n",
       "      <td>2017-07-25</td>\n",
       "    </tr>\n",
       "    <tr>\n",
       "      <th>4</th>\n",
       "      <td>2969957690756250633</td>\n",
       "      <td>8</td>\n",
       "      <td>2</td>\n",
       "      <td>2</td>\n",
       "      <td>2686.96</td>\n",
       "      <td>1343.48</td>\n",
       "      <td>2017-04-26</td>\n",
       "    </tr>\n",
       "  </tbody>\n",
       "</table>\n",
       "</div>"
      ],
      "text/plain": [
       "            ID_usuario  n_sessoes  sessoes_conversoras  qtde_transacoes  \\\n",
       "0  1814166460229302850         15                    7                7   \n",
       "1  3835134197841326255          8                    3                3   \n",
       "2  2904329822175970539         36                    8                9   \n",
       "3  6052206455243513477          4                    2                2   \n",
       "4  2969957690756250633          8                    2                2   \n",
       "\n",
       "   soma_receitas  media_receitas_transacao data_ultima_transacao  \n",
       "0        7073.51                   1010.50            2017-07-31  \n",
       "1        4034.48                   1344.83            2017-02-21  \n",
       "2        3897.22                    487.15            2018-04-06  \n",
       "3        3314.40                   1657.20            2017-07-25  \n",
       "4        2686.96                   1343.48            2017-04-26  "
      ]
     },
     "execution_count": 6,
     "metadata": {},
     "output_type": "execute_result"
    }
   ],
   "source": [
    "df['data_ultima_transacao'] = pd.to_datetime(df['data_ultima_transacao'])\n",
    "df.info()\n",
    "df.head()"
   ]
  },
  {
   "cell_type": "code",
   "execution_count": 7,
   "metadata": {},
   "outputs": [
    {
     "data": {
      "text/html": [
       "<div>\n",
       "<style scoped>\n",
       "    .dataframe tbody tr th:only-of-type {\n",
       "        vertical-align: middle;\n",
       "    }\n",
       "\n",
       "    .dataframe tbody tr th {\n",
       "        vertical-align: top;\n",
       "    }\n",
       "\n",
       "    .dataframe thead th {\n",
       "        text-align: right;\n",
       "    }\n",
       "</style>\n",
       "<table border=\"1\" class=\"dataframe\">\n",
       "  <thead>\n",
       "    <tr style=\"text-align: right;\">\n",
       "      <th></th>\n",
       "      <th>n_sessoes</th>\n",
       "      <th>sessoes_conversoras</th>\n",
       "      <th>qtde_transacoes</th>\n",
       "      <th>soma_receitas</th>\n",
       "      <th>media_receitas_transacao</th>\n",
       "    </tr>\n",
       "  </thead>\n",
       "  <tbody>\n",
       "    <tr>\n",
       "      <th>count</th>\n",
       "      <td>703.000000</td>\n",
       "      <td>703.000000</td>\n",
       "      <td>703.000000</td>\n",
       "      <td>703.000000</td>\n",
       "      <td>702.000000</td>\n",
       "    </tr>\n",
       "    <tr>\n",
       "      <th>mean</th>\n",
       "      <td>4.160740</td>\n",
       "      <td>1.163585</td>\n",
       "      <td>1.216216</td>\n",
       "      <td>167.199474</td>\n",
       "      <td>121.605969</td>\n",
       "    </tr>\n",
       "    <tr>\n",
       "      <th>std</th>\n",
       "      <td>9.380743</td>\n",
       "      <td>0.611136</td>\n",
       "      <td>0.803425</td>\n",
       "      <td>454.642065</td>\n",
       "      <td>225.416297</td>\n",
       "    </tr>\n",
       "    <tr>\n",
       "      <th>min</th>\n",
       "      <td>1.000000</td>\n",
       "      <td>1.000000</td>\n",
       "      <td>1.000000</td>\n",
       "      <td>0.000000</td>\n",
       "      <td>5.590000</td>\n",
       "    </tr>\n",
       "    <tr>\n",
       "      <th>25%</th>\n",
       "      <td>1.000000</td>\n",
       "      <td>1.000000</td>\n",
       "      <td>1.000000</td>\n",
       "      <td>28.925000</td>\n",
       "      <td>28.222500</td>\n",
       "    </tr>\n",
       "    <tr>\n",
       "      <th>50%</th>\n",
       "      <td>2.000000</td>\n",
       "      <td>1.000000</td>\n",
       "      <td>1.000000</td>\n",
       "      <td>56.990000</td>\n",
       "      <td>55.320000</td>\n",
       "    </tr>\n",
       "    <tr>\n",
       "      <th>75%</th>\n",
       "      <td>4.000000</td>\n",
       "      <td>1.000000</td>\n",
       "      <td>1.000000</td>\n",
       "      <td>125.175000</td>\n",
       "      <td>112.017500</td>\n",
       "    </tr>\n",
       "    <tr>\n",
       "      <th>max</th>\n",
       "      <td>157.000000</td>\n",
       "      <td>8.000000</td>\n",
       "      <td>11.000000</td>\n",
       "      <td>7073.510000</td>\n",
       "      <td>2147.480000</td>\n",
       "    </tr>\n",
       "  </tbody>\n",
       "</table>\n",
       "</div>"
      ],
      "text/plain": [
       "        n_sessoes  sessoes_conversoras  qtde_transacoes  soma_receitas  \\\n",
       "count  703.000000           703.000000       703.000000     703.000000   \n",
       "mean     4.160740             1.163585         1.216216     167.199474   \n",
       "std      9.380743             0.611136         0.803425     454.642065   \n",
       "min      1.000000             1.000000         1.000000       0.000000   \n",
       "25%      1.000000             1.000000         1.000000      28.925000   \n",
       "50%      2.000000             1.000000         1.000000      56.990000   \n",
       "75%      4.000000             1.000000         1.000000     125.175000   \n",
       "max    157.000000             8.000000        11.000000    7073.510000   \n",
       "\n",
       "       media_receitas_transacao  \n",
       "count                702.000000  \n",
       "mean                 121.605969  \n",
       "std                  225.416297  \n",
       "min                    5.590000  \n",
       "25%                   28.222500  \n",
       "50%                   55.320000  \n",
       "75%                  112.017500  \n",
       "max                 2147.480000  "
      ]
     },
     "execution_count": 7,
     "metadata": {},
     "output_type": "execute_result"
    }
   ],
   "source": [
    "df.iloc[:, 1:].describe()"
   ]
  },
  {
   "cell_type": "markdown",
   "metadata": {},
   "source": [
    "Pode-se observar que: <br><br>\n",
    "\n",
    "\n",
    "**Sobre máximos e mínimos:**\n",
    "* O maior número de sessões pra um único cliente foi de 157 e o menor foi 1;\n",
    "* O maior número de sessões conversoras para um único cliente foi de 8 (8 vezes que comprou 1 ou mais produtos) e o menor foi 1;\n",
    "* O maior número de transações para um mesmo cliente foi de 8\n",
    "* A maior receita para um único cliente foi de 7073,51 USD e a menor de 0,00 USD (provavelmente algum cupom que o permitiu comprar algo gratuitamente? Pode-se observar essa prática com a Sony e a PSN (Playstation Network), dá jogos gratuitos mensalmentem porém o cliente precisa realizar uma transação de compra normal, porém com o valor zerado). Esse cliente retorna média NaN, devido a consulta feita no SQL que utilizava NULLIF caso a receita fosse 0. Vou **excluir** este cliente, pois não há receita.\n",
    "* A maior receita média é de 2147,48 USD e a menor de 5,59 USD\n",
    "\n",
    "**Sobre quartis**\n",
    "* Observa-se que 75% dos clientes QUE CONVERTERAM converteram em 4 sessões ou menos\n",
    "* Observa-se que 75% dos clientes tiveram apenas 1 sessão conversora (valor é o mesmo para min, 25% e 50%) \n",
    "* 75% dos clientes realizaram apenas 1 transação\n",
    "* 75% dos clientes têm a soma de suas receitas igual ou abaixo de 125,175 USD\n",
    "* 75% dos clientes têm a média de suas receitas igual ou abaixo de 112,02 USD"
   ]
  },
  {
   "cell_type": "code",
   "execution_count": 8,
   "metadata": {},
   "outputs": [],
   "source": [
    "df = df.dropna()"
   ]
  },
  {
   "cell_type": "code",
   "execution_count": 9,
   "metadata": {},
   "outputs": [
    {
     "data": {
      "text/html": [
       "<div>\n",
       "<style scoped>\n",
       "    .dataframe tbody tr th:only-of-type {\n",
       "        vertical-align: middle;\n",
       "    }\n",
       "\n",
       "    .dataframe tbody tr th {\n",
       "        vertical-align: top;\n",
       "    }\n",
       "\n",
       "    .dataframe thead th {\n",
       "        text-align: right;\n",
       "    }\n",
       "</style>\n",
       "<table border=\"1\" class=\"dataframe\">\n",
       "  <thead>\n",
       "    <tr style=\"text-align: right;\">\n",
       "      <th></th>\n",
       "      <th>ID_usuario</th>\n",
       "      <th>n_sessoes</th>\n",
       "      <th>sessoes_conversoras</th>\n",
       "      <th>qtde_transacoes</th>\n",
       "      <th>soma_receitas</th>\n",
       "      <th>media_receitas_transacao</th>\n",
       "    </tr>\n",
       "  </thead>\n",
       "  <tbody>\n",
       "    <tr>\n",
       "      <th>ID_usuario</th>\n",
       "      <td>1.000000</td>\n",
       "      <td>-0.019511</td>\n",
       "      <td>-0.076986</td>\n",
       "      <td>-0.056378</td>\n",
       "      <td>-0.037121</td>\n",
       "      <td>-0.007840</td>\n",
       "    </tr>\n",
       "    <tr>\n",
       "      <th>n_sessoes</th>\n",
       "      <td>-0.019511</td>\n",
       "      <td>1.000000</td>\n",
       "      <td>0.369143</td>\n",
       "      <td>0.315678</td>\n",
       "      <td>0.253956</td>\n",
       "      <td>0.138167</td>\n",
       "    </tr>\n",
       "    <tr>\n",
       "      <th>sessoes_conversoras</th>\n",
       "      <td>-0.076986</td>\n",
       "      <td>0.369143</td>\n",
       "      <td>1.000000</td>\n",
       "      <td>0.870743</td>\n",
       "      <td>0.615220</td>\n",
       "      <td>0.188230</td>\n",
       "    </tr>\n",
       "    <tr>\n",
       "      <th>qtde_transacoes</th>\n",
       "      <td>-0.056378</td>\n",
       "      <td>0.315678</td>\n",
       "      <td>0.870743</td>\n",
       "      <td>1.000000</td>\n",
       "      <td>0.521943</td>\n",
       "      <td>0.188236</td>\n",
       "    </tr>\n",
       "    <tr>\n",
       "      <th>soma_receitas</th>\n",
       "      <td>-0.037121</td>\n",
       "      <td>0.253956</td>\n",
       "      <td>0.615220</td>\n",
       "      <td>0.521943</td>\n",
       "      <td>1.000000</td>\n",
       "      <td>0.746854</td>\n",
       "    </tr>\n",
       "    <tr>\n",
       "      <th>media_receitas_transacao</th>\n",
       "      <td>-0.007840</td>\n",
       "      <td>0.138167</td>\n",
       "      <td>0.188230</td>\n",
       "      <td>0.188236</td>\n",
       "      <td>0.746854</td>\n",
       "      <td>1.000000</td>\n",
       "    </tr>\n",
       "  </tbody>\n",
       "</table>\n",
       "</div>"
      ],
      "text/plain": [
       "                          ID_usuario  n_sessoes  sessoes_conversoras  \\\n",
       "ID_usuario                  1.000000  -0.019511            -0.076986   \n",
       "n_sessoes                  -0.019511   1.000000             0.369143   \n",
       "sessoes_conversoras        -0.076986   0.369143             1.000000   \n",
       "qtde_transacoes            -0.056378   0.315678             0.870743   \n",
       "soma_receitas              -0.037121   0.253956             0.615220   \n",
       "media_receitas_transacao   -0.007840   0.138167             0.188230   \n",
       "\n",
       "                          qtde_transacoes  soma_receitas  \\\n",
       "ID_usuario                      -0.056378      -0.037121   \n",
       "n_sessoes                        0.315678       0.253956   \n",
       "sessoes_conversoras              0.870743       0.615220   \n",
       "qtde_transacoes                  1.000000       0.521943   \n",
       "soma_receitas                    0.521943       1.000000   \n",
       "media_receitas_transacao         0.188236       0.746854   \n",
       "\n",
       "                          media_receitas_transacao  \n",
       "ID_usuario                               -0.007840  \n",
       "n_sessoes                                 0.138167  \n",
       "sessoes_conversoras                       0.188230  \n",
       "qtde_transacoes                           0.188236  \n",
       "soma_receitas                             0.746854  \n",
       "media_receitas_transacao                  1.000000  "
      ]
     },
     "execution_count": 9,
     "metadata": {},
     "output_type": "execute_result"
    }
   ],
   "source": [
    "df.corr()"
   ]
  },
  {
   "cell_type": "markdown",
   "metadata": {},
   "source": [
    "A partir das correlações é possível observar que:\n",
    "* Temos poucas variáveis, não é necessário fazer um heatmap;\n",
    "* Qtde_transacoes e soma_receitas têm uma forte correlação, 0,87 e 0,61, respectivamente, com sessoes_conversoras — Esperado, já que estamos tratando apenas de clientes que converteram;\n",
    "* media_receitas_transacao tem uma forte correlação com soma_receitas, 0,75 — Esperado também pois é uma coluna calculada a partir da soma, excluindo as sessões sem compras."
   ]
  },
  {
   "cell_type": "markdown",
   "metadata": {},
   "source": [
    "Vou entender um pouco mais sobre os clientes que são responsáveis pelos valores de máximos e mínimos"
   ]
  },
  {
   "cell_type": "markdown",
   "metadata": {},
   "source": [
    "### 3.1. n_sessoes <a name=\"bd_n_sessoes\">"
   ]
  },
  {
   "cell_type": "code",
   "execution_count": 10,
   "metadata": {},
   "outputs": [
    {
     "data": {
      "text/html": [
       "<div>\n",
       "<style scoped>\n",
       "    .dataframe tbody tr th:only-of-type {\n",
       "        vertical-align: middle;\n",
       "    }\n",
       "\n",
       "    .dataframe tbody tr th {\n",
       "        vertical-align: top;\n",
       "    }\n",
       "\n",
       "    .dataframe thead th {\n",
       "        text-align: right;\n",
       "    }\n",
       "</style>\n",
       "<table border=\"1\" class=\"dataframe\">\n",
       "  <thead>\n",
       "    <tr style=\"text-align: right;\">\n",
       "      <th></th>\n",
       "      <th>ID_usuario</th>\n",
       "      <th>n_sessoes</th>\n",
       "      <th>sessoes_conversoras</th>\n",
       "      <th>qtde_transacoes</th>\n",
       "      <th>soma_receitas</th>\n",
       "      <th>media_receitas_transacao</th>\n",
       "      <th>data_ultima_transacao</th>\n",
       "    </tr>\n",
       "  </thead>\n",
       "  <tbody>\n",
       "    <tr>\n",
       "      <th>5</th>\n",
       "      <td>7445235885559107095</td>\n",
       "      <td>138</td>\n",
       "      <td>5</td>\n",
       "      <td>5</td>\n",
       "      <td>2281.62</td>\n",
       "      <td>456.32</td>\n",
       "      <td>2018-03-28</td>\n",
       "    </tr>\n",
       "    <tr>\n",
       "      <th>112</th>\n",
       "      <td>3269834865385146569</td>\n",
       "      <td>157</td>\n",
       "      <td>1</td>\n",
       "      <td>1</td>\n",
       "      <td>188.90</td>\n",
       "      <td>188.90</td>\n",
       "      <td>2017-10-17</td>\n",
       "    </tr>\n",
       "    <tr>\n",
       "      <th>161</th>\n",
       "      <td>603935369785924594</td>\n",
       "      <td>101</td>\n",
       "      <td>3</td>\n",
       "      <td>4</td>\n",
       "      <td>136.17</td>\n",
       "      <td>45.39</td>\n",
       "      <td>2018-02-09</td>\n",
       "    </tr>\n",
       "  </tbody>\n",
       "</table>\n",
       "</div>"
      ],
      "text/plain": [
       "              ID_usuario  n_sessoes  sessoes_conversoras  qtde_transacoes  \\\n",
       "5    7445235885559107095        138                    5                5   \n",
       "112  3269834865385146569        157                    1                1   \n",
       "161   603935369785924594        101                    3                4   \n",
       "\n",
       "     soma_receitas  media_receitas_transacao data_ultima_transacao  \n",
       "5          2281.62                    456.32            2018-03-28  \n",
       "112         188.90                    188.90            2017-10-17  \n",
       "161         136.17                     45.39            2018-02-09  "
      ]
     },
     "execution_count": 10,
     "metadata": {},
     "output_type": "execute_result"
    }
   ],
   "source": [
    "df[df['n_sessoes'] > 100]"
   ]
  },
  {
   "cell_type": "markdown",
   "metadata": {},
   "source": [
    "* O cliente com maior número de sessões, 157, converteu apenas 1 vez e fez uma compra no valor de 188,90 USD (Seria ele(a) um pouco indeciso?)\n",
    "* Os outros clientes com mais de 100 sessões realizaram mais compras"
   ]
  },
  {
   "cell_type": "markdown",
   "metadata": {},
   "source": [
    "### 3.2. sessoes_conversoras <a name=\"bd_sessoes_conversoras\">"
   ]
  },
  {
   "cell_type": "code",
   "execution_count": 11,
   "metadata": {
    "scrolled": true
   },
   "outputs": [
    {
     "data": {
      "text/html": [
       "<div>\n",
       "<style scoped>\n",
       "    .dataframe tbody tr th:only-of-type {\n",
       "        vertical-align: middle;\n",
       "    }\n",
       "\n",
       "    .dataframe tbody tr th {\n",
       "        vertical-align: top;\n",
       "    }\n",
       "\n",
       "    .dataframe thead th {\n",
       "        text-align: right;\n",
       "    }\n",
       "</style>\n",
       "<table border=\"1\" class=\"dataframe\">\n",
       "  <thead>\n",
       "    <tr style=\"text-align: right;\">\n",
       "      <th></th>\n",
       "      <th>ID_usuario</th>\n",
       "      <th>n_sessoes</th>\n",
       "      <th>sessoes_conversoras</th>\n",
       "      <th>qtde_transacoes</th>\n",
       "      <th>soma_receitas</th>\n",
       "      <th>media_receitas_transacao</th>\n",
       "      <th>data_ultima_transacao</th>\n",
       "    </tr>\n",
       "  </thead>\n",
       "  <tbody>\n",
       "    <tr>\n",
       "      <th>0</th>\n",
       "      <td>1814166460229302850</td>\n",
       "      <td>15</td>\n",
       "      <td>7</td>\n",
       "      <td>7</td>\n",
       "      <td>7073.51</td>\n",
       "      <td>1010.50</td>\n",
       "      <td>2017-07-31</td>\n",
       "    </tr>\n",
       "    <tr>\n",
       "      <th>2</th>\n",
       "      <td>2904329822175970539</td>\n",
       "      <td>36</td>\n",
       "      <td>8</td>\n",
       "      <td>9</td>\n",
       "      <td>3897.22</td>\n",
       "      <td>487.15</td>\n",
       "      <td>2018-04-06</td>\n",
       "    </tr>\n",
       "  </tbody>\n",
       "</table>\n",
       "</div>"
      ],
      "text/plain": [
       "            ID_usuario  n_sessoes  sessoes_conversoras  qtde_transacoes  \\\n",
       "0  1814166460229302850         15                    7                7   \n",
       "2  2904329822175970539         36                    8                9   \n",
       "\n",
       "   soma_receitas  media_receitas_transacao data_ultima_transacao  \n",
       "0        7073.51                   1010.50            2017-07-31  \n",
       "2        3897.22                    487.15            2018-04-06  "
      ]
     },
     "execution_count": 11,
     "metadata": {},
     "output_type": "execute_result"
    }
   ],
   "source": [
    "df[df['sessoes_conversoras'] > 6]"
   ]
  },
  {
   "cell_type": "markdown",
   "metadata": {},
   "source": [
    "* O cliente com maior número de sessões conversoras realizou 9 transações totalizando 3897,22 USD"
   ]
  },
  {
   "cell_type": "markdown",
   "metadata": {},
   "source": [
    "### 3.3. qtde_transacoes <a name=\"bd_qtde_transacoes\">"
   ]
  },
  {
   "cell_type": "code",
   "execution_count": 12,
   "metadata": {},
   "outputs": [
    {
     "data": {
      "text/html": [
       "<div>\n",
       "<style scoped>\n",
       "    .dataframe tbody tr th:only-of-type {\n",
       "        vertical-align: middle;\n",
       "    }\n",
       "\n",
       "    .dataframe tbody tr th {\n",
       "        vertical-align: top;\n",
       "    }\n",
       "\n",
       "    .dataframe thead th {\n",
       "        text-align: right;\n",
       "    }\n",
       "</style>\n",
       "<table border=\"1\" class=\"dataframe\">\n",
       "  <thead>\n",
       "    <tr style=\"text-align: right;\">\n",
       "      <th></th>\n",
       "      <th>ID_usuario</th>\n",
       "      <th>n_sessoes</th>\n",
       "      <th>sessoes_conversoras</th>\n",
       "      <th>qtde_transacoes</th>\n",
       "      <th>soma_receitas</th>\n",
       "      <th>media_receitas_transacao</th>\n",
       "      <th>data_ultima_transacao</th>\n",
       "    </tr>\n",
       "  </thead>\n",
       "  <tbody>\n",
       "    <tr>\n",
       "      <th>119</th>\n",
       "      <td>2920950269946903107</td>\n",
       "      <td>3</td>\n",
       "      <td>3</td>\n",
       "      <td>11</td>\n",
       "      <td>179.68</td>\n",
       "      <td>59.89</td>\n",
       "      <td>2016-12-13</td>\n",
       "    </tr>\n",
       "  </tbody>\n",
       "</table>\n",
       "</div>"
      ],
      "text/plain": [
       "              ID_usuario  n_sessoes  sessoes_conversoras  qtde_transacoes  \\\n",
       "119  2920950269946903107          3                    3               11   \n",
       "\n",
       "     soma_receitas  media_receitas_transacao data_ultima_transacao  \n",
       "119         179.68                     59.89            2016-12-13  "
      ]
     },
     "execution_count": 12,
     "metadata": {},
     "output_type": "execute_result"
    }
   ],
   "source": [
    "df[df['qtde_transacoes'] > 9]"
   ]
  },
  {
   "cell_type": "markdown",
   "metadata": {},
   "source": [
    "* O cliente com maior quantidade de transações realizou compras em 3 sessões (provavelmente mais de uma transação por sessão) e a soma de receitas foi de 179,68 USD."
   ]
  },
  {
   "cell_type": "markdown",
   "metadata": {},
   "source": [
    "### 3.4. soma_receitas <a name=\"bd_soma_receitas\">"
   ]
  },
  {
   "cell_type": "code",
   "execution_count": 13,
   "metadata": {},
   "outputs": [
    {
     "data": {
      "text/html": [
       "<div>\n",
       "<style scoped>\n",
       "    .dataframe tbody tr th:only-of-type {\n",
       "        vertical-align: middle;\n",
       "    }\n",
       "\n",
       "    .dataframe tbody tr th {\n",
       "        vertical-align: top;\n",
       "    }\n",
       "\n",
       "    .dataframe thead th {\n",
       "        text-align: right;\n",
       "    }\n",
       "</style>\n",
       "<table border=\"1\" class=\"dataframe\">\n",
       "  <thead>\n",
       "    <tr style=\"text-align: right;\">\n",
       "      <th></th>\n",
       "      <th>ID_usuario</th>\n",
       "      <th>n_sessoes</th>\n",
       "      <th>sessoes_conversoras</th>\n",
       "      <th>qtde_transacoes</th>\n",
       "      <th>soma_receitas</th>\n",
       "      <th>media_receitas_transacao</th>\n",
       "      <th>data_ultima_transacao</th>\n",
       "    </tr>\n",
       "  </thead>\n",
       "  <tbody>\n",
       "    <tr>\n",
       "      <th>0</th>\n",
       "      <td>1814166460229302850</td>\n",
       "      <td>15</td>\n",
       "      <td>7</td>\n",
       "      <td>7</td>\n",
       "      <td>7073.51</td>\n",
       "      <td>1010.50</td>\n",
       "      <td>2017-07-31</td>\n",
       "    </tr>\n",
       "    <tr>\n",
       "      <th>1</th>\n",
       "      <td>3835134197841326255</td>\n",
       "      <td>8</td>\n",
       "      <td>3</td>\n",
       "      <td>3</td>\n",
       "      <td>4034.48</td>\n",
       "      <td>1344.83</td>\n",
       "      <td>2017-02-21</td>\n",
       "    </tr>\n",
       "  </tbody>\n",
       "</table>\n",
       "</div>"
      ],
      "text/plain": [
       "            ID_usuario  n_sessoes  sessoes_conversoras  qtde_transacoes  \\\n",
       "0  1814166460229302850         15                    7                7   \n",
       "1  3835134197841326255          8                    3                3   \n",
       "\n",
       "   soma_receitas  media_receitas_transacao data_ultima_transacao  \n",
       "0        7073.51                   1010.50            2017-07-31  \n",
       "1        4034.48                   1344.83            2017-02-21  "
      ]
     },
     "execution_count": 13,
     "metadata": {},
     "output_type": "execute_result"
    }
   ],
   "source": [
    "df[df['soma_receitas'] > 4000]"
   ]
  },
  {
   "cell_type": "markdown",
   "metadata": {},
   "source": [
    "* O cliente com maior soma de receitas realizou 7 transações, teve 7 sessões conversoras e 15 sessões no total"
   ]
  },
  {
   "cell_type": "markdown",
   "metadata": {},
   "source": [
    "### 3.5. media_receitas_transação <a name=\"bd_media_receitas_transacao\">"
   ]
  },
  {
   "cell_type": "code",
   "execution_count": 14,
   "metadata": {},
   "outputs": [
    {
     "data": {
      "text/html": [
       "<div>\n",
       "<style scoped>\n",
       "    .dataframe tbody tr th:only-of-type {\n",
       "        vertical-align: middle;\n",
       "    }\n",
       "\n",
       "    .dataframe tbody tr th {\n",
       "        vertical-align: top;\n",
       "    }\n",
       "\n",
       "    .dataframe thead th {\n",
       "        text-align: right;\n",
       "    }\n",
       "</style>\n",
       "<table border=\"1\" class=\"dataframe\">\n",
       "  <thead>\n",
       "    <tr style=\"text-align: right;\">\n",
       "      <th></th>\n",
       "      <th>ID_usuario</th>\n",
       "      <th>n_sessoes</th>\n",
       "      <th>sessoes_conversoras</th>\n",
       "      <th>qtde_transacoes</th>\n",
       "      <th>soma_receitas</th>\n",
       "      <th>media_receitas_transacao</th>\n",
       "      <th>data_ultima_transacao</th>\n",
       "    </tr>\n",
       "  </thead>\n",
       "  <tbody>\n",
       "    <tr>\n",
       "      <th>3</th>\n",
       "      <td>6052206455243513477</td>\n",
       "      <td>4</td>\n",
       "      <td>2</td>\n",
       "      <td>2</td>\n",
       "      <td>3314.40</td>\n",
       "      <td>1657.20</td>\n",
       "      <td>2017-07-25</td>\n",
       "    </tr>\n",
       "    <tr>\n",
       "      <th>7</th>\n",
       "      <td>8539433516671325668</td>\n",
       "      <td>8</td>\n",
       "      <td>1</td>\n",
       "      <td>1</td>\n",
       "      <td>2147.48</td>\n",
       "      <td>2147.48</td>\n",
       "      <td>2017-02-10</td>\n",
       "    </tr>\n",
       "    <tr>\n",
       "      <th>10</th>\n",
       "      <td>5183829074529712735</td>\n",
       "      <td>9</td>\n",
       "      <td>1</td>\n",
       "      <td>1</td>\n",
       "      <td>1928.20</td>\n",
       "      <td>1928.20</td>\n",
       "      <td>2018-04-27</td>\n",
       "    </tr>\n",
       "    <tr>\n",
       "      <th>11</th>\n",
       "      <td>20772809165725592</td>\n",
       "      <td>3</td>\n",
       "      <td>1</td>\n",
       "      <td>1</td>\n",
       "      <td>1917.00</td>\n",
       "      <td>1917.00</td>\n",
       "      <td>2016-10-18</td>\n",
       "    </tr>\n",
       "    <tr>\n",
       "      <th>13</th>\n",
       "      <td>4166700707688517424</td>\n",
       "      <td>2</td>\n",
       "      <td>1</td>\n",
       "      <td>1</td>\n",
       "      <td>1592.40</td>\n",
       "      <td>1592.40</td>\n",
       "      <td>2016-08-01</td>\n",
       "    </tr>\n",
       "  </tbody>\n",
       "</table>\n",
       "</div>"
      ],
      "text/plain": [
       "             ID_usuario  n_sessoes  sessoes_conversoras  qtde_transacoes  \\\n",
       "3   6052206455243513477          4                    2                2   \n",
       "7   8539433516671325668          8                    1                1   \n",
       "10  5183829074529712735          9                    1                1   \n",
       "11    20772809165725592          3                    1                1   \n",
       "13  4166700707688517424          2                    1                1   \n",
       "\n",
       "    soma_receitas  media_receitas_transacao data_ultima_transacao  \n",
       "3         3314.40                   1657.20            2017-07-25  \n",
       "7         2147.48                   2147.48            2017-02-10  \n",
       "10        1928.20                   1928.20            2018-04-27  \n",
       "11        1917.00                   1917.00            2016-10-18  \n",
       "13        1592.40                   1592.40            2016-08-01  "
      ]
     },
     "execution_count": 14,
     "metadata": {},
     "output_type": "execute_result"
    }
   ],
   "source": [
    "df[df['media_receitas_transacao'] > 1500]"
   ]
  },
  {
   "cell_type": "markdown",
   "metadata": {},
   "source": [
    "* O cliente com maior média de receita possui apenas 1 compra com um valor alto, por isso. Provavelmente teremos muitos casos dessa forma."
   ]
  },
  {
   "cell_type": "markdown",
   "metadata": {},
   "source": [
    "### 3.6. data_ultima_transação <a name=\"bd_data_ultima_transacao\">"
   ]
  },
  {
   "cell_type": "code",
   "execution_count": 15,
   "metadata": {},
   "outputs": [
    {
     "data": {
      "text/plain": [
       "min   2016-08-01\n",
       "max   2018-04-30\n",
       "Name: data_ultima_transacao, dtype: datetime64[ns]"
      ]
     },
     "execution_count": 15,
     "metadata": {},
     "output_type": "execute_result"
    }
   ],
   "source": [
    "df['data_ultima_transacao'].agg({'min', 'max'})"
   ]
  },
  {
   "cell_type": "markdown",
   "metadata": {},
   "source": [
    "É possível observar que a última conversão foi realizada em 30 de abril de 2018 e a primeira conversão foi em 01 de agosto de 2016."
   ]
  },
  {
   "cell_type": "markdown",
   "metadata": {},
   "source": [
    "## 4. Análise Univariada <a name=\"auni\">"
   ]
  },
  {
   "cell_type": "markdown",
   "metadata": {},
   "source": [
    "### 4.1. n_sessoes <a name=\"auni_n_sessoes\">"
   ]
  },
  {
   "cell_type": "code",
   "execution_count": 16,
   "metadata": {},
   "outputs": [
    {
     "name": "stdout",
     "output_type": "stream",
     "text": [
      "Valores absolutos\n",
      "|     |   n_sessoes |\n",
      "|----:|------------:|\n",
      "|   1 |         215 |\n",
      "|   2 |         154 |\n",
      "|   3 |         101 |\n",
      "|   4 |          59 |\n",
      "|   5 |          50 |\n",
      "|   6 |          31 |\n",
      "|   7 |          15 |\n",
      "|   8 |          22 |\n",
      "|   9 |          12 |\n",
      "|  10 |           8 |\n",
      "|  11 |           4 |\n",
      "|  12 |           4 |\n",
      "|  13 |           1 |\n",
      "|  14 |           3 |\n",
      "|  15 |           6 |\n",
      "|  16 |           1 |\n",
      "|  17 |           1 |\n",
      "|  18 |           2 |\n",
      "|  19 |           3 |\n",
      "|  20 |           3 |\n",
      "|  23 |           1 |\n",
      "|  25 |           1 |\n",
      "|  36 |           1 |\n",
      "|  43 |           1 |\n",
      "| 101 |           1 |\n",
      "| 138 |           1 |\n",
      "| 157 |           1 |\n",
      "\n",
      "\n",
      "Proporção\n",
      "|     |   n_sessoes |\n",
      "|----:|------------:|\n",
      "|   1 |   30.6268   |\n",
      "|   2 |   21.9373   |\n",
      "|   3 |   14.3875   |\n",
      "|   4 |    8.40456  |\n",
      "|   5 |    7.12251  |\n",
      "|   6 |    4.41595  |\n",
      "|   7 |    2.13675  |\n",
      "|   8 |    3.1339   |\n",
      "|   9 |    1.7094   |\n",
      "|  10 |    1.1396   |\n",
      "|  11 |    0.569801 |\n",
      "|  12 |    0.569801 |\n",
      "|  13 |    0.14245  |\n",
      "|  14 |    0.42735  |\n",
      "|  15 |    0.854701 |\n",
      "|  16 |    0.14245  |\n",
      "|  17 |    0.14245  |\n",
      "|  18 |    0.2849   |\n",
      "|  19 |    0.42735  |\n",
      "|  20 |    0.42735  |\n",
      "|  23 |    0.14245  |\n",
      "|  25 |    0.14245  |\n",
      "|  36 |    0.14245  |\n",
      "|  43 |    0.14245  |\n",
      "| 101 |    0.14245  |\n",
      "| 138 |    0.14245  |\n",
      "| 157 |    0.14245  |\n"
     ]
    }
   ],
   "source": [
    "tabcont_1var(df, 'n_sessoes')"
   ]
  },
  {
   "cell_type": "code",
   "execution_count": 17,
   "metadata": {},
   "outputs": [
    {
     "data": {
      "image/png": "[encoded data removed]",
      "text/plain": [
       "<Figure size 720x288 with 2 Axes>"
      ]
     },
     "metadata": {
      "needs_background": "light"
     },
     "output_type": "display_data"
    }
   ],
   "source": [
    "plot_hist_box(df['n_sessoes'], bins = 40)"
   ]
  },
  {
   "cell_type": "code",
   "execution_count": 18,
   "metadata": {},
   "outputs": [
    {
     "name": "stdout",
     "output_type": "stream",
     "text": [
      " Lower bound = -3.5 \n",
      " Upper bound = 8.5\n"
     ]
    }
   ],
   "source": [
    "outlier_bounds(df['n_sessoes'])"
   ]
  },
  {
   "cell_type": "markdown",
   "metadata": {},
   "source": [
    "É possível observar que:\n",
    "* A variável possui mais de 80% dos clientes com até 5 sessões. Ao passar desse valor, é possível observar que a frequencia vai diminuindo até chegar a 1 caso em alguns números de sessão.\n",
    "* Essa variável possui muitos outliers e seu histograma tem uma forte assimetria à direita (concentrado entre 1 e 5)"
   ]
  },
  {
   "cell_type": "markdown",
   "metadata": {},
   "source": [
    "### 4.2. sessoes_conversoras <a name=\"auni_sessoes_conversoras\">"
   ]
  },
  {
   "cell_type": "code",
   "execution_count": 19,
   "metadata": {},
   "outputs": [
    {
     "name": "stdout",
     "output_type": "stream",
     "text": [
      "Valores absolutos\n",
      "|    |   sessoes_conversoras |\n",
      "|---:|----------------------:|\n",
      "|  1 |                   634 |\n",
      "|  2 |                    40 |\n",
      "|  3 |                    17 |\n",
      "|  4 |                     8 |\n",
      "|  5 |                     1 |\n",
      "|  7 |                     1 |\n",
      "|  8 |                     1 |\n",
      "\n",
      "\n",
      "Proporção\n",
      "|    |   sessoes_conversoras |\n",
      "|---:|----------------------:|\n",
      "|  1 |              90.3134  |\n",
      "|  2 |               5.69801 |\n",
      "|  3 |               2.42165 |\n",
      "|  4 |               1.1396  |\n",
      "|  5 |               0.14245 |\n",
      "|  7 |               0.14245 |\n",
      "|  8 |               0.14245 |\n"
     ]
    }
   ],
   "source": [
    "tabcont_1var(df, 'sessoes_conversoras')"
   ]
  },
  {
   "cell_type": "code",
   "execution_count": 20,
   "metadata": {},
   "outputs": [
    {
     "data": {
      "image/png": "[encoded data removed]",
      "text/plain": [
       "<Figure size 720x288 with 2 Axes>"
      ]
     },
     "metadata": {
      "needs_background": "light"
     },
     "output_type": "display_data"
    }
   ],
   "source": [
    "plot_hist_box(df['sessoes_conversoras'])"
   ]
  },
  {
   "cell_type": "code",
   "execution_count": 21,
   "metadata": {},
   "outputs": [
    {
     "name": "stdout",
     "output_type": "stream",
     "text": [
      " Lower bound = 1.0 \n",
      " Upper bound = 1.0\n"
     ]
    }
   ],
   "source": [
    "outlier_bounds(df['sessoes_conversoras'])"
   ]
  },
  {
   "cell_type": "markdown",
   "metadata": {},
   "source": [
    "É possível observar que:\n",
    "* A maioria absoluta (90,32%) dos clientes que converteram tiveram apenas 1 sessão conversora, na qual podem ter tido uma ou mais transações. Apenas 9,68% dos clientes tiveram mais de 1 sessão conversora;\n",
    "* Esta variável possui alguns outliers, mas seu boxplot é completamente achatado devido a predominância de valores iguais a 1.\n",
    "* Variável com forte assimetria à direita"
   ]
  },
  {
   "cell_type": "markdown",
   "metadata": {},
   "source": [
    "### 4.3. qtde_transacoes <a name=\"auni_qtde_transacoes\">"
   ]
  },
  {
   "cell_type": "code",
   "execution_count": 22,
   "metadata": {},
   "outputs": [
    {
     "name": "stdout",
     "output_type": "stream",
     "text": [
      "Valores absolutos\n",
      "|    |   qtde_transacoes |\n",
      "|---:|------------------:|\n",
      "|  1 |               622 |\n",
      "|  2 |                47 |\n",
      "|  3 |                15 |\n",
      "|  4 |                10 |\n",
      "|  5 |                 4 |\n",
      "|  6 |                 1 |\n",
      "|  7 |                 1 |\n",
      "|  9 |                 1 |\n",
      "| 11 |                 1 |\n",
      "\n",
      "\n",
      "Proporção\n",
      "|    |   qtde_transacoes |\n",
      "|---:|------------------:|\n",
      "|  1 |         88.604    |\n",
      "|  2 |          6.69516  |\n",
      "|  3 |          2.13675  |\n",
      "|  4 |          1.4245   |\n",
      "|  5 |          0.569801 |\n",
      "|  6 |          0.14245  |\n",
      "|  7 |          0.14245  |\n",
      "|  9 |          0.14245  |\n",
      "| 11 |          0.14245  |\n"
     ]
    }
   ],
   "source": [
    "tabcont_1var(df, 'qtde_transacoes')"
   ]
  },
  {
   "cell_type": "code",
   "execution_count": 23,
   "metadata": {},
   "outputs": [
    {
     "data": {
      "image/png": "[encoded data removed]",
      "text/plain": [
       "<Figure size 720x288 with 2 Axes>"
      ]
     },
     "metadata": {
      "needs_background": "light"
     },
     "output_type": "display_data"
    }
   ],
   "source": [
    "plot_hist_box(df['n_sessoes'], bins = 40)"
   ]
  },
  {
   "cell_type": "code",
   "execution_count": 24,
   "metadata": {},
   "outputs": [
    {
     "name": "stdout",
     "output_type": "stream",
     "text": [
      " Lower bound = -3.5 \n",
      " Upper bound = 8.5\n"
     ]
    }
   ],
   "source": [
    "outlier_bounds(df['n_sessoes'])"
   ]
  },
  {
   "cell_type": "markdown",
   "metadata": {},
   "source": [
    "É possível observar que:\n",
    "* Assim como em sessoes_conversoras, a maioria absoluta (88,62%) dos clientes que converteram realizaram apenas 1 transação. O restante dos clientes, 11,38%, realizaram entre 2 e 11 transações;\n",
    "* Variável com muitos outliers, boxplot achatado e assimetria à direita no histograma."
   ]
  },
  {
   "cell_type": "markdown",
   "metadata": {},
   "source": [
    "### 4.4. soma_receitas <a name=\"auni_soma_receitas\">"
   ]
  },
  {
   "cell_type": "code",
   "execution_count": 25,
   "metadata": {},
   "outputs": [
    {
     "data": {
      "text/plain": [
       "21.99      8\n",
       "25.99      7\n",
       "19.99      7\n",
       "24.99      6\n",
       "23.99      6\n",
       "          ..\n",
       "2686.96    1\n",
       "518.40     1\n",
       "3314.40    1\n",
       "46.36      1\n",
       "1086.00    1\n",
       "Name: soma_receitas, Length: 600, dtype: int64"
      ]
     },
     "execution_count": 25,
     "metadata": {},
     "output_type": "execute_result"
    }
   ],
   "source": [
    "df['soma_receitas'].value_counts()"
   ]
  },
  {
   "cell_type": "markdown",
   "metadata": {},
   "source": [
    "Apesar de ser uma variável contínua, decidi montar a tabela de frequência para avaliar a compra de um produto de mesmo preço. É possível observar que 8 pessoas adquiriram produtos de 21,99, parece ser o valor mais popular juntamente com 25,99 e 19,99, que tiveram 7 pessoas.\n",
    "\n",
    "Para avaliar essa variável é melhor categorizá-la em 4 categorias, apenas para uma análise de frequência. Segue abaixo:"
   ]
  },
  {
   "cell_type": "code",
   "execution_count": 26,
   "metadata": {},
   "outputs": [],
   "source": [
    "df['soma_receitas_cat'] = pd.qcut(df['soma_receitas'], q = 4)"
   ]
  },
  {
   "cell_type": "code",
   "execution_count": 27,
   "metadata": {},
   "outputs": [
    {
     "name": "stdout",
     "output_type": "stream",
     "text": [
      "Valores absolutos\n",
      "|                             |   soma_receitas_cat |\n",
      "|:----------------------------|--------------------:|\n",
      "| (5.5889999999999995, 28.94] |                 176 |\n",
      "| (28.94, 56.99]              |                 178 |\n",
      "| (56.99, 125.303]            |                 172 |\n",
      "| (125.303, 7073.51]          |                 176 |\n",
      "\n",
      "\n",
      "Proporção\n",
      "|                             |   soma_receitas_cat |\n",
      "|:----------------------------|--------------------:|\n",
      "| (5.5889999999999995, 28.94] |             25.0712 |\n",
      "| (28.94, 56.99]              |             25.3561 |\n",
      "| (56.99, 125.303]            |             24.5014 |\n",
      "| (125.303, 7073.51]          |             25.0712 |\n"
     ]
    }
   ],
   "source": [
    "tabcont_1var(df, 'soma_receitas_cat')"
   ]
  },
  {
   "cell_type": "markdown",
   "metadata": {},
   "source": [
    "Após categorizar, é possível observar que:\n",
    "\n",
    "* 25,04% tiveram receita entre 0 e 28,96 USD;\n",
    "* 25,46% tiveram receita entre 28,97 e 56,99 USD;\n",
    "* 24,47% tiveram receita entre 57,00 e 125,17 USD;\n",
    "* 25,03% tiveram receita entre 125,18 e 7073,51 USD - O intervalo aqui é muito maior pois se trata de valores com poucos clientes."
   ]
  },
  {
   "cell_type": "code",
   "execution_count": 28,
   "metadata": {},
   "outputs": [
    {
     "data": {
      "image/png": "[encoded data removed]",
      "text/plain": [
       "<Figure size 720x288 with 2 Axes>"
      ]
     },
     "metadata": {
      "needs_background": "light"
     },
     "output_type": "display_data"
    }
   ],
   "source": [
    "plot_hist_box(df['soma_receitas'], bins = 80)"
   ]
  },
  {
   "cell_type": "code",
   "execution_count": 29,
   "metadata": {},
   "outputs": [
    {
     "name": "stdout",
     "output_type": "stream",
     "text": [
      " Lower bound = -115.60375000000002 \n",
      " Upper bound = 269.84625000000005\n"
     ]
    }
   ],
   "source": [
    "outlier_bounds(df['soma_receitas'])"
   ]
  },
  {
   "cell_type": "markdown",
   "metadata": {},
   "source": [
    "Além das observações acima, temos que:\n",
    "* Histograma com forte assimetria à direita e boxplot achatado, indicando presença de muitos outliers;\n",
    "* Pelo histograma observamos que a grande maioria dos clientes possuem uma soma de receita menor que, aproximdamente, 700 USD."
   ]
  },
  {
   "cell_type": "markdown",
   "metadata": {},
   "source": [
    "### 4.5. media_receitas_transacao <a name=\"auni_media_receitas_transacao\">"
   ]
  },
  {
   "cell_type": "code",
   "execution_count": 30,
   "metadata": {},
   "outputs": [
    {
     "data": {
      "text/plain": [
       "21.99      8\n",
       "19.99      7\n",
       "25.99      7\n",
       "23.99      6\n",
       "24.99      6\n",
       "          ..\n",
       "155.93     1\n",
       "111.31     1\n",
       "92.96      1\n",
       "411.15     1\n",
       "1086.00    1\n",
       "Name: media_receitas_transacao, Length: 601, dtype: int64"
      ]
     },
     "execution_count": 30,
     "metadata": {},
     "output_type": "execute_result"
    }
   ],
   "source": [
    "df['media_receitas_transacao'].value_counts()"
   ]
  },
  {
   "cell_type": "markdown",
   "metadata": {},
   "source": [
    "Seguindo a ideia da variável anterior, observamos que os primeiros valores são iguais a de soma, o que indica que essas pessoas realizaram apenas 1 transação.\n",
    "\n",
    "Da mesma forma irei categorizar essa variável para uma melhor análise"
   ]
  },
  {
   "cell_type": "code",
   "execution_count": 31,
   "metadata": {},
   "outputs": [],
   "source": [
    "df['media_receitas_transacao_cat'] = pd.qcut(df['media_receitas_transacao'], q = 4)"
   ]
  },
  {
   "cell_type": "code",
   "execution_count": 32,
   "metadata": {},
   "outputs": [
    {
     "name": "stdout",
     "output_type": "stream",
     "text": [
      "Valores absolutos\n",
      "|                              |   media_receitas_transacao_cat |\n",
      "|:-----------------------------|-------------------------------:|\n",
      "| (5.5889999999999995, 28.222] |                            176 |\n",
      "| (28.222, 55.32]              |                            175 |\n",
      "| (55.32, 112.018]             |                            175 |\n",
      "| (112.018, 2147.48]           |                            176 |\n",
      "\n",
      "\n",
      "Proporção\n",
      "|                              |   media_receitas_transacao_cat |\n",
      "|:-----------------------------|-------------------------------:|\n",
      "| (5.5889999999999995, 28.222] |                        25.0712 |\n",
      "| (28.222, 55.32]              |                        24.9288 |\n",
      "| (55.32, 112.018]             |                        24.9288 |\n",
      "| (112.018, 2147.48]           |                        25.0712 |\n"
     ]
    }
   ],
   "source": [
    "tabcont_1var(df, 'media_receitas_transacao_cat')"
   ]
  },
  {
   "cell_type": "markdown",
   "metadata": {},
   "source": [
    "Após categorizar, é possível observar que (lembrando que a média também pode levar em conta apenas 1 transação, puxando-a para cima dependendo do valor da compra):\n",
    "\n",
    "* 25,07% tiveram média de receita entre 5,59 e 28,22 USD;\n",
    "* 24,93% tiveram média de receita entre 28,23 e 55,32 USD;\n",
    "* 24,92% tiveram média de receita entre 55,33 e 112,02 USD;\n",
    "* 25,07% tiveram média de receita entre 112,03 e 2147,48 USD - O intervalo aqui é muito maior pois se trata de valores com poucos clientes."
   ]
  },
  {
   "cell_type": "code",
   "execution_count": 33,
   "metadata": {},
   "outputs": [
    {
     "data": {
      "image/png": "[encoded data removed]",
      "text/plain": [
       "<Figure size 720x288 with 2 Axes>"
      ]
     },
     "metadata": {
      "needs_background": "light"
     },
     "output_type": "display_data"
    }
   ],
   "source": [
    "plot_hist_box(df['media_receitas_transacao'], bins = 80)"
   ]
  },
  {
   "cell_type": "code",
   "execution_count": 34,
   "metadata": {},
   "outputs": [
    {
     "name": "stdout",
     "output_type": "stream",
     "text": [
      " Lower bound = -97.47000000000003 \n",
      " Upper bound = 237.71000000000004\n"
     ]
    }
   ],
   "source": [
    "outlier_bounds(df['media_receitas_transacao'])"
   ]
  },
  {
   "cell_type": "markdown",
   "metadata": {},
   "source": [
    "Além das observações acima, temos que:\n",
    "* Histograma com forte assimetria à direita, porém com mais observações entre 0 e 500 do que soma_receitas e boxplot achatado, indicando presença de muitos outliers;\n",
    "* Pelo histograma observamos que a grande maioria dos clientes possuem uma soma de receita menor que, aproximdamente, 500 USD."
   ]
  },
  {
   "cell_type": "markdown",
   "metadata": {},
   "source": [
    "### 4.6. data_ultima_transacao <a name=\"auni_data_ultima_transacao\">"
   ]
  },
  {
   "cell_type": "markdown",
   "metadata": {},
   "source": [
    "Essa variável requer um tratamento especial. Com ela podemos identificar se há alguma tendência de conversão em algum intervalo de dias do mês ou em até em alguns meses do ano. Como já converti a variável para datetime, vou apenas extrair dia do mês e mês.\n",
    "\n",
    "Entretanto, precisamos lembrar que se trata da data da ÚLTIMA TRANSAÇÃO dos indivíduos que converteram, então, pode não mostrar tendência nenhuma."
   ]
  },
  {
   "cell_type": "code",
   "execution_count": 35,
   "metadata": {},
   "outputs": [],
   "source": [
    "df['mes_ultima_transacao'] = df['data_ultima_transacao'].dt.month\n",
    "df['dia_ultima_transacao'] = df['data_ultima_transacao'].dt.day"
   ]
  },
  {
   "cell_type": "code",
   "execution_count": 36,
   "metadata": {},
   "outputs": [
    {
     "data": {
      "text/html": [
       "<div>\n",
       "<style scoped>\n",
       "    .dataframe tbody tr th:only-of-type {\n",
       "        vertical-align: middle;\n",
       "    }\n",
       "\n",
       "    .dataframe tbody tr th {\n",
       "        vertical-align: top;\n",
       "    }\n",
       "\n",
       "    .dataframe thead th {\n",
       "        text-align: right;\n",
       "    }\n",
       "</style>\n",
       "<table border=\"1\" class=\"dataframe\">\n",
       "  <thead>\n",
       "    <tr style=\"text-align: right;\">\n",
       "      <th></th>\n",
       "      <th>ID_usuario</th>\n",
       "      <th>n_sessoes</th>\n",
       "      <th>sessoes_conversoras</th>\n",
       "      <th>qtde_transacoes</th>\n",
       "      <th>soma_receitas</th>\n",
       "      <th>media_receitas_transacao</th>\n",
       "      <th>data_ultima_transacao</th>\n",
       "      <th>soma_receitas_cat</th>\n",
       "      <th>media_receitas_transacao_cat</th>\n",
       "      <th>mes_ultima_transacao</th>\n",
       "      <th>dia_ultima_transacao</th>\n",
       "    </tr>\n",
       "  </thead>\n",
       "  <tbody>\n",
       "    <tr>\n",
       "      <th>0</th>\n",
       "      <td>1814166460229302850</td>\n",
       "      <td>15</td>\n",
       "      <td>7</td>\n",
       "      <td>7</td>\n",
       "      <td>7073.51</td>\n",
       "      <td>1010.50</td>\n",
       "      <td>2017-07-31</td>\n",
       "      <td>(125.303, 7073.51]</td>\n",
       "      <td>(112.018, 2147.48]</td>\n",
       "      <td>7</td>\n",
       "      <td>31</td>\n",
       "    </tr>\n",
       "    <tr>\n",
       "      <th>1</th>\n",
       "      <td>3835134197841326255</td>\n",
       "      <td>8</td>\n",
       "      <td>3</td>\n",
       "      <td>3</td>\n",
       "      <td>4034.48</td>\n",
       "      <td>1344.83</td>\n",
       "      <td>2017-02-21</td>\n",
       "      <td>(125.303, 7073.51]</td>\n",
       "      <td>(112.018, 2147.48]</td>\n",
       "      <td>2</td>\n",
       "      <td>21</td>\n",
       "    </tr>\n",
       "    <tr>\n",
       "      <th>2</th>\n",
       "      <td>2904329822175970539</td>\n",
       "      <td>36</td>\n",
       "      <td>8</td>\n",
       "      <td>9</td>\n",
       "      <td>3897.22</td>\n",
       "      <td>487.15</td>\n",
       "      <td>2018-04-06</td>\n",
       "      <td>(125.303, 7073.51]</td>\n",
       "      <td>(112.018, 2147.48]</td>\n",
       "      <td>4</td>\n",
       "      <td>6</td>\n",
       "    </tr>\n",
       "    <tr>\n",
       "      <th>3</th>\n",
       "      <td>6052206455243513477</td>\n",
       "      <td>4</td>\n",
       "      <td>2</td>\n",
       "      <td>2</td>\n",
       "      <td>3314.40</td>\n",
       "      <td>1657.20</td>\n",
       "      <td>2017-07-25</td>\n",
       "      <td>(125.303, 7073.51]</td>\n",
       "      <td>(112.018, 2147.48]</td>\n",
       "      <td>7</td>\n",
       "      <td>25</td>\n",
       "    </tr>\n",
       "    <tr>\n",
       "      <th>4</th>\n",
       "      <td>2969957690756250633</td>\n",
       "      <td>8</td>\n",
       "      <td>2</td>\n",
       "      <td>2</td>\n",
       "      <td>2686.96</td>\n",
       "      <td>1343.48</td>\n",
       "      <td>2017-04-26</td>\n",
       "      <td>(125.303, 7073.51]</td>\n",
       "      <td>(112.018, 2147.48]</td>\n",
       "      <td>4</td>\n",
       "      <td>26</td>\n",
       "    </tr>\n",
       "  </tbody>\n",
       "</table>\n",
       "</div>"
      ],
      "text/plain": [
       "            ID_usuario  n_sessoes  sessoes_conversoras  qtde_transacoes  \\\n",
       "0  1814166460229302850         15                    7                7   \n",
       "1  3835134197841326255          8                    3                3   \n",
       "2  2904329822175970539         36                    8                9   \n",
       "3  6052206455243513477          4                    2                2   \n",
       "4  2969957690756250633          8                    2                2   \n",
       "\n",
       "   soma_receitas  media_receitas_transacao data_ultima_transacao  \\\n",
       "0        7073.51                   1010.50            2017-07-31   \n",
       "1        4034.48                   1344.83            2017-02-21   \n",
       "2        3897.22                    487.15            2018-04-06   \n",
       "3        3314.40                   1657.20            2017-07-25   \n",
       "4        2686.96                   1343.48            2017-04-26   \n",
       "\n",
       "    soma_receitas_cat media_receitas_transacao_cat  mes_ultima_transacao  \\\n",
       "0  (125.303, 7073.51]           (112.018, 2147.48]                     7   \n",
       "1  (125.303, 7073.51]           (112.018, 2147.48]                     2   \n",
       "2  (125.303, 7073.51]           (112.018, 2147.48]                     4   \n",
       "3  (125.303, 7073.51]           (112.018, 2147.48]                     7   \n",
       "4  (125.303, 7073.51]           (112.018, 2147.48]                     4   \n",
       "\n",
       "   dia_ultima_transacao  \n",
       "0                    31  \n",
       "1                    21  \n",
       "2                     6  \n",
       "3                    25  \n",
       "4                    26  "
      ]
     },
     "execution_count": 36,
     "metadata": {},
     "output_type": "execute_result"
    }
   ],
   "source": [
    "df.head()"
   ]
  },
  {
   "cell_type": "code",
   "execution_count": 37,
   "metadata": {},
   "outputs": [
    {
     "name": "stdout",
     "output_type": "stream",
     "text": [
      "Valores absolutos\n",
      "|    |   mes_ultima_transacao |\n",
      "|---:|-----------------------:|\n",
      "|  1 |                     38 |\n",
      "|  2 |                     49 |\n",
      "|  3 |                     87 |\n",
      "|  4 |                     67 |\n",
      "|  5 |                     43 |\n",
      "|  6 |                     38 |\n",
      "|  7 |                     45 |\n",
      "|  8 |                     77 |\n",
      "|  9 |                     62 |\n",
      "| 10 |                     66 |\n",
      "| 11 |                     48 |\n",
      "| 12 |                     82 |\n",
      "\n",
      "\n",
      "Proporção\n",
      "|    |   mes_ultima_transacao |\n",
      "|---:|-----------------------:|\n",
      "|  1 |                5.41311 |\n",
      "|  2 |                6.98006 |\n",
      "|  3 |               12.3932  |\n",
      "|  4 |                9.54416 |\n",
      "|  5 |                6.12536 |\n",
      "|  6 |                5.41311 |\n",
      "|  7 |                6.41026 |\n",
      "|  8 |               10.9687  |\n",
      "|  9 |                8.83191 |\n",
      "| 10 |                9.40171 |\n",
      "| 11 |                6.83761 |\n",
      "| 12 |               11.6809  |\n"
     ]
    }
   ],
   "source": [
    "tabcont_1var(df, 'mes_ultima_transacao')"
   ]
  },
  {
   "cell_type": "code",
   "execution_count": 38,
   "metadata": {},
   "outputs": [
    {
     "data": {
      "image/png": "[encoded data removed]",
      "text/plain": [
       "<Figure size 720x288 with 2 Axes>"
      ]
     },
     "metadata": {
      "needs_background": "light"
     },
     "output_type": "display_data"
    }
   ],
   "source": [
    "plot_hist_box(df['mes_ultima_transacao'])"
   ]
  },
  {
   "cell_type": "markdown",
   "metadata": {},
   "source": [
    "Em questão de mês, é possível observar que não há uma discrepância forte entre os meses. O mês com maior número de últimas transações é o 3, mas corresponde apenas a 12,4%, sendo apenas 7% maior que os meses com menos transações. A distribuição no histograma tem caráter de picos isolados.\n",
    "\n",
    "É possível notar também que, se tivéssemos meses em sequência com um número maior de transações, poderíamos inferir que este intervalo de meses, por exemplo, 8 a 12, teria maior tendência de compra, mas isso não acontece. Observamos que os meses com maior número de transações são 3, 8 e 12. Entretanto, vou colocar essa variável no modelo, pois pode ser crucial para dividir os grupos em meses de compra."
   ]
  },
  {
   "cell_type": "code",
   "execution_count": 39,
   "metadata": {
    "scrolled": true
   },
   "outputs": [
    {
     "name": "stdout",
     "output_type": "stream",
     "text": [
      "Valores absolutos\n",
      "|    |   dia_ultima_transacao |\n",
      "|---:|-----------------------:|\n",
      "|  1 |                     20 |\n",
      "|  2 |                     18 |\n",
      "|  3 |                     18 |\n",
      "|  4 |                     24 |\n",
      "|  5 |                     30 |\n",
      "|  6 |                     28 |\n",
      "|  7 |                     19 |\n",
      "|  8 |                     14 |\n",
      "|  9 |                     21 |\n",
      "| 10 |                     20 |\n",
      "| 11 |                     14 |\n",
      "| 12 |                     20 |\n",
      "| 13 |                     24 |\n",
      "| 14 |                     28 |\n",
      "| 15 |                     20 |\n",
      "| 16 |                     29 |\n",
      "| 17 |                     27 |\n",
      "| 18 |                     17 |\n",
      "| 19 |                     23 |\n",
      "| 20 |                     21 |\n",
      "| 21 |                     21 |\n",
      "| 22 |                     24 |\n",
      "| 23 |                     24 |\n",
      "| 24 |                     13 |\n",
      "| 25 |                     24 |\n",
      "| 26 |                     30 |\n",
      "| 27 |                     34 |\n",
      "| 28 |                     41 |\n",
      "| 29 |                     15 |\n",
      "| 30 |                     23 |\n",
      "| 31 |                     18 |\n",
      "\n",
      "\n",
      "Proporção\n",
      "|    |   dia_ultima_transacao |\n",
      "|---:|-----------------------:|\n",
      "|  1 |                2.849   |\n",
      "|  2 |                2.5641  |\n",
      "|  3 |                2.5641  |\n",
      "|  4 |                3.4188  |\n",
      "|  5 |                4.2735  |\n",
      "|  6 |                3.9886  |\n",
      "|  7 |                2.70655 |\n",
      "|  8 |                1.9943  |\n",
      "|  9 |                2.99145 |\n",
      "| 10 |                2.849   |\n",
      "| 11 |                1.9943  |\n",
      "| 12 |                2.849   |\n",
      "| 13 |                3.4188  |\n",
      "| 14 |                3.9886  |\n",
      "| 15 |                2.849   |\n",
      "| 16 |                4.13105 |\n",
      "| 17 |                3.84615 |\n",
      "| 18 |                2.42165 |\n",
      "| 19 |                3.27635 |\n",
      "| 20 |                2.99145 |\n",
      "| 21 |                2.99145 |\n",
      "| 22 |                3.4188  |\n",
      "| 23 |                3.4188  |\n",
      "| 24 |                1.85185 |\n",
      "| 25 |                3.4188  |\n",
      "| 26 |                4.2735  |\n",
      "| 27 |                4.8433  |\n",
      "| 28 |                5.84046 |\n",
      "| 29 |                2.13675 |\n",
      "| 30 |                3.27635 |\n",
      "| 31 |                2.5641  |\n"
     ]
    }
   ],
   "source": [
    "tabcont_1var(df, 'dia_ultima_transacao')"
   ]
  },
  {
   "cell_type": "code",
   "execution_count": 40,
   "metadata": {},
   "outputs": [
    {
     "data": {
      "image/png": "[encoded data removed]",
      "text/plain": [
       "<Figure size 720x288 with 2 Axes>"
      ]
     },
     "metadata": {
      "needs_background": "light"
     },
     "output_type": "display_data"
    }
   ],
   "source": [
    "plot_hist_box(df['dia_ultima_transacao'])"
   ]
  },
  {
   "cell_type": "markdown",
   "metadata": {},
   "source": [
    "A discrepância entre os dias do mês é ainda menor, o histograma aparenta ser mais uniforme, mas ainda apresenta picos isolados. O boxplot não aprsenta outliers e está bem centralizado. O dia da última compra não parece ser uma característica determinante."
   ]
  },
  {
   "cell_type": "markdown",
   "metadata": {},
   "source": [
    "## 5. Análise Bivariada <a name=\"abid\">"
   ]
  },
  {
   "cell_type": "markdown",
   "metadata": {},
   "source": [
    "A análise bivariada de algumas variáveis se faz necessária para avaliarmos melhor os dados que temos. \n",
    "\n",
    "No caso, vou avaliar todas as variáveis em cruzamento com o número total de sessões do cliente que converteu. Isso me permitirá ver a retenção desses clientes e o comportamento dos valores que gastam."
   ]
  },
  {
   "cell_type": "code",
   "execution_count": 41,
   "metadata": {},
   "outputs": [
    {
     "data": {
      "text/plain": [
       "['ID_usuario',\n",
       " 'n_sessoes',\n",
       " 'sessoes_conversoras',\n",
       " 'qtde_transacoes',\n",
       " 'soma_receitas',\n",
       " 'media_receitas_transacao',\n",
       " 'data_ultima_transacao',\n",
       " 'soma_receitas_cat',\n",
       " 'media_receitas_transacao_cat',\n",
       " 'mes_ultima_transacao',\n",
       " 'dia_ultima_transacao']"
      ]
     },
     "execution_count": 41,
     "metadata": {},
     "output_type": "execute_result"
    }
   ],
   "source": [
    "df.columns.to_list()"
   ]
  },
  {
   "cell_type": "markdown",
   "metadata": {},
   "source": [
    "### 5.1. n_sessoes x sessoes_conversoras <a name=\"abid_1\">"
   ]
  },
  {
   "cell_type": "code",
   "execution_count": 42,
   "metadata": {
    "scrolled": true
   },
   "outputs": [
    {
     "name": "stdout",
     "output_type": "stream",
     "text": [
      "Valores absolutos:\n",
      "\n",
      "| n_sessoes   |   1 |   2 |   3 |   4 |   5 |   7 |   8 |   All |\n",
      "|:------------|----:|----:|----:|----:|----:|----:|----:|------:|\n",
      "| 1           | 215 |   0 |   0 |   0 |   0 |   0 |   0 |   215 |\n",
      "| 2           | 150 |   4 |   0 |   0 |   0 |   0 |   0 |   154 |\n",
      "| 3           |  91 |   9 |   1 |   0 |   0 |   0 |   0 |   101 |\n",
      "| 4           |  51 |   4 |   3 |   1 |   0 |   0 |   0 |    59 |\n",
      "| 5           |  45 |   5 |   0 |   0 |   0 |   0 |   0 |    50 |\n",
      "| 6           |  27 |   2 |   1 |   1 |   0 |   0 |   0 |    31 |\n",
      "| 7           |  11 |   2 |   1 |   1 |   0 |   0 |   0 |    15 |\n",
      "| 8           |  13 |   5 |   4 |   0 |   0 |   0 |   0 |    22 |\n",
      "| 9           |   8 |   1 |   2 |   1 |   0 |   0 |   0 |    12 |\n",
      "| 10          |   6 |   2 |   0 |   0 |   0 |   0 |   0 |     8 |\n",
      "| 11          |   3 |   0 |   1 |   0 |   0 |   0 |   0 |     4 |\n",
      "| 12          |   3 |   1 |   0 |   0 |   0 |   0 |   0 |     4 |\n",
      "| 13          |   1 |   0 |   0 |   0 |   0 |   0 |   0 |     1 |\n",
      "| 14          |   2 |   0 |   0 |   1 |   0 |   0 |   0 |     3 |\n",
      "| 15          |   3 |   1 |   0 |   1 |   0 |   1 |   0 |     6 |\n",
      "| 16          |   0 |   1 |   0 |   0 |   0 |   0 |   0 |     1 |\n",
      "| 17          |   0 |   0 |   1 |   0 |   0 |   0 |   0 |     1 |\n",
      "| 18          |   1 |   1 |   0 |   0 |   0 |   0 |   0 |     2 |\n",
      "| 19          |   1 |   1 |   0 |   1 |   0 |   0 |   0 |     3 |\n",
      "| 20          |   1 |   1 |   1 |   0 |   0 |   0 |   0 |     3 |\n",
      "| 23          |   0 |   0 |   1 |   0 |   0 |   0 |   0 |     1 |\n",
      "| 25          |   0 |   0 |   0 |   1 |   0 |   0 |   0 |     1 |\n",
      "| 36          |   0 |   0 |   0 |   0 |   0 |   0 |   1 |     1 |\n",
      "| 43          |   1 |   0 |   0 |   0 |   0 |   0 |   0 |     1 |\n",
      "| 101         |   0 |   0 |   1 |   0 |   0 |   0 |   0 |     1 |\n",
      "| 138         |   0 |   0 |   0 |   0 |   1 |   0 |   0 |     1 |\n",
      "| 157         |   1 |   0 |   0 |   0 |   0 |   0 |   0 |     1 |\n",
      "| All         | 634 |  40 |  17 |   8 |   1 |   1 |   1 |   702 |\n",
      "\n",
      "Porcentagem na linha:\n",
      "\n",
      "| n_sessoes   |    1 |    2 |    3 |    4 |   5 |    7 |   8 |   All |\n",
      "|:------------|-----:|-----:|-----:|-----:|----:|-----:|----:|------:|\n",
      "| 1           | 1    | 0    | 0    | 0    |   0 | 0    |   0 |     1 |\n",
      "| 2           | 0.97 | 0.03 | 0    | 0    |   0 | 0    |   0 |     1 |\n",
      "| 3           | 0.9  | 0.09 | 0.01 | 0    |   0 | 0    |   0 |     1 |\n",
      "| 4           | 0.86 | 0.07 | 0.05 | 0.02 |   0 | 0    |   0 |     1 |\n",
      "| 5           | 0.9  | 0.1  | 0    | 0    |   0 | 0    |   0 |     1 |\n",
      "| 6           | 0.87 | 0.06 | 0.03 | 0.03 |   0 | 0    |   0 |     1 |\n",
      "| 7           | 0.73 | 0.13 | 0.07 | 0.07 |   0 | 0    |   0 |     1 |\n",
      "| 8           | 0.59 | 0.23 | 0.18 | 0    |   0 | 0    |   0 |     1 |\n",
      "| 9           | 0.67 | 0.08 | 0.17 | 0.08 |   0 | 0    |   0 |     1 |\n",
      "| 10          | 0.75 | 0.25 | 0    | 0    |   0 | 0    |   0 |     1 |\n",
      "| 11          | 0.75 | 0    | 0.25 | 0    |   0 | 0    |   0 |     1 |\n",
      "| 12          | 0.75 | 0.25 | 0    | 0    |   0 | 0    |   0 |     1 |\n",
      "| 13          | 1    | 0    | 0    | 0    |   0 | 0    |   0 |     1 |\n",
      "| 14          | 0.67 | 0    | 0    | 0.33 |   0 | 0    |   0 |     1 |\n",
      "| 15          | 0.5  | 0.17 | 0    | 0.17 |   0 | 0.17 |   0 |     1 |\n",
      "| 16          | 0    | 1    | 0    | 0    |   0 | 0    |   0 |     1 |\n",
      "| 17          | 0    | 0    | 1    | 0    |   0 | 0    |   0 |     1 |\n",
      "| 18          | 0.5  | 0.5  | 0    | 0    |   0 | 0    |   0 |     1 |\n",
      "| 19          | 0.33 | 0.33 | 0    | 0.33 |   0 | 0    |   0 |     1 |\n",
      "| 20          | 0.33 | 0.33 | 0.33 | 0    |   0 | 0    |   0 |     1 |\n",
      "| 23          | 0    | 0    | 1    | 0    |   0 | 0    |   0 |     1 |\n",
      "| 25          | 0    | 0    | 0    | 1    |   0 | 0    |   0 |     1 |\n",
      "| 36          | 0    | 0    | 0    | 0    |   0 | 0    |   1 |     1 |\n",
      "| 43          | 1    | 0    | 0    | 0    |   0 | 0    |   0 |     1 |\n",
      "| 101         | 0    | 0    | 1    | 0    |   0 | 0    |   0 |     1 |\n",
      "| 138         | 0    | 0    | 0    | 0    |   1 | 0    |   0 |     1 |\n",
      "| 157         | 1    | 0    | 0    | 0    |   0 | 0    |   0 |     1 |\n",
      "| All         | 0.9  | 0.06 | 0.02 | 0.01 |   0 | 0    |   0 |     1 |\n",
      "\n",
      "Porcentagem na coluna:\n",
      "\n",
      "| n_sessoes   |    1 |    2 |    3 |    4 |   5 |   7 |   8 |   All |\n",
      "|:------------|-----:|-----:|-----:|-----:|----:|----:|----:|------:|\n",
      "| 1           | 0.34 | 0    | 0    | 0    |   0 |   0 |   0 |  0.31 |\n",
      "| 2           | 0.24 | 0.1  | 0    | 0    |   0 |   0 |   0 |  0.22 |\n",
      "| 3           | 0.14 | 0.22 | 0.06 | 0    |   0 |   0 |   0 |  0.14 |\n",
      "| 4           | 0.08 | 0.1  | 0.18 | 0.12 |   0 |   0 |   0 |  0.08 |\n",
      "| 5           | 0.07 | 0.12 | 0    | 0    |   0 |   0 |   0 |  0.07 |\n",
      "| 6           | 0.04 | 0.05 | 0.06 | 0.12 |   0 |   0 |   0 |  0.04 |\n",
      "| 7           | 0.02 | 0.05 | 0.06 | 0.12 |   0 |   0 |   0 |  0.02 |\n",
      "| 8           | 0.02 | 0.12 | 0.24 | 0    |   0 |   0 |   0 |  0.03 |\n",
      "| 9           | 0.01 | 0.02 | 0.12 | 0.12 |   0 |   0 |   0 |  0.02 |\n",
      "| 10          | 0.01 | 0.05 | 0    | 0    |   0 |   0 |   0 |  0.01 |\n",
      "| 11          | 0    | 0    | 0.06 | 0    |   0 |   0 |   0 |  0.01 |\n",
      "| 12          | 0    | 0.02 | 0    | 0    |   0 |   0 |   0 |  0.01 |\n",
      "| 13          | 0    | 0    | 0    | 0    |   0 |   0 |   0 |  0    |\n",
      "| 14          | 0    | 0    | 0    | 0.12 |   0 |   0 |   0 |  0    |\n",
      "| 15          | 0    | 0.02 | 0    | 0.12 |   0 |   1 |   0 |  0.01 |\n",
      "| 16          | 0    | 0.02 | 0    | 0    |   0 |   0 |   0 |  0    |\n",
      "| 17          | 0    | 0    | 0.06 | 0    |   0 |   0 |   0 |  0    |\n",
      "| 18          | 0    | 0.02 | 0    | 0    |   0 |   0 |   0 |  0    |\n",
      "| 19          | 0    | 0.02 | 0    | 0.12 |   0 |   0 |   0 |  0    |\n",
      "| 20          | 0    | 0.02 | 0.06 | 0    |   0 |   0 |   0 |  0    |\n",
      "| 23          | 0    | 0    | 0.06 | 0    |   0 |   0 |   0 |  0    |\n",
      "| 25          | 0    | 0    | 0    | 0.12 |   0 |   0 |   0 |  0    |\n",
      "| 36          | 0    | 0    | 0    | 0    |   0 |   0 |   1 |  0    |\n",
      "| 43          | 0    | 0    | 0    | 0    |   0 |   0 |   0 |  0    |\n",
      "| 101         | 0    | 0    | 0.06 | 0    |   0 |   0 |   0 |  0    |\n",
      "| 138         | 0    | 0    | 0    | 0    |   1 |   0 |   0 |  0    |\n",
      "| 157         | 0    | 0    | 0    | 0    |   0 |   0 |   0 |  0    |\n",
      "| All         | 1    | 1    | 1    | 1    |   1 |   1 |   1 |  1    |\n"
     ]
    }
   ],
   "source": [
    "tabcont_2var(df['n_sessoes'], df['sessoes_conversoras'])"
   ]
  },
  {
   "cell_type": "markdown",
   "metadata": {},
   "source": [
    "Sem a necessidade de gráficos, é possível observar através da tabela que temos uma predominância forte de clientes com apenas 1 sessão conversora, tendo uma ou mais sessões no total.\n",
    "\n",
    "Pode-se observar que 215 clientes realização apenas uma sessão e uma conversão, ou seja, entraram, compraram e nunca mais voltaram. O que podemos fazer para esses clientes voltarem? Talvez mais propagandas personalizadas e cupons únicos sejam uma boa maneira."
   ]
  },
  {
   "cell_type": "markdown",
   "metadata": {},
   "source": [
    "### 5.2. n_sessoes x qtde_transacoes <a name=\"abid_2\">"
   ]
  },
  {
   "cell_type": "code",
   "execution_count": 43,
   "metadata": {
    "scrolled": false
   },
   "outputs": [
    {
     "name": "stdout",
     "output_type": "stream",
     "text": [
      "Valores absolutos:\n",
      "\n",
      "| n_sessoes   |   1 |   2 |   3 |   4 |   5 |   6 |   7 |   9 |   11 |   All |\n",
      "|:------------|----:|----:|----:|----:|----:|----:|----:|----:|-----:|------:|\n",
      "| 1           | 211 |   4 |   0 |   0 |   0 |   0 |   0 |   0 |    0 |   215 |\n",
      "| 2           | 148 |   4 |   1 |   0 |   1 |   0 |   0 |   0 |    0 |   154 |\n",
      "| 3           |  89 |  10 |   0 |   1 |   0 |   0 |   0 |   0 |    1 |   101 |\n",
      "| 4           |  50 |   5 |   3 |   1 |   0 |   0 |   0 |   0 |    0 |    59 |\n",
      "| 5           |  45 |   4 |   1 |   0 |   0 |   0 |   0 |   0 |    0 |    50 |\n",
      "| 6           |  27 |   2 |   1 |   1 |   0 |   0 |   0 |   0 |    0 |    31 |\n",
      "| 7           |  11 |   2 |   0 |   0 |   2 |   0 |   0 |   0 |    0 |    15 |\n",
      "| 8           |  13 |   4 |   4 |   1 |   0 |   0 |   0 |   0 |    0 |    22 |\n",
      "| 9           |   7 |   2 |   2 |   1 |   0 |   0 |   0 |   0 |    0 |    12 |\n",
      "| 10          |   6 |   2 |   0 |   0 |   0 |   0 |   0 |   0 |    0 |     8 |\n",
      "| 11          |   3 |   0 |   1 |   0 |   0 |   0 |   0 |   0 |    0 |     4 |\n",
      "| 12          |   3 |   1 |   0 |   0 |   0 |   0 |   0 |   0 |    0 |     4 |\n",
      "| 13          |   1 |   0 |   0 |   0 |   0 |   0 |   0 |   0 |    0 |     1 |\n",
      "| 14          |   2 |   0 |   0 |   1 |   0 |   0 |   0 |   0 |    0 |     3 |\n",
      "| 15          |   2 |   2 |   0 |   1 |   0 |   0 |   1 |   0 |    0 |     6 |\n",
      "| 16          |   0 |   1 |   0 |   0 |   0 |   0 |   0 |   0 |    0 |     1 |\n",
      "| 17          |   0 |   0 |   1 |   0 |   0 |   0 |   0 |   0 |    0 |     1 |\n",
      "| 18          |   1 |   1 |   0 |   0 |   0 |   0 |   0 |   0 |    0 |     2 |\n",
      "| 19          |   0 |   2 |   0 |   1 |   0 |   0 |   0 |   0 |    0 |     3 |\n",
      "| 20          |   1 |   1 |   0 |   0 |   0 |   1 |   0 |   0 |    0 |     3 |\n",
      "| 23          |   0 |   0 |   1 |   0 |   0 |   0 |   0 |   0 |    0 |     1 |\n",
      "| 25          |   0 |   0 |   0 |   1 |   0 |   0 |   0 |   0 |    0 |     1 |\n",
      "| 36          |   0 |   0 |   0 |   0 |   0 |   0 |   0 |   1 |    0 |     1 |\n",
      "| 43          |   1 |   0 |   0 |   0 |   0 |   0 |   0 |   0 |    0 |     1 |\n",
      "| 101         |   0 |   0 |   0 |   1 |   0 |   0 |   0 |   0 |    0 |     1 |\n",
      "| 138         |   0 |   0 |   0 |   0 |   1 |   0 |   0 |   0 |    0 |     1 |\n",
      "| 157         |   1 |   0 |   0 |   0 |   0 |   0 |   0 |   0 |    0 |     1 |\n",
      "| All         | 622 |  47 |  15 |  10 |   4 |   1 |   1 |   1 |    1 |   702 |\n",
      "\n",
      "Porcentagem na linha:\n",
      "\n",
      "| n_sessoes   |    1 |    2 |    3 |    4 |    5 |    6 |    7 |   9 |   11 |   All |\n",
      "|:------------|-----:|-----:|-----:|-----:|-----:|-----:|-----:|----:|-----:|------:|\n",
      "| 1           | 0.98 | 0.02 | 0    | 0    | 0    | 0    | 0    |   0 | 0    |     1 |\n",
      "| 2           | 0.96 | 0.03 | 0.01 | 0    | 0.01 | 0    | 0    |   0 | 0    |     1 |\n",
      "| 3           | 0.88 | 0.1  | 0    | 0.01 | 0    | 0    | 0    |   0 | 0.01 |     1 |\n",
      "| 4           | 0.85 | 0.08 | 0.05 | 0.02 | 0    | 0    | 0    |   0 | 0    |     1 |\n",
      "| 5           | 0.9  | 0.08 | 0.02 | 0    | 0    | 0    | 0    |   0 | 0    |     1 |\n",
      "| 6           | 0.87 | 0.06 | 0.03 | 0.03 | 0    | 0    | 0    |   0 | 0    |     1 |\n",
      "| 7           | 0.73 | 0.13 | 0    | 0    | 0.13 | 0    | 0    |   0 | 0    |     1 |\n",
      "| 8           | 0.59 | 0.18 | 0.18 | 0.05 | 0    | 0    | 0    |   0 | 0    |     1 |\n",
      "| 9           | 0.58 | 0.17 | 0.17 | 0.08 | 0    | 0    | 0    |   0 | 0    |     1 |\n",
      "| 10          | 0.75 | 0.25 | 0    | 0    | 0    | 0    | 0    |   0 | 0    |     1 |\n",
      "| 11          | 0.75 | 0    | 0.25 | 0    | 0    | 0    | 0    |   0 | 0    |     1 |\n",
      "| 12          | 0.75 | 0.25 | 0    | 0    | 0    | 0    | 0    |   0 | 0    |     1 |\n",
      "| 13          | 1    | 0    | 0    | 0    | 0    | 0    | 0    |   0 | 0    |     1 |\n",
      "| 14          | 0.67 | 0    | 0    | 0.33 | 0    | 0    | 0    |   0 | 0    |     1 |\n",
      "| 15          | 0.33 | 0.33 | 0    | 0.17 | 0    | 0    | 0.17 |   0 | 0    |     1 |\n",
      "| 16          | 0    | 1    | 0    | 0    | 0    | 0    | 0    |   0 | 0    |     1 |\n",
      "| 17          | 0    | 0    | 1    | 0    | 0    | 0    | 0    |   0 | 0    |     1 |\n",
      "| 18          | 0.5  | 0.5  | 0    | 0    | 0    | 0    | 0    |   0 | 0    |     1 |\n",
      "| 19          | 0    | 0.67 | 0    | 0.33 | 0    | 0    | 0    |   0 | 0    |     1 |\n",
      "| 20          | 0.33 | 0.33 | 0    | 0    | 0    | 0.33 | 0    |   0 | 0    |     1 |\n",
      "| 23          | 0    | 0    | 1    | 0    | 0    | 0    | 0    |   0 | 0    |     1 |\n",
      "| 25          | 0    | 0    | 0    | 1    | 0    | 0    | 0    |   0 | 0    |     1 |\n",
      "| 36          | 0    | 0    | 0    | 0    | 0    | 0    | 0    |   1 | 0    |     1 |\n",
      "| 43          | 1    | 0    | 0    | 0    | 0    | 0    | 0    |   0 | 0    |     1 |\n",
      "| 101         | 0    | 0    | 0    | 1    | 0    | 0    | 0    |   0 | 0    |     1 |\n",
      "| 138         | 0    | 0    | 0    | 0    | 1    | 0    | 0    |   0 | 0    |     1 |\n",
      "| 157         | 1    | 0    | 0    | 0    | 0    | 0    | 0    |   0 | 0    |     1 |\n",
      "| All         | 0.89 | 0.07 | 0.02 | 0.01 | 0.01 | 0    | 0    |   0 | 0    |     1 |\n",
      "\n",
      "Porcentagem na coluna:\n",
      "\n",
      "| n_sessoes   |    1 |    2 |    3 |   4 |    5 |   6 |   7 |   9 |   11 |   All |\n",
      "|:------------|-----:|-----:|-----:|----:|-----:|----:|----:|----:|-----:|------:|\n",
      "| 1           | 0.34 | 0.09 | 0    | 0   | 0    |   0 |   0 |   0 |    0 |  0.31 |\n",
      "| 2           | 0.24 | 0.09 | 0.07 | 0   | 0.25 |   0 |   0 |   0 |    0 |  0.22 |\n",
      "| 3           | 0.14 | 0.21 | 0    | 0.1 | 0    |   0 |   0 |   0 |    1 |  0.14 |\n",
      "| 4           | 0.08 | 0.11 | 0.2  | 0.1 | 0    |   0 |   0 |   0 |    0 |  0.08 |\n",
      "| 5           | 0.07 | 0.09 | 0.07 | 0   | 0    |   0 |   0 |   0 |    0 |  0.07 |\n",
      "| 6           | 0.04 | 0.04 | 0.07 | 0.1 | 0    |   0 |   0 |   0 |    0 |  0.04 |\n",
      "| 7           | 0.02 | 0.04 | 0    | 0   | 0.5  |   0 |   0 |   0 |    0 |  0.02 |\n",
      "| 8           | 0.02 | 0.09 | 0.27 | 0.1 | 0    |   0 |   0 |   0 |    0 |  0.03 |\n",
      "| 9           | 0.01 | 0.04 | 0.13 | 0.1 | 0    |   0 |   0 |   0 |    0 |  0.02 |\n",
      "| 10          | 0.01 | 0.04 | 0    | 0   | 0    |   0 |   0 |   0 |    0 |  0.01 |\n",
      "| 11          | 0    | 0    | 0.07 | 0   | 0    |   0 |   0 |   0 |    0 |  0.01 |\n",
      "| 12          | 0    | 0.02 | 0    | 0   | 0    |   0 |   0 |   0 |    0 |  0.01 |\n",
      "| 13          | 0    | 0    | 0    | 0   | 0    |   0 |   0 |   0 |    0 |  0    |\n",
      "| 14          | 0    | 0    | 0    | 0.1 | 0    |   0 |   0 |   0 |    0 |  0    |\n",
      "| 15          | 0    | 0.04 | 0    | 0.1 | 0    |   0 |   1 |   0 |    0 |  0.01 |\n",
      "| 16          | 0    | 0.02 | 0    | 0   | 0    |   0 |   0 |   0 |    0 |  0    |\n",
      "| 17          | 0    | 0    | 0.07 | 0   | 0    |   0 |   0 |   0 |    0 |  0    |\n",
      "| 18          | 0    | 0.02 | 0    | 0   | 0    |   0 |   0 |   0 |    0 |  0    |\n",
      "| 19          | 0    | 0.04 | 0    | 0.1 | 0    |   0 |   0 |   0 |    0 |  0    |\n",
      "| 20          | 0    | 0.02 | 0    | 0   | 0    |   1 |   0 |   0 |    0 |  0    |\n",
      "| 23          | 0    | 0    | 0.07 | 0   | 0    |   0 |   0 |   0 |    0 |  0    |\n",
      "| 25          | 0    | 0    | 0    | 0.1 | 0    |   0 |   0 |   0 |    0 |  0    |\n",
      "| 36          | 0    | 0    | 0    | 0   | 0    |   0 |   0 |   1 |    0 |  0    |\n",
      "| 43          | 0    | 0    | 0    | 0   | 0    |   0 |   0 |   0 |    0 |  0    |\n",
      "| 101         | 0    | 0    | 0    | 0.1 | 0    |   0 |   0 |   0 |    0 |  0    |\n",
      "| 138         | 0    | 0    | 0    | 0   | 0.25 |   0 |   0 |   0 |    0 |  0    |\n",
      "| 157         | 0    | 0    | 0    | 0   | 0    |   0 |   0 |   0 |    0 |  0    |\n",
      "| All         | 1    | 1    | 1    | 1   | 1    |   1 |   1 |   1 |    1 |  1    |\n"
     ]
    }
   ],
   "source": [
    "tabcont_2var(df['n_sessoes'], df['qtde_transacoes'])"
   ]
  },
  {
   "cell_type": "markdown",
   "metadata": {},
   "source": [
    "Esse cruzamento é bastanta semelhante ao anterior. Observamos que a maioria dos clientes realizaram apenas uma transação e tiveram apenas 1 sessão. O que podemos fazer para reter esses clientes? Talvez mais propagandas personalizadas e cupons únicos sejam uma boa maneira."
   ]
  },
  {
   "cell_type": "markdown",
   "metadata": {},
   "source": [
    "### 5.3. n_sessoes x soma_receitas <a name=\"abid_3\">"
   ]
  },
  {
   "cell_type": "markdown",
   "metadata": {},
   "source": [
    "Como soma_receitas é uma variável contínua, é melhor avaliá-la a partir de um gráfico do que uma tabela de frequência. Segue abaixo:"
   ]
  },
  {
   "cell_type": "code",
   "execution_count": 44,
   "metadata": {},
   "outputs": [
    {
     "data": {
      "image/png": "[encoded data removed]",
      "text/plain": [
       "<Figure size 720x432 with 1 Axes>"
      ]
     },
     "metadata": {
      "needs_background": "light"
     },
     "output_type": "display_data"
    }
   ],
   "source": [
    "plt.figure(figsize = (10,6))\n",
    "plt.scatter(df['n_sessoes'], df['soma_receitas'])\n",
    "plt.ylabel('Soma das receitas')\n",
    "plt.xlabel('Número de sessões')\n",
    "plt.title('Número de sessões x Soma das receitas')\n",
    "plt.show()"
   ]
  },
  {
   "cell_type": "markdown",
   "metadata": {},
   "source": [
    "* É possível observar que a maioria dos clientes possui uma soma de receita abaixo de 700 e um número de sessões abaixo de 10. Predominantemente os clientes visitam pouco os sites de compra e compram valores baixos. \n",
    "* Podemos ver alguns clientes com um número alto de sessões e uma soma relativamente baixa para o número de sessões, algumas pessoas podem ser muito indecisas."
   ]
  },
  {
   "cell_type": "markdown",
   "metadata": {},
   "source": [
    "### 5.4. n_sessoes x media_receitas_transacao <a name=\"abid_4\">"
   ]
  },
  {
   "cell_type": "code",
   "execution_count": 45,
   "metadata": {},
   "outputs": [
    {
     "data": {
      "image/png": "[encoded data removed]",
      "text/plain": [
       "<Figure size 720x432 with 1 Axes>"
      ]
     },
     "metadata": {
      "needs_background": "light"
     },
     "output_type": "display_data"
    }
   ],
   "source": [
    "plt.figure(figsize = (10,6))\n",
    "plt.scatter(df['n_sessoes'], df['media_receitas_transacao'])\n",
    "plt.ylabel('Média das receitas por transação')\n",
    "plt.xlabel('Número de sessões')\n",
    "plt.title('Número de sessões x Média das receitas por transação')\n",
    "plt.show()"
   ]
  },
  {
   "cell_type": "markdown",
   "metadata": {},
   "source": [
    "* Semelhante a variável anterior, a maioria dos clientes se concentra na parte inferior esquerda do gráfico, tendo uma média e um número de sessões baixos. \n",
    "* Podemos ver também que poucos clientes possuem um número alto de sessões, mas ainda sim, suas médias de receitas são baixas."
   ]
  },
  {
   "cell_type": "markdown",
   "metadata": {},
   "source": [
    "## 6. Modelagem <a name=\"mod\">"
   ]
  },
  {
   "cell_type": "markdown",
   "metadata": {},
   "source": [
    "Para estes dados, vou fazer uma modelagem em K-Means, inicialmente, utilizando as seguintes variáveis:\n",
    "* n_sessoes\n",
    "* sessoes_conversoras\n",
    "* qtde_transacoes\n",
    "* soma_receitas\n",
    "* media_receitas_transacao\n",
    "* mes_ultima_transacao\n",
    "\n",
    "Apesar de algumas variáveis terem forte correlação, vou utilizá-las na modelagem para ver seus comportamentos e ver o resultado."
   ]
  },
  {
   "cell_type": "markdown",
   "metadata": {},
   "source": [
    "### 6.1. Padronização <a name=\"mod_1\">"
   ]
  },
  {
   "cell_type": "code",
   "execution_count": 46,
   "metadata": {},
   "outputs": [],
   "source": [
    "from sklearn.preprocessing import StandardScaler"
   ]
  },
  {
   "cell_type": "code",
   "execution_count": 47,
   "metadata": {},
   "outputs": [],
   "source": [
    "colunas_kmeans = df.loc[:, ['n_sessoes', 'sessoes_conversoras', 'qtde_transacoes', 'soma_receitas', 'media_receitas_transacao', 'mes_ultima_transacao']]"
   ]
  },
  {
   "cell_type": "code",
   "execution_count": 48,
   "metadata": {},
   "outputs": [
    {
     "data": {
      "text/plain": [
       "array([[ 1.15724692,  9.55022033,  7.1988984 , 15.19159619,  3.94615578,\n",
       "         0.05934184],\n",
       "       [ 0.41066541,  3.00469466,  2.21995586,  8.506506  ,  5.43038023,\n",
       "        -1.37713996],\n",
       "       [ 3.39699144, 11.18660175,  9.68836968,  8.20456903,  1.62279601,\n",
       "        -0.80254724],\n",
       "       [-0.0159526 ,  1.36831324,  0.97522023,  6.92251382,  6.81711548,\n",
       "         0.05934184],\n",
       "       [ 0.41066541,  1.36831324,  0.97522023,  5.54230599,  5.42438705,\n",
       "        -0.80254724]])"
      ]
     },
     "execution_count": 48,
     "metadata": {},
     "output_type": "execute_result"
    }
   ],
   "source": [
    "sc = StandardScaler()\n",
    "df_padronizado = sc.fit_transform(colunas_kmeans)\n",
    "df_padronizado[:5]"
   ]
  },
  {
   "cell_type": "markdown",
   "metadata": {},
   "source": [
    "### 6.2. Método do cotovelo <a name=\"mod_2\">\n",
    "Utilizarei K-Means++ para evitar viés de inicialização na seleção dos centroides dos clusters"
   ]
  },
  {
   "cell_type": "code",
   "execution_count": 49,
   "metadata": {
    "scrolled": true
   },
   "outputs": [
    {
     "data": {
      "image/png": "[encoded data removed]",
      "text/plain": [
       "<Figure size 432x288 with 1 Axes>"
      ]
     },
     "metadata": {
      "needs_background": "light"
     },
     "output_type": "display_data"
    }
   ],
   "source": [
    "from sklearn.cluster import KMeans\n",
    "\n",
    "wcss = []\n",
    "k_range = range(1,16) #Vou testar 15 k's\n",
    "\n",
    "for k in k_range: # \n",
    "    kmeans = KMeans(n_clusters = k, init = 'k-means++', random_state = 42)\n",
    "    kmeans.fit(df_padronizado)\n",
    "    wcss.append(kmeans.inertia_)\n",
    "\n",
    "#plt.style.use(\"fivethirtyeight\")\n",
    "plt.plot(k_range, wcss)\n",
    "plt.ylabel('WCSS')\n",
    "plt.xlabel('Número de clusters')\n",
    "plt.title('Método do cotovelo')\n",
    "plt.show()"
   ]
  },
  {
   "cell_type": "code",
   "execution_count": 50,
   "metadata": {},
   "outputs": [
    {
     "name": "stdout",
     "output_type": "stream",
     "text": [
      "Número ideal de clusters através do método do cotovelo: 6\n"
     ]
    }
   ],
   "source": [
    "from kneed import KneeLocator\n",
    "kl = KneeLocator(k_range, wcss, curve=\"convex\", direction=\"decreasing\")\n",
    "print(f'Número ideal de clusters através do método do cotovelo: {kl.elbow}')"
   ]
  },
  {
   "cell_type": "markdown",
   "metadata": {},
   "source": [
    "É possível observar acima que a forma do cotovelo é criada com 6 clusters, um número relativamente alto para o número de observações dos dados."
   ]
  },
  {
   "cell_type": "markdown",
   "metadata": {},
   "source": [
    "### 6.3. Score da Silhueta <a name=\"mod_3\">"
   ]
  },
  {
   "cell_type": "code",
   "execution_count": 51,
   "metadata": {},
   "outputs": [],
   "source": [
    "from sklearn.metrics import silhouette_score\n",
    "\n",
    "silhouette_coefficients = []\n",
    "\n",
    "for k in range(2, 16): # Precisa iniciar em 2 clusters senão retorna erro\n",
    "    kmeans = KMeans(n_clusters=k, init = 'k-means++', random_state = 42)\n",
    "    kmeans.fit(df_padronizado)\n",
    "    score = silhouette_score(df_padronizado, kmeans.labels_)\n",
    "    silhouette_coefficients.append(score)"
   ]
  },
  {
   "cell_type": "code",
   "execution_count": 52,
   "metadata": {},
   "outputs": [
    {
     "data": {
      "image/png": "[encoded data removed]",
      "text/plain": [
       "<Figure size 432x288 with 1 Axes>"
      ]
     },
     "metadata": {
      "needs_background": "light"
     },
     "output_type": "display_data"
    }
   ],
   "source": [
    "#plt.style.use(\"fivethirtyeight\")\n",
    "plt.plot(range(2, 16), silhouette_coefficients)\n",
    "plt.xticks(range(2, 16))\n",
    "plt.xlabel(\"Número de Clusters\")\n",
    "plt.ylabel(\"Coeficiente da Silhueta\")\n",
    "plt.show()"
   ]
  },
  {
   "cell_type": "markdown",
   "metadata": {},
   "source": [
    "Ao contrário do método do cotovelo, o score da silhueta é maior quando se tem apenas 2 clusters ao invés de 6. Isso indica que, com 2 clusters, os pontos estão mais próximos dos pontos do seu próprio cluster do que de outros clusters.\n",
    "\n",
    "Com isso em mente, vou fazer 2 modelos, com 6 e 2 clusters para avaliar qual é o melhor."
   ]
  },
  {
   "cell_type": "markdown",
   "metadata": {},
   "source": [
    "### 6.4. Modelo com 6 clusters (cotovelo) <a name=\"mod_4\">"
   ]
  },
  {
   "cell_type": "code",
   "execution_count": 53,
   "metadata": {},
   "outputs": [
    {
     "data": {
      "text/plain": [
       "array([2, 4, 2, 4, 4, 5, 3, 4, 3, 3])"
      ]
     },
     "execution_count": 53,
     "metadata": {},
     "output_type": "execute_result"
    }
   ],
   "source": [
    "kmeans = KMeans(n_clusters = kl.elbow, init = 'k-means++', random_state = 42)\n",
    "k6 = kmeans.fit_predict(df_padronizado)\n",
    "\n",
    "k6[:10]"
   ]
  },
  {
   "cell_type": "code",
   "execution_count": 54,
   "metadata": {},
   "outputs": [
    {
     "data": {
      "text/html": [
       "<div>\n",
       "<style scoped>\n",
       "    .dataframe tbody tr th:only-of-type {\n",
       "        vertical-align: middle;\n",
       "    }\n",
       "\n",
       "    .dataframe tbody tr th {\n",
       "        vertical-align: top;\n",
       "    }\n",
       "\n",
       "    .dataframe thead th {\n",
       "        text-align: right;\n",
       "    }\n",
       "</style>\n",
       "<table border=\"1\" class=\"dataframe\">\n",
       "  <thead>\n",
       "    <tr style=\"text-align: right;\">\n",
       "      <th></th>\n",
       "      <th>ID_usuario</th>\n",
       "      <th>n_sessoes</th>\n",
       "      <th>sessoes_conversoras</th>\n",
       "      <th>qtde_transacoes</th>\n",
       "      <th>soma_receitas</th>\n",
       "      <th>media_receitas_transacao</th>\n",
       "      <th>data_ultima_transacao</th>\n",
       "      <th>soma_receitas_cat</th>\n",
       "      <th>media_receitas_transacao_cat</th>\n",
       "      <th>mes_ultima_transacao</th>\n",
       "      <th>dia_ultima_transacao</th>\n",
       "      <th>k6</th>\n",
       "    </tr>\n",
       "  </thead>\n",
       "  <tbody>\n",
       "    <tr>\n",
       "      <th>0</th>\n",
       "      <td>1814166460229302850</td>\n",
       "      <td>15</td>\n",
       "      <td>7</td>\n",
       "      <td>7</td>\n",
       "      <td>7073.51</td>\n",
       "      <td>1010.50</td>\n",
       "      <td>2017-07-31</td>\n",
       "      <td>(125.303, 7073.51]</td>\n",
       "      <td>(112.018, 2147.48]</td>\n",
       "      <td>7</td>\n",
       "      <td>31</td>\n",
       "      <td>3</td>\n",
       "    </tr>\n",
       "    <tr>\n",
       "      <th>1</th>\n",
       "      <td>3835134197841326255</td>\n",
       "      <td>8</td>\n",
       "      <td>3</td>\n",
       "      <td>3</td>\n",
       "      <td>4034.48</td>\n",
       "      <td>1344.83</td>\n",
       "      <td>2017-02-21</td>\n",
       "      <td>(125.303, 7073.51]</td>\n",
       "      <td>(112.018, 2147.48]</td>\n",
       "      <td>2</td>\n",
       "      <td>21</td>\n",
       "      <td>5</td>\n",
       "    </tr>\n",
       "    <tr>\n",
       "      <th>2</th>\n",
       "      <td>2904329822175970539</td>\n",
       "      <td>36</td>\n",
       "      <td>8</td>\n",
       "      <td>9</td>\n",
       "      <td>3897.22</td>\n",
       "      <td>487.15</td>\n",
       "      <td>2018-04-06</td>\n",
       "      <td>(125.303, 7073.51]</td>\n",
       "      <td>(112.018, 2147.48]</td>\n",
       "      <td>4</td>\n",
       "      <td>6</td>\n",
       "      <td>3</td>\n",
       "    </tr>\n",
       "    <tr>\n",
       "      <th>3</th>\n",
       "      <td>6052206455243513477</td>\n",
       "      <td>4</td>\n",
       "      <td>2</td>\n",
       "      <td>2</td>\n",
       "      <td>3314.40</td>\n",
       "      <td>1657.20</td>\n",
       "      <td>2017-07-25</td>\n",
       "      <td>(125.303, 7073.51]</td>\n",
       "      <td>(112.018, 2147.48]</td>\n",
       "      <td>7</td>\n",
       "      <td>25</td>\n",
       "      <td>5</td>\n",
       "    </tr>\n",
       "    <tr>\n",
       "      <th>4</th>\n",
       "      <td>2969957690756250633</td>\n",
       "      <td>8</td>\n",
       "      <td>2</td>\n",
       "      <td>2</td>\n",
       "      <td>2686.96</td>\n",
       "      <td>1343.48</td>\n",
       "      <td>2017-04-26</td>\n",
       "      <td>(125.303, 7073.51]</td>\n",
       "      <td>(112.018, 2147.48]</td>\n",
       "      <td>4</td>\n",
       "      <td>26</td>\n",
       "      <td>5</td>\n",
       "    </tr>\n",
       "  </tbody>\n",
       "</table>\n",
       "</div>"
      ],
      "text/plain": [
       "            ID_usuario  n_sessoes  sessoes_conversoras  qtde_transacoes  \\\n",
       "0  1814166460229302850         15                    7                7   \n",
       "1  3835134197841326255          8                    3                3   \n",
       "2  2904329822175970539         36                    8                9   \n",
       "3  6052206455243513477          4                    2                2   \n",
       "4  2969957690756250633          8                    2                2   \n",
       "\n",
       "   soma_receitas  media_receitas_transacao data_ultima_transacao  \\\n",
       "0        7073.51                   1010.50            2017-07-31   \n",
       "1        4034.48                   1344.83            2017-02-21   \n",
       "2        3897.22                    487.15            2018-04-06   \n",
       "3        3314.40                   1657.20            2017-07-25   \n",
       "4        2686.96                   1343.48            2017-04-26   \n",
       "\n",
       "    soma_receitas_cat media_receitas_transacao_cat  mes_ultima_transacao  \\\n",
       "0  (125.303, 7073.51]           (112.018, 2147.48]                     7   \n",
       "1  (125.303, 7073.51]           (112.018, 2147.48]                     2   \n",
       "2  (125.303, 7073.51]           (112.018, 2147.48]                     4   \n",
       "3  (125.303, 7073.51]           (112.018, 2147.48]                     7   \n",
       "4  (125.303, 7073.51]           (112.018, 2147.48]                     4   \n",
       "\n",
       "   dia_ultima_transacao  k6  \n",
       "0                    31   3  \n",
       "1                    21   5  \n",
       "2                     6   3  \n",
       "3                    25   5  \n",
       "4                    26   5  "
      ]
     },
     "execution_count": 54,
     "metadata": {},
     "output_type": "execute_result"
    }
   ],
   "source": [
    "df['k6'] = k6 + 1 # para nao ter grupo 0\n",
    "df.head()"
   ]
  },
  {
   "cell_type": "code",
   "execution_count": 55,
   "metadata": {},
   "outputs": [
    {
     "name": "stdout",
     "output_type": "stream",
     "text": [
      "Valores absolutos\n",
      "|    |   k6 |\n",
      "|---:|-----:|\n",
      "|  1 |  355 |\n",
      "|  2 |  300 |\n",
      "|  3 |    2 |\n",
      "|  4 |   27 |\n",
      "|  5 |   15 |\n",
      "|  6 |    3 |\n",
      "\n",
      "\n",
      "Proporção\n",
      "|    |       k6 |\n",
      "|---:|---------:|\n",
      "|  1 | 50.5698  |\n",
      "|  2 | 42.735   |\n",
      "|  3 |  0.2849  |\n",
      "|  4 |  3.84615 |\n",
      "|  5 |  2.13675 |\n",
      "|  6 |  0.42735 |\n"
     ]
    }
   ],
   "source": [
    "tabcont_1var(df, 'k6')"
   ]
  },
  {
   "cell_type": "markdown",
   "metadata": {},
   "source": [
    "É possível observar que os grupos não estão distribuídos uniformemente. O grupo 1 e 2 possuem a maioria dos clientes, totalizando 655 deles. Os outros 47 clientes estão distribuídos nos grupos 3, 4, 5 e 6.\n",
    "\n",
    "Vamos agora ao entendimento dos grupos:"
   ]
  },
  {
   "cell_type": "code",
   "execution_count": 67,
   "metadata": {},
   "outputs": [
    {
     "data": {
      "image/png": "[encoded data removed]",
      "text/plain": [
       "<Figure size 1296x864 with 6 Axes>"
      ]
     },
     "metadata": {
      "needs_background": "light"
     },
     "output_type": "display_data"
    }
   ],
   "source": [
    "fig, ax = plt.subplots(nrows = 2, ncols = 3, figsize = (18,12))\n",
    "\n",
    "sns.boxplot(x = 'k6', y = 'n_sessoes', data = df, ax = ax[0,0])\n",
    "sns.boxplot(x = 'k6', y = 'sessoes_conversoras', data = df, ax = ax[0,1])\n",
    "sns.boxplot(x = 'k6', y = 'qtde_transacoes', data = df, ax = ax[0,2])\n",
    "sns.boxplot(x = 'k6', y = 'soma_receitas', data = df, ax = ax[1,0])\n",
    "sns.boxplot(x = 'k6', y = 'media_receitas_transacao', data = df, ax = ax[1,1])\n",
    "sns.boxplot(x = 'k6', y = 'mes_ultima_transacao', data = df, ax = ax[1,2])\n",
    "\n",
    "plt.show()"
   ]
  },
  {
   "cell_type": "markdown",
   "metadata": {},
   "source": [
    "Interpretações sobre os grupos formados:\n",
    "* Grupo 1 - 355 clientes — **Decididos de fim de ano.** Visitam pouco, compram pouco e de baixo valor e aparecem mais no fim do ano.\n",
    "    - Número de sessões entre 1 e 20 - Baixo; \n",
    "    - apenas 1 ou 2 sessões conversoras - Baixo; \n",
    "    - 1 ou 2 transações - Baixo; \n",
    "    - soma das receitas entre 0 e ~800 - Baixo; \n",
    "    - média das receitas até ~650 - Baixo e; \n",
    "    - compras mais para o fim do ano, entre os meses 7 e 12;\n",
    "    \n",
    "    \n",
    "* Grupo 2 - 300 clientes — **Decididos do início ao meio do ano.** Visitam pouco, compram pouco e de baixo valor e aparecem mais no fim do ano.: \n",
    "    - Semelhante ao grupo 1, porém a compra ocorre entre os meses 1 e 6.\n",
    "    \n",
    "    \n",
    "* Grupo 3 - 2 clientes — **Muitas compras em muitas sessões com número médio de visitas** Número médio de visitas porém alta conversão. Alta quantidade de transações e receita alta: \n",
    "    - Número de sessões em torno de 30 - Segundo mais alto; \n",
    "    - sessões conversoras entre 7 e 8 - O mais alto; \n",
    "    - em torno de 8 transações - O mais alto;\n",
    "    - soma das receitas mais alta, por volta de 5500; \n",
    "    - média das receitas por volta de 700 e; \n",
    "    - compras em torno do meio do ano, mês 6.\n",
    "    \n",
    "    \n",
    "* Grupo 4 - 27 clientes — **Visitam pouco mas convertem bem, porém com receita mais baixa que os grupos 4 e 5. Compram ao longo do ano**: \n",
    "    - Sessões entre 1 e 25 - Mais baixo que o grupo 3 e mais alto que 1 e 2; \n",
    "    - sessões conversoras entre 1 e 4 - Conversão na média;\n",
    "    - transações entre 3 e 6 - Aparenta que sempre que convertem realizam apenas 1 transação;\n",
    "    - soma de receitas entre ~1 e ~2200 - Maior que 1 e 2 e menor que 3;\n",
    "    - media de receitas entre ~1 e 700 e - Maior que 1 e 2 e menor que 3;\n",
    "    - compras distribuídas ao longo do ano, podendo ir do mês 2 ao 12.\n",
    "    \n",
    "    \n",
    "* Grupo 5 - 15 clientes **Poucas conversões porém valor de compra alto**:\n",
    "    - Número de sessões até 20;\n",
    "    - sessões conversoras em torno de 1, porém vão até 3;\n",
    "    - quantidade de transações até 3;\n",
    "    - soma de receitas de 1000 a 4000;\n",
    "    - Maior média de receitas - provavelmente por conta de compras de alto valor com apenas 1 transação e;\n",
    "    - Compras ao longo do ano todo.\n",
    "    \n",
    "    \n",
    "* Grupo 6 - 3 clientes **Indecisos. Muitas visitas para poucas conversões**:\n",
    "    - Número de sessões entre 100 e 160;\n",
    "    - conversões entre 1 e 5;\n",
    "    - transações entre 1 e 5; \n",
    "    - soma das receitas até ~2200;\n",
    "    - média de receitas até 500;\n",
    "    - compras entre mês 2 e 10."
   ]
  },
  {
   "cell_type": "markdown",
   "metadata": {},
   "source": [
    "#### Possibilidade de campanha <a name=\"mod_4_1\">\n",
    "\n",
    "Com a demonstração dos grupos acima, acredito que os melhores alvos para uma primeira campanha seriam os grupos 1 e 2 que, além de possuir o maior número de clientes, convertem pouco e normalmente não visitam mais o e-commerce.\n",
    "\n",
    "A ideia seria realizar uma campanha de marketing para reter estes clientes e torná-los recorrentes, comprando mais de uma vez e visitando mais o e-commerce ao longo do ano. Pode-se, também, levar em conta a sazonalidade destes grupos. O grupo 1 compra mais no fim do ano e o 2 mais no início. A ideia seria fazê-los comprar ao longo do ano todo."
   ]
  },
  {
   "cell_type": "markdown",
   "metadata": {},
   "source": [
    "### 6.5. Modelo com 2 clusters (silhueta) <a name=\"mod_5\">"
   ]
  },
  {
   "cell_type": "code",
   "execution_count": 57,
   "metadata": {},
   "outputs": [
    {
     "data": {
      "text/plain": [
       "array([1, 1, 1, 1, 1, 1, 1, 1, 1, 1])"
      ]
     },
     "execution_count": 57,
     "metadata": {},
     "output_type": "execute_result"
    }
   ],
   "source": [
    "kmeans = KMeans(n_clusters = 2, init = 'k-means++', random_state = 42)\n",
    "k2 = kmeans.fit_predict(df_padronizado)\n",
    "\n",
    "k2[:10]"
   ]
  },
  {
   "cell_type": "code",
   "execution_count": 58,
   "metadata": {},
   "outputs": [
    {
     "data": {
      "text/html": [
       "<div>\n",
       "<style scoped>\n",
       "    .dataframe tbody tr th:only-of-type {\n",
       "        vertical-align: middle;\n",
       "    }\n",
       "\n",
       "    .dataframe tbody tr th {\n",
       "        vertical-align: top;\n",
       "    }\n",
       "\n",
       "    .dataframe thead th {\n",
       "        text-align: right;\n",
       "    }\n",
       "</style>\n",
       "<table border=\"1\" class=\"dataframe\">\n",
       "  <thead>\n",
       "    <tr style=\"text-align: right;\">\n",
       "      <th></th>\n",
       "      <th>ID_usuario</th>\n",
       "      <th>n_sessoes</th>\n",
       "      <th>sessoes_conversoras</th>\n",
       "      <th>qtde_transacoes</th>\n",
       "      <th>soma_receitas</th>\n",
       "      <th>media_receitas_transacao</th>\n",
       "      <th>data_ultima_transacao</th>\n",
       "      <th>soma_receitas_cat</th>\n",
       "      <th>media_receitas_transacao_cat</th>\n",
       "      <th>mes_ultima_transacao</th>\n",
       "      <th>dia_ultima_transacao</th>\n",
       "      <th>k6</th>\n",
       "      <th>k2</th>\n",
       "    </tr>\n",
       "  </thead>\n",
       "  <tbody>\n",
       "    <tr>\n",
       "      <th>0</th>\n",
       "      <td>1814166460229302850</td>\n",
       "      <td>15</td>\n",
       "      <td>7</td>\n",
       "      <td>7</td>\n",
       "      <td>7073.51</td>\n",
       "      <td>1010.50</td>\n",
       "      <td>2017-07-31</td>\n",
       "      <td>(125.303, 7073.51]</td>\n",
       "      <td>(112.018, 2147.48]</td>\n",
       "      <td>7</td>\n",
       "      <td>31</td>\n",
       "      <td>3</td>\n",
       "      <td>2</td>\n",
       "    </tr>\n",
       "    <tr>\n",
       "      <th>1</th>\n",
       "      <td>3835134197841326255</td>\n",
       "      <td>8</td>\n",
       "      <td>3</td>\n",
       "      <td>3</td>\n",
       "      <td>4034.48</td>\n",
       "      <td>1344.83</td>\n",
       "      <td>2017-02-21</td>\n",
       "      <td>(125.303, 7073.51]</td>\n",
       "      <td>(112.018, 2147.48]</td>\n",
       "      <td>2</td>\n",
       "      <td>21</td>\n",
       "      <td>5</td>\n",
       "      <td>2</td>\n",
       "    </tr>\n",
       "    <tr>\n",
       "      <th>2</th>\n",
       "      <td>2904329822175970539</td>\n",
       "      <td>36</td>\n",
       "      <td>8</td>\n",
       "      <td>9</td>\n",
       "      <td>3897.22</td>\n",
       "      <td>487.15</td>\n",
       "      <td>2018-04-06</td>\n",
       "      <td>(125.303, 7073.51]</td>\n",
       "      <td>(112.018, 2147.48]</td>\n",
       "      <td>4</td>\n",
       "      <td>6</td>\n",
       "      <td>3</td>\n",
       "      <td>2</td>\n",
       "    </tr>\n",
       "    <tr>\n",
       "      <th>3</th>\n",
       "      <td>6052206455243513477</td>\n",
       "      <td>4</td>\n",
       "      <td>2</td>\n",
       "      <td>2</td>\n",
       "      <td>3314.40</td>\n",
       "      <td>1657.20</td>\n",
       "      <td>2017-07-25</td>\n",
       "      <td>(125.303, 7073.51]</td>\n",
       "      <td>(112.018, 2147.48]</td>\n",
       "      <td>7</td>\n",
       "      <td>25</td>\n",
       "      <td>5</td>\n",
       "      <td>2</td>\n",
       "    </tr>\n",
       "    <tr>\n",
       "      <th>4</th>\n",
       "      <td>2969957690756250633</td>\n",
       "      <td>8</td>\n",
       "      <td>2</td>\n",
       "      <td>2</td>\n",
       "      <td>2686.96</td>\n",
       "      <td>1343.48</td>\n",
       "      <td>2017-04-26</td>\n",
       "      <td>(125.303, 7073.51]</td>\n",
       "      <td>(112.018, 2147.48]</td>\n",
       "      <td>4</td>\n",
       "      <td>26</td>\n",
       "      <td>5</td>\n",
       "      <td>2</td>\n",
       "    </tr>\n",
       "  </tbody>\n",
       "</table>\n",
       "</div>"
      ],
      "text/plain": [
       "            ID_usuario  n_sessoes  sessoes_conversoras  qtde_transacoes  \\\n",
       "0  1814166460229302850         15                    7                7   \n",
       "1  3835134197841326255          8                    3                3   \n",
       "2  2904329822175970539         36                    8                9   \n",
       "3  6052206455243513477          4                    2                2   \n",
       "4  2969957690756250633          8                    2                2   \n",
       "\n",
       "   soma_receitas  media_receitas_transacao data_ultima_transacao  \\\n",
       "0        7073.51                   1010.50            2017-07-31   \n",
       "1        4034.48                   1344.83            2017-02-21   \n",
       "2        3897.22                    487.15            2018-04-06   \n",
       "3        3314.40                   1657.20            2017-07-25   \n",
       "4        2686.96                   1343.48            2017-04-26   \n",
       "\n",
       "    soma_receitas_cat media_receitas_transacao_cat  mes_ultima_transacao  \\\n",
       "0  (125.303, 7073.51]           (112.018, 2147.48]                     7   \n",
       "1  (125.303, 7073.51]           (112.018, 2147.48]                     2   \n",
       "2  (125.303, 7073.51]           (112.018, 2147.48]                     4   \n",
       "3  (125.303, 7073.51]           (112.018, 2147.48]                     7   \n",
       "4  (125.303, 7073.51]           (112.018, 2147.48]                     4   \n",
       "\n",
       "   dia_ultima_transacao  k6  k2  \n",
       "0                    31   3   2  \n",
       "1                    21   5   2  \n",
       "2                     6   3   2  \n",
       "3                    25   5   2  \n",
       "4                    26   5   2  "
      ]
     },
     "execution_count": 58,
     "metadata": {},
     "output_type": "execute_result"
    }
   ],
   "source": [
    "df['k2'] = k2 + 1 # para nao ter grupo 0\n",
    "df.head()"
   ]
  },
  {
   "cell_type": "code",
   "execution_count": 59,
   "metadata": {},
   "outputs": [
    {
     "name": "stdout",
     "output_type": "stream",
     "text": [
      "Valores absolutos\n",
      "|    |   k2 |\n",
      "|---:|-----:|\n",
      "|  1 |  671 |\n",
      "|  2 |   31 |\n",
      "\n",
      "\n",
      "Proporção\n",
      "|    |       k2 |\n",
      "|---:|---------:|\n",
      "|  1 | 95.584   |\n",
      "|  2 |  4.41595 |\n"
     ]
    }
   ],
   "source": [
    "tabcont_1var(df, 'k2')"
   ]
  },
  {
   "cell_type": "markdown",
   "metadata": {},
   "source": [
    "O grupo 1 corresponde a 95,6% da base enquanto o grupo 2 apenas 4,4%"
   ]
  },
  {
   "cell_type": "code",
   "execution_count": 65,
   "metadata": {},
   "outputs": [
    {
     "data": {
      "image/png": "[encoded data removed]",
      "text/plain": [
       "<Figure size 1296x864 with 6 Axes>"
      ]
     },
     "metadata": {
      "needs_background": "light"
     },
     "output_type": "display_data"
    }
   ],
   "source": [
    "fig, ax = plt.subplots(nrows = 2, ncols = 3, figsize = (18,12))\n",
    "\n",
    "sns.boxplot(x = 'k2', y = 'n_sessoes', data = df, ax = ax[0,0])\n",
    "sns.boxplot(x = 'k2', y = 'sessoes_conversoras', data = df, ax = ax[0,1])\n",
    "sns.boxplot(x = 'k2', y = 'qtde_transacoes', data = df, ax = ax[0,2])\n",
    "sns.boxplot(x = 'k2', y = 'soma_receitas', data = df, ax = ax[1,0])\n",
    "sns.boxplot(x = 'k2', y = 'media_receitas_transacao', data = df, ax = ax[1,1])\n",
    "sns.boxplot(x = 'k2', y = 'mes_ultima_transacao', data = df, ax = ax[1,2])\n",
    "\n",
    "plt.show()"
   ]
  },
  {
   "cell_type": "markdown",
   "metadata": {},
   "source": [
    "Interpretação sobre os grupos\n",
    "* Grupo 1: **Decididos: compram com poucas sessões e produtos de baixo valor**\n",
    "    - Baixo número de sessões, 1 até ~45;\n",
    "    - até 3 sessões conversoras;\n",
    "    - até 4 transações;\n",
    "    - soma das receitas até 1000;\n",
    "    - média das receitas até ~1100;\n",
    "    - compram durante o ano todo\n",
    "    \n",
    "    \n",
    "* Grupo 2: **Compras mais robustas em mais sessões**\n",
    "    - Número de sessões mais alto, pode ir de 2 até ~160;\n",
    "    - sessões conversoras de 1 até 8;\n",
    "    - transações de 1 até 11;\n",
    "    - soma das receitas até ~7000\n",
    "    - média das receitas até ~2200\n",
    "    - compram ao longo do ano todo"
   ]
  },
  {
   "cell_type": "markdown",
   "metadata": {},
   "source": [
    "#### O que se tira deste agrupamento"
   ]
  },
  {
   "cell_type": "markdown",
   "metadata": {},
   "source": [
    "Pode-se observar que o perfil da maioria dos clientes que converteram no e-commerce em questão compram em poucas visitas, fazem poucas transações e a soma de suas receitas, no geral, é baixa.\n",
    "\n",
    "Pode-se realizar uma campanha para atingir estes clientes, de acordo com o orçamento disponível, e torná-los clientes mais recorrentes."
   ]
  },
  {
   "cell_type": "markdown",
   "metadata": {},
   "source": [
    "### Modelo com 3 clusters (palpite próprio) <a name=\"mod_6\">"
   ]
  },
  {
   "cell_type": "code",
   "execution_count": 61,
   "metadata": {},
   "outputs": [
    {
     "data": {
      "text/plain": [
       "array([2, 2, 2, 2, 2, 2, 2, 2, 2, 2])"
      ]
     },
     "execution_count": 61,
     "metadata": {},
     "output_type": "execute_result"
    }
   ],
   "source": [
    "kmeans = KMeans(n_clusters = 3, init = 'k-means++', random_state = 42)\n",
    "k3 = kmeans.fit_predict(df_padronizado)\n",
    "\n",
    "k3[:10]"
   ]
  },
  {
   "cell_type": "code",
   "execution_count": 62,
   "metadata": {},
   "outputs": [
    {
     "data": {
      "text/html": [
       "<div>\n",
       "<style scoped>\n",
       "    .dataframe tbody tr th:only-of-type {\n",
       "        vertical-align: middle;\n",
       "    }\n",
       "\n",
       "    .dataframe tbody tr th {\n",
       "        vertical-align: top;\n",
       "    }\n",
       "\n",
       "    .dataframe thead th {\n",
       "        text-align: right;\n",
       "    }\n",
       "</style>\n",
       "<table border=\"1\" class=\"dataframe\">\n",
       "  <thead>\n",
       "    <tr style=\"text-align: right;\">\n",
       "      <th></th>\n",
       "      <th>ID_usuario</th>\n",
       "      <th>n_sessoes</th>\n",
       "      <th>sessoes_conversoras</th>\n",
       "      <th>qtde_transacoes</th>\n",
       "      <th>soma_receitas</th>\n",
       "      <th>media_receitas_transacao</th>\n",
       "      <th>data_ultima_transacao</th>\n",
       "      <th>soma_receitas_cat</th>\n",
       "      <th>media_receitas_transacao_cat</th>\n",
       "      <th>mes_ultima_transacao</th>\n",
       "      <th>dia_ultima_transacao</th>\n",
       "      <th>k6</th>\n",
       "      <th>k2</th>\n",
       "      <th>k3</th>\n",
       "    </tr>\n",
       "  </thead>\n",
       "  <tbody>\n",
       "    <tr>\n",
       "      <th>0</th>\n",
       "      <td>1814166460229302850</td>\n",
       "      <td>15</td>\n",
       "      <td>7</td>\n",
       "      <td>7</td>\n",
       "      <td>7073.51</td>\n",
       "      <td>1010.50</td>\n",
       "      <td>2017-07-31</td>\n",
       "      <td>(125.303, 7073.51]</td>\n",
       "      <td>(112.018, 2147.48]</td>\n",
       "      <td>7</td>\n",
       "      <td>31</td>\n",
       "      <td>3</td>\n",
       "      <td>2</td>\n",
       "      <td>3</td>\n",
       "    </tr>\n",
       "    <tr>\n",
       "      <th>1</th>\n",
       "      <td>3835134197841326255</td>\n",
       "      <td>8</td>\n",
       "      <td>3</td>\n",
       "      <td>3</td>\n",
       "      <td>4034.48</td>\n",
       "      <td>1344.83</td>\n",
       "      <td>2017-02-21</td>\n",
       "      <td>(125.303, 7073.51]</td>\n",
       "      <td>(112.018, 2147.48]</td>\n",
       "      <td>2</td>\n",
       "      <td>21</td>\n",
       "      <td>5</td>\n",
       "      <td>2</td>\n",
       "      <td>3</td>\n",
       "    </tr>\n",
       "    <tr>\n",
       "      <th>2</th>\n",
       "      <td>2904329822175970539</td>\n",
       "      <td>36</td>\n",
       "      <td>8</td>\n",
       "      <td>9</td>\n",
       "      <td>3897.22</td>\n",
       "      <td>487.15</td>\n",
       "      <td>2018-04-06</td>\n",
       "      <td>(125.303, 7073.51]</td>\n",
       "      <td>(112.018, 2147.48]</td>\n",
       "      <td>4</td>\n",
       "      <td>6</td>\n",
       "      <td>3</td>\n",
       "      <td>2</td>\n",
       "      <td>3</td>\n",
       "    </tr>\n",
       "    <tr>\n",
       "      <th>3</th>\n",
       "      <td>6052206455243513477</td>\n",
       "      <td>4</td>\n",
       "      <td>2</td>\n",
       "      <td>2</td>\n",
       "      <td>3314.40</td>\n",
       "      <td>1657.20</td>\n",
       "      <td>2017-07-25</td>\n",
       "      <td>(125.303, 7073.51]</td>\n",
       "      <td>(112.018, 2147.48]</td>\n",
       "      <td>7</td>\n",
       "      <td>25</td>\n",
       "      <td>5</td>\n",
       "      <td>2</td>\n",
       "      <td>3</td>\n",
       "    </tr>\n",
       "    <tr>\n",
       "      <th>4</th>\n",
       "      <td>2969957690756250633</td>\n",
       "      <td>8</td>\n",
       "      <td>2</td>\n",
       "      <td>2</td>\n",
       "      <td>2686.96</td>\n",
       "      <td>1343.48</td>\n",
       "      <td>2017-04-26</td>\n",
       "      <td>(125.303, 7073.51]</td>\n",
       "      <td>(112.018, 2147.48]</td>\n",
       "      <td>4</td>\n",
       "      <td>26</td>\n",
       "      <td>5</td>\n",
       "      <td>2</td>\n",
       "      <td>3</td>\n",
       "    </tr>\n",
       "  </tbody>\n",
       "</table>\n",
       "</div>"
      ],
      "text/plain": [
       "            ID_usuario  n_sessoes  sessoes_conversoras  qtde_transacoes  \\\n",
       "0  1814166460229302850         15                    7                7   \n",
       "1  3835134197841326255          8                    3                3   \n",
       "2  2904329822175970539         36                    8                9   \n",
       "3  6052206455243513477          4                    2                2   \n",
       "4  2969957690756250633          8                    2                2   \n",
       "\n",
       "   soma_receitas  media_receitas_transacao data_ultima_transacao  \\\n",
       "0        7073.51                   1010.50            2017-07-31   \n",
       "1        4034.48                   1344.83            2017-02-21   \n",
       "2        3897.22                    487.15            2018-04-06   \n",
       "3        3314.40                   1657.20            2017-07-25   \n",
       "4        2686.96                   1343.48            2017-04-26   \n",
       "\n",
       "    soma_receitas_cat media_receitas_transacao_cat  mes_ultima_transacao  \\\n",
       "0  (125.303, 7073.51]           (112.018, 2147.48]                     7   \n",
       "1  (125.303, 7073.51]           (112.018, 2147.48]                     2   \n",
       "2  (125.303, 7073.51]           (112.018, 2147.48]                     4   \n",
       "3  (125.303, 7073.51]           (112.018, 2147.48]                     7   \n",
       "4  (125.303, 7073.51]           (112.018, 2147.48]                     4   \n",
       "\n",
       "   dia_ultima_transacao  k6  k2  k3  \n",
       "0                    31   3   2   3  \n",
       "1                    21   5   2   3  \n",
       "2                     6   3   2   3  \n",
       "3                    25   5   2   3  \n",
       "4                    26   5   2   3  "
      ]
     },
     "execution_count": 62,
     "metadata": {},
     "output_type": "execute_result"
    }
   ],
   "source": [
    "df['k3'] = k3 + 1 # para nao ter grupo 0\n",
    "df.head()"
   ]
  },
  {
   "cell_type": "code",
   "execution_count": 63,
   "metadata": {},
   "outputs": [
    {
     "name": "stdout",
     "output_type": "stream",
     "text": [
      "Valores absolutos\n",
      "|    |   k3 |\n",
      "|---:|-----:|\n",
      "|  1 |  308 |\n",
      "|  2 |  365 |\n",
      "|  3 |   29 |\n",
      "\n",
      "\n",
      "Proporção\n",
      "|    |       k3 |\n",
      "|---:|---------:|\n",
      "|  1 | 43.8746  |\n",
      "|  2 | 51.9943  |\n",
      "|  3 |  4.13105 |\n"
     ]
    }
   ],
   "source": [
    "tabcont_1var(df, 'k3')"
   ]
  },
  {
   "cell_type": "markdown",
   "metadata": {},
   "source": [
    "Os grupos 1 e 2 carregam 95,86% do banco de dados, totalizando 673 clientes."
   ]
  },
  {
   "cell_type": "code",
   "execution_count": 66,
   "metadata": {},
   "outputs": [
    {
     "data": {
      "image/png": "[encoded data removed]",
      "text/plain": [
       "<Figure size 1296x864 with 6 Axes>"
      ]
     },
     "metadata": {
      "needs_background": "light"
     },
     "output_type": "display_data"
    }
   ],
   "source": [
    "fig, ax = plt.subplots(nrows = 2, ncols = 3, figsize = (18,12))\n",
    "\n",
    "sns.boxplot(x = 'k3', y = 'n_sessoes', data = df, ax = ax[0,0])\n",
    "sns.boxplot(x = 'k3', y = 'sessoes_conversoras', data = df, ax = ax[0,1])\n",
    "sns.boxplot(x = 'k3', y = 'qtde_transacoes', data = df, ax = ax[0,2])\n",
    "sns.boxplot(x = 'k3', y = 'soma_receitas', data = df, ax = ax[1,0])\n",
    "sns.boxplot(x = 'k3', y = 'media_receitas_transacao', data = df, ax = ax[1,1])\n",
    "sns.boxplot(x = 'k3', y = 'mes_ultima_transacao', data = df, ax = ax[1,2])\n",
    "\n",
    "plt.show()"
   ]
  },
  {
   "cell_type": "markdown",
   "metadata": {},
   "source": [
    "Interpretação dos grupos\n",
    "* Os grupos 1 e 2 são análogos aos grupos 1 e 2 da modelagem com 6 clusters. **Decididos de início e fim de ano**\n",
    "* O grupo 3 carrega os clientes com receitas maiores, maior número de sessões e sessões conversoras e quantidade de transações maior. Compram ao longo do ano"
   ]
  },
  {
   "cell_type": "markdown",
   "metadata": {},
   "source": [
    "#### O que se tira deste agrupamento"
   ]
  },
  {
   "cell_type": "markdown",
   "metadata": {},
   "source": [
    "Este agrupamento serve de confirmação que a clusterização com 6 grupos é a mais ideal entre 6 ou 2 grupos, uma vez que o comportamento dos grupos 1 e 2 se repete.\n",
    "\n",
    "Utilizar o agrupamento com 3 grupos também é funcional, já que a campanha proposta seria a mesma descrita no agrupamento de 6 grupos."
   ]
  }
 ],
 "metadata": {
  "kernelspec": {
   "display_name": "Python 3",
   "language": "python",
   "name": "python3"
  },
  "language_info": {
   "codemirror_mode": {
    "name": "ipython",
    "version": 3
   },
   "file_extension": ".py",
   "mimetype": "text/x-python",
   "name": "python",
   "nbconvert_exporter": "python",
   "pygments_lexer": "ipython3",
   "version": "3.8.5"
  },
  "varInspector": {
   "cols": {
    "lenName": 16,
    "lenType": 16,
    "lenVar": 40
   },
   "kernels_config": {
    "python": {
     "delete_cmd_postfix": "",
     "delete_cmd_prefix": "del ",
     "library": "var_list.py",
     "varRefreshCmd": "print(var_dic_list())"
    },
    "r": {
     "delete_cmd_postfix": ") ",
     "delete_cmd_prefix": "rm(",
     "library": "var_list.r",
     "varRefreshCmd": "cat(var_dic_list()) "
    }
   },
   "types_to_exclude": [
    "module",
    "function",
    "builtin_function_or_method",
    "instance",
    "_Feature"
   ],
   "window_display": false
  }
 },
 "nbformat": 4,
 "nbformat_minor": 4
}
