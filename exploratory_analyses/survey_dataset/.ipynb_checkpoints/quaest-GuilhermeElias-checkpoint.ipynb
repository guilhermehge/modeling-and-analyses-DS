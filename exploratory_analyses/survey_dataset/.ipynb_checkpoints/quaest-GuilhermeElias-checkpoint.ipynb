{
 "cells": [
  {
   "cell_type": "markdown",
   "metadata": {},
   "source": [
    "# Avaliação técnica — Quaest, Data Scientist Jr."
   ]
  },
  {
   "cell_type": "markdown",
   "metadata": {},
   "source": [
    "# Sumário apenas das atividades\n",
    "1. [Atividade 1 - Função para tabela de contingência](#atv1)<br>\n",
    "2. .<br>\n",
    "    2.1. [Atividade 2 - Item 2.1) Gráfico para a variável intenção de voto](#atv221)<br>\n",
    "    2.2. [Atividade 2.2) Plot e perguntas - aval_gov x voto1](#atv222)<br>"
   ]
  },
  {
   "cell_type": "markdown",
   "metadata": {},
   "source": [
    "# Sumário da análise completa\n",
    "\n",
    "1. [Importanto bilbiotecas](#bibliotecas)<br>\n",
    "2. [Funções úteis](#funcoes)<br>\n",
    "    2.1. [Atividade 1 - Função para tabela de contingência](#atv1)<br>\n",
    "    2.2. [Outras funções úteis](#outrasfuncoes)<br>\n",
    "3. [Análise preliminar](#anprelim)<br>\n",
    "4. [Análise univariada](#anunivar)<br>\n",
    "    4.1. [Atividade 2 - Item 2.1) Gráfico para a variável intenção de voto](#atv221)<br>\n",
    "    4.2. [Variável \"sexo\"](#sexo)<br>\n",
    "    4.3. [Variável \"rendaf\"](#rendaf)<br>\n",
    "    4.4. [Variável \"esc\"](#esc)<br>\n",
    "    4.5. [Variável \"aval_gov\"](#aval_gov)<br>\n",
    "    4.6. [Variável numérica \"idade\"](#num_idade)<br>\n",
    "5. [Análise bivariada](#anbivar)<br>\n",
    "    5.1. [Atividade 2.2) Plot e perguntas - aval_gov x voto1](#atv222)<br>\n",
    "    5.2. [sexo x voto1](#sexovoto)<br>\n",
    "    5.3. [idade (categorizada) x voto1](#idadevoto)<br>\n",
    "    5.4. [rendaf x voto1](#rendafvoto)<br>\n",
    "    5.5. [esc x voto1](#escvoto)<br>"
   ]
  },
  {
   "cell_type": "markdown",
   "metadata": {},
   "source": [
    "# Resumo da Análise"
   ]
  },
  {
   "cell_type": "markdown",
   "metadata": {},
   "source": [
    "1. **O Candidato 2 é a preferência de todas as classes, escolaridades, avaliação do governo e sexo. Este possui 52,3% das intenções de voto**;\n",
    "2. **28,2% da base votaria em branco ou não sabe o voto**;\n",
    "3. **Os outros candidatos receberam apenas 19,5% das intenções de voto da base**;\n",
    "4. 187 (18,7%) pessoas avaliam o governo como negativo, 799 (79,9%) como positivo e 14 (14%) não respondem à pergunta;\n",
    "5. **As pessoas que avaliam o governo de forma negativa tendem, em sua maioria, a ou não saber em quem votarão ou a anular o voto**;\n",
    "6. **As pessoas que avaliam o governo de forma positiva tendem, em sua maioria, a votar no candidato 2**;\n",
    "7. Pessoas com ensino médio incompleto (4), têm maior chance de anular ou não saber o voto (32%)\n",
    "8. 94,8% da base ganha até 10 salários mínimos (categorias de 1 a 5) e estes têm preferência pelo candidato 2, em torno dos 50%, em sua maioria e, em média, 30% destes eleitores, anulariam ou não sabem do seu voto\n",
    "9. As mulheres, assim como os homens, preferem o candidato 2, porém os homens também se simpatizam pelo candidato 1, que teve 31 votos masculinos contra 11 femininos;"
   ]
  },
  {
   "cell_type": "markdown",
   "metadata": {},
   "source": [
    "# 1. Importando bibliotecas <a name=\"bibliotecas\"></a>"
   ]
  },
  {
   "cell_type": "code",
   "execution_count": 1,
   "metadata": {},
   "outputs": [],
   "source": [
    "import pandas as pd\n",
    "import numpy as np\n",
    "import matplotlib.pyplot as plt\n",
    "import seaborn as sns"
   ]
  },
  {
   "cell_type": "markdown",
   "metadata": {},
   "source": [
    "# 2. Funções úteis <a name=\"funcoes\"></a>"
   ]
  },
  {
   "cell_type": "markdown",
   "metadata": {},
   "source": [
    "## 2.1. Atividade 1 - Função para tabela de contingência <a name=\"atv1\"></a>"
   ]
  },
  {
   "cell_type": "markdown",
   "metadata": {},
   "source": [
    "Enunciado:\n",
    "\n",
    "- Crie uma função em alguma linguagem de programação, preferencialmente em R ou Python, que automatize a construção de tabelas de contingência (parte 1). O objetivo é identificar se há uma diferença sociodemográfica na intenção de voto. Em outras palavras, por ex.: As mulheres e os homens estão votando no mesmo candidato? (parte 2 - virá na análise bivariada)"
   ]
  },
  {
   "cell_type": "code",
   "execution_count": 2,
   "metadata": {},
   "outputs": [],
   "source": [
    "# pip install tabulate - Instalar se já não tiver para rodar as funções abaixo. Não precisa chamar biblioteca, basta instalar\n",
    "def tabcont_1var(df, column):\n",
    "    '''\n",
    "    Tabela de frequência para 1 variável apenas. Utilizada em análise univariada\n",
    "    O output são 2 tabelas, uma com valores absolutos e a outra com a % na coluna, sendo o total da coluna = 1\n",
    "    Variáveis necessárias: df = dataframe, column = coluna\n",
    "    '''\n",
    "    print('Valores absolutos')\n",
    "    print(df[column].value_counts(dropna=False).to_markdown())\n",
    "    print('\\n')\n",
    "    print('Proporção')\n",
    "    print((df[column].value_counts(dropna=False)/len(df)*100).to_markdown())\n",
    "\n",
    "def tabcont_2var(column1, column2):    \n",
    "    '''\n",
    "    Tabela de contingência para analisar 2 variáveis. \n",
    "    O output são 3 tabelas, uma com valores absolutos, outra com % na linha, sendo o total da linha = 1 \n",
    "    e outra com % na coluna, sendo o total da coluna = 1.\n",
    "    Variáveis necessárias: column1 = coluna 1, column2 = coluna 2\n",
    "    '''\n",
    "    tabcont_pl = pd.crosstab(index=column1, columns=column2, margins=True)\n",
    "    print('Valores absolutos:\\n')\n",
    "    print(tabcont_pl.to_markdown())    \n",
    "    print('\\nPorcentagem na linha:\\n')\n",
    "    print(round(tabcont_pl.div(tabcont_pl['All'], axis=0),2).to_markdown())\n",
    "    print('\\nPorcentagem na coluna:\\n')\n",
    "    print(round(tabcont_pl.div(tabcont_pl.loc['All'], axis=1),2).to_markdown())"
   ]
  },
  {
   "cell_type": "markdown",
   "metadata": {},
   "source": [
    "## 2.2 Outras funções úteis <a name=\"outrasfuncoes\"></a>"
   ]
  },
  {
   "cell_type": "markdown",
   "metadata": {},
   "source": [
    "A primeira é para plotar um boxplot e um histograma de uma variável\n",
    "\n",
    "A segunda é para calcular os limites de outliers"
   ]
  },
  {
   "cell_type": "code",
   "execution_count": 3,
   "metadata": {},
   "outputs": [],
   "source": [
    "def plot_hist_box(column, bins):\n",
    "    '''\n",
    "    Plota um histograma e um boxplot de uma variável numérica\n",
    "    '''\n",
    "    fig, axs = plt.subplots(1, 2, tight_layout=True, figsize=(10,4));\n",
    "    axs[0].hist(column, bins=bins);\n",
    "    axs[1].boxplot(column);\n",
    "\n",
    "\n",
    "def outlier_bounds(column):\n",
    "    '''\n",
    "    Calcula os limites inferior e superior para outliers\n",
    "    '''\n",
    "    \n",
    "    q1, q3 = np.percentile(column, [25,75])\n",
    "    iqr = q3 - q1\n",
    "    lower_bound = q1 -(1.5 * iqr) \n",
    "    upper_bound = q3 +(1.5 * iqr)\n",
    "    return print(' Lower bound =', lower_bound,'\\n', 'Upper bound =', upper_bound)"
   ]
  },
  {
   "cell_type": "markdown",
   "metadata": {},
   "source": [
    "# 3. Análise preliminar<a name=\"anprelim\"></a>"
   ]
  },
  {
   "cell_type": "markdown",
   "metadata": {},
   "source": [
    "## 3.1. Leitura do banco de dados<a name=\"lbd\"></a>\n",
    "df = dataframe"
   ]
  },
  {
   "cell_type": "code",
   "execution_count": 4,
   "metadata": {},
   "outputs": [
    {
     "data": {
      "text/html": [
       "<div>\n",
       "<style scoped>\n",
       "    .dataframe tbody tr th:only-of-type {\n",
       "        vertical-align: middle;\n",
       "    }\n",
       "\n",
       "    .dataframe tbody tr th {\n",
       "        vertical-align: top;\n",
       "    }\n",
       "\n",
       "    .dataframe thead th {\n",
       "        text-align: right;\n",
       "    }\n",
       "</style>\n",
       "<table border=\"1\" class=\"dataframe\">\n",
       "  <thead>\n",
       "    <tr style=\"text-align: right;\">\n",
       "      <th></th>\n",
       "      <th>sbjnum</th>\n",
       "      <th>sexo</th>\n",
       "      <th>idade</th>\n",
       "      <th>rendaf</th>\n",
       "      <th>esc</th>\n",
       "      <th>aval_gov</th>\n",
       "      <th>voto1</th>\n",
       "    </tr>\n",
       "  </thead>\n",
       "  <tbody>\n",
       "    <tr>\n",
       "      <th>0</th>\n",
       "      <td>136037235</td>\n",
       "      <td>Masculino</td>\n",
       "      <td>57</td>\n",
       "      <td>De R$ 2.091,00 a R$ 3.135,00 (+ de 2SM até 3 SM)</td>\n",
       "      <td>Ensino médio completo</td>\n",
       "      <td>Regular positiva</td>\n",
       "      <td>Candidato 2</td>\n",
       "    </tr>\n",
       "    <tr>\n",
       "      <th>1</th>\n",
       "      <td>136037575</td>\n",
       "      <td>Masculino</td>\n",
       "      <td>32</td>\n",
       "      <td>De R$ 2.091,00 a R$ 3.135,00 (+ de 2SM até 3 SM)</td>\n",
       "      <td>Ensino médio completo</td>\n",
       "      <td>Boa</td>\n",
       "      <td>Ninguém/Branco/Nulo</td>\n",
       "    </tr>\n",
       "    <tr>\n",
       "      <th>2</th>\n",
       "      <td>136038074</td>\n",
       "      <td>Masculino</td>\n",
       "      <td>70</td>\n",
       "      <td>De R$ 5.226,00 a R$ 10.450,00 (+ de 5SM até 10...</td>\n",
       "      <td>Ensino médio completo</td>\n",
       "      <td>Boa</td>\n",
       "      <td>Candidato 2</td>\n",
       "    </tr>\n",
       "    <tr>\n",
       "      <th>3</th>\n",
       "      <td>136041069</td>\n",
       "      <td>Masculino</td>\n",
       "      <td>50</td>\n",
       "      <td>De R$ 2.091,00 a R$ 3.135,00 (+ de 2SM até 3 SM)</td>\n",
       "      <td>Ensino fundamental incompleto</td>\n",
       "      <td>Ótima</td>\n",
       "      <td>Candidato 2</td>\n",
       "    </tr>\n",
       "    <tr>\n",
       "      <th>4</th>\n",
       "      <td>136041107</td>\n",
       "      <td>Masculino</td>\n",
       "      <td>24</td>\n",
       "      <td>De R$ 3.136,00 a R$ 5.225,00 (+ de 3SM até 5 SM)</td>\n",
       "      <td>Ensino superior incompleto</td>\n",
       "      <td>Boa</td>\n",
       "      <td>Candidato 2</td>\n",
       "    </tr>\n",
       "    <tr>\n",
       "      <th>...</th>\n",
       "      <td>...</td>\n",
       "      <td>...</td>\n",
       "      <td>...</td>\n",
       "      <td>...</td>\n",
       "      <td>...</td>\n",
       "      <td>...</td>\n",
       "      <td>...</td>\n",
       "    </tr>\n",
       "    <tr>\n",
       "      <th>995</th>\n",
       "      <td>136140712</td>\n",
       "      <td>Feminino</td>\n",
       "      <td>20</td>\n",
       "      <td>De R$ 5.226,00 a R$ 10.450,00 (+ de 5SM até 10...</td>\n",
       "      <td>Ensino médio completo</td>\n",
       "      <td>Boa</td>\n",
       "      <td>Candidato 2</td>\n",
       "    </tr>\n",
       "    <tr>\n",
       "      <th>996</th>\n",
       "      <td>136140811</td>\n",
       "      <td>Feminino</td>\n",
       "      <td>18</td>\n",
       "      <td>De R$ 2.091,00 a R$ 3.135,00 (+ de 2SM até 3 SM)</td>\n",
       "      <td>Ensino médio incompleto</td>\n",
       "      <td>Ótima</td>\n",
       "      <td>Candidato 14</td>\n",
       "    </tr>\n",
       "    <tr>\n",
       "      <th>997</th>\n",
       "      <td>136140955</td>\n",
       "      <td>Feminino</td>\n",
       "      <td>22</td>\n",
       "      <td>De R$ 2.091,00 a R$ 3.135,00 (+ de 2SM até 3 SM)</td>\n",
       "      <td>Ensino médio completo</td>\n",
       "      <td>Regular positiva</td>\n",
       "      <td>Ninguém/Branco/Nulo</td>\n",
       "    </tr>\n",
       "    <tr>\n",
       "      <th>998</th>\n",
       "      <td>136141043</td>\n",
       "      <td>Feminino</td>\n",
       "      <td>45</td>\n",
       "      <td>De R$ 2.091,00 a R$ 3.135,00 (+ de 2SM até 3 SM)</td>\n",
       "      <td>Ensino superior incompleto</td>\n",
       "      <td>Ótima</td>\n",
       "      <td>Candidato 2</td>\n",
       "    </tr>\n",
       "    <tr>\n",
       "      <th>999</th>\n",
       "      <td>136141106</td>\n",
       "      <td>Feminino</td>\n",
       "      <td>18</td>\n",
       "      <td>De R$ 2.091,00 a R$ 3.135,00 (+ de 2SM até 3 SM)</td>\n",
       "      <td>Ensino médio completo</td>\n",
       "      <td>Regular negativa</td>\n",
       "      <td>NS/NR</td>\n",
       "    </tr>\n",
       "  </tbody>\n",
       "</table>\n",
       "<p>1000 rows × 7 columns</p>\n",
       "</div>"
      ],
      "text/plain": [
       "        sbjnum       sexo  idade  \\\n",
       "0    136037235  Masculino     57   \n",
       "1    136037575  Masculino     32   \n",
       "2    136038074  Masculino     70   \n",
       "3    136041069  Masculino     50   \n",
       "4    136041107  Masculino     24   \n",
       "..         ...        ...    ...   \n",
       "995  136140712   Feminino     20   \n",
       "996  136140811   Feminino     18   \n",
       "997  136140955   Feminino     22   \n",
       "998  136141043   Feminino     45   \n",
       "999  136141106   Feminino     18   \n",
       "\n",
       "                                                rendaf  \\\n",
       "0     De R$ 2.091,00 a R$ 3.135,00 (+ de 2SM até 3 SM)   \n",
       "1     De R$ 2.091,00 a R$ 3.135,00 (+ de 2SM até 3 SM)   \n",
       "2    De R$ 5.226,00 a R$ 10.450,00 (+ de 5SM até 10...   \n",
       "3     De R$ 2.091,00 a R$ 3.135,00 (+ de 2SM até 3 SM)   \n",
       "4     De R$ 3.136,00 a R$ 5.225,00 (+ de 3SM até 5 SM)   \n",
       "..                                                 ...   \n",
       "995  De R$ 5.226,00 a R$ 10.450,00 (+ de 5SM até 10...   \n",
       "996   De R$ 2.091,00 a R$ 3.135,00 (+ de 2SM até 3 SM)   \n",
       "997   De R$ 2.091,00 a R$ 3.135,00 (+ de 2SM até 3 SM)   \n",
       "998   De R$ 2.091,00 a R$ 3.135,00 (+ de 2SM até 3 SM)   \n",
       "999   De R$ 2.091,00 a R$ 3.135,00 (+ de 2SM até 3 SM)   \n",
       "\n",
       "                               esc          aval_gov                voto1  \n",
       "0            Ensino médio completo  Regular positiva          Candidato 2  \n",
       "1            Ensino médio completo               Boa  Ninguém/Branco/Nulo  \n",
       "2            Ensino médio completo               Boa          Candidato 2  \n",
       "3    Ensino fundamental incompleto             Ótima          Candidato 2  \n",
       "4       Ensino superior incompleto               Boa          Candidato 2  \n",
       "..                             ...               ...                  ...  \n",
       "995          Ensino médio completo               Boa          Candidato 2  \n",
       "996        Ensino médio incompleto             Ótima         Candidato 14  \n",
       "997          Ensino médio completo  Regular positiva  Ninguém/Branco/Nulo  \n",
       "998     Ensino superior incompleto             Ótima          Candidato 2  \n",
       "999          Ensino médio completo  Regular negativa                NS/NR  \n",
       "\n",
       "[1000 rows x 7 columns]"
      ]
     },
     "execution_count": 4,
     "metadata": {},
     "output_type": "execute_result"
    }
   ],
   "source": [
    "df = pd.read_excel('bd_surveyquaest.xlsx', sheet_name = 'Sheet 1')\n",
    "df"
   ]
  },
  {
   "cell_type": "markdown",
   "metadata": {},
   "source": [
    "## 3.2. Procurando por células vazias <a name=\"isnull\"></a>"
   ]
  },
  {
   "cell_type": "code",
   "execution_count": 5,
   "metadata": {},
   "outputs": [
    {
     "data": {
      "text/plain": [
       "sbjnum      0\n",
       "sexo        0\n",
       "idade       0\n",
       "rendaf      0\n",
       "esc         0\n",
       "aval_gov    0\n",
       "voto1       0\n",
       "dtype: int64"
      ]
     },
     "execution_count": 5,
     "metadata": {},
     "output_type": "execute_result"
    }
   ],
   "source": [
    "df.isnull().sum()"
   ]
  },
  {
   "cell_type": "markdown",
   "metadata": {},
   "source": [
    "Não há células vazias, banco 100% preenchido"
   ]
  },
  {
   "cell_type": "markdown",
   "metadata": {},
   "source": [
    "## 3.3. Checando as colunas categóricas em busca de erros e categorias repetidas <a name=\"caterro\"></a>"
   ]
  },
  {
   "cell_type": "code",
   "execution_count": 6,
   "metadata": {},
   "outputs": [
    {
     "name": "stdout",
     "output_type": "stream",
     "text": [
      "['Masculino' 'Feminino']\n",
      "\n",
      "\n",
      "['De R$ 2.091,00 a R$ 3.135,00 (+ de 2SM até 3 SM)'\n",
      " 'De R$ 5.226,00 a R$ 10.450,00 (+ de 5SM até 10 SM)'\n",
      " 'De R$ 3.136,00 a R$ 5.225,00 (+ de 3SM até 5 SM)'\n",
      " 'De R$ 1.046,00 a R$ 2.090,00 (+ de 1SM até 2 SM)'\n",
      " 'Até R$ 1.045,00 (até 1 SM)'\n",
      " 'De R$ 15.676,00 a R$ 20.900,00 (+ de 15SM até 20 SM)'\n",
      " 'De R$ 10.451,00 a R$ 15.675,00 (+ de 10SM até 15 SM)'\n",
      " 'Mais de R$ 20.900,00 (+ de 20 SM)']\n",
      "\n",
      "\n",
      "['Ensino médio completo' 'Ensino fundamental incompleto'\n",
      " 'Ensino superior incompleto' 'Ensino superior completo'\n",
      " 'Sem instrução e menos de 1 ano de estudo' 'Ensino médio incompleto'\n",
      " 'Ensino fundamental completo']\n",
      "\n",
      "\n",
      "['Regular positiva' 'Boa' 'Ótima' 'Péssima' 'Ruim' 'Regular negativa'\n",
      " 'NS/NR']\n",
      "\n",
      "\n",
      "['Candidato 2' 'Ninguém/Branco/Nulo' 'Candidato 1' 'NS/NR' 'Candidato 3'\n",
      " 'Candidato 4' 'Candidato 5' 'Candidato 6' 'Candidato 7' 'Candidato 8'\n",
      " 'Candidato 9' 'Candidato 10' 'Candidato 11' 'Candidato 12' 'Candidato 13'\n",
      " 'Candidato 14']\n"
     ]
    }
   ],
   "source": [
    "print(df['sexo'].unique())\n",
    "print('\\n')\n",
    "print(df['rendaf'].unique())\n",
    "print('\\n')\n",
    "print(df['esc'].unique())\n",
    "print('\\n')\n",
    "print(df['aval_gov'].unique())\n",
    "print('\\n')\n",
    "print(df['voto1'].unique())"
   ]
  },
  {
   "cell_type": "markdown",
   "metadata": {},
   "source": [
    "Não há erros nas categorias, tudo certo!\n",
    "\n",
    "Obs: NS/NR = Não sabe/Não responde"
   ]
  },
  {
   "cell_type": "markdown",
   "metadata": {},
   "source": [
    "# 4. Análise univariada <a name=\"anunivar\"></a>"
   ]
  },
  {
   "cell_type": "markdown",
   "metadata": {},
   "source": [
    "## 4.1. <font color='blue'>Atividade 2 - Item 2.1)</font> Gráfico para a variável intenção de voto <a name=\"atv221\"></a>"
   ]
  },
  {
   "cell_type": "markdown",
   "metadata": {},
   "source": [
    "Enunciado: \n",
    "\n",
    "Ainda com essa base de dados, construa dois gráficos.\n",
    "\n",
    "2.1) O primeiro gráfico será da variável intenção de voto."
   ]
  },
  {
   "cell_type": "code",
   "execution_count": 7,
   "metadata": {},
   "outputs": [
    {
     "name": "stdout",
     "output_type": "stream",
     "text": [
      "Valores absolutos\n",
      "|                     |   voto1 |\n",
      "|:--------------------|--------:|\n",
      "| Candidato 2         |     523 |\n",
      "| Ninguém/Branco/Nulo |     142 |\n",
      "| NS/NR               |     140 |\n",
      "| Candidato 1         |      42 |\n",
      "| Candidato 8         |      26 |\n",
      "| Candidato 5         |      25 |\n",
      "| Candidato 10        |      20 |\n",
      "| Candidato 9         |      19 |\n",
      "| Candidato 3         |      16 |\n",
      "| Candidato 4         |      12 |\n",
      "| Candidato 6         |      10 |\n",
      "| Candidato 7         |       7 |\n",
      "| Candidato 14        |       6 |\n",
      "| Candidato 12        |       6 |\n",
      "| Candidato 11        |       3 |\n",
      "| Candidato 13        |       3 |\n",
      "\n",
      "\n",
      "Proporção\n",
      "|                     |   voto1 |\n",
      "|:--------------------|--------:|\n",
      "| Candidato 2         |    52.3 |\n",
      "| Ninguém/Branco/Nulo |    14.2 |\n",
      "| NS/NR               |    14   |\n",
      "| Candidato 1         |     4.2 |\n",
      "| Candidato 8         |     2.6 |\n",
      "| Candidato 5         |     2.5 |\n",
      "| Candidato 10        |     2   |\n",
      "| Candidato 9         |     1.9 |\n",
      "| Candidato 3         |     1.6 |\n",
      "| Candidato 4         |     1.2 |\n",
      "| Candidato 6         |     1   |\n",
      "| Candidato 7         |     0.7 |\n",
      "| Candidato 14        |     0.6 |\n",
      "| Candidato 12        |     0.6 |\n",
      "| Candidato 11        |     0.3 |\n",
      "| Candidato 13        |     0.3 |\n"
     ]
    }
   ],
   "source": [
    "tabcont_1var(df, 'voto1')"
   ]
  },
  {
   "cell_type": "markdown",
   "metadata": {},
   "source": [
    "Por se tratar de uma variável categórica, pode-se utilizar um gráfico de barras para representá-la, mais especificamente, countplot com a biblioteca seaborn.\n",
    "\n",
    "O gráfico será ordenado POR CANDIDATO. Pode-se observar que o candidato 2 tem a maior intenção de voto, seguido dos votos nulos/brancos."
   ]
  },
  {
   "cell_type": "code",
   "execution_count": 8,
   "metadata": {},
   "outputs": [],
   "source": [
    "# Ao testar a rotação do eixo X, a categoria \"Ninguém/Branco/Nulo\" apresentava um bug em que ficava \n",
    "# fora da posição correta por ser muito grande. \n",
    "# O código abaixo substitui os valores de \"Ninguém/Branco/Nulo\" por \"Branco/Nulo\" para corrigir o problema\n",
    "df['voto1'] = df['voto1'].replace(\"Ninguém/Branco/Nulo\", \"Branco/Nulo\")"
   ]
  },
  {
   "cell_type": "code",
   "execution_count": 9,
   "metadata": {},
   "outputs": [
    {
     "data": {
      "image/png": "[encoded data removed]",
      "text/plain": [
       "<Figure size 1080x576 with 1 Axes>"
      ]
     },
     "metadata": {},
     "output_type": "display_data"
    }
   ],
   "source": [
    "# estilo white do seaborn\n",
    "sns.set_style('white')\n",
    "\n",
    "# Ordem alfabética\n",
    "ordem = [\"Candidato 1\", \"Candidato 2\", \"Candidato 3\", \"Candidato 4\", \"Candidato 5\", \"Candidato 6\", \"Candidato 7\", \"Candidato 8\",\n",
    "\"Candidato 9\", \"Candidato 10\", \"Candidato 11\", \"Candidato 12\", \"Candidato 13\", \"Candidato 14\", \"Branco/Nulo\", \"NS/NR\"]\n",
    "\n",
    "plt.figure(figsize = (15,8))\n",
    "ax = sns.countplot(x = \"voto1\", data = df, color = 'steelblue', order = ordem)\n",
    "title = ax.axes.set_title('Intenção de voto por candidato',fontsize = 20) # Título e tamanho\n",
    "x_labels = ax.set_xticklabels(rotation=45, labels = ax.get_xticklabels()) # possível utilizar também: labels = df['voto1'].unique()\n",
    "x_axis_name = ax.set_xlabel('Opção de voto', fontsize=15) # Nome eixo x e tamanho\n",
    "y_axis_name = ax.set_ylabel('Contagem', fontsize=15) # Nome eixo y e tamanho\n",
    "axis_num_size = ax.tick_params(labelsize=11) # ajuste do tamanho dos valores dos eixos\n",
    "\n",
    "# O código abaixo para colocar os números nas barras foi retirado e adaptado de: \n",
    "#https://medium.com/swlh/quick-guide-to-labelling-data-for-common-seaborn-plots-736e10bf14a9\n",
    "\n",
    "for p in ax.patches:\n",
    "    # determina a altura de cada barra\n",
    "    altura = p.get_height()\n",
    "    # adiciona o texto em cada barra\n",
    "    ax.text(x = p.get_x()+(p.get_width()/2), # posição x de cada número. ficará no centro.\n",
    "    y = altura+8, # posição y do número, 8 unidades acima da barra\n",
    "    s = '{:.0f}'.format(altura), # formatação para número inteiro\n",
    "    ha = 'center') # alinhamento horizontal no centro\n",
    "    \n",
    "sns.despine() # remover o contorno"
   ]
  },
  {
   "cell_type": "markdown",
   "metadata": {},
   "source": [
    "Observações a partir da tabela e do gráfico:\n",
    "* 52% da base votou no candidato 2, 14,2% votaram nulo e 14% não se lembram ou não sabem do voto. Os outros candidatos receberam, somados, apenas 19,5% dos votos "
   ]
  },
  {
   "cell_type": "markdown",
   "metadata": {},
   "source": [
    "## 4.2. Variável \"sexo\"<a name=\"sexo\"></a>"
   ]
  },
  {
   "cell_type": "code",
   "execution_count": 10,
   "metadata": {},
   "outputs": [
    {
     "name": "stdout",
     "output_type": "stream",
     "text": [
      "Valores absolutos\n",
      "|           |   sexo |\n",
      "|:----------|-------:|\n",
      "| Feminino  |    545 |\n",
      "| Masculino |    455 |\n",
      "\n",
      "\n",
      "Proporção\n",
      "|           |   sexo |\n",
      "|:----------|-------:|\n",
      "| Feminino  |   54.5 |\n",
      "| Masculino |   45.5 |\n"
     ]
    }
   ],
   "source": [
    "tabcont_1var(df, 'sexo')"
   ]
  },
  {
   "cell_type": "markdown",
   "metadata": {},
   "source": [
    "Observações\n",
    "* Base com 90 mulheres a mais que homens"
   ]
  },
  {
   "cell_type": "markdown",
   "metadata": {},
   "source": [
    "## 4.3. Variável \"rendaf\"<a name=\"rendaf\"></a>"
   ]
  },
  {
   "cell_type": "code",
   "execution_count": 11,
   "metadata": {},
   "outputs": [
    {
     "name": "stdout",
     "output_type": "stream",
     "text": [
      "Valores absolutos\n",
      "|                                                      |   rendaf |\n",
      "|:-----------------------------------------------------|---------:|\n",
      "| De R$ 1.046,00 a R$ 2.090,00 (+ de 1SM até 2 SM)     |      246 |\n",
      "| De R$ 2.091,00 a R$ 3.135,00 (+ de 2SM até 3 SM)     |      210 |\n",
      "| Até R$ 1.045,00 (até 1 SM)                           |      205 |\n",
      "| De R$ 3.136,00 a R$ 5.225,00 (+ de 3SM até 5 SM)     |      177 |\n",
      "| De R$ 5.226,00 a R$ 10.450,00 (+ de 5SM até 10 SM)   |      110 |\n",
      "| De R$ 10.451,00 a R$ 15.675,00 (+ de 10SM até 15 SM) |       28 |\n",
      "| De R$ 15.676,00 a R$ 20.900,00 (+ de 15SM até 20 SM) |       17 |\n",
      "| Mais de R$ 20.900,00 (+ de 20 SM)                    |        7 |\n",
      "\n",
      "\n",
      "Proporção\n",
      "|                                                      |   rendaf |\n",
      "|:-----------------------------------------------------|---------:|\n",
      "| De R$ 1.046,00 a R$ 2.090,00 (+ de 1SM até 2 SM)     |     24.6 |\n",
      "| De R$ 2.091,00 a R$ 3.135,00 (+ de 2SM até 3 SM)     |     21   |\n",
      "| Até R$ 1.045,00 (até 1 SM)                           |     20.5 |\n",
      "| De R$ 3.136,00 a R$ 5.225,00 (+ de 3SM até 5 SM)     |     17.7 |\n",
      "| De R$ 5.226,00 a R$ 10.450,00 (+ de 5SM até 10 SM)   |     11   |\n",
      "| De R$ 10.451,00 a R$ 15.675,00 (+ de 10SM até 15 SM) |      2.8 |\n",
      "| De R$ 15.676,00 a R$ 20.900,00 (+ de 15SM até 20 SM) |      1.7 |\n",
      "| Mais de R$ 20.900,00 (+ de 20 SM)                    |      0.7 |\n"
     ]
    }
   ],
   "source": [
    "tabcont_1var(df, 'rendaf')"
   ]
  },
  {
   "cell_type": "markdown",
   "metadata": {},
   "source": [
    "Observações\n",
    "* 66,1% da base tem renda entre 0 e 3 salários mínimos, isso representa 661 pessoas;\n",
    "* 17,7% da base recebe entre 3 e 5 salários mínimos;\n",
    "* 15,5% da base recebe entre 5 e 20 salários mínimos e\n",
    "* 0,7% da base recebe mais de 20 salários mínimos"
   ]
  },
  {
   "cell_type": "markdown",
   "metadata": {},
   "source": [
    "## 4.4. Variável \"esc\"<a name=\"esc\"></a>"
   ]
  },
  {
   "cell_type": "code",
   "execution_count": 12,
   "metadata": {},
   "outputs": [
    {
     "name": "stdout",
     "output_type": "stream",
     "text": [
      "Valores absolutos\n",
      "|                                          |   esc |\n",
      "|:-----------------------------------------|------:|\n",
      "| Ensino médio completo                    |   326 |\n",
      "| Ensino superior completo                 |   195 |\n",
      "| Ensino fundamental incompleto            |   184 |\n",
      "| Ensino superior incompleto               |   105 |\n",
      "| Ensino médio incompleto                  |    89 |\n",
      "| Ensino fundamental completo              |    84 |\n",
      "| Sem instrução e menos de 1 ano de estudo |    17 |\n",
      "\n",
      "\n",
      "Proporção\n",
      "|                                          |   esc |\n",
      "|:-----------------------------------------|------:|\n",
      "| Ensino médio completo                    |  32.6 |\n",
      "| Ensino superior completo                 |  19.5 |\n",
      "| Ensino fundamental incompleto            |  18.4 |\n",
      "| Ensino superior incompleto               |  10.5 |\n",
      "| Ensino médio incompleto                  |   8.9 |\n",
      "| Ensino fundamental completo              |   8.4 |\n",
      "| Sem instrução e menos de 1 ano de estudo |   1.7 |\n"
     ]
    }
   ],
   "source": [
    "tabcont_1var(df, 'esc')"
   ]
  },
  {
   "cell_type": "markdown",
   "metadata": {},
   "source": [
    "Observações: \n",
    "* 52,1% da base possui, pelo menos, ensino médio completo"
   ]
  },
  {
   "cell_type": "markdown",
   "metadata": {},
   "source": [
    "## 4.5. Variável \"aval_gov\"<a name=\"aval_gov\"></a>"
   ]
  },
  {
   "cell_type": "code",
   "execution_count": 13,
   "metadata": {
    "scrolled": false
   },
   "outputs": [
    {
     "name": "stdout",
     "output_type": "stream",
     "text": [
      "Valores absolutos\n",
      "|                  |   aval_gov |\n",
      "|:-----------------|-----------:|\n",
      "| Boa              |        443 |\n",
      "| Ótima            |        181 |\n",
      "| Regular positiva |        175 |\n",
      "| Regular negativa |         74 |\n",
      "| Péssima          |         64 |\n",
      "| Ruim             |         49 |\n",
      "| NS/NR            |         14 |\n",
      "\n",
      "\n",
      "Proporção\n",
      "|                  |   aval_gov |\n",
      "|:-----------------|-----------:|\n",
      "| Boa              |       44.3 |\n",
      "| Ótima            |       18.1 |\n",
      "| Regular positiva |       17.5 |\n",
      "| Regular negativa |        7.4 |\n",
      "| Péssima          |        6.4 |\n",
      "| Ruim             |        4.9 |\n",
      "| NS/NR            |        1.4 |\n"
     ]
    }
   ],
   "source": [
    "tabcont_1var(df, 'aval_gov')"
   ]
  },
  {
   "cell_type": "markdown",
   "metadata": {},
   "source": [
    "Observações: \n",
    "* 79,9% da base avalia o governo de forma positiva\n",
    "* 18,7% avalia de forma negativa\n",
    "* 1,4% não sabe ou não respondeu a questão"
   ]
  },
  {
   "cell_type": "markdown",
   "metadata": {},
   "source": [
    "## 4.6. Variável <font color='blue'>numérica</font> \"idade\"<a name=\"num_idade\"></a>"
   ]
  },
  {
   "cell_type": "code",
   "execution_count": 14,
   "metadata": {},
   "outputs": [
    {
     "data": {
      "text/plain": [
       "count    1000.000000\n",
       "mean       44.286000\n",
       "std        16.277874\n",
       "min        17.000000\n",
       "25%        30.000000\n",
       "50%        43.000000\n",
       "75%        58.000000\n",
       "max        86.000000\n",
       "Name: idade, dtype: float64"
      ]
     },
     "execution_count": 14,
     "metadata": {},
     "output_type": "execute_result"
    }
   ],
   "source": [
    "df['idade'].describe()"
   ]
  },
  {
   "cell_type": "markdown",
   "metadata": {},
   "source": [
    "Verificação dos intervalos de outliers"
   ]
  },
  {
   "cell_type": "code",
   "execution_count": 15,
   "metadata": {},
   "outputs": [
    {
     "name": "stdout",
     "output_type": "stream",
     "text": [
      " Lower bound = -12.0 \n",
      " Upper bound = 100.0\n"
     ]
    }
   ],
   "source": [
    "outlier_bounds(df['idade'])"
   ]
  },
  {
   "cell_type": "markdown",
   "metadata": {},
   "source": [
    "Histograma e boxplot"
   ]
  },
  {
   "cell_type": "code",
   "execution_count": 16,
   "metadata": {},
   "outputs": [
    {
     "data": {
      "image/png": "[encoded data removed]",
      "text/plain": [
       "<Figure size 720x288 with 2 Axes>"
      ]
     },
     "metadata": {},
     "output_type": "display_data"
    }
   ],
   "source": [
    "plot_hist_box(df['idade'], 30)"
   ]
  },
  {
   "cell_type": "markdown",
   "metadata": {},
   "source": [
    "Observações:\n",
    "* 25% da base tem idade entre 17 e 30 anos, 50% da base apresenta idade até 43 anos, 25% da base tem idade entre 58 e 86 anos.\n",
    "* Idade máxima de 86 anos e menor de 17\n",
    "* Média > mediana, distribuição é assimétrica a direita\n",
    "* Não há outliers"
   ]
  },
  {
   "cell_type": "markdown",
   "metadata": {},
   "source": [
    "# 5. Análise bivariada<a name=\"anbivar\"></a>"
   ]
  },
  {
   "cell_type": "markdown",
   "metadata": {},
   "source": [
    "## 5.1. <font color='blue'>Atividade 2.2) Plot e perguntas</font> - aval_gov x voto1 <a name=\"atv222\"></a>"
   ]
  },
  {
   "cell_type": "markdown",
   "metadata": {},
   "source": [
    "Enunciado:\n",
    "\n",
    "2.2) Já o segundo, plot um gráfico que represente o cruzamento entre as variáveis intenção de voto e avaliação do governo. Quem avalia o governo de forma positiva, vota em qual candidato? E quem avalia de forma negativa?"
   ]
  },
  {
   "cell_type": "markdown",
   "metadata": {},
   "source": [
    "A tabela abaixo traz o cruzamento entre a intenção de voto e a avaliação do governo, Podemos ver que fica mais difícil de se avaliar a tabela quando se tem graus de positividade, portanto, **como estamos interessados apenas nas avaliações positivas e negativas, vide enunciado, o grau da positividade e negatividade não são relevantes**, assim, vou transformar tudo o que tiver caráter positivo em \"Positiva\" e tudo de caráter negativo em \"Negativa\". O que for NS/NR será mantido. Esse resultado virá em uma nova coluna."
   ]
  },
  {
   "cell_type": "code",
   "execution_count": 17,
   "metadata": {},
   "outputs": [
    {
     "name": "stdout",
     "output_type": "stream",
     "text": [
      "Valores absolutos:\n",
      "\n",
      "| voto1        |   Boa |   NS/NR |   Péssima |   Regular negativa |   Regular positiva |   Ruim |   Ótima |   All |\n",
      "|:-------------|------:|--------:|----------:|-------------------:|-------------------:|-------:|--------:|------:|\n",
      "| Branco/Nulo  |    36 |       5 |        25 |                 20 |                 35 |     13 |       8 |   142 |\n",
      "| Candidato 1  |    14 |       0 |         5 |                  7 |                 10 |      3 |       3 |    42 |\n",
      "| Candidato 10 |     6 |       0 |         2 |                  1 |                  8 |      1 |       2 |    20 |\n",
      "| Candidato 11 |     0 |       0 |         1 |                  0 |                  0 |      1 |       1 |     3 |\n",
      "| Candidato 12 |     2 |       0 |         1 |                  0 |                  1 |      0 |       2 |     6 |\n",
      "| Candidato 13 |     1 |       0 |         0 |                  1 |                  0 |      0 |       1 |     3 |\n",
      "| Candidato 14 |     2 |       0 |         1 |                  1 |                  1 |      0 |       1 |     6 |\n",
      "| Candidato 2  |   300 |       1 |         1 |                  7 |                 59 |      1 |     154 |   523 |\n",
      "| Candidato 3  |     8 |       0 |         0 |                  4 |                  2 |      2 |       0 |    16 |\n",
      "| Candidato 4  |     6 |       0 |         0 |                  2 |                  4 |      0 |       0 |    12 |\n",
      "| Candidato 5  |    11 |       0 |         1 |                  7 |                  4 |      2 |       0 |    25 |\n",
      "| Candidato 6  |     4 |       0 |         1 |                  3 |                  2 |      0 |       0 |    10 |\n",
      "| Candidato 7  |     1 |       0 |         1 |                  2 |                  2 |      1 |       0 |     7 |\n",
      "| Candidato 8  |     2 |       0 |         7 |                  5 |                  5 |      4 |       3 |    26 |\n",
      "| Candidato 9  |     7 |       0 |         1 |                  1 |                  6 |      3 |       1 |    19 |\n",
      "| NS/NR        |    43 |       8 |        17 |                 13 |                 36 |     18 |       5 |   140 |\n",
      "| All          |   443 |      14 |        64 |                 74 |                175 |     49 |     181 |  1000 |\n",
      "\n",
      "Porcentagem na linha:\n",
      "\n",
      "| voto1        |   Boa |   NS/NR |   Péssima |   Regular negativa |   Regular positiva |   Ruim |   Ótima |   All |\n",
      "|:-------------|------:|--------:|----------:|-------------------:|-------------------:|-------:|--------:|------:|\n",
      "| Branco/Nulo  |  0.25 |    0.04 |      0.18 |               0.14 |               0.25 |   0.09 |    0.06 |     1 |\n",
      "| Candidato 1  |  0.33 |    0    |      0.12 |               0.17 |               0.24 |   0.07 |    0.07 |     1 |\n",
      "| Candidato 10 |  0.3  |    0    |      0.1  |               0.05 |               0.4  |   0.05 |    0.1  |     1 |\n",
      "| Candidato 11 |  0    |    0    |      0.33 |               0    |               0    |   0.33 |    0.33 |     1 |\n",
      "| Candidato 12 |  0.33 |    0    |      0.17 |               0    |               0.17 |   0    |    0.33 |     1 |\n",
      "| Candidato 13 |  0.33 |    0    |      0    |               0.33 |               0    |   0    |    0.33 |     1 |\n",
      "| Candidato 14 |  0.33 |    0    |      0.17 |               0.17 |               0.17 |   0    |    0.17 |     1 |\n",
      "| Candidato 2  |  0.57 |    0    |      0    |               0.01 |               0.11 |   0    |    0.29 |     1 |\n",
      "| Candidato 3  |  0.5  |    0    |      0    |               0.25 |               0.12 |   0.12 |    0    |     1 |\n",
      "| Candidato 4  |  0.5  |    0    |      0    |               0.17 |               0.33 |   0    |    0    |     1 |\n",
      "| Candidato 5  |  0.44 |    0    |      0.04 |               0.28 |               0.16 |   0.08 |    0    |     1 |\n",
      "| Candidato 6  |  0.4  |    0    |      0.1  |               0.3  |               0.2  |   0    |    0    |     1 |\n",
      "| Candidato 7  |  0.14 |    0    |      0.14 |               0.29 |               0.29 |   0.14 |    0    |     1 |\n",
      "| Candidato 8  |  0.08 |    0    |      0.27 |               0.19 |               0.19 |   0.15 |    0.12 |     1 |\n",
      "| Candidato 9  |  0.37 |    0    |      0.05 |               0.05 |               0.32 |   0.16 |    0.05 |     1 |\n",
      "| NS/NR        |  0.31 |    0.06 |      0.12 |               0.09 |               0.26 |   0.13 |    0.04 |     1 |\n",
      "| All          |  0.44 |    0.01 |      0.06 |               0.07 |               0.18 |   0.05 |    0.18 |     1 |\n",
      "\n",
      "Porcentagem na coluna:\n",
      "\n",
      "| voto1        |   Boa |   NS/NR |   Péssima |   Regular negativa |   Regular positiva |   Ruim |   Ótima |   All |\n",
      "|:-------------|------:|--------:|----------:|-------------------:|-------------------:|-------:|--------:|------:|\n",
      "| Branco/Nulo  |  0.08 |    0.36 |      0.39 |               0.27 |               0.2  |   0.27 |    0.04 |  0.14 |\n",
      "| Candidato 1  |  0.03 |    0    |      0.08 |               0.09 |               0.06 |   0.06 |    0.02 |  0.04 |\n",
      "| Candidato 10 |  0.01 |    0    |      0.03 |               0.01 |               0.05 |   0.02 |    0.01 |  0.02 |\n",
      "| Candidato 11 |  0    |    0    |      0.02 |               0    |               0    |   0.02 |    0.01 |  0    |\n",
      "| Candidato 12 |  0    |    0    |      0.02 |               0    |               0.01 |   0    |    0.01 |  0.01 |\n",
      "| Candidato 13 |  0    |    0    |      0    |               0.01 |               0    |   0    |    0.01 |  0    |\n",
      "| Candidato 14 |  0    |    0    |      0.02 |               0.01 |               0.01 |   0    |    0.01 |  0.01 |\n",
      "| Candidato 2  |  0.68 |    0.07 |      0.02 |               0.09 |               0.34 |   0.02 |    0.85 |  0.52 |\n",
      "| Candidato 3  |  0.02 |    0    |      0    |               0.05 |               0.01 |   0.04 |    0    |  0.02 |\n",
      "| Candidato 4  |  0.01 |    0    |      0    |               0.03 |               0.02 |   0    |    0    |  0.01 |\n",
      "| Candidato 5  |  0.02 |    0    |      0.02 |               0.09 |               0.02 |   0.04 |    0    |  0.02 |\n",
      "| Candidato 6  |  0.01 |    0    |      0.02 |               0.04 |               0.01 |   0    |    0    |  0.01 |\n",
      "| Candidato 7  |  0    |    0    |      0.02 |               0.03 |               0.01 |   0.02 |    0    |  0.01 |\n",
      "| Candidato 8  |  0    |    0    |      0.11 |               0.07 |               0.03 |   0.08 |    0.02 |  0.03 |\n",
      "| Candidato 9  |  0.02 |    0    |      0.02 |               0.01 |               0.03 |   0.06 |    0.01 |  0.02 |\n",
      "| NS/NR        |  0.1  |    0.57 |      0.27 |               0.18 |               0.21 |   0.37 |    0.03 |  0.14 |\n",
      "| All          |  1    |    1    |      1    |               1    |               1    |   1    |    1    |  1    |\n"
     ]
    }
   ],
   "source": [
    "tabcont_2var(df['voto1'], df['aval_gov'])"
   ]
  },
  {
   "cell_type": "markdown",
   "metadata": {},
   "source": [
    "Transformação da aval_gov em aval_gov_resumido"
   ]
  },
  {
   "cell_type": "code",
   "execution_count": 18,
   "metadata": {},
   "outputs": [
    {
     "data": {
      "text/plain": [
       "Positiva    799\n",
       "Negativa    187\n",
       "NS/NR        14\n",
       "Name: aval_gov_resumido, dtype: int64"
      ]
     },
     "execution_count": 18,
     "metadata": {},
     "output_type": "execute_result"
    }
   ],
   "source": [
    "df['aval_gov_resumido'] = df['aval_gov']\n",
    "df['aval_gov_resumido'] = df['aval_gov_resumido'].replace(['Boa', 'Regular positiva', 'Ótima'], 'Positiva')\n",
    "df['aval_gov_resumido'] = df['aval_gov_resumido'].replace(['Ruim', 'Regular negativa', 'Péssima'], 'Negativa')\n",
    "\n",
    "df['aval_gov_resumido'].value_counts()"
   ]
  },
  {
   "cell_type": "markdown",
   "metadata": {},
   "source": [
    "Montando a tabela de contingência novamente"
   ]
  },
  {
   "cell_type": "code",
   "execution_count": 19,
   "metadata": {},
   "outputs": [
    {
     "name": "stdout",
     "output_type": "stream",
     "text": [
      "Valores absolutos:\n",
      "\n",
      "| voto1        |   NS/NR |   Negativa |   Positiva |   All |\n",
      "|:-------------|--------:|-----------:|-----------:|------:|\n",
      "| Branco/Nulo  |       5 |         58 |         79 |   142 |\n",
      "| Candidato 1  |       0 |         15 |         27 |    42 |\n",
      "| Candidato 10 |       0 |          4 |         16 |    20 |\n",
      "| Candidato 11 |       0 |          2 |          1 |     3 |\n",
      "| Candidato 12 |       0 |          1 |          5 |     6 |\n",
      "| Candidato 13 |       0 |          1 |          2 |     3 |\n",
      "| Candidato 14 |       0 |          2 |          4 |     6 |\n",
      "| Candidato 2  |       1 |          9 |        513 |   523 |\n",
      "| Candidato 3  |       0 |          6 |         10 |    16 |\n",
      "| Candidato 4  |       0 |          2 |         10 |    12 |\n",
      "| Candidato 5  |       0 |         10 |         15 |    25 |\n",
      "| Candidato 6  |       0 |          4 |          6 |    10 |\n",
      "| Candidato 7  |       0 |          4 |          3 |     7 |\n",
      "| Candidato 8  |       0 |         16 |         10 |    26 |\n",
      "| Candidato 9  |       0 |          5 |         14 |    19 |\n",
      "| NS/NR        |       8 |         48 |         84 |   140 |\n",
      "| All          |      14 |        187 |        799 |  1000 |\n",
      "\n",
      "Porcentagem na linha:\n",
      "\n",
      "| voto1        |   NS/NR |   Negativa |   Positiva |   All |\n",
      "|:-------------|--------:|-----------:|-----------:|------:|\n",
      "| Branco/Nulo  |    0.04 |       0.41 |       0.56 |     1 |\n",
      "| Candidato 1  |    0    |       0.36 |       0.64 |     1 |\n",
      "| Candidato 10 |    0    |       0.2  |       0.8  |     1 |\n",
      "| Candidato 11 |    0    |       0.67 |       0.33 |     1 |\n",
      "| Candidato 12 |    0    |       0.17 |       0.83 |     1 |\n",
      "| Candidato 13 |    0    |       0.33 |       0.67 |     1 |\n",
      "| Candidato 14 |    0    |       0.33 |       0.67 |     1 |\n",
      "| Candidato 2  |    0    |       0.02 |       0.98 |     1 |\n",
      "| Candidato 3  |    0    |       0.38 |       0.62 |     1 |\n",
      "| Candidato 4  |    0    |       0.17 |       0.83 |     1 |\n",
      "| Candidato 5  |    0    |       0.4  |       0.6  |     1 |\n",
      "| Candidato 6  |    0    |       0.4  |       0.6  |     1 |\n",
      "| Candidato 7  |    0    |       0.57 |       0.43 |     1 |\n",
      "| Candidato 8  |    0    |       0.62 |       0.38 |     1 |\n",
      "| Candidato 9  |    0    |       0.26 |       0.74 |     1 |\n",
      "| NS/NR        |    0.06 |       0.34 |       0.6  |     1 |\n",
      "| All          |    0.01 |       0.19 |       0.8  |     1 |\n",
      "\n",
      "Porcentagem na coluna:\n",
      "\n",
      "| voto1        |   NS/NR |   Negativa |   Positiva |   All |\n",
      "|:-------------|--------:|-----------:|-----------:|------:|\n",
      "| Branco/Nulo  |    0.36 |       0.31 |       0.1  |  0.14 |\n",
      "| Candidato 1  |    0    |       0.08 |       0.03 |  0.04 |\n",
      "| Candidato 10 |    0    |       0.02 |       0.02 |  0.02 |\n",
      "| Candidato 11 |    0    |       0.01 |       0    |  0    |\n",
      "| Candidato 12 |    0    |       0.01 |       0.01 |  0.01 |\n",
      "| Candidato 13 |    0    |       0.01 |       0    |  0    |\n",
      "| Candidato 14 |    0    |       0.01 |       0.01 |  0.01 |\n",
      "| Candidato 2  |    0.07 |       0.05 |       0.64 |  0.52 |\n",
      "| Candidato 3  |    0    |       0.03 |       0.01 |  0.02 |\n",
      "| Candidato 4  |    0    |       0.01 |       0.01 |  0.01 |\n",
      "| Candidato 5  |    0    |       0.05 |       0.02 |  0.02 |\n",
      "| Candidato 6  |    0    |       0.02 |       0.01 |  0.01 |\n",
      "| Candidato 7  |    0    |       0.02 |       0    |  0.01 |\n",
      "| Candidato 8  |    0    |       0.09 |       0.01 |  0.03 |\n",
      "| Candidato 9  |    0    |       0.03 |       0.02 |  0.02 |\n",
      "| NS/NR        |    0.57 |       0.26 |       0.11 |  0.14 |\n",
      "| All          |    1    |       1    |       1    |  1    |\n"
     ]
    }
   ],
   "source": [
    "tabcont_2var(df['voto1'], df['aval_gov_resumido'])"
   ]
  },
  {
   "cell_type": "markdown",
   "metadata": {},
   "source": [
    "Pelas tabelas observa-se que:\n",
    "* As pessoas que avaliam o governo de forma negativa tendem, em sua maioria (57%), a ou não saber em quem votarão ou a anular o voto\n",
    "* As pessoas que avaliam o governo de forma positiva tendem, em sua maioria (64%), a votar no candidato 2"
   ]
  },
  {
   "cell_type": "markdown",
   "metadata": {},
   "source": [
    "A confecção do gráfico, assim como a tabela acima, se dará com a variável \"aval_gov_resumido\", isso trará uma melhor visualização e melhor didática.\n",
    "\n",
    "Por se tratar de duas variáveis categóricas, utilizarei também o countplot da seaborn, porém neste caso farei uso do recurso \"hue\", em que segmenta as contagens por outra categoria"
   ]
  },
  {
   "cell_type": "code",
   "execution_count": 20,
   "metadata": {
    "scrolled": false
   },
   "outputs": [
    {
     "data": {
      "text/html": [
       "<script>\n",
       "code_show_err=false; \n",
       "function code_toggle_err() {\n",
       " if (code_show_err){\n",
       " $('div.output_stderr').hide();\n",
       " } else {\n",
       " $('div.output_stderr').show();\n",
       " }\n",
       " code_show_err = !code_show_err\n",
       "} \n",
       "$( document ).ready(code_toggle_err);\n",
       "</script>\n",
       "<a href=\"javascript:code_toggle_err()\">Desligar avisos do plot</a>."
      ],
      "text/plain": [
       "<IPython.core.display.HTML object>"
      ]
     },
     "execution_count": 20,
     "metadata": {},
     "output_type": "execute_result"
    },
    {
     "name": "stderr",
     "output_type": "stream",
     "text": [
      "posx and posy should be finite values\n",
      "posx and posy should be finite values\n",
      "posx and posy should be finite values\n",
      "posx and posy should be finite values\n",
      "posx and posy should be finite values\n",
      "posx and posy should be finite values\n",
      "posx and posy should be finite values\n",
      "posx and posy should be finite values\n",
      "posx and posy should be finite values\n",
      "posx and posy should be finite values\n",
      "posx and posy should be finite values\n",
      "posx and posy should be finite values\n",
      "posx and posy should be finite values\n",
      "posx and posy should be finite values\n",
      "posx and posy should be finite values\n",
      "posx and posy should be finite values\n",
      "posx and posy should be finite values\n",
      "posx and posy should be finite values\n",
      "posx and posy should be finite values\n",
      "posx and posy should be finite values\n",
      "posx and posy should be finite values\n",
      "posx and posy should be finite values\n",
      "posx and posy should be finite values\n",
      "posx and posy should be finite values\n",
      "posx and posy should be finite values\n",
      "posx and posy should be finite values\n"
     ]
    },
    {
     "data": {
      "image/png": "[encoded data removed]",
      "text/plain": [
       "<Figure size 1080x504 with 1 Axes>"
      ]
     },
     "metadata": {},
     "output_type": "display_data"
    }
   ],
   "source": [
    "# estilo white do seaborn\n",
    "sns.set_style('white')\n",
    "\n",
    "# Ordem alfabética\n",
    "ordem = [\"Candidato 1\", \"Candidato 2\", \"Candidato 3\", \"Candidato 4\", \"Candidato 5\", \"Candidato 6\", \"Candidato 7\", \"Candidato 8\",\n",
    "\"Candidato 9\", \"Candidato 10\", \"Candidato 11\", \"Candidato 12\", \"Candidato 13\", \"Candidato 14\", \"Branco/Nulo\", \"NS/NR\"]\n",
    "\n",
    "plt.figure(figsize = (15,7))\n",
    "ax = sns.countplot(x = \"voto1\", data = df, hue = 'aval_gov_resumido', order = ordem)\n",
    "title = ax.axes.set_title('Intenção de voto por candidato por avaliação do governo',fontsize = 20) # Título e tamanho\n",
    "x_labels = ax.set_xticklabels(rotation=45, labels = ax.get_xticklabels()) # possível utilizar também: labels = df['voto1'].unique()\n",
    "x_axis_name = ax.set_xlabel('Opção de voto', fontsize=15) # Nome eixo x e tamanho\n",
    "y_axis_name = ax.set_ylabel('Contagem', fontsize=15) # Nome eixo y e tamanho\n",
    "axis_num_size = ax.tick_params(labelsize=11) # ajuste do tamanho dos valores dos eixos\n",
    "ax.legend(title = 'Avaliação do governo', loc = 0, fontsize = 'x-large', title_fontsize = 'x-large')\n",
    "\n",
    "# O código abaixo para colocar os números nas barras foi retirado e adaptado de: \n",
    "#https://medium.com/swlh/quick-guide-to-labelling-data-for-common-seaborn-plots-736e10bf14a9\n",
    "\n",
    "for p in ax.patches:\n",
    "    # determina a altura de cada barra\n",
    "    altura = p.get_height()\n",
    "    # adiciona o texto em cada barra\n",
    "    numeros = ax.text(x = p.get_x()+(p.get_width()/2), # posição x de cada número. ficará no centro.\n",
    "    y = altura+8, # posição y do número, 8 unidades acima da barra\n",
    "    s = '{:.0f}'.format(altura), # formatação para número inteiro\n",
    "    ha = 'center') # alinhamento horizontal no centro\n",
    "    #p.set_width(0.35)\n",
    "\n",
    "import warnings\n",
    "\n",
    "#ignore by message\n",
    "warnings.filterwarnings(\"ignore\", message=\"posx and posy should be finite values\")\n",
    "\n",
    "sns.despine() # remover o contorno\n",
    "\n",
    "#Código para ignorar os avisos do plot voto1 x aval_gov_resumido. O plot funciona normalmente, porém quando encontra\n",
    "# uma categoria NS/NR que é igual a zero, dá o aviso\n",
    "\n",
    "#Fonte: https://stackoverflow.com/questions/9031783/hide-all-warnings-in-ipython\n",
    "\n",
    "from IPython.display import HTML\n",
    "HTML('''<script>\n",
    "code_show_err=false; \n",
    "function code_toggle_err() {\n",
    " if (code_show_err){\n",
    " $('div.output_stderr').hide();\n",
    " } else {\n",
    " $('div.output_stderr').show();\n",
    " }\n",
    " code_show_err = !code_show_err\n",
    "} \n",
    "$( document ).ready(code_toggle_err);\n",
    "</script>\n",
    "<a href=\"javascript:code_toggle_err()\">Desligar avisos do plot</a>.''')"
   ]
  },
  {
   "cell_type": "markdown",
   "metadata": {},
   "source": [
    "Conclui-se então que:\n",
    "* 187 pessoas avaliam o governo como negativo, 799 como positivo e 14 não respondem à pergunta;\n",
    "* **As pessoas que avaliam o governo de forma negativa tendem, em sua maioria, a ou não saber em quem votarão ou a anular o voto**\n",
    "* **As pessoas que avaliam o governo de forma positiva tendem, em sua maioria, a votar no candidato 2**;\n",
    "* A maioria absoluta (98%) dos que têm intenção de votar no Candidato 2 avaliam o governo como positivo;\n",
    "* A maioria da base, 80%, avalia o governo como positivo;\n",
    "* Apenas 0,01% da base não sabe ou não responde à pesquisa"
   ]
  },
  {
   "cell_type": "markdown",
   "metadata": {},
   "source": [
    "## 5.2. sexo x voto1 <a name=\"sexovoto\"></a>"
   ]
  },
  {
   "cell_type": "code",
   "execution_count": 21,
   "metadata": {},
   "outputs": [
    {
     "name": "stdout",
     "output_type": "stream",
     "text": [
      "Valores absolutos:\n",
      "\n",
      "| voto1        |   Feminino |   Masculino |   All |\n",
      "|:-------------|-----------:|------------:|------:|\n",
      "| Branco/Nulo  |         72 |          70 |   142 |\n",
      "| Candidato 1  |         11 |          31 |    42 |\n",
      "| Candidato 10 |         14 |           6 |    20 |\n",
      "| Candidato 11 |          1 |           2 |     3 |\n",
      "| Candidato 12 |          3 |           3 |     6 |\n",
      "| Candidato 13 |          2 |           1 |     3 |\n",
      "| Candidato 14 |          6 |           0 |     6 |\n",
      "| Candidato 2  |        295 |         228 |   523 |\n",
      "| Candidato 3  |          9 |           7 |    16 |\n",
      "| Candidato 4  |          4 |           8 |    12 |\n",
      "| Candidato 5  |         14 |          11 |    25 |\n",
      "| Candidato 6  |          7 |           3 |    10 |\n",
      "| Candidato 7  |          3 |           4 |     7 |\n",
      "| Candidato 8  |         14 |          12 |    26 |\n",
      "| Candidato 9  |          7 |          12 |    19 |\n",
      "| NS/NR        |         83 |          57 |   140 |\n",
      "| All          |        545 |         455 |  1000 |\n",
      "\n",
      "Porcentagem na linha:\n",
      "\n",
      "| voto1        |   Feminino |   Masculino |   All |\n",
      "|:-------------|-----------:|------------:|------:|\n",
      "| Branco/Nulo  |       0.51 |        0.49 |     1 |\n",
      "| Candidato 1  |       0.26 |        0.74 |     1 |\n",
      "| Candidato 10 |       0.7  |        0.3  |     1 |\n",
      "| Candidato 11 |       0.33 |        0.67 |     1 |\n",
      "| Candidato 12 |       0.5  |        0.5  |     1 |\n",
      "| Candidato 13 |       0.67 |        0.33 |     1 |\n",
      "| Candidato 14 |       1    |        0    |     1 |\n",
      "| Candidato 2  |       0.56 |        0.44 |     1 |\n",
      "| Candidato 3  |       0.56 |        0.44 |     1 |\n",
      "| Candidato 4  |       0.33 |        0.67 |     1 |\n",
      "| Candidato 5  |       0.56 |        0.44 |     1 |\n",
      "| Candidato 6  |       0.7  |        0.3  |     1 |\n",
      "| Candidato 7  |       0.43 |        0.57 |     1 |\n",
      "| Candidato 8  |       0.54 |        0.46 |     1 |\n",
      "| Candidato 9  |       0.37 |        0.63 |     1 |\n",
      "| NS/NR        |       0.59 |        0.41 |     1 |\n",
      "| All          |       0.55 |        0.46 |     1 |\n",
      "\n",
      "Porcentagem na coluna:\n",
      "\n",
      "| voto1        |   Feminino |   Masculino |   All |\n",
      "|:-------------|-----------:|------------:|------:|\n",
      "| Branco/Nulo  |       0.13 |        0.15 |  0.14 |\n",
      "| Candidato 1  |       0.02 |        0.07 |  0.04 |\n",
      "| Candidato 10 |       0.03 |        0.01 |  0.02 |\n",
      "| Candidato 11 |       0    |        0    |  0    |\n",
      "| Candidato 12 |       0.01 |        0.01 |  0.01 |\n",
      "| Candidato 13 |       0    |        0    |  0    |\n",
      "| Candidato 14 |       0.01 |        0    |  0.01 |\n",
      "| Candidato 2  |       0.54 |        0.5  |  0.52 |\n",
      "| Candidato 3  |       0.02 |        0.02 |  0.02 |\n",
      "| Candidato 4  |       0.01 |        0.02 |  0.01 |\n",
      "| Candidato 5  |       0.03 |        0.02 |  0.02 |\n",
      "| Candidato 6  |       0.01 |        0.01 |  0.01 |\n",
      "| Candidato 7  |       0.01 |        0.01 |  0.01 |\n",
      "| Candidato 8  |       0.03 |        0.03 |  0.03 |\n",
      "| Candidato 9  |       0.01 |        0.03 |  0.02 |\n",
      "| NS/NR        |       0.15 |        0.13 |  0.14 |\n",
      "| All          |       1    |        1    |  1    |\n"
     ]
    }
   ],
   "source": [
    "tabcont_2var(df['voto1'], df['sexo'])"
   ]
  },
  {
   "cell_type": "markdown",
   "metadata": {},
   "source": [
    "Pode-se observar que:\n",
    "* As mulheres, assim como os homens, preferem o candidato 2, porém os homens também se simpatizam pelo candidato 1, que teve 31 votos masculinos contra 11 femininos;\n",
    "* Homens e mulheres tendem, ao redor dos 15% a, ou votarem em branco ou a não saberem em quem votariam;\n",
    "* Nesta base, homens e mulheres são semelhantes na questão de voto. As mulheres tendem a saber menos o voto que os homens, mas a diferença não é significativa"
   ]
  },
  {
   "cell_type": "markdown",
   "metadata": {},
   "source": [
    "## 5.3. idade (categorizada) x voto1 <a name=\"idadevoto\"></a>"
   ]
  },
  {
   "cell_type": "markdown",
   "metadata": {},
   "source": [
    "Categorizando a variável idade em 4 categorias"
   ]
  },
  {
   "cell_type": "code",
   "execution_count": 22,
   "metadata": {},
   "outputs": [],
   "source": [
    "df['idade_cat'] = pd.qcut(df['idade'], q=4, precision=2)"
   ]
  },
  {
   "cell_type": "code",
   "execution_count": 23,
   "metadata": {},
   "outputs": [
    {
     "name": "stdout",
     "output_type": "stream",
     "text": [
      "Valores absolutos:\n",
      "\n",
      "| voto1        |   (16.99, 30.0] |   (30.0, 43.0] |   (43.0, 58.0] |   (58.0, 86.0] |   All |\n",
      "|:-------------|----------------:|---------------:|---------------:|---------------:|------:|\n",
      "| Branco/Nulo  |              34 |             37 |             37 |             34 |   142 |\n",
      "| Candidato 1  |               5 |             13 |              9 |             15 |    42 |\n",
      "| Candidato 10 |               8 |              7 |              3 |              2 |    20 |\n",
      "| Candidato 11 |               1 |              0 |              2 |              0 |     3 |\n",
      "| Candidato 12 |               0 |              2 |              4 |              0 |     6 |\n",
      "| Candidato 13 |               1 |              0 |              1 |              1 |     3 |\n",
      "| Candidato 14 |               4 |              1 |              1 |              0 |     6 |\n",
      "| Candidato 2  |             127 |            124 |            130 |            142 |   523 |\n",
      "| Candidato 3  |               6 |              3 |              2 |              5 |    16 |\n",
      "| Candidato 4  |               0 |              1 |              7 |              4 |    12 |\n",
      "| Candidato 5  |              12 |              9 |              4 |              0 |    25 |\n",
      "| Candidato 6  |               4 |              4 |              1 |              1 |    10 |\n",
      "| Candidato 7  |               1 |              2 |              1 |              3 |     7 |\n",
      "| Candidato 8  |               8 |              6 |              7 |              5 |    26 |\n",
      "| Candidato 9  |               6 |              7 |              4 |              2 |    19 |\n",
      "| NS/NR        |              39 |             32 |             35 |             34 |   140 |\n",
      "| All          |             256 |            248 |            248 |            248 |  1000 |\n",
      "\n",
      "Porcentagem na linha:\n",
      "\n",
      "| voto1        |   (16.99, 30.0] |   (30.0, 43.0] |   (43.0, 58.0] |   (58.0, 86.0] |   All |\n",
      "|:-------------|----------------:|---------------:|---------------:|---------------:|------:|\n",
      "| Branco/Nulo  |            0.24 |           0.26 |           0.26 |           0.24 |     1 |\n",
      "| Candidato 1  |            0.12 |           0.31 |           0.21 |           0.36 |     1 |\n",
      "| Candidato 10 |            0.4  |           0.35 |           0.15 |           0.1  |     1 |\n",
      "| Candidato 11 |            0.33 |           0    |           0.67 |           0    |     1 |\n",
      "| Candidato 12 |            0    |           0.33 |           0.67 |           0    |     1 |\n",
      "| Candidato 13 |            0.33 |           0    |           0.33 |           0.33 |     1 |\n",
      "| Candidato 14 |            0.67 |           0.17 |           0.17 |           0    |     1 |\n",
      "| Candidato 2  |            0.24 |           0.24 |           0.25 |           0.27 |     1 |\n",
      "| Candidato 3  |            0.38 |           0.19 |           0.12 |           0.31 |     1 |\n",
      "| Candidato 4  |            0    |           0.08 |           0.58 |           0.33 |     1 |\n",
      "| Candidato 5  |            0.48 |           0.36 |           0.16 |           0    |     1 |\n",
      "| Candidato 6  |            0.4  |           0.4  |           0.1  |           0.1  |     1 |\n",
      "| Candidato 7  |            0.14 |           0.29 |           0.14 |           0.43 |     1 |\n",
      "| Candidato 8  |            0.31 |           0.23 |           0.27 |           0.19 |     1 |\n",
      "| Candidato 9  |            0.32 |           0.37 |           0.21 |           0.11 |     1 |\n",
      "| NS/NR        |            0.28 |           0.23 |           0.25 |           0.24 |     1 |\n",
      "| All          |            0.26 |           0.25 |           0.25 |           0.25 |     1 |\n",
      "\n",
      "Porcentagem na coluna:\n",
      "\n",
      "| voto1        |   (16.99, 30.0] |   (30.0, 43.0] |   (43.0, 58.0] |   (58.0, 86.0] |   All |\n",
      "|:-------------|----------------:|---------------:|---------------:|---------------:|------:|\n",
      "| Branco/Nulo  |            0.13 |           0.15 |           0.15 |           0.14 |  0.14 |\n",
      "| Candidato 1  |            0.02 |           0.05 |           0.04 |           0.06 |  0.04 |\n",
      "| Candidato 10 |            0.03 |           0.03 |           0.01 |           0.01 |  0.02 |\n",
      "| Candidato 11 |            0    |           0    |           0.01 |           0    |  0    |\n",
      "| Candidato 12 |            0    |           0.01 |           0.02 |           0    |  0.01 |\n",
      "| Candidato 13 |            0    |           0    |           0    |           0    |  0    |\n",
      "| Candidato 14 |            0.02 |           0    |           0    |           0    |  0.01 |\n",
      "| Candidato 2  |            0.5  |           0.5  |           0.52 |           0.57 |  0.52 |\n",
      "| Candidato 3  |            0.02 |           0.01 |           0.01 |           0.02 |  0.02 |\n",
      "| Candidato 4  |            0    |           0    |           0.03 |           0.02 |  0.01 |\n",
      "| Candidato 5  |            0.05 |           0.04 |           0.02 |           0    |  0.02 |\n",
      "| Candidato 6  |            0.02 |           0.02 |           0    |           0    |  0.01 |\n",
      "| Candidato 7  |            0    |           0.01 |           0    |           0.01 |  0.01 |\n",
      "| Candidato 8  |            0.03 |           0.02 |           0.03 |           0.02 |  0.03 |\n",
      "| Candidato 9  |            0.02 |           0.03 |           0.02 |           0.01 |  0.02 |\n",
      "| NS/NR        |            0.15 |           0.13 |           0.14 |           0.14 |  0.14 |\n",
      "| All          |            1    |           1    |           1    |           1    |  1    |\n"
     ]
    }
   ],
   "source": [
    "tabcont_2var(df['voto1'], df['idade_cat'])"
   ]
  },
  {
   "cell_type": "markdown",
   "metadata": {},
   "source": [
    "Observa-se, então, que:\n",
    "* Idade não aparenta ser um divisor de águas para a questão da intenção de voto, as proporções entre os 4 grupos são parecidas em números absolutos e em porcentagem\n",
    "* Os 4 grupos de idade votam de forma semelhante no candidato 2\n",
    "* Os 4 grupos de idade também apresentam proporções semelhantes de voto em branco e NS/NR"
   ]
  },
  {
   "cell_type": "markdown",
   "metadata": {},
   "source": [
    "## 5.4. rendaf x voto1 <a name=\"rendafvoto\"></a>"
   ]
  },
  {
   "cell_type": "markdown",
   "metadata": {},
   "source": [
    "A variável rendaf gera uma quebra de layout na função tabcont_2var pois suas categorias têm nomes grandes. Para endereçar o problema, vou transformar as categorias de rendaf em uma variável ordinal e deixar registrado as categorias para consulta, elas são:\n",
    "\n",
    "1. Até R\\\\$ 1.045,00 (até 1 SM)\n",
    "2. De R\\\\$ 1.046,00 a R\\\\$ 2.090,00 (+ de 1SM até 2 SM)\n",
    "3. De R\\\\$ 2.091,00 a R\\\\$ 3.135,00 (+ de 2SM até 3 SM)\n",
    "4. De R\\\\$ 3.136,00 a R\\\\$ 5.225,00 (+ de 3SM até 5 SM)\n",
    "5. De R\\\\$ 5.226,00 a R\\\\$ 10.450,00 (+ de 5SM até 10 SM)\n",
    "6. De R\\\\$ 10.451,00 a R\\\\$ 15.675,00 (+ de 10SM até 15 SM)\n",
    "7. De R\\\\$ 15.676,00 a R\\\\$ 20.900,00 (+ de 15SM até 20 SM)\n",
    "8. Mais de R\\\\$ 20.900,00 (+ de 20 SM)"
   ]
  },
  {
   "cell_type": "code",
   "execution_count": 24,
   "metadata": {},
   "outputs": [
    {
     "name": "stdout",
     "output_type": "stream",
     "text": [
      "['De R$ 2.091,00 a R$ 3.135,00 (+ de 2SM até 3 SM)'\n",
      " 'De R$ 5.226,00 a R$ 10.450,00 (+ de 5SM até 10 SM)'\n",
      " 'De R$ 3.136,00 a R$ 5.225,00 (+ de 3SM até 5 SM)'\n",
      " 'De R$ 1.046,00 a R$ 2.090,00 (+ de 1SM até 2 SM)'\n",
      " 'Até R$ 1.045,00 (até 1 SM)'\n",
      " 'De R$ 15.676,00 a R$ 20.900,00 (+ de 15SM até 20 SM)'\n",
      " 'De R$ 10.451,00 a R$ 15.675,00 (+ de 10SM até 15 SM)'\n",
      " 'Mais de R$ 20.900,00 (+ de 20 SM)']\n",
      "8\n"
     ]
    }
   ],
   "source": [
    "print(df['rendaf'].unique())\n",
    "print(len(df['rendaf'].unique()))"
   ]
  },
  {
   "cell_type": "code",
   "execution_count": 25,
   "metadata": {},
   "outputs": [],
   "source": [
    "df['rendaf_ordinal'] = df['rendaf']\n",
    "df['rendaf_ordinal'] = df['rendaf_ordinal'].replace(['Até R$ 1.045,00 (até 1 SM)', \n",
    "                                                     'De R$ 1.046,00 a R$ 2.090,00 (+ de 1SM até 2 SM)', \n",
    "                                                     'De R$ 2.091,00 a R$ 3.135,00 (+ de 2SM até 3 SM)',\n",
    "                                                    'De R$ 3.136,00 a R$ 5.225,00 (+ de 3SM até 5 SM)',\n",
    "                                                    'De R$ 5.226,00 a R$ 10.450,00 (+ de 5SM até 10 SM)',\n",
    "                                                    'De R$ 10.451,00 a R$ 15.675,00 (+ de 10SM até 15 SM)',\n",
    "                                                    'De R$ 15.676,00 a R$ 20.900,00 (+ de 15SM até 20 SM)',\n",
    "                                                    'Mais de R$ 20.900,00 (+ de 20 SM)'], \n",
    "                                                    [1, 2, 3, 4, 5, 6, 7, 8])"
   ]
  },
  {
   "cell_type": "code",
   "execution_count": 26,
   "metadata": {},
   "outputs": [
    {
     "name": "stdout",
     "output_type": "stream",
     "text": [
      "Valores absolutos:\n",
      "\n",
      "| voto1        |   1 |   2 |   3 |   4 |   5 |   6 |   7 |   8 |   All |\n",
      "|:-------------|----:|----:|----:|----:|----:|----:|----:|----:|------:|\n",
      "| Branco/Nulo  |  38 |  36 |  33 |  19 |  10 |   5 |   1 |   0 |   142 |\n",
      "| Candidato 1  |   4 |  12 |  10 |   7 |   7 |   1 |   0 |   1 |    42 |\n",
      "| Candidato 10 |   5 |   6 |   3 |   3 |   1 |   2 |   0 |   0 |    20 |\n",
      "| Candidato 11 |   0 |   3 |   0 |   0 |   0 |   0 |   0 |   0 |     3 |\n",
      "| Candidato 12 |   2 |   1 |   1 |   0 |   2 |   0 |   0 |   0 |     6 |\n",
      "| Candidato 13 |   1 |   1 |   1 |   0 |   0 |   0 |   0 |   0 |     3 |\n",
      "| Candidato 14 |   1 |   2 |   2 |   0 |   1 |   0 |   0 |   0 |     6 |\n",
      "| Candidato 2  | 106 | 138 | 100 |  96 |  56 |  13 |  11 |   3 |   523 |\n",
      "| Candidato 3  |   2 |   5 |   5 |   2 |   2 |   0 |   0 |   0 |    16 |\n",
      "| Candidato 4  |   1 |   4 |   2 |   1 |   3 |   1 |   0 |   0 |    12 |\n",
      "| Candidato 5  |   1 |   3 |   7 |   9 |   3 |   2 |   0 |   0 |    25 |\n",
      "| Candidato 6  |   2 |   3 |   4 |   1 |   0 |   0 |   0 |   0 |    10 |\n",
      "| Candidato 7  |   1 |   3 |   1 |   0 |   1 |   0 |   1 |   0 |     7 |\n",
      "| Candidato 8  |   2 |   2 |   7 |   6 |   7 |   0 |   1 |   1 |    26 |\n",
      "| Candidato 9  |   6 |   5 |   3 |   3 |   1 |   1 |   0 |   0 |    19 |\n",
      "| NS/NR        |  33 |  22 |  31 |  30 |  16 |   3 |   3 |   2 |   140 |\n",
      "| All          | 205 | 246 | 210 | 177 | 110 |  28 |  17 |   7 |  1000 |\n",
      "\n",
      "Porcentagem na linha:\n",
      "\n",
      "| voto1        |    1 |    2 |    3 |    4 |    5 |    6 |    7 |    8 |   All |\n",
      "|:-------------|-----:|-----:|-----:|-----:|-----:|-----:|-----:|-----:|------:|\n",
      "| Branco/Nulo  | 0.27 | 0.25 | 0.23 | 0.13 | 0.07 | 0.04 | 0.01 | 0    |     1 |\n",
      "| Candidato 1  | 0.1  | 0.29 | 0.24 | 0.17 | 0.17 | 0.02 | 0    | 0.02 |     1 |\n",
      "| Candidato 10 | 0.25 | 0.3  | 0.15 | 0.15 | 0.05 | 0.1  | 0    | 0    |     1 |\n",
      "| Candidato 11 | 0    | 1    | 0    | 0    | 0    | 0    | 0    | 0    |     1 |\n",
      "| Candidato 12 | 0.33 | 0.17 | 0.17 | 0    | 0.33 | 0    | 0    | 0    |     1 |\n",
      "| Candidato 13 | 0.33 | 0.33 | 0.33 | 0    | 0    | 0    | 0    | 0    |     1 |\n",
      "| Candidato 14 | 0.17 | 0.33 | 0.33 | 0    | 0.17 | 0    | 0    | 0    |     1 |\n",
      "| Candidato 2  | 0.2  | 0.26 | 0.19 | 0.18 | 0.11 | 0.02 | 0.02 | 0.01 |     1 |\n",
      "| Candidato 3  | 0.12 | 0.31 | 0.31 | 0.12 | 0.12 | 0    | 0    | 0    |     1 |\n",
      "| Candidato 4  | 0.08 | 0.33 | 0.17 | 0.08 | 0.25 | 0.08 | 0    | 0    |     1 |\n",
      "| Candidato 5  | 0.04 | 0.12 | 0.28 | 0.36 | 0.12 | 0.08 | 0    | 0    |     1 |\n",
      "| Candidato 6  | 0.2  | 0.3  | 0.4  | 0.1  | 0    | 0    | 0    | 0    |     1 |\n",
      "| Candidato 7  | 0.14 | 0.43 | 0.14 | 0    | 0.14 | 0    | 0.14 | 0    |     1 |\n",
      "| Candidato 8  | 0.08 | 0.08 | 0.27 | 0.23 | 0.27 | 0    | 0.04 | 0.04 |     1 |\n",
      "| Candidato 9  | 0.32 | 0.26 | 0.16 | 0.16 | 0.05 | 0.05 | 0    | 0    |     1 |\n",
      "| NS/NR        | 0.24 | 0.16 | 0.22 | 0.21 | 0.11 | 0.02 | 0.02 | 0.01 |     1 |\n",
      "| All          | 0.2  | 0.25 | 0.21 | 0.18 | 0.11 | 0.03 | 0.02 | 0.01 |     1 |\n",
      "\n",
      "Porcentagem na coluna:\n",
      "\n",
      "| voto1        |    1 |    2 |    3 |    4 |    5 |    6 |    7 |    8 |   All |\n",
      "|:-------------|-----:|-----:|-----:|-----:|-----:|-----:|-----:|-----:|------:|\n",
      "| Branco/Nulo  | 0.19 | 0.15 | 0.16 | 0.11 | 0.09 | 0.18 | 0.06 | 0    |  0.14 |\n",
      "| Candidato 1  | 0.02 | 0.05 | 0.05 | 0.04 | 0.06 | 0.04 | 0    | 0.14 |  0.04 |\n",
      "| Candidato 10 | 0.02 | 0.02 | 0.01 | 0.02 | 0.01 | 0.07 | 0    | 0    |  0.02 |\n",
      "| Candidato 11 | 0    | 0.01 | 0    | 0    | 0    | 0    | 0    | 0    |  0    |\n",
      "| Candidato 12 | 0.01 | 0    | 0    | 0    | 0.02 | 0    | 0    | 0    |  0.01 |\n",
      "| Candidato 13 | 0    | 0    | 0    | 0    | 0    | 0    | 0    | 0    |  0    |\n",
      "| Candidato 14 | 0    | 0.01 | 0.01 | 0    | 0.01 | 0    | 0    | 0    |  0.01 |\n",
      "| Candidato 2  | 0.52 | 0.56 | 0.48 | 0.54 | 0.51 | 0.46 | 0.65 | 0.43 |  0.52 |\n",
      "| Candidato 3  | 0.01 | 0.02 | 0.02 | 0.01 | 0.02 | 0    | 0    | 0    |  0.02 |\n",
      "| Candidato 4  | 0    | 0.02 | 0.01 | 0.01 | 0.03 | 0.04 | 0    | 0    |  0.01 |\n",
      "| Candidato 5  | 0    | 0.01 | 0.03 | 0.05 | 0.03 | 0.07 | 0    | 0    |  0.02 |\n",
      "| Candidato 6  | 0.01 | 0.01 | 0.02 | 0.01 | 0    | 0    | 0    | 0    |  0.01 |\n",
      "| Candidato 7  | 0    | 0.01 | 0    | 0    | 0.01 | 0    | 0.06 | 0    |  0.01 |\n",
      "| Candidato 8  | 0.01 | 0.01 | 0.03 | 0.03 | 0.06 | 0    | 0.06 | 0.14 |  0.03 |\n",
      "| Candidato 9  | 0.03 | 0.02 | 0.01 | 0.02 | 0.01 | 0.04 | 0    | 0    |  0.02 |\n",
      "| NS/NR        | 0.16 | 0.09 | 0.15 | 0.17 | 0.15 | 0.11 | 0.18 | 0.29 |  0.14 |\n",
      "| All          | 1    | 1    | 1    | 1    | 1    | 1    | 1    | 1    |  1    |\n"
     ]
    }
   ],
   "source": [
    "tabcont_2var(df['voto1'], df['rendaf_ordinal'])"
   ]
  },
  {
   "cell_type": "markdown",
   "metadata": {},
   "source": [
    "Observa-se que:\n",
    "* 94,8% da base ganha até 10 salários mínimos (categorias de 1 a 5) e estes têm preferência pelo candidato 2, em torno dos 50%, em sua maioria e, em média, 30% destes eleitores, anulariam ou não sabem do seu voto\n",
    "* A classe 6, de 10 a 15SM, mantém a mesma tendência que as classes de 1 a 5, tanto de voto no candidato 2 quanto na anulação/NS\n",
    "* As classe 7 tem uma preferência pelo candidato 2 ainda maior que as outras, de 65%\n",
    "* A classe 8 possui uma amostragem muito baixa, apenas 7 respondentes, é complicado tirar conclusões sobre ela\n",
    "* A classe que mais anula ou não sabe o voto é a com menor renda, que recebe até 1 SM, com 35%"
   ]
  },
  {
   "cell_type": "markdown",
   "metadata": {},
   "source": [
    "## 5.5. esc x voto1 <a name=\"escvoto\"></a>"
   ]
  },
  {
   "cell_type": "markdown",
   "metadata": {},
   "source": [
    "Assim como a variável rendaf, a variável esc também gera uma quebra de layout na função tabcont_2var. Para corrigir isso, vou transformar as escolaridades também uma variável ordinal e deixar registrado as categorias para consulta, elas são:\n",
    "\n",
    "1. Sem instrução e menos de 1 ano de estudo\n",
    "2. Ensino fundamental incompleto\n",
    "3. Ensino fundamental completo\n",
    "4. Ensino médio incompleto\n",
    "5. Ensino médio completo\n",
    "6. Ensino superior incompleto\n",
    "7. Ensino superior completo"
   ]
  },
  {
   "cell_type": "code",
   "execution_count": 27,
   "metadata": {},
   "outputs": [
    {
     "name": "stdout",
     "output_type": "stream",
     "text": [
      "['Ensino médio completo' 'Ensino fundamental incompleto'\n",
      " 'Ensino superior incompleto' 'Ensino superior completo'\n",
      " 'Sem instrução e menos de 1 ano de estudo' 'Ensino médio incompleto'\n",
      " 'Ensino fundamental completo']\n",
      "7\n"
     ]
    }
   ],
   "source": [
    "print(df['esc'].unique())\n",
    "print(len(df['esc'].unique()))"
   ]
  },
  {
   "cell_type": "code",
   "execution_count": 28,
   "metadata": {},
   "outputs": [],
   "source": [
    "df['esc_ordinal'] = df['esc']\n",
    "df['esc_ordinal'] = df['esc_ordinal'].replace(['Sem instrução e menos de 1 ano de estudo', \n",
    "                                             'Ensino fundamental incompleto',\n",
    "                                            'Ensino fundamental completo',\n",
    "                                            'Ensino médio incompleto', \n",
    "                                            'Ensino médio completo',\n",
    "                                            'Ensino superior incompleto',\n",
    "                                            'Ensino superior completo'],\n",
    "                                            [1, 2, 3, 4, 5, 6, 7])"
   ]
  },
  {
   "cell_type": "code",
   "execution_count": 29,
   "metadata": {
    "scrolled": false
   },
   "outputs": [
    {
     "name": "stdout",
     "output_type": "stream",
     "text": [
      "Valores absolutos:\n",
      "\n",
      "| voto1        |   1 |   2 |   3 |   4 |   5 |   6 |   7 |   All |\n",
      "|:-------------|----:|----:|----:|----:|----:|----:|----:|------:|\n",
      "| Branco/Nulo  |   1 |  23 |  11 |  14 |  59 |  15 |  19 |   142 |\n",
      "| Candidato 1  |   0 |  14 |   2 |   2 |  10 |   4 |  10 |    42 |\n",
      "| Candidato 10 |   1 |   2 |   1 |   3 |   9 |   2 |   2 |    20 |\n",
      "| Candidato 11 |   0 |   1 |   0 |   0 |   1 |   0 |   1 |     3 |\n",
      "| Candidato 12 |   0 |   2 |   0 |   1 |   0 |   1 |   2 |     6 |\n",
      "| Candidato 13 |   0 |   0 |   1 |   0 |   2 |   0 |   0 |     3 |\n",
      "| Candidato 14 |   0 |   0 |   0 |   3 |   1 |   0 |   2 |     6 |\n",
      "| Candidato 2  |  10 | 105 |  50 |  43 | 177 |  45 |  93 |   523 |\n",
      "| Candidato 3  |   0 |   4 |   1 |   0 |   5 |   3 |   3 |    16 |\n",
      "| Candidato 4  |   0 |   3 |   0 |   0 |   3 |   2 |   4 |    12 |\n",
      "| Candidato 5  |   0 |   0 |   0 |   2 |   5 |   8 |  10 |    25 |\n",
      "| Candidato 6  |   0 |   1 |   0 |   2 |   4 |   1 |   2 |    10 |\n",
      "| Candidato 7  |   0 |   2 |   0 |   1 |   1 |   2 |   1 |     7 |\n",
      "| Candidato 8  |   0 |   1 |   2 |   1 |   6 |   5 |  11 |    26 |\n",
      "| Candidato 9  |   0 |   3 |   3 |   3 |   5 |   3 |   2 |    19 |\n",
      "| NS/NR        |   5 |  23 |  13 |  14 |  38 |  14 |  33 |   140 |\n",
      "| All          |  17 | 184 |  84 |  89 | 326 | 105 | 195 |  1000 |\n",
      "\n",
      "Porcentagem na linha:\n",
      "\n",
      "| voto1        |    1 |    2 |    3 |    4 |    5 |    6 |    7 |   All |\n",
      "|:-------------|-----:|-----:|-----:|-----:|-----:|-----:|-----:|------:|\n",
      "| Branco/Nulo  | 0.01 | 0.16 | 0.08 | 0.1  | 0.42 | 0.11 | 0.13 |     1 |\n",
      "| Candidato 1  | 0    | 0.33 | 0.05 | 0.05 | 0.24 | 0.1  | 0.24 |     1 |\n",
      "| Candidato 10 | 0.05 | 0.1  | 0.05 | 0.15 | 0.45 | 0.1  | 0.1  |     1 |\n",
      "| Candidato 11 | 0    | 0.33 | 0    | 0    | 0.33 | 0    | 0.33 |     1 |\n",
      "| Candidato 12 | 0    | 0.33 | 0    | 0.17 | 0    | 0.17 | 0.33 |     1 |\n",
      "| Candidato 13 | 0    | 0    | 0.33 | 0    | 0.67 | 0    | 0    |     1 |\n",
      "| Candidato 14 | 0    | 0    | 0    | 0.5  | 0.17 | 0    | 0.33 |     1 |\n",
      "| Candidato 2  | 0.02 | 0.2  | 0.1  | 0.08 | 0.34 | 0.09 | 0.18 |     1 |\n",
      "| Candidato 3  | 0    | 0.25 | 0.06 | 0    | 0.31 | 0.19 | 0.19 |     1 |\n",
      "| Candidato 4  | 0    | 0.25 | 0    | 0    | 0.25 | 0.17 | 0.33 |     1 |\n",
      "| Candidato 5  | 0    | 0    | 0    | 0.08 | 0.2  | 0.32 | 0.4  |     1 |\n",
      "| Candidato 6  | 0    | 0.1  | 0    | 0.2  | 0.4  | 0.1  | 0.2  |     1 |\n",
      "| Candidato 7  | 0    | 0.29 | 0    | 0.14 | 0.14 | 0.29 | 0.14 |     1 |\n",
      "| Candidato 8  | 0    | 0.04 | 0.08 | 0.04 | 0.23 | 0.19 | 0.42 |     1 |\n",
      "| Candidato 9  | 0    | 0.16 | 0.16 | 0.16 | 0.26 | 0.16 | 0.11 |     1 |\n",
      "| NS/NR        | 0.04 | 0.16 | 0.09 | 0.1  | 0.27 | 0.1  | 0.24 |     1 |\n",
      "| All          | 0.02 | 0.18 | 0.08 | 0.09 | 0.33 | 0.1  | 0.2  |     1 |\n",
      "\n",
      "Porcentagem na coluna:\n",
      "\n",
      "| voto1        |    1 |    2 |    3 |    4 |    5 |    6 |    7 |   All |\n",
      "|:-------------|-----:|-----:|-----:|-----:|-----:|-----:|-----:|------:|\n",
      "| Branco/Nulo  | 0.06 | 0.12 | 0.13 | 0.16 | 0.18 | 0.14 | 0.1  |  0.14 |\n",
      "| Candidato 1  | 0    | 0.08 | 0.02 | 0.02 | 0.03 | 0.04 | 0.05 |  0.04 |\n",
      "| Candidato 10 | 0.06 | 0.01 | 0.01 | 0.03 | 0.03 | 0.02 | 0.01 |  0.02 |\n",
      "| Candidato 11 | 0    | 0.01 | 0    | 0    | 0    | 0    | 0.01 |  0    |\n",
      "| Candidato 12 | 0    | 0.01 | 0    | 0.01 | 0    | 0.01 | 0.01 |  0.01 |\n",
      "| Candidato 13 | 0    | 0    | 0.01 | 0    | 0.01 | 0    | 0    |  0    |\n",
      "| Candidato 14 | 0    | 0    | 0    | 0.03 | 0    | 0    | 0.01 |  0.01 |\n",
      "| Candidato 2  | 0.59 | 0.57 | 0.6  | 0.48 | 0.54 | 0.43 | 0.48 |  0.52 |\n",
      "| Candidato 3  | 0    | 0.02 | 0.01 | 0    | 0.02 | 0.03 | 0.02 |  0.02 |\n",
      "| Candidato 4  | 0    | 0.02 | 0    | 0    | 0.01 | 0.02 | 0.02 |  0.01 |\n",
      "| Candidato 5  | 0    | 0    | 0    | 0.02 | 0.02 | 0.08 | 0.05 |  0.02 |\n",
      "| Candidato 6  | 0    | 0.01 | 0    | 0.02 | 0.01 | 0.01 | 0.01 |  0.01 |\n",
      "| Candidato 7  | 0    | 0.01 | 0    | 0.01 | 0    | 0.02 | 0.01 |  0.01 |\n",
      "| Candidato 8  | 0    | 0.01 | 0.02 | 0.01 | 0.02 | 0.05 | 0.06 |  0.03 |\n",
      "| Candidato 9  | 0    | 0.02 | 0.04 | 0.03 | 0.02 | 0.03 | 0.01 |  0.02 |\n",
      "| NS/NR        | 0.29 | 0.12 | 0.15 | 0.16 | 0.12 | 0.13 | 0.17 |  0.14 |\n",
      "| All          | 1    | 1    | 1    | 1    | 1    | 1    | 1    |  1    |\n"
     ]
    }
   ],
   "source": [
    "tabcont_2var(df['voto1'], df['esc_ordinal'])"
   ]
  },
  {
   "cell_type": "markdown",
   "metadata": {},
   "source": [
    "Observa-se que:\n",
    "* A escolaridade menos representativa é a Sem Instrução, bom indicador para o país\n",
    "* Todos os graus de escolaridade tendem para o mesmo candidato, o 2.\n",
    "* Pessoas com ensino médio incompleto (4), têm maior chance de anular ou não saber o voto (32%)"
   ]
  },
  {
   "cell_type": "code",
   "execution_count": 31,
   "metadata": {},
   "outputs": [
    {
     "name": "stdout",
     "output_type": "stream",
     "text": [
      "Valores absolutos:\n",
      "\n",
      "|                                                      |   1 |   2 |   3 |   4 |   5 |   6 |   7 |   All |\n",
      "|:-----------------------------------------------------|----:|----:|----:|----:|----:|----:|----:|------:|\n",
      "| ('Feminino', Interval(16.99, 30.0, closed='right'))  |   0 |   2 |   7 |  24 |  48 |  30 |  16 |   127 |\n",
      "| ('Feminino', Interval(30.0, 43.0, closed='right'))   |   1 |  11 |  10 |  15 |  58 |  16 |  38 |   149 |\n",
      "| ('Feminino', Interval(43.0, 58.0, closed='right'))   |   0 |  25 |   7 |   9 |  45 |   7 |  39 |   132 |\n",
      "| ('Feminino', Interval(58.0, 86.0, closed='right'))   |  11 |  53 |  10 |   4 |  36 |   4 |  19 |   137 |\n",
      "| ('Masculino', Interval(16.99, 30.0, closed='right')) |   0 |   6 |   7 |  20 |  54 |  29 |  13 |   129 |\n",
      "| ('Masculino', Interval(30.0, 43.0, closed='right'))  |   0 |  10 |   9 |  10 |  31 |  11 |  28 |    99 |\n",
      "| ('Masculino', Interval(43.0, 58.0, closed='right'))  |   1 |  31 |  17 |   2 |  32 |   4 |  29 |   116 |\n",
      "| ('Masculino', Interval(58.0, 86.0, closed='right'))  |   4 |  46 |  17 |   5 |  22 |   4 |  13 |   111 |\n",
      "| ('All', '')                                          |  17 | 184 |  84 |  89 | 326 | 105 | 195 |  1000 |\n",
      "\n",
      "Porcentagem na linha:\n",
      "\n",
      "|                                                      |    1 |    2 |    3 |    4 |    5 |    6 |    7 |   All |\n",
      "|:-----------------------------------------------------|-----:|-----:|-----:|-----:|-----:|-----:|-----:|------:|\n",
      "| ('Feminino', Interval(16.99, 30.0, closed='right'))  | 0    | 0.02 | 0.06 | 0.19 | 0.38 | 0.24 | 0.13 |     1 |\n",
      "| ('Feminino', Interval(30.0, 43.0, closed='right'))   | 0.01 | 0.07 | 0.07 | 0.1  | 0.39 | 0.11 | 0.26 |     1 |\n",
      "| ('Feminino', Interval(43.0, 58.0, closed='right'))   | 0    | 0.19 | 0.05 | 0.07 | 0.34 | 0.05 | 0.3  |     1 |\n",
      "| ('Feminino', Interval(58.0, 86.0, closed='right'))   | 0.08 | 0.39 | 0.07 | 0.03 | 0.26 | 0.03 | 0.14 |     1 |\n",
      "| ('Masculino', Interval(16.99, 30.0, closed='right')) | 0    | 0.05 | 0.05 | 0.16 | 0.42 | 0.22 | 0.1  |     1 |\n",
      "| ('Masculino', Interval(30.0, 43.0, closed='right'))  | 0    | 0.1  | 0.09 | 0.1  | 0.31 | 0.11 | 0.28 |     1 |\n",
      "| ('Masculino', Interval(43.0, 58.0, closed='right'))  | 0.01 | 0.27 | 0.15 | 0.02 | 0.28 | 0.03 | 0.25 |     1 |\n",
      "| ('Masculino', Interval(58.0, 86.0, closed='right'))  | 0.04 | 0.41 | 0.15 | 0.05 | 0.2  | 0.04 | 0.12 |     1 |\n",
      "| ('All', '')                                          | 0.02 | 0.18 | 0.08 | 0.09 | 0.33 | 0.1  | 0.2  |     1 |\n",
      "\n",
      "Porcentagem na coluna:\n",
      "\n",
      "|                                                      |   1 |   2 |   3 |   4 |   5 |   6 |   7 |   All |\n",
      "|:-----------------------------------------------------|----:|----:|----:|----:|----:|----:|----:|------:|\n",
      "| ('Feminino', Interval(16.99, 30.0, closed='right'))  | nan | nan | nan | nan | nan | nan | nan |   nan |\n",
      "| ('Feminino', Interval(30.0, 43.0, closed='right'))   | nan | nan | nan | nan | nan | nan | nan |   nan |\n",
      "| ('Feminino', Interval(43.0, 58.0, closed='right'))   | nan | nan | nan | nan | nan | nan | nan |   nan |\n",
      "| ('Feminino', Interval(58.0, 86.0, closed='right'))   | nan | nan | nan | nan | nan | nan | nan |   nan |\n",
      "| ('Masculino', Interval(16.99, 30.0, closed='right')) | nan | nan | nan | nan | nan | nan | nan |   nan |\n",
      "| ('Masculino', Interval(30.0, 43.0, closed='right'))  | nan | nan | nan | nan | nan | nan | nan |   nan |\n",
      "| ('Masculino', Interval(43.0, 58.0, closed='right'))  | nan | nan | nan | nan | nan | nan | nan |   nan |\n",
      "| ('Masculino', Interval(58.0, 86.0, closed='right'))  | nan | nan | nan | nan | nan | nan | nan |   nan |\n",
      "| ('All', '')                                          |   1 |   1 |   1 |   1 |   1 |   1 |   1 |     1 |\n"
     ]
    }
   ],
   "source": [
    "tabcont_2var([df['sexo'], df['idade_cat']], df['esc_ordinal'])"
   ]
  },
  {
   "cell_type": "code",
   "execution_count": null,
   "metadata": {},
   "outputs": [],
   "source": []
  }
 ],
 "metadata": {
  "kernelspec": {
   "display_name": "Python 3",
   "language": "python",
   "name": "python3"
  },
  "language_info": {
   "codemirror_mode": {
    "name": "ipython",
    "version": 3
   },
   "file_extension": ".py",
   "mimetype": "text/x-python",
   "name": "python",
   "nbconvert_exporter": "python",
   "pygments_lexer": "ipython3",
   "version": "3.8.5"
  },
  "varInspector": {
   "cols": {
    "lenName": 16,
    "lenType": 16,
    "lenVar": 40
   },
   "kernels_config": {
    "python": {
     "delete_cmd_postfix": "",
     "delete_cmd_prefix": "del ",
     "library": "var_list.py",
     "varRefreshCmd": "print(var_dic_list())"
    },
    "r": {
     "delete_cmd_postfix": ") ",
     "delete_cmd_prefix": "rm(",
     "library": "var_list.r",
     "varRefreshCmd": "cat(var_dic_list()) "
    }
   },
   "types_to_exclude": [
    "module",
    "function",
    "builtin_function_or_method",
    "instance",
    "_Feature"
   ],
   "window_display": false
  }
 },
 "nbformat": 4,
 "nbformat_minor": 4
}
