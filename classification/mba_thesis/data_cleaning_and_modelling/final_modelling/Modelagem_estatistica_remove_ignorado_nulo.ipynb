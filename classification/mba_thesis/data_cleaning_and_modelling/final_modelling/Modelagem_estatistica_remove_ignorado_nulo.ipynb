{
 "cells": [
  {
   "cell_type": "markdown",
   "id": "29d6eb18",
   "metadata": {},
   "source": [
    "# Modelagem Estatística\n",
    "\n",
    "### Banco de 2021\n",
    "\n",
    "Para a modelagem estatística, irei utilizar uma árvore de decisão pois acredito ser a melhor opção para visualizar quais variáveis são mais e menos importantes na hora de determinar o óbito.\n",
    "\n",
    "### Transformação das variáveis de idade e tempo de alta e óbito em categóricas\n",
    "\n",
    "No caso deste problema, há apenas 2 variáveis que não são categóricas, idade e tempo de alta ou óbito. Isso faz com que a árvore de decisão seja enviesada pois estas duas variáveis possibilitam infinitas quebras na árvore, a tornando muito importantes quando analisamos o feature importances e o SHAP. Desse modo, vou transformá-las em categóricas utilizando o pd.cut e ver como ficará o modelo.\n",
    "\n",
    "### Remoção de algumas colunas que já foram mostradas que não são úteis para as predições\n",
    "\n",
    "Através da árvore de decisão de profundidade 7 é possível observar que muitas colunas acabam não sendo utilizadas para prever o óbito. Além disso, há algumas colunas que são redundantes, por mais que não estejam correlacionadas, como diagnóstico Outros e os exames positivos para outros vírus.\n",
    "\n",
    "### Remoção de nulos e ignorados de colunas em que estes não são predominantes\n",
    "\n",
    "Vou começar pelas comorbidades e, se tudo der certo, passar para os sintomas e então para outras variáveis como diagnóstico e suporte ventilatório.\n",
    "\n",
    "Caso uma coluna elimine muitos registros ao editar Nulo e Ignorado, vou excluir a coluna ou mantê-la como está"
   ]
  },
  {
   "cell_type": "code",
   "execution_count": 1,
   "id": "5698cc37",
   "metadata": {},
   "outputs": [],
   "source": [
    "import numpy as np\n",
    "import pandas as pd\n",
    "import matplotlib.pyplot as plt "
   ]
  },
  {
   "cell_type": "code",
   "execution_count": 2,
   "id": "cf2479d4",
   "metadata": {},
   "outputs": [],
   "source": [
    "df = pd.read_csv('SRAG_2020_2021_idade_tempo_cat.csv', parse_dates=['DT_NOTIFIC'])\n",
    "\n",
    "df = df[df['tempo_alta_obito_final'] >= 0]"
   ]
  },
  {
   "cell_type": "code",
   "execution_count": 3,
   "id": "dba70106",
   "metadata": {
    "scrolled": true
   },
   "outputs": [
    {
     "data": {
      "text/plain": [
       "(-0.001, 39.0]    502254\n",
       "(39.0, 52.0]      447026\n",
       "(52.0, 63.0]      478908\n",
       "(63.0, 75.0]      497105\n",
       "(75.0, 121.0]     444562\n",
       "Name: idade1, dtype: int64"
      ]
     },
     "execution_count": 3,
     "metadata": {},
     "output_type": "execute_result"
    }
   ],
   "source": [
    "df['idade1'].value_counts().sort_index()"
   ]
  },
  {
   "cell_type": "code",
   "execution_count": 4,
   "id": "477f1750",
   "metadata": {},
   "outputs": [
    {
     "data": {
      "text/plain": [
       "(-0.001, 14.0]    506975\n",
       "(14.0, 36.0]      449796\n",
       "(162.0, 703.0]    469133\n",
       "(36.0, 85.0]      466670\n",
       "(85.0, 162.0]     477281\n",
       "Name: tempo_alta_obito_final1, dtype: int64"
      ]
     },
     "execution_count": 4,
     "metadata": {},
     "output_type": "execute_result"
    }
   ],
   "source": [
    "df['tempo_alta_obito_final1'].value_counts().sort_index()"
   ]
  },
  {
   "cell_type": "code",
   "execution_count": 5,
   "id": "1d2b4f1c",
   "metadata": {},
   "outputs": [
    {
     "name": "stdout",
     "output_type": "stream",
     "text": [
      "2021-03-15    11811\n",
      "2021-03-22    11675\n",
      "2021-03-29    11378\n",
      "2021-05-04    10878\n",
      "2021-03-30    10483\n",
      "              ...  \n",
      "2020-01-19       15\n",
      "2019-12-31        9\n",
      "2020-01-01        8\n",
      "2019-12-30        5\n",
      "2019-12-29        1\n",
      "Name: DT_NOTIFIC, Length: 701, dtype: int64\n",
      "\n",
      "7.0      39625\n",
      "10.0     39320\n",
      "8.0      38994\n",
      "9.0      38800\n",
      "15.0     38272\n",
      "         ...  \n",
      "664.0        1\n",
      "624.0        1\n",
      "591.0        1\n",
      "677.0        1\n",
      "564.0        1\n",
      "Name: tempo_alta_obito_final, Length: 688, dtype: int64\n",
      "\n",
      "Sim         1291688\n",
      "Nao          692425\n",
      "Nulo         353458\n",
      "Ignorado      32284\n",
      "Name: febre, dtype: int64\n",
      "\n",
      "Sim         1589378\n",
      "Nao          472154\n",
      "Nulo         281562\n",
      "Ignorado      26761\n",
      "Name: tosse, dtype: int64\n",
      "\n",
      "Sim         1647458\n",
      "Nao          434207\n",
      "Nulo         265003\n",
      "Ignorado      23187\n",
      "Name: dispneia, dtype: int64\n",
      "\n",
      "Nao         1366301\n",
      "Nulo         658700\n",
      "Sim          294607\n",
      "Ignorado      50247\n",
      "Name: diarreia, dtype: int64\n",
      "\n",
      "Nao         1427828\n",
      "Nulo         683614\n",
      "Sim          206308\n",
      "Ignorado      52105\n",
      "Name: vomito, dtype: int64\n",
      "\n",
      "Nao         1292800\n",
      "Nulo         636098\n",
      "Sim          387057\n",
      "Ignorado      53900\n",
      "Name: garganta, dtype: int64\n",
      "\n",
      "Sim         1321438\n",
      "Nao          607786\n",
      "Nulo         410249\n",
      "Ignorado      30382\n",
      "Name: desc_resp, dtype: int64\n",
      "\n",
      "Sim         1436109\n",
      "Nao          544791\n",
      "Nulo         355609\n",
      "Ignorado      33346\n",
      "Name: saturacao, dtype: int64\n",
      "\n",
      "Nao         1191442\n",
      "Nulo        1009931\n",
      "Sim          117648\n",
      "Ignorado      50834\n",
      "Name: dor_abd, dtype: int64\n",
      "\n",
      "Nulo        940102\n",
      "Nao         925407\n",
      "Sim         457272\n",
      "Ignorado     47074\n",
      "Name: fadiga, dtype: int64\n",
      "\n",
      "Nao         1151761\n",
      "Nulo         993071\n",
      "Sim          165695\n",
      "Ignorado      59328\n",
      "Name: perd_olft, dtype: int64\n",
      "\n",
      "Nao         1146868\n",
      "Nulo         994730\n",
      "Sim          168166\n",
      "Ignorado      60091\n",
      "Name: perd_pala, dtype: int64\n",
      "\n",
      "Nulo        1465357\n",
      "Nao          863529\n",
      "Ignorado      23565\n",
      "Sim           17404\n",
      "Name: hematologi, dtype: int64\n",
      "\n",
      "Nulo        1211193\n",
      "Sim          715656\n",
      "Nao          430204\n",
      "Ignorado      12802\n",
      "Name: cardiopati, dtype: int64\n",
      "\n",
      "Nulo        1449400\n",
      "Nao          820743\n",
      "Sim           77924\n",
      "Ignorado      21788\n",
      "Name: asma, dtype: int64\n",
      "\n",
      "Nulo        1287443\n",
      "Nao          569128\n",
      "Sim          497931\n",
      "Ignorado      15353\n",
      "Name: diabetes, dtype: int64\n",
      "\n",
      "Nulo        1442935\n",
      "Nao          810841\n",
      "Sim           93563\n",
      "Ignorado      22516\n",
      "Name: pneumopati, dtype: int64\n",
      "\n",
      "Nulo        1449192\n",
      "Nao          817601\n",
      "Sim           81098\n",
      "Ignorado      21964\n",
      "Name: renal, dtype: int64\n",
      "\n",
      "Nulo        1456529\n",
      "Nao          829505\n",
      "Sim           60774\n",
      "Ignorado      23047\n",
      "Name: imunodepre, dtype: int64\n",
      "\n",
      "Nulo        1467749\n",
      "Nao          858856\n",
      "Ignorado      23450\n",
      "Sim           19800\n",
      "Name: hepatica, dtype: int64\n",
      "\n",
      "Nulo        1443841\n",
      "Nao          810579\n",
      "Sim           93314\n",
      "Ignorado      22121\n",
      "Name: neurologic, dtype: int64\n",
      "\n",
      "Nulo        1422158\n",
      "Nao          752107\n",
      "Sim          166406\n",
      "Ignorado      29184\n",
      "Name: obesidade, dtype: int64\n",
      "\n",
      "Nulo        1468130\n",
      "Nao          872530\n",
      "Ignorado      21471\n",
      "Sim            7724\n",
      "Name: puerpera, dtype: int64\n",
      "\n",
      "Nulo        1468471\n",
      "Nao          872975\n",
      "Ignorado      21361\n",
      "Sim            7048\n",
      "Name: sind_down, dtype: int64\n",
      "\n",
      "SP    725853\n",
      "MG    270789\n",
      "RJ    192277\n",
      "PR    170105\n",
      "RS    141574\n",
      "SC     89407\n",
      "BA     87591\n",
      "GO     86420\n",
      "CE     81394\n",
      "PE     75829\n",
      "PA     57980\n",
      "DF     54182\n",
      "AM     46790\n",
      "MS     42406\n",
      "MT     40113\n",
      "PB     35283\n",
      "AL     26770\n",
      "MA     26315\n",
      "PI     23022\n",
      "RN     22065\n",
      "ES     16598\n",
      "RO     15504\n",
      "SE     12642\n",
      "TO     11606\n",
      "AC      6456\n",
      "AP      6156\n",
      "RR      4728\n",
      "Name: SG_UF_NOT, dtype: int64\n",
      "\n",
      "57.000     45352\n",
      "58.000     45310\n",
      "59.000     45207\n",
      "66.000     44644\n",
      "56.000     44223\n",
      "           ...  \n",
      "0.222          1\n",
      "116.000        1\n",
      "0.230          1\n",
      "5.917          1\n",
      "0.181          1\n",
      "Name: idade, Length: 180, dtype: int64\n",
      "\n",
      "M    1294215\n",
      "F    1075640\n",
      "Name: CS_SEXO, dtype: int64\n",
      "\n",
      "0    2347298\n",
      "1      22557\n",
      "Name: gravidez, dtype: int64\n",
      "\n",
      "Branca          994746\n",
      "Parda           808197\n",
      "Ignorado        390762\n",
      "Preta           106860\n",
      "Desconhecido     41364\n",
      "Amarela          23036\n",
      "Indigena          4890\n",
      "Name: raca, dtype: int64\n",
      "\n",
      "Ignorado    834185\n",
      "Nao         739125\n",
      "Nulo        546667\n",
      "Sim         249878\n",
      "Name: vacina_gripe, dtype: int64\n",
      "\n",
      "0    2341310\n",
      "1      28545\n",
      "Name: mae_amamenta, dtype: int64\n",
      "\n",
      "0    2368033\n",
      "1       1822\n",
      "Name: mae_vacinada_gripe, dtype: int64\n",
      "\n",
      "0    1649867\n",
      "1     719988\n",
      "Name: EVOLUCAO, dtype: int64\n",
      "\n",
      "COVID           1704696\n",
      "Desconhecido     637655\n",
      "Outros            24218\n",
      "Influenza          3286\n",
      "Name: diagnostico, dtype: int64\n",
      "\n",
      "Nao         1482523\n",
      "Nulo         352501\n",
      "Ignorado     333075\n",
      "Sim          201756\n",
      "Name: antiviral, dtype: int64\n",
      "\n",
      "Nao-invasivo    1138913\n",
      "Nao              485374\n",
      "Invasivo         391231\n",
      "Nulo             279694\n",
      "Ignorado          74643\n",
      "Name: suporte_vent, dtype: int64\n",
      "\n",
      "Nao         1321789\n",
      "Sim          736586\n",
      "Nulo         270517\n",
      "Ignorado      40963\n",
      "Name: uti, dtype: int64\n",
      "\n",
      "0    2358941\n",
      "1      10914\n",
      "Name: positivo_vsr, dtype: int64\n",
      "\n",
      "0    2369530\n",
      "1        325\n",
      "Name: positivo_para1, dtype: int64\n",
      "\n",
      "0    2369747\n",
      "1        108\n",
      "Name: positivo_para2, dtype: int64\n",
      "\n",
      "0    2369143\n",
      "1        712\n",
      "Name: positivo_para3, dtype: int64\n",
      "\n",
      "0    2369592\n",
      "1        263\n",
      "Name: positivo_para4, dtype: int64\n",
      "\n",
      "0    2368847\n",
      "1       1008\n",
      "Name: positivo_adeno, dtype: int64\n",
      "\n",
      "1    1307419\n",
      "0    1062436\n",
      "Name: positivo_sars2, dtype: int64\n",
      "\n",
      "0    2367274\n",
      "1       2581\n",
      "Name: positivo_influenza, dtype: int64\n",
      "\n",
      "0    2369395\n",
      "1        460\n",
      "Name: positivo_metap, dtype: int64\n",
      "\n",
      "0    2369191\n",
      "1        664\n",
      "Name: positivo_boca, dtype: int64\n",
      "\n",
      "0    2364092\n",
      "1       5763\n",
      "Name: positivo_rino, dtype: int64\n",
      "\n",
      "Nao-disponivel    1032230\n",
      "Nao                448581\n",
      "Nulo               422100\n",
      "Sim                251733\n",
      "Ignorado           215211\n",
      "Name: vacina_covid19, dtype: int64\n",
      "\n",
      "(-0.001, 39.0]    502254\n",
      "(63.0, 75.0]      497105\n",
      "(52.0, 63.0]      478908\n",
      "(39.0, 52.0]      447026\n",
      "(75.0, 121.0]     444562\n",
      "Name: idade1, dtype: int64\n",
      "\n",
      "(-0.001, 14.0]    506975\n",
      "(85.0, 162.0]     477281\n",
      "(162.0, 703.0]    469133\n",
      "(36.0, 85.0]      466670\n",
      "(14.0, 36.0]      449796\n",
      "Name: tempo_alta_obito_final1, dtype: int64\n",
      "\n"
     ]
    }
   ],
   "source": [
    "for i in df.columns:\n",
    "    print(df[i].value_counts())\n",
    "    print()"
   ]
  },
  {
   "cell_type": "code",
   "execution_count": 5,
   "id": "22ad8c9f",
   "metadata": {},
   "outputs": [],
   "source": [
    "remove_null_ig_num = ['hematologi', 'cardiopati', 'asma', 'diabetes', 'pneumopati', 'renal', 'imunodepre', 'hepatica', \n",
    "                      'neurologic', 'obesidade', 'puerpera', 'sind_down', 'febre', 'tosse', 'dispneia', 'diarreia', 'vomito', \n",
    "                      'garganta', 'desc_resp', 'saturacao', 'dor_abd', 'fadiga', 'perd_olft', 'perd_pala', 'uti', \n",
    "                      'vacina_gripe', 'antiviral']\n",
    "\n",
    "df = df[\n",
    "     # Morbidades\n",
    "     (df.cardiopati     != 'Nulo') & (df.cardiopati     != 'Ignorado') &\n",
    "     (df.hematologi     != 'Nulo') & (df.hematologi     != 'Ignorado') &\n",
    "     (df.asma           != 'Nulo') & (df.asma           != 'Ignorado') &\n",
    "     (df.diabetes       != 'Nulo') & (df.diabetes       != 'Ignorado') &\n",
    "     (df.pneumopati     != 'Nulo') & (df.pneumopati     != 'Ignorado') &\n",
    "     (df.renal          != 'Nulo') & (df.renal          != 'Ignorado') &\n",
    "     (df.imunodepre     != 'Nulo') & (df.imunodepre     != 'Ignorado') &\n",
    "     (df.hepatica       != 'Nulo') & (df.hepatica       != 'Ignorado') &\n",
    "     (df.neurologic     != 'Nulo') & (df.neurologic     != 'Ignorado') &\n",
    "     (df.obesidade      != 'Nulo') & (df.obesidade      != 'Ignorado') &\n",
    "     (df.puerpera       != 'Nulo') & (df.puerpera       != 'Ignorado') &\n",
    "     (df.sind_down      != 'Nulo') & (df.sind_down      != 'Ignorado') &\n",
    "\n",
    "     # Sintomas\n",
    "     (df.febre          != 'Nulo') & (df.febre          != 'Ignorado') &\n",
    "     (df.tosse          != 'Nulo') & (df.tosse          != 'Ignorado') &\n",
    "     (df.dispneia       != 'Nulo') & (df.dispneia       != 'Ignorado') &\n",
    "     (df.diarreia       != 'Nulo') & (df.diarreia       != 'Ignorado') &\n",
    "     (df.vomito         != 'Nulo') & (df.vomito         != 'Ignorado') &\n",
    "     (df.garganta       != 'Nulo') & (df.garganta       != 'Ignorado') &\n",
    "     (df.desc_resp      != 'Nulo') & (df.desc_resp      != 'Ignorado') &\n",
    "     (df.saturacao      != 'Nulo') & (df.saturacao      != 'Ignorado') &\n",
    "     (df.dor_abd        != 'Nulo') & (df.dor_abd        != 'Ignorado') & # Tirou muitos\n",
    "     (df.fadiga         != 'Nulo') & (df.fadiga         != 'Ignorado') &\n",
    "     (df.perd_olft      != 'Nulo') & (df.perd_olft      != 'Ignorado') &\n",
    "     (df.perd_pala      != 'Nulo') & (df.perd_pala      != 'Ignorado') &\n",
    "     \n",
    "     # Outras\n",
    "     (df.uti            != 'Nulo') & (df.uti            != 'Ignorado') &\n",
    "     (df.suporte_vent   != 'Nulo') & (df.suporte_vent   != 'Ignorado') &\n",
    "     (df.vacina_gripe   != 'Nulo') & (df.vacina_gripe   != 'Ignorado') & # Tirou muitos\n",
    "     (df.antiviral      != 'Nulo') & (df.antiviral      != 'Ignorado') &\n",
    "     (df.vacina_covid19 != 'Nulo') & (df.vacina_covid19 != 'Ignorado')\n",
    "    ].reset_index(drop=True).copy()"
   ]
  },
  {
   "cell_type": "code",
   "execution_count": 6,
   "id": "673a2307",
   "metadata": {},
   "outputs": [],
   "source": [
    "for i in remove_null_ig_num:\n",
    "    \n",
    "    df.loc[df[i] == 'Sim', i] = 1\n",
    "    df.loc[df[i] == 'Nao', i] = 0\n",
    "    \n",
    "    df[i] = df[i].astype(int)"
   ]
  },
  {
   "cell_type": "code",
   "execution_count": 7,
   "id": "6acfd4bf",
   "metadata": {},
   "outputs": [
    {
     "data": {
      "text/html": [
       "<div>\n",
       "<style scoped>\n",
       "    .dataframe tbody tr th:only-of-type {\n",
       "        vertical-align: middle;\n",
       "    }\n",
       "\n",
       "    .dataframe tbody tr th {\n",
       "        vertical-align: top;\n",
       "    }\n",
       "\n",
       "    .dataframe thead th {\n",
       "        text-align: right;\n",
       "    }\n",
       "</style>\n",
       "<table border=\"1\" class=\"dataframe\">\n",
       "  <thead>\n",
       "    <tr style=\"text-align: right;\">\n",
       "      <th>EVOLUCAO</th>\n",
       "      <th>0</th>\n",
       "      <th>1</th>\n",
       "    </tr>\n",
       "    <tr>\n",
       "      <th>vacina_covid19</th>\n",
       "      <th></th>\n",
       "      <th></th>\n",
       "    </tr>\n",
       "  </thead>\n",
       "  <tbody>\n",
       "    <tr>\n",
       "      <th>Nao</th>\n",
       "      <td>0.651881</td>\n",
       "      <td>0.348119</td>\n",
       "    </tr>\n",
       "    <tr>\n",
       "      <th>Nao-disponivel</th>\n",
       "      <td>0.714445</td>\n",
       "      <td>0.285555</td>\n",
       "    </tr>\n",
       "    <tr>\n",
       "      <th>Sim</th>\n",
       "      <td>0.669603</td>\n",
       "      <td>0.330397</td>\n",
       "    </tr>\n",
       "  </tbody>\n",
       "</table>\n",
       "</div>"
      ],
      "text/plain": [
       "EVOLUCAO               0         1\n",
       "vacina_covid19                    \n",
       "Nao             0.651881  0.348119\n",
       "Nao-disponivel  0.714445  0.285555\n",
       "Sim             0.669603  0.330397"
      ]
     },
     "execution_count": 7,
     "metadata": {},
     "output_type": "execute_result"
    }
   ],
   "source": [
    "pd.crosstab(df.vacina_covid19, df.EVOLUCAO, normalize = 'index')"
   ]
  },
  {
   "cell_type": "code",
   "execution_count": 9,
   "id": "2b4be56f",
   "metadata": {},
   "outputs": [],
   "source": [
    "df.to_csv('SRAG_2020_2021_semignonull.csv', index = False)"
   ]
  },
  {
   "cell_type": "code",
   "execution_count": 8,
   "id": "0fa2e24d",
   "metadata": {},
   "outputs": [
    {
     "data": {
      "text/plain": [
       "(247722, 53)"
      ]
     },
     "execution_count": 8,
     "metadata": {},
     "output_type": "execute_result"
    }
   ],
   "source": [
    "df.shape"
   ]
  },
  {
   "cell_type": "markdown",
   "id": "641026f6",
   "metadata": {},
   "source": [
    "## Seleção das variáveis numéricas e categóricas\n",
    "\n",
    "Também irei retirar algumas variáveis da análise, como Raça e Estado."
   ]
  },
  {
   "cell_type": "code",
   "execution_count": 9,
   "id": "738d7a60",
   "metadata": {},
   "outputs": [],
   "source": [
    "delete_vars = ['raca', 'SG_UF_NOT', 'EVOLUCAO', 'DT_NOTIFIC', 'idade', 'tempo_alta_obito_final', 'positivo_vsr', \n",
    "               'positivo_para1', 'positivo_para2', 'positivo_para3', 'positivo_para4', 'positivo_adeno', 'positivo_sars2', \n",
    "               'positivo_influenza', 'positivo_metap', 'positivo_boca', 'positivo_rino']\n",
    "num_vars = []\n",
    "dummy_vars = ['gravidez', 'mae_amamenta', 'mae_vacinada_gripe', 'hematologi', 'cardiopati', 'asma', 'diabetes', 'pneumopati', \n",
    "              'renal', 'imunodepre', 'hepatica', 'neurologic', 'obesidade', 'puerpera', 'sind_down', 'febre', 'tosse', \n",
    "              'dispneia', 'diarreia', 'vomito', 'garganta', 'desc_resp', 'saturacao', 'dor_abd', 'fadiga', 'perd_olft', \n",
    "              'perd_pala', 'uti', 'vacina_gripe', 'antiviral']\n",
    "\n",
    "cat_vars = [i for i in df.columns if (i not in delete_vars) and (i not in num_vars) and (i not in dummy_vars)]\n",
    "\n",
    "model_vars = cat_vars + num_vars + dummy_vars"
   ]
  },
  {
   "cell_type": "code",
   "execution_count": 10,
   "id": "c13e2d96",
   "metadata": {},
   "outputs": [
    {
     "data": {
      "text/plain": [
       "['CS_SEXO',\n",
       " 'diagnostico',\n",
       " 'suporte_vent',\n",
       " 'vacina_covid19',\n",
       " 'idade1',\n",
       " 'tempo_alta_obito_final1']"
      ]
     },
     "execution_count": 10,
     "metadata": {},
     "output_type": "execute_result"
    }
   ],
   "source": [
    "cat_vars"
   ]
  },
  {
   "cell_type": "code",
   "execution_count": 11,
   "id": "e168b056",
   "metadata": {},
   "outputs": [
    {
     "data": {
      "text/plain": [
       "36"
      ]
     },
     "execution_count": 11,
     "metadata": {},
     "output_type": "execute_result"
    }
   ],
   "source": [
    "len(model_vars)"
   ]
  },
  {
   "cell_type": "code",
   "execution_count": 12,
   "id": "798cda6c",
   "metadata": {},
   "outputs": [
    {
     "data": {
      "text/plain": [
       "['CS_SEXO',\n",
       " 'diagnostico',\n",
       " 'suporte_vent',\n",
       " 'vacina_covid19',\n",
       " 'idade1',\n",
       " 'tempo_alta_obito_final1',\n",
       " 'gravidez',\n",
       " 'mae_amamenta',\n",
       " 'mae_vacinada_gripe',\n",
       " 'hematologi',\n",
       " 'cardiopati',\n",
       " 'asma',\n",
       " 'diabetes',\n",
       " 'pneumopati',\n",
       " 'renal',\n",
       " 'imunodepre',\n",
       " 'hepatica',\n",
       " 'neurologic',\n",
       " 'obesidade',\n",
       " 'puerpera',\n",
       " 'sind_down',\n",
       " 'febre',\n",
       " 'tosse',\n",
       " 'dispneia',\n",
       " 'diarreia',\n",
       " 'vomito',\n",
       " 'garganta',\n",
       " 'desc_resp',\n",
       " 'saturacao',\n",
       " 'dor_abd',\n",
       " 'fadiga',\n",
       " 'perd_olft',\n",
       " 'perd_pala',\n",
       " 'uti',\n",
       " 'vacina_gripe',\n",
       " 'antiviral']"
      ]
     },
     "execution_count": 12,
     "metadata": {},
     "output_type": "execute_result"
    }
   ],
   "source": [
    "model_vars"
   ]
  },
  {
   "cell_type": "markdown",
   "id": "5b034727",
   "metadata": {},
   "source": [
    "### Separando em treino e teste (OOT)\n",
    "\n",
    "O banco de teste será OOT (Out of time). Pode-se ver pela variável DT_NOTIFIC que o banco vai de 29/12/2019 até 09/12/2021 (provável erro). Vou utilizar como treino os casos do início até 31 de junho de 2021. A partir de 01 de julho de 2021 será utilizado como teste (OOT).\n",
    "\n",
    "Essa divisão traz uma proporção de, aproximadamente 19,7% para teste"
   ]
  },
  {
   "cell_type": "code",
   "execution_count": 12,
   "id": "3c5b2827",
   "metadata": {},
   "outputs": [
    {
     "data": {
      "text/html": [
       "<div>\n",
       "<style scoped>\n",
       "    .dataframe tbody tr th:only-of-type {\n",
       "        vertical-align: middle;\n",
       "    }\n",
       "\n",
       "    .dataframe tbody tr th {\n",
       "        vertical-align: top;\n",
       "    }\n",
       "\n",
       "    .dataframe thead th {\n",
       "        text-align: right;\n",
       "    }\n",
       "</style>\n",
       "<table border=\"1\" class=\"dataframe\">\n",
       "  <thead>\n",
       "    <tr style=\"text-align: right;\">\n",
       "      <th></th>\n",
       "      <th>DT_NOTIFIC</th>\n",
       "    </tr>\n",
       "  </thead>\n",
       "  <tbody>\n",
       "    <tr>\n",
       "      <th>count</th>\n",
       "      <td>247722</td>\n",
       "    </tr>\n",
       "    <tr>\n",
       "      <th>mean</th>\n",
       "      <td>2021-02-04 19:57:00.379296</td>\n",
       "    </tr>\n",
       "    <tr>\n",
       "      <th>min</th>\n",
       "      <td>2020-01-04 00:00:00</td>\n",
       "    </tr>\n",
       "    <tr>\n",
       "      <th>25%</th>\n",
       "      <td>2020-09-25 00:00:00</td>\n",
       "    </tr>\n",
       "    <tr>\n",
       "      <th>50%</th>\n",
       "      <td>2021-03-06 00:00:00</td>\n",
       "    </tr>\n",
       "    <tr>\n",
       "      <th>75%</th>\n",
       "      <td>2021-06-14 00:00:00</td>\n",
       "    </tr>\n",
       "    <tr>\n",
       "      <th>max</th>\n",
       "      <td>2021-12-11 00:00:00</td>\n",
       "    </tr>\n",
       "  </tbody>\n",
       "</table>\n",
       "</div>"
      ],
      "text/plain": [
       "                       DT_NOTIFIC\n",
       "count                      247722\n",
       "mean   2021-02-04 19:57:00.379296\n",
       "min           2020-01-04 00:00:00\n",
       "25%           2020-09-25 00:00:00\n",
       "50%           2021-03-06 00:00:00\n",
       "75%           2021-06-14 00:00:00\n",
       "max           2021-12-11 00:00:00"
      ]
     },
     "execution_count": 12,
     "metadata": {},
     "output_type": "execute_result"
    }
   ],
   "source": [
    "df[['DT_NOTIFIC']].describe(datetime_is_numeric=True)"
   ]
  },
  {
   "cell_type": "code",
   "execution_count": 13,
   "id": "79686e6e",
   "metadata": {},
   "outputs": [],
   "source": [
    "data_corte = pd.to_datetime('2021-07-01')\n",
    "\n",
    "df_train = df[df['DT_NOTIFIC'] <= data_corte].reset_index().copy()\n",
    "df_test = df[df['DT_NOTIFIC'] >= data_corte].reset_index().copy()"
   ]
  },
  {
   "cell_type": "code",
   "execution_count": 14,
   "id": "4fd32775",
   "metadata": {},
   "outputs": [
    {
     "data": {
      "text/plain": [
       "((197189, 54), (50565, 54))"
      ]
     },
     "execution_count": 14,
     "metadata": {},
     "output_type": "execute_result"
    }
   ],
   "source": [
    "df_train.shape, df_test.shape"
   ]
  },
  {
   "cell_type": "code",
   "execution_count": 15,
   "id": "8bcd41b6",
   "metadata": {},
   "outputs": [],
   "source": [
    "X_train = df_train[model_vars].copy()\n",
    "y_train = df_train['EVOLUCAO'].copy()\n",
    "\n",
    "X_test = df_test[model_vars].copy()\n",
    "y_test = df_test['EVOLUCAO'].copy()"
   ]
  },
  {
   "cell_type": "code",
   "execution_count": 16,
   "id": "de1a9e08",
   "metadata": {},
   "outputs": [
    {
     "data": {
      "text/plain": [
       "0    0.679627\n",
       "1    0.320373\n",
       "Name: EVOLUCAO, dtype: float64"
      ]
     },
     "execution_count": 16,
     "metadata": {},
     "output_type": "execute_result"
    }
   ],
   "source": [
    "y_train.value_counts(normalize=True)"
   ]
  },
  {
   "cell_type": "code",
   "execution_count": 17,
   "id": "2a7c7833",
   "metadata": {},
   "outputs": [
    {
     "data": {
      "text/plain": [
       "0    0.695956\n",
       "1    0.304044\n",
       "Name: EVOLUCAO, dtype: float64"
      ]
     },
     "execution_count": 17,
     "metadata": {},
     "output_type": "execute_result"
    }
   ],
   "source": [
    "y_test.value_counts(normalize=True)"
   ]
  },
  {
   "cell_type": "markdown",
   "id": "0d984c57",
   "metadata": {},
   "source": [
    "A proporção entre 0 e 1 de teste e treino é próxima e se mantém, também, do dataset sem tratamento."
   ]
  },
  {
   "cell_type": "markdown",
   "id": "02fb7169",
   "metadata": {},
   "source": [
    "## Modelagem - Árvore de decisão"
   ]
  },
  {
   "cell_type": "code",
   "execution_count": 18,
   "id": "9b87a8ad",
   "metadata": {},
   "outputs": [],
   "source": [
    "from sklearn.pipeline import Pipeline\n",
    "from feature_engine.encoding import OneHotEncoder\n",
    "from feature_engine.wrappers import SklearnTransformerWrapper\n",
    "\n",
    "from sklearn.tree import DecisionTreeClassifier, plot_tree\n",
    "\n",
    "from sklearn.model_selection import StratifiedKFold\n",
    "from sklearn.model_selection import cross_val_score\n",
    "\n",
    "from sklearn.metrics import accuracy_score"
   ]
  },
  {
   "cell_type": "markdown",
   "id": "f8ad496c",
   "metadata": {},
   "source": [
    "Para não ter que aplicar em cada loop a transformação das colunas categóricas em dummy, vou fazer o processo apenas 1 vez e aplicar no modelo"
   ]
  },
  {
   "cell_type": "code",
   "execution_count": 19,
   "id": "536e6f27",
   "metadata": {},
   "outputs": [],
   "source": [
    "onehot = OneHotEncoder()"
   ]
  },
  {
   "cell_type": "code",
   "execution_count": 20,
   "id": "6f56c8e4",
   "metadata": {},
   "outputs": [],
   "source": [
    "X_train_transf = onehot.fit_transform(X_train)\n",
    "\n",
    "X_test_transf = onehot.transform(X_test)"
   ]
  },
  {
   "cell_type": "code",
   "execution_count": 21,
   "id": "5412edf2",
   "metadata": {},
   "outputs": [
    {
     "data": {
      "text/plain": [
       "((197189, 52), (50565, 52))"
      ]
     },
     "execution_count": 21,
     "metadata": {},
     "output_type": "execute_result"
    }
   ],
   "source": [
    "X_train_transf.shape, X_test_transf.shape"
   ]
  },
  {
   "cell_type": "markdown",
   "id": "726e00ba",
   "metadata": {},
   "source": [
    "### Baseline - Modelo sem ajuste de hiperparâmetros"
   ]
  },
  {
   "cell_type": "code",
   "execution_count": 51,
   "id": "6b9db37d",
   "metadata": {},
   "outputs": [],
   "source": [
    "dt = Pipeline(steps=[\n",
    "    ('dt', DecisionTreeClassifier(random_state=42))\n",
    "])"
   ]
  },
  {
   "cell_type": "code",
   "execution_count": 52,
   "id": "301bb8b6",
   "metadata": {},
   "outputs": [
    {
     "data": {
      "text/plain": [
       "Pipeline(steps=[('dt', DecisionTreeClassifier(random_state=42))])"
      ]
     },
     "execution_count": 52,
     "metadata": {},
     "output_type": "execute_result"
    }
   ],
   "source": [
    "dt.fit(X_train_transf, y_train)"
   ]
  },
  {
   "cell_type": "markdown",
   "id": "cd09b415",
   "metadata": {},
   "source": [
    "## Avaliação do modelo"
   ]
  },
  {
   "cell_type": "markdown",
   "id": "2e6a1128",
   "metadata": {},
   "source": [
    "### Acurácia"
   ]
  },
  {
   "cell_type": "code",
   "execution_count": 53,
   "id": "f67b34a6",
   "metadata": {},
   "outputs": [
    {
     "name": "stdout",
     "output_type": "stream",
     "text": [
      "Acurácia Treino: 0.969029712610744\n",
      "Acurácia Teste: 0.706733906852566\n"
     ]
    }
   ],
   "source": [
    "y_pred_train = dt.predict(X_train_transf)\n",
    "y_pred_test = dt.predict(X_test_transf)\n",
    "from sklearn.metrics import accuracy_score\n",
    "\n",
    "print('Acurácia Treino:', accuracy_score(y_train, y_pred_train))\n",
    "print('Acurácia Teste:', accuracy_score(y_test, y_pred_test))"
   ]
  },
  {
   "cell_type": "markdown",
   "id": "c3545b93",
   "metadata": {},
   "source": [
    "### AUROC"
   ]
  },
  {
   "cell_type": "code",
   "execution_count": 54,
   "id": "713f83a0",
   "metadata": {},
   "outputs": [
    {
     "name": "stdout",
     "output_type": "stream",
     "text": [
      "AUC Treino: 0.9975693266300268\n",
      "AUC Teste: 0.6702399092019227\n"
     ]
    }
   ],
   "source": [
    "from sklearn.metrics import roc_auc_score\n",
    "\n",
    "y_proba = dt.predict_proba(X_train_transf)[:, 1]\n",
    "\n",
    "y_proba_test = dt.predict_proba(X_test_transf)[:, 1]\n",
    "\n",
    "\n",
    "print('AUC Treino:', roc_auc_score(y_train, y_proba))\n",
    "print('AUC Teste:', roc_auc_score(y_test, y_proba_test))"
   ]
  },
  {
   "cell_type": "code",
   "execution_count": 55,
   "id": "9277cf99",
   "metadata": {},
   "outputs": [
    {
     "data": {
      "text/plain": [
       "<sklearn.metrics._plot.confusion_matrix.ConfusionMatrixDisplay at 0x1df8b957df0>"
      ]
     },
     "execution_count": 55,
     "metadata": {},
     "output_type": "execute_result"
    },
    {
     "data": {
      "image/png": "[encoded data removed]",
      "text/plain": [
       "<Figure size 432x288 with 2 Axes>"
      ]
     },
     "metadata": {
      "needs_background": "light"
     },
     "output_type": "display_data"
    }
   ],
   "source": [
    "from sklearn.metrics import confusion_matrix, ConfusionMatrixDisplay\n",
    "import matplotlib.pyplot as plt\n",
    "\n",
    "cm = confusion_matrix(y_test, y_pred_test)\n",
    "disp = ConfusionMatrixDisplay(confusion_matrix=cm)\n",
    "disp.plot()"
   ]
  },
  {
   "cell_type": "markdown",
   "id": "02575693",
   "metadata": {},
   "source": [
    "### Classification Report"
   ]
  },
  {
   "cell_type": "code",
   "execution_count": 56,
   "id": "965c88e0",
   "metadata": {},
   "outputs": [
    {
     "name": "stdout",
     "output_type": "stream",
     "text": [
      "              precision    recall  f1-score   support\n",
      "\n",
      "        Alta       0.80      0.77      0.79     35191\n",
      "       Obito       0.52      0.56      0.54     15374\n",
      "\n",
      "    accuracy                           0.71     50565\n",
      "   macro avg       0.66      0.66      0.66     50565\n",
      "weighted avg       0.71      0.71      0.71     50565\n",
      "\n"
     ]
    }
   ],
   "source": [
    "from sklearn.metrics import classification_report\n",
    "\n",
    "print(classification_report(y_test, y_pred_test, target_names=['Alta', 'Obito']))"
   ]
  },
  {
   "cell_type": "markdown",
   "id": "501dfb2b",
   "metadata": {},
   "source": [
    "## Feature Importances\n",
    "\n",
    "Entendendo quais são as características que não podem faltar na triagem de um paciente com suspeita de SRAG"
   ]
  },
  {
   "cell_type": "code",
   "execution_count": 57,
   "id": "96200967",
   "metadata": {},
   "outputs": [
    {
     "data": {
      "text/html": [
       "<div>\n",
       "<style scoped>\n",
       "    .dataframe tbody tr th:only-of-type {\n",
       "        vertical-align: middle;\n",
       "    }\n",
       "\n",
       "    .dataframe tbody tr th {\n",
       "        vertical-align: top;\n",
       "    }\n",
       "\n",
       "    .dataframe thead th {\n",
       "        text-align: right;\n",
       "    }\n",
       "</style>\n",
       "<table border=\"1\" class=\"dataframe\">\n",
       "  <thead>\n",
       "    <tr style=\"text-align: right;\">\n",
       "      <th></th>\n",
       "      <th>features</th>\n",
       "      <th>importances</th>\n",
       "    </tr>\n",
       "  </thead>\n",
       "  <tbody>\n",
       "    <tr>\n",
       "      <th>38</th>\n",
       "      <td>suporte_vent_Invasivo</td>\n",
       "      <td>0.224077</td>\n",
       "    </tr>\n",
       "    <tr>\n",
       "      <th>15</th>\n",
       "      <td>febre</td>\n",
       "      <td>0.041640</td>\n",
       "    </tr>\n",
       "    <tr>\n",
       "      <th>4</th>\n",
       "      <td>cardiopati</td>\n",
       "      <td>0.037687</td>\n",
       "    </tr>\n",
       "    <tr>\n",
       "      <th>16</th>\n",
       "      <td>tosse</td>\n",
       "      <td>0.033649</td>\n",
       "    </tr>\n",
       "    <tr>\n",
       "      <th>6</th>\n",
       "      <td>diabetes</td>\n",
       "      <td>0.030677</td>\n",
       "    </tr>\n",
       "    <tr>\n",
       "      <th>27</th>\n",
       "      <td>uti</td>\n",
       "      <td>0.030067</td>\n",
       "    </tr>\n",
       "    <tr>\n",
       "      <th>24</th>\n",
       "      <td>fadiga</td>\n",
       "      <td>0.029957</td>\n",
       "    </tr>\n",
       "    <tr>\n",
       "      <th>44</th>\n",
       "      <td>idade1_(75.0, 121.0]</td>\n",
       "      <td>0.029923</td>\n",
       "    </tr>\n",
       "    <tr>\n",
       "      <th>28</th>\n",
       "      <td>vacina_gripe</td>\n",
       "      <td>0.029908</td>\n",
       "    </tr>\n",
       "    <tr>\n",
       "      <th>20</th>\n",
       "      <td>garganta</td>\n",
       "      <td>0.026935</td>\n",
       "    </tr>\n",
       "    <tr>\n",
       "      <th>18</th>\n",
       "      <td>diarreia</td>\n",
       "      <td>0.026196</td>\n",
       "    </tr>\n",
       "    <tr>\n",
       "      <th>33</th>\n",
       "      <td>diagnostico_COVID</td>\n",
       "      <td>0.025469</td>\n",
       "    </tr>\n",
       "    <tr>\n",
       "      <th>17</th>\n",
       "      <td>dispneia</td>\n",
       "      <td>0.025012</td>\n",
       "    </tr>\n",
       "    <tr>\n",
       "      <th>19</th>\n",
       "      <td>vomito</td>\n",
       "      <td>0.019648</td>\n",
       "    </tr>\n",
       "    <tr>\n",
       "      <th>21</th>\n",
       "      <td>desc_resp</td>\n",
       "      <td>0.019589</td>\n",
       "    </tr>\n",
       "    <tr>\n",
       "      <th>47</th>\n",
       "      <td>tempo_alta_obito_final1_(85.0, 162.0]</td>\n",
       "      <td>0.019312</td>\n",
       "    </tr>\n",
       "    <tr>\n",
       "      <th>29</th>\n",
       "      <td>antiviral</td>\n",
       "      <td>0.019011</td>\n",
       "    </tr>\n",
       "    <tr>\n",
       "      <th>48</th>\n",
       "      <td>tempo_alta_obito_final1_(162.0, 703.0]</td>\n",
       "      <td>0.018961</td>\n",
       "    </tr>\n",
       "    <tr>\n",
       "      <th>12</th>\n",
       "      <td>obesidade</td>\n",
       "      <td>0.018898</td>\n",
       "    </tr>\n",
       "    <tr>\n",
       "      <th>31</th>\n",
       "      <td>CS_SEXO_M</td>\n",
       "      <td>0.018334</td>\n",
       "    </tr>\n",
       "    <tr>\n",
       "      <th>51</th>\n",
       "      <td>tempo_alta_obito_final1_(36.0, 85.0]</td>\n",
       "      <td>0.018319</td>\n",
       "    </tr>\n",
       "    <tr>\n",
       "      <th>30</th>\n",
       "      <td>CS_SEXO_F</td>\n",
       "      <td>0.017846</td>\n",
       "    </tr>\n",
       "    <tr>\n",
       "      <th>22</th>\n",
       "      <td>saturacao</td>\n",
       "      <td>0.017795</td>\n",
       "    </tr>\n",
       "    <tr>\n",
       "      <th>50</th>\n",
       "      <td>tempo_alta_obito_final1_(14.0, 36.0]</td>\n",
       "      <td>0.017364</td>\n",
       "    </tr>\n",
       "    <tr>\n",
       "      <th>23</th>\n",
       "      <td>dor_abd</td>\n",
       "      <td>0.014817</td>\n",
       "    </tr>\n",
       "    <tr>\n",
       "      <th>49</th>\n",
       "      <td>tempo_alta_obito_final1_(-0.001, 14.0]</td>\n",
       "      <td>0.014405</td>\n",
       "    </tr>\n",
       "    <tr>\n",
       "      <th>7</th>\n",
       "      <td>pneumopati</td>\n",
       "      <td>0.014394</td>\n",
       "    </tr>\n",
       "    <tr>\n",
       "      <th>39</th>\n",
       "      <td>vacina_covid19_Nao-disponivel</td>\n",
       "      <td>0.013454</td>\n",
       "    </tr>\n",
       "    <tr>\n",
       "      <th>41</th>\n",
       "      <td>vacina_covid19_Sim</td>\n",
       "      <td>0.013129</td>\n",
       "    </tr>\n",
       "    <tr>\n",
       "      <th>25</th>\n",
       "      <td>perd_olft</td>\n",
       "      <td>0.012952</td>\n",
       "    </tr>\n",
       "    <tr>\n",
       "      <th>26</th>\n",
       "      <td>perd_pala</td>\n",
       "      <td>0.012789</td>\n",
       "    </tr>\n",
       "    <tr>\n",
       "      <th>42</th>\n",
       "      <td>idade1_(63.0, 75.0]</td>\n",
       "      <td>0.012307</td>\n",
       "    </tr>\n",
       "    <tr>\n",
       "      <th>11</th>\n",
       "      <td>neurologic</td>\n",
       "      <td>0.011379</td>\n",
       "    </tr>\n",
       "    <tr>\n",
       "      <th>5</th>\n",
       "      <td>asma</td>\n",
       "      <td>0.010938</td>\n",
       "    </tr>\n",
       "    <tr>\n",
       "      <th>40</th>\n",
       "      <td>vacina_covid19_Nao</td>\n",
       "      <td>0.009759</td>\n",
       "    </tr>\n",
       "    <tr>\n",
       "      <th>8</th>\n",
       "      <td>renal</td>\n",
       "      <td>0.009684</td>\n",
       "    </tr>\n",
       "    <tr>\n",
       "      <th>37</th>\n",
       "      <td>suporte_vent_Nao-invasivo</td>\n",
       "      <td>0.009046</td>\n",
       "    </tr>\n",
       "    <tr>\n",
       "      <th>36</th>\n",
       "      <td>suporte_vent_Nao</td>\n",
       "      <td>0.008360</td>\n",
       "    </tr>\n",
       "    <tr>\n",
       "      <th>9</th>\n",
       "      <td>imunodepre</td>\n",
       "      <td>0.008063</td>\n",
       "    </tr>\n",
       "    <tr>\n",
       "      <th>10</th>\n",
       "      <td>hepatica</td>\n",
       "      <td>0.005349</td>\n",
       "    </tr>\n",
       "    <tr>\n",
       "      <th>43</th>\n",
       "      <td>idade1_(-0.001, 39.0]</td>\n",
       "      <td>0.005172</td>\n",
       "    </tr>\n",
       "    <tr>\n",
       "      <th>3</th>\n",
       "      <td>hematologi</td>\n",
       "      <td>0.004616</td>\n",
       "    </tr>\n",
       "    <tr>\n",
       "      <th>45</th>\n",
       "      <td>idade1_(52.0, 63.0]</td>\n",
       "      <td>0.003705</td>\n",
       "    </tr>\n",
       "    <tr>\n",
       "      <th>14</th>\n",
       "      <td>sind_down</td>\n",
       "      <td>0.002293</td>\n",
       "    </tr>\n",
       "    <tr>\n",
       "      <th>32</th>\n",
       "      <td>diagnostico_Desconhecido</td>\n",
       "      <td>0.002124</td>\n",
       "    </tr>\n",
       "    <tr>\n",
       "      <th>46</th>\n",
       "      <td>idade1_(39.0, 52.0]</td>\n",
       "      <td>0.002061</td>\n",
       "    </tr>\n",
       "    <tr>\n",
       "      <th>13</th>\n",
       "      <td>puerpera</td>\n",
       "      <td>0.000917</td>\n",
       "    </tr>\n",
       "    <tr>\n",
       "      <th>0</th>\n",
       "      <td>gravidez</td>\n",
       "      <td>0.000911</td>\n",
       "    </tr>\n",
       "    <tr>\n",
       "      <th>34</th>\n",
       "      <td>diagnostico_Outros</td>\n",
       "      <td>0.000687</td>\n",
       "    </tr>\n",
       "    <tr>\n",
       "      <th>35</th>\n",
       "      <td>diagnostico_Influenza</td>\n",
       "      <td>0.000204</td>\n",
       "    </tr>\n",
       "    <tr>\n",
       "      <th>1</th>\n",
       "      <td>mae_amamenta</td>\n",
       "      <td>0.000177</td>\n",
       "    </tr>\n",
       "    <tr>\n",
       "      <th>2</th>\n",
       "      <td>mae_vacinada_gripe</td>\n",
       "      <td>0.000032</td>\n",
       "    </tr>\n",
       "  </tbody>\n",
       "</table>\n",
       "</div>"
      ],
      "text/plain": [
       "                                  features  importances\n",
       "38                   suporte_vent_Invasivo     0.224077\n",
       "15                                   febre     0.041640\n",
       "4                               cardiopati     0.037687\n",
       "16                                   tosse     0.033649\n",
       "6                                 diabetes     0.030677\n",
       "27                                     uti     0.030067\n",
       "24                                  fadiga     0.029957\n",
       "44                    idade1_(75.0, 121.0]     0.029923\n",
       "28                            vacina_gripe     0.029908\n",
       "20                                garganta     0.026935\n",
       "18                                diarreia     0.026196\n",
       "33                       diagnostico_COVID     0.025469\n",
       "17                                dispneia     0.025012\n",
       "19                                  vomito     0.019648\n",
       "21                               desc_resp     0.019589\n",
       "47   tempo_alta_obito_final1_(85.0, 162.0]     0.019312\n",
       "29                               antiviral     0.019011\n",
       "48  tempo_alta_obito_final1_(162.0, 703.0]     0.018961\n",
       "12                               obesidade     0.018898\n",
       "31                               CS_SEXO_M     0.018334\n",
       "51    tempo_alta_obito_final1_(36.0, 85.0]     0.018319\n",
       "30                               CS_SEXO_F     0.017846\n",
       "22                               saturacao     0.017795\n",
       "50    tempo_alta_obito_final1_(14.0, 36.0]     0.017364\n",
       "23                                 dor_abd     0.014817\n",
       "49  tempo_alta_obito_final1_(-0.001, 14.0]     0.014405\n",
       "7                               pneumopati     0.014394\n",
       "39           vacina_covid19_Nao-disponivel     0.013454\n",
       "41                      vacina_covid19_Sim     0.013129\n",
       "25                               perd_olft     0.012952\n",
       "26                               perd_pala     0.012789\n",
       "42                     idade1_(63.0, 75.0]     0.012307\n",
       "11                              neurologic     0.011379\n",
       "5                                     asma     0.010938\n",
       "40                      vacina_covid19_Nao     0.009759\n",
       "8                                    renal     0.009684\n",
       "37               suporte_vent_Nao-invasivo     0.009046\n",
       "36                        suporte_vent_Nao     0.008360\n",
       "9                               imunodepre     0.008063\n",
       "10                                hepatica     0.005349\n",
       "43                   idade1_(-0.001, 39.0]     0.005172\n",
       "3                               hematologi     0.004616\n",
       "45                     idade1_(52.0, 63.0]     0.003705\n",
       "14                               sind_down     0.002293\n",
       "32                diagnostico_Desconhecido     0.002124\n",
       "46                     idade1_(39.0, 52.0]     0.002061\n",
       "13                                puerpera     0.000917\n",
       "0                                 gravidez     0.000911\n",
       "34                      diagnostico_Outros     0.000687\n",
       "35                   diagnostico_Influenza     0.000204\n",
       "1                             mae_amamenta     0.000177\n",
       "2                       mae_vacinada_gripe     0.000032"
      ]
     },
     "execution_count": 57,
     "metadata": {},
     "output_type": "execute_result"
    }
   ],
   "source": [
    "pd.set_option('display.max_rows', len(X_train_transf.columns))\n",
    "\n",
    "feature_importances_df = pd.DataFrame({\n",
    "    'features': X_train_transf.columns,\n",
    "    'importances': dt.steps[-1][1].feature_importances_\n",
    "}).sort_values(by='importances', ascending=False)\n",
    "\n",
    "feature_importances_df"
   ]
  },
  {
   "cell_type": "code",
   "execution_count": 58,
   "id": "4ada72e3",
   "metadata": {},
   "outputs": [],
   "source": [
    "pd.reset_option('display.max_rows')"
   ]
  },
  {
   "cell_type": "code",
   "execution_count": 59,
   "id": "710a536a",
   "metadata": {},
   "outputs": [
    {
     "data": {
      "image/png": "[encoded data removed]",
      "text/plain": [
       "<Figure size 720x504 with 1 Axes>"
      ]
     },
     "metadata": {
      "needs_background": "light"
     },
     "output_type": "display_data"
    }
   ],
   "source": [
    "import seaborn as sns\n",
    "import matplotlib.pyplot as plt\n",
    "plt.figure(figsize = (10,7))\n",
    "plt.title(\"Feature importances\")\n",
    "sns.barplot(data = feature_importances_df[:15], x = 'importances', y = 'features')\n",
    "plt.show()"
   ]
  },
  {
   "cell_type": "markdown",
   "id": "3d592fa6",
   "metadata": {},
   "source": [
    "**OBSERVAÇÃO**\n",
    "\n",
    "Observa-se uma grande mudança no feature importance em  comparação com o modelo sem alterar as variáveis de idade e tempo de alta. Antes, estas duas variáveis tinham uma importância muito alta pois traziam o viés de serem numéricas. Este modelo é melhor pois remove o viés numérico destas variáveis, assim conseguimos analisar quais faixas desempenham a maior importância no modelo"
   ]
  },
  {
   "cell_type": "code",
   "execution_count": 60,
   "id": "1e15c5dc",
   "metadata": {},
   "outputs": [],
   "source": [
    "# import shap\n",
    "\n",
    "# explainer = shap.Explainer(dt.steps[-1][1])\n",
    "# shap_values = explainer(X_test_transf)\n",
    "\n",
    "# shap.plots.beeswarm(shap_values[:, :, 1], max_display = 20)\n",
    "\n",
    "# O SHAP para o modelo baseline demora demais pois a árvore não tem profundidade limitada"
   ]
  },
  {
   "cell_type": "markdown",
   "id": "782c9d20",
   "metadata": {},
   "source": [
    "### Modelo com ajuste de hiperparâmetros\n",
    "\n",
    "Vou reavaliar novamente a questão da profundidade e do min samples leaf"
   ]
  },
  {
   "cell_type": "code",
   "execution_count": 61,
   "id": "396f2a14",
   "metadata": {},
   "outputs": [
    {
     "name": "stdout",
     "output_type": "stream",
     "text": [
      "Profundidade: 1\n",
      "Acurácia Treino: 0.7770818859064147\n",
      "Acurácia Teste: 0.7920893898941956\n",
      "AUC Treino: 0.6932887334818058\n",
      "AUC Teste: 0.7042068955543862\n",
      "\n",
      "Profundidade: 2\n",
      "Acurácia Treino: 0.7770818859064147\n",
      "Acurácia Teste: 0.7920893898941956\n",
      "AUC Treino: 0.7453621114568627\n",
      "AUC Teste: 0.7666629972834192\n",
      "\n",
      "Profundidade: 3\n",
      "Acurácia Treino: 0.7790495413030138\n",
      "Acurácia Teste: 0.7944823494512014\n",
      "AUC Treino: 0.7832223278717398\n",
      "AUC Teste: 0.798005523146028\n",
      "\n",
      "Profundidade: 4\n",
      "Acurácia Treino: 0.7852872117613051\n",
      "Acurácia Teste: 0.8011074854148126\n",
      "AUC Treino: 0.803360362765742\n",
      "AUC Teste: 0.816755330664675\n",
      "\n",
      "Profundidade: 5\n",
      "Acurácia Treino: 0.7875794288728073\n",
      "Acurácia Teste: 0.8015030159201029\n",
      "AUC Treino: 0.8133474502100934\n",
      "AUC Teste: 0.8262204060809346\n",
      "\n",
      "Profundidade: 6\n",
      "Acurácia Treino: 0.7894000172423411\n",
      "Acurácia Teste: 0.8020765351527737\n",
      "AUC Treino: 0.8197488418979195\n",
      "AUC Teste: 0.8305080736591143\n",
      "\n",
      "Profundidade: 7\n",
      "Acurácia Treino: 0.7900744970561239\n",
      "Acurácia Teste: 0.8000593295757935\n",
      "AUC Treino: 0.8234453644658013\n",
      "AUC Teste: 0.8331624245553959\n",
      "\n",
      "Profundidade: 8\n",
      "Acurácia Treino: 0.7915958800947315\n",
      "Acurácia Teste: 0.7989320676357164\n",
      "AUC Treino: 0.8274687324554024\n",
      "AUC Teste: 0.834985764300012\n",
      "\n",
      "Profundidade: 9\n",
      "Acurácia Treino: 0.7937106025183961\n",
      "Acurácia Teste: 0.7989518441609809\n",
      "AUC Treino: 0.8312042914288609\n",
      "AUC Teste: 0.8348388712925625\n",
      "\n",
      "Profundidade: 10\n",
      "Acurácia Treino: 0.7960129621834889\n",
      "Acurácia Teste: 0.7987343023830713\n",
      "AUC Treino: 0.8358575383999884\n",
      "AUC Teste: 0.8334595514421758\n",
      "\n",
      "Profundidade: 11\n",
      "Acurácia Treino: 0.7995679272170354\n",
      "Acurácia Teste: 0.7955305052902205\n",
      "AUC Treino: 0.8415785853967757\n",
      "AUC Teste: 0.8296505869064432\n",
      "\n",
      "Profundidade: 12\n",
      "Acurácia Treino: 0.8040458646273372\n",
      "Acurácia Teste: 0.7944427964006724\n",
      "AUC Treino: 0.848835516474073\n",
      "AUC Teste: 0.8223482810453583\n",
      "\n",
      "Profundidade: 13\n",
      "Acurácia Treino: 0.8095684850574829\n",
      "Acurácia Teste: 0.7907841392267378\n",
      "AUC Treino: 0.8574847728489285\n",
      "AUC Teste: 0.8137725706762787\n",
      "\n",
      "Profundidade: 14\n",
      "Acurácia Treino: 0.8166834864013712\n",
      "Acurácia Teste: 0.7859982201127262\n",
      "AUC Treino: 0.8678853113929912\n",
      "AUC Teste: 0.8005303997771023\n",
      "\n",
      "Profundidade: 15\n",
      "Acurácia Treino: 0.82507644949769\n",
      "Acurácia Teste: 0.7824186690398497\n",
      "AUC Treino: 0.8799909258318026\n",
      "AUC Teste: 0.7885912511624155\n",
      "\n",
      "Profundidade: 16\n",
      "Acurácia Treino: 0.8347828732840067\n",
      "Acurácia Teste: 0.7764857114604964\n",
      "AUC Treino: 0.8933548336560714\n",
      "AUC Teste: 0.7747177035346114\n",
      "\n",
      "Profundidade: 17\n",
      "Acurácia Treino: 0.8450927790089711\n",
      "Acurácia Teste: 0.7721546524275684\n",
      "AUC Treino: 0.9067893105681362\n",
      "AUC Teste: 0.7610810851803962\n",
      "\n",
      "Profundidade: 18\n",
      "Acurácia Treino: 0.8556866762344756\n",
      "Acurácia Teste: 0.7669732028082666\n",
      "AUC Treino: 0.9204048859636206\n",
      "AUC Teste: 0.7460569726986759\n",
      "\n",
      "Profundidade: 19\n",
      "Acurácia Treino: 0.8670108373185117\n",
      "Acurácia Teste: 0.7594778997330169\n",
      "AUC Treino: 0.9331736310062757\n",
      "AUC Teste: 0.7325291623366411\n",
      "\n",
      "Profundidade: 20\n",
      "Acurácia Treino: 0.8788573399124697\n",
      "Acurácia Teste: 0.7530703055473154\n",
      "AUC Treino: 0.9450545038604106\n",
      "AUC Teste: 0.7200787374097141\n",
      "\n",
      "Profundidade: 21\n",
      "Acurácia Treino: 0.8904350648362739\n",
      "Acurácia Teste: 0.7477701967764264\n",
      "AUC Treino: 0.9557451086146843\n",
      "AUC Teste: 0.7109239204012718\n",
      "\n",
      "Profundidade: 22\n",
      "Acurácia Treino: 0.9015817312324724\n",
      "Acurácia Teste: 0.7396618214179769\n",
      "AUC Treino: 0.9650845910761807\n",
      "AUC Teste: 0.7004307639800091\n",
      "\n",
      "Profundidade: 23\n",
      "Acurácia Treino: 0.9126979699678989\n",
      "Acurácia Teste: 0.732898249777514\n",
      "AUC Treino: 0.9730088517761143\n",
      "AUC Teste: 0.6944891504136745\n",
      "\n",
      "Profundidade: 24\n",
      "Acurácia Treino: 0.9222573267271501\n",
      "Acurácia Teste: 0.729219816078315\n",
      "AUC Treino: 0.9792775420679346\n",
      "AUC Teste: 0.6897602104964801\n",
      "\n",
      "Profundidade: 25\n",
      "Acurácia Treino: 0.9312994132532748\n",
      "Acurácia Teste: 0.7230099871452585\n",
      "AUC Treino: 0.9843462216504265\n",
      "AUC Teste: 0.6833094415863605\n",
      "\n",
      "Profundidade: 26\n",
      "Acurácia Treino: 0.9395402380457327\n",
      "Acurácia Teste: 0.7189755759912984\n",
      "AUC Treino: 0.9883237029280264\n",
      "AUC Teste: 0.6779699344598012\n",
      "\n",
      "Profundidade: 27\n",
      "Acurácia Treino: 0.9465740989608954\n",
      "Acurácia Teste: 0.714822505685751\n",
      "AUC Treino: 0.9911594101072408\n",
      "AUC Teste: 0.6765738973116423\n",
      "\n",
      "Profundidade: 28\n",
      "Acurácia Treino: 0.952619060900963\n",
      "Acurácia Teste: 0.7106101058044102\n",
      "AUC Treino: 0.9932917736068461\n",
      "AUC Teste: 0.672797612325168\n",
      "\n",
      "Profundidade: 29\n",
      "Acurácia Treino: 0.9575432706692564\n",
      "Acurácia Teste: 0.7093444081874815\n",
      "AUC Treino: 0.9948111959391257\n",
      "AUC Teste: 0.6711880052056753\n",
      "\n",
      "Profundidade: 30\n",
      "Acurácia Treino: 0.9610475229348493\n",
      "Acurácia Teste: 0.7089488776821913\n",
      "AUC Treino: 0.9957923522534872\n",
      "AUC Teste: 0.6703880553828909\n",
      "\n",
      "Wall time: 35.8 s\n"
     ]
    }
   ],
   "source": [
    "%%time\n",
    "\n",
    "profundidade    = []\n",
    "acuracia_treino = []\n",
    "acuracia_teste  = []\n",
    "auc_treino      = []\n",
    "auc_teste       = []\n",
    "\n",
    "for depth in range(1, 31):\n",
    "    dt = Pipeline(steps=[\n",
    "        ('dt', DecisionTreeClassifier(random_state=42, max_depth=depth))\n",
    "    ])\n",
    "    \n",
    "    dt.fit(X_train_transf, y_train)\n",
    "    \n",
    "    y_pred_train = dt.predict(X_train_transf)\n",
    "    train_accuracy = accuracy_score(y_train, y_pred_train)\n",
    "    y_pred_test = dt.predict(X_test_transf)\n",
    "    test_accuracy = accuracy_score(y_test, y_pred_test)\n",
    "    \n",
    "    y_proba = dt.predict_proba(X_train_transf)[:, 1]\n",
    "    train_auc = roc_auc_score(y_train, y_proba)\n",
    "    y_proba_test = dt.predict_proba(X_test_transf)[:, 1]\n",
    "    test_auc = roc_auc_score(y_test, y_proba_test)\n",
    "    \n",
    "    profundidade.append(depth)\n",
    "    acuracia_treino.append(train_accuracy)\n",
    "    acuracia_teste.append(test_accuracy)\n",
    "    auc_treino.append(train_auc)\n",
    "    auc_teste.append(test_auc)\n",
    "    \n",
    "    print('Profundidade:', depth)\n",
    "    print('Acurácia Treino:', train_accuracy)\n",
    "    print('Acurácia Teste:', test_accuracy)\n",
    "    print('AUC Treino:', train_auc)\n",
    "    print('AUC Teste:', test_auc)\n",
    "    print('')"
   ]
  },
  {
   "cell_type": "code",
   "execution_count": 63,
   "id": "50cf7380",
   "metadata": {},
   "outputs": [
    {
     "data": {
      "text/html": [
       "<div>\n",
       "<style scoped>\n",
       "    .dataframe tbody tr th:only-of-type {\n",
       "        vertical-align: middle;\n",
       "    }\n",
       "\n",
       "    .dataframe tbody tr th {\n",
       "        vertical-align: top;\n",
       "    }\n",
       "\n",
       "    .dataframe thead th {\n",
       "        text-align: right;\n",
       "    }\n",
       "</style>\n",
       "<table border=\"1\" class=\"dataframe\">\n",
       "  <thead>\n",
       "    <tr style=\"text-align: right;\">\n",
       "      <th></th>\n",
       "      <th>Profundidade</th>\n",
       "      <th>Acuracia_treino</th>\n",
       "      <th>Acuracia_teste</th>\n",
       "      <th>AUC_treino</th>\n",
       "      <th>AUC_teste</th>\n",
       "    </tr>\n",
       "  </thead>\n",
       "  <tbody>\n",
       "    <tr>\n",
       "      <th>0</th>\n",
       "      <td>1</td>\n",
       "      <td>0.777082</td>\n",
       "      <td>0.792089</td>\n",
       "      <td>0.693289</td>\n",
       "      <td>0.704207</td>\n",
       "    </tr>\n",
       "    <tr>\n",
       "      <th>1</th>\n",
       "      <td>2</td>\n",
       "      <td>0.777082</td>\n",
       "      <td>0.792089</td>\n",
       "      <td>0.745362</td>\n",
       "      <td>0.766663</td>\n",
       "    </tr>\n",
       "    <tr>\n",
       "      <th>2</th>\n",
       "      <td>3</td>\n",
       "      <td>0.779050</td>\n",
       "      <td>0.794482</td>\n",
       "      <td>0.783222</td>\n",
       "      <td>0.798006</td>\n",
       "    </tr>\n",
       "    <tr>\n",
       "      <th>3</th>\n",
       "      <td>4</td>\n",
       "      <td>0.785287</td>\n",
       "      <td>0.801107</td>\n",
       "      <td>0.803360</td>\n",
       "      <td>0.816755</td>\n",
       "    </tr>\n",
       "    <tr>\n",
       "      <th>4</th>\n",
       "      <td>5</td>\n",
       "      <td>0.787579</td>\n",
       "      <td>0.801503</td>\n",
       "      <td>0.813347</td>\n",
       "      <td>0.826220</td>\n",
       "    </tr>\n",
       "    <tr>\n",
       "      <th>5</th>\n",
       "      <td>6</td>\n",
       "      <td>0.789400</td>\n",
       "      <td>0.802077</td>\n",
       "      <td>0.819749</td>\n",
       "      <td>0.830508</td>\n",
       "    </tr>\n",
       "    <tr>\n",
       "      <th>6</th>\n",
       "      <td>7</td>\n",
       "      <td>0.790074</td>\n",
       "      <td>0.800059</td>\n",
       "      <td>0.823445</td>\n",
       "      <td>0.833162</td>\n",
       "    </tr>\n",
       "    <tr>\n",
       "      <th>7</th>\n",
       "      <td>8</td>\n",
       "      <td>0.791596</td>\n",
       "      <td>0.798932</td>\n",
       "      <td>0.827469</td>\n",
       "      <td>0.834986</td>\n",
       "    </tr>\n",
       "    <tr>\n",
       "      <th>8</th>\n",
       "      <td>9</td>\n",
       "      <td>0.793711</td>\n",
       "      <td>0.798952</td>\n",
       "      <td>0.831204</td>\n",
       "      <td>0.834839</td>\n",
       "    </tr>\n",
       "    <tr>\n",
       "      <th>9</th>\n",
       "      <td>10</td>\n",
       "      <td>0.796013</td>\n",
       "      <td>0.798734</td>\n",
       "      <td>0.835858</td>\n",
       "      <td>0.833460</td>\n",
       "    </tr>\n",
       "    <tr>\n",
       "      <th>10</th>\n",
       "      <td>11</td>\n",
       "      <td>0.799568</td>\n",
       "      <td>0.795531</td>\n",
       "      <td>0.841579</td>\n",
       "      <td>0.829651</td>\n",
       "    </tr>\n",
       "    <tr>\n",
       "      <th>11</th>\n",
       "      <td>12</td>\n",
       "      <td>0.804046</td>\n",
       "      <td>0.794443</td>\n",
       "      <td>0.848836</td>\n",
       "      <td>0.822348</td>\n",
       "    </tr>\n",
       "    <tr>\n",
       "      <th>12</th>\n",
       "      <td>13</td>\n",
       "      <td>0.809568</td>\n",
       "      <td>0.790784</td>\n",
       "      <td>0.857485</td>\n",
       "      <td>0.813773</td>\n",
       "    </tr>\n",
       "    <tr>\n",
       "      <th>13</th>\n",
       "      <td>14</td>\n",
       "      <td>0.816683</td>\n",
       "      <td>0.785998</td>\n",
       "      <td>0.867885</td>\n",
       "      <td>0.800530</td>\n",
       "    </tr>\n",
       "    <tr>\n",
       "      <th>14</th>\n",
       "      <td>15</td>\n",
       "      <td>0.825076</td>\n",
       "      <td>0.782419</td>\n",
       "      <td>0.879991</td>\n",
       "      <td>0.788591</td>\n",
       "    </tr>\n",
       "    <tr>\n",
       "      <th>15</th>\n",
       "      <td>16</td>\n",
       "      <td>0.834783</td>\n",
       "      <td>0.776486</td>\n",
       "      <td>0.893355</td>\n",
       "      <td>0.774718</td>\n",
       "    </tr>\n",
       "    <tr>\n",
       "      <th>16</th>\n",
       "      <td>17</td>\n",
       "      <td>0.845093</td>\n",
       "      <td>0.772155</td>\n",
       "      <td>0.906789</td>\n",
       "      <td>0.761081</td>\n",
       "    </tr>\n",
       "    <tr>\n",
       "      <th>17</th>\n",
       "      <td>18</td>\n",
       "      <td>0.855687</td>\n",
       "      <td>0.766973</td>\n",
       "      <td>0.920405</td>\n",
       "      <td>0.746057</td>\n",
       "    </tr>\n",
       "    <tr>\n",
       "      <th>18</th>\n",
       "      <td>19</td>\n",
       "      <td>0.867011</td>\n",
       "      <td>0.759478</td>\n",
       "      <td>0.933174</td>\n",
       "      <td>0.732529</td>\n",
       "    </tr>\n",
       "    <tr>\n",
       "      <th>19</th>\n",
       "      <td>20</td>\n",
       "      <td>0.878857</td>\n",
       "      <td>0.753070</td>\n",
       "      <td>0.945055</td>\n",
       "      <td>0.720079</td>\n",
       "    </tr>\n",
       "    <tr>\n",
       "      <th>20</th>\n",
       "      <td>21</td>\n",
       "      <td>0.890435</td>\n",
       "      <td>0.747770</td>\n",
       "      <td>0.955745</td>\n",
       "      <td>0.710924</td>\n",
       "    </tr>\n",
       "    <tr>\n",
       "      <th>21</th>\n",
       "      <td>22</td>\n",
       "      <td>0.901582</td>\n",
       "      <td>0.739662</td>\n",
       "      <td>0.965085</td>\n",
       "      <td>0.700431</td>\n",
       "    </tr>\n",
       "    <tr>\n",
       "      <th>22</th>\n",
       "      <td>23</td>\n",
       "      <td>0.912698</td>\n",
       "      <td>0.732898</td>\n",
       "      <td>0.973009</td>\n",
       "      <td>0.694489</td>\n",
       "    </tr>\n",
       "    <tr>\n",
       "      <th>23</th>\n",
       "      <td>24</td>\n",
       "      <td>0.922257</td>\n",
       "      <td>0.729220</td>\n",
       "      <td>0.979278</td>\n",
       "      <td>0.689760</td>\n",
       "    </tr>\n",
       "    <tr>\n",
       "      <th>24</th>\n",
       "      <td>25</td>\n",
       "      <td>0.931299</td>\n",
       "      <td>0.723010</td>\n",
       "      <td>0.984346</td>\n",
       "      <td>0.683309</td>\n",
       "    </tr>\n",
       "    <tr>\n",
       "      <th>25</th>\n",
       "      <td>26</td>\n",
       "      <td>0.939540</td>\n",
       "      <td>0.718976</td>\n",
       "      <td>0.988324</td>\n",
       "      <td>0.677970</td>\n",
       "    </tr>\n",
       "    <tr>\n",
       "      <th>26</th>\n",
       "      <td>27</td>\n",
       "      <td>0.946574</td>\n",
       "      <td>0.714823</td>\n",
       "      <td>0.991159</td>\n",
       "      <td>0.676574</td>\n",
       "    </tr>\n",
       "    <tr>\n",
       "      <th>27</th>\n",
       "      <td>28</td>\n",
       "      <td>0.952619</td>\n",
       "      <td>0.710610</td>\n",
       "      <td>0.993292</td>\n",
       "      <td>0.672798</td>\n",
       "    </tr>\n",
       "    <tr>\n",
       "      <th>28</th>\n",
       "      <td>29</td>\n",
       "      <td>0.957543</td>\n",
       "      <td>0.709344</td>\n",
       "      <td>0.994811</td>\n",
       "      <td>0.671188</td>\n",
       "    </tr>\n",
       "    <tr>\n",
       "      <th>29</th>\n",
       "      <td>30</td>\n",
       "      <td>0.961048</td>\n",
       "      <td>0.708949</td>\n",
       "      <td>0.995792</td>\n",
       "      <td>0.670388</td>\n",
       "    </tr>\n",
       "  </tbody>\n",
       "</table>\n",
       "</div>"
      ],
      "text/plain": [
       "    Profundidade  Acuracia_treino  Acuracia_teste  AUC_treino  AUC_teste\n",
       "0              1         0.777082        0.792089    0.693289   0.704207\n",
       "1              2         0.777082        0.792089    0.745362   0.766663\n",
       "2              3         0.779050        0.794482    0.783222   0.798006\n",
       "3              4         0.785287        0.801107    0.803360   0.816755\n",
       "4              5         0.787579        0.801503    0.813347   0.826220\n",
       "5              6         0.789400        0.802077    0.819749   0.830508\n",
       "6              7         0.790074        0.800059    0.823445   0.833162\n",
       "7              8         0.791596        0.798932    0.827469   0.834986\n",
       "8              9         0.793711        0.798952    0.831204   0.834839\n",
       "9             10         0.796013        0.798734    0.835858   0.833460\n",
       "10            11         0.799568        0.795531    0.841579   0.829651\n",
       "11            12         0.804046        0.794443    0.848836   0.822348\n",
       "12            13         0.809568        0.790784    0.857485   0.813773\n",
       "13            14         0.816683        0.785998    0.867885   0.800530\n",
       "14            15         0.825076        0.782419    0.879991   0.788591\n",
       "15            16         0.834783        0.776486    0.893355   0.774718\n",
       "16            17         0.845093        0.772155    0.906789   0.761081\n",
       "17            18         0.855687        0.766973    0.920405   0.746057\n",
       "18            19         0.867011        0.759478    0.933174   0.732529\n",
       "19            20         0.878857        0.753070    0.945055   0.720079\n",
       "20            21         0.890435        0.747770    0.955745   0.710924\n",
       "21            22         0.901582        0.739662    0.965085   0.700431\n",
       "22            23         0.912698        0.732898    0.973009   0.694489\n",
       "23            24         0.922257        0.729220    0.979278   0.689760\n",
       "24            25         0.931299        0.723010    0.984346   0.683309\n",
       "25            26         0.939540        0.718976    0.988324   0.677970\n",
       "26            27         0.946574        0.714823    0.991159   0.676574\n",
       "27            28         0.952619        0.710610    0.993292   0.672798\n",
       "28            29         0.957543        0.709344    0.994811   0.671188\n",
       "29            30         0.961048        0.708949    0.995792   0.670388"
      ]
     },
     "execution_count": 63,
     "metadata": {},
     "output_type": "execute_result"
    }
   ],
   "source": [
    "result_profundidade = pd.DataFrame(data = {\n",
    "    'Profundidade': profundidade,\n",
    "    'Acuracia_treino': acuracia_treino,\n",
    "    'Acuracia_teste': acuracia_teste,\n",
    "    'AUC_treino': auc_treino,\n",
    "    'AUC_teste': auc_teste\n",
    "})\n",
    "\n",
    "result_profundidade"
   ]
  },
  {
   "cell_type": "code",
   "execution_count": 64,
   "id": "19fd9e83",
   "metadata": {},
   "outputs": [],
   "source": [
    "result_profundidade.to_csv('resultados_loop_sem_ignull.csv', index = False)"
   ]
  },
  {
   "cell_type": "code",
   "execution_count": 71,
   "id": "5ae1dff2",
   "metadata": {},
   "outputs": [
    {
     "data": {
      "image/png": "[encoded data removed]",
      "text/plain": [
       "<Figure size 864x576 with 1 Axes>"
      ]
     },
     "metadata": {
      "needs_background": "light"
     },
     "output_type": "display_data"
    }
   ],
   "source": [
    "plt.figure(figsize = (12,8))\n",
    "sns.lineplot(data = result_profundidade.iloc[:, 1:])\n",
    "plt.xticks(range(0,31))\n",
    "plt.show()"
   ]
  },
  {
   "cell_type": "markdown",
   "id": "dde69cef",
   "metadata": {},
   "source": [
    "O ponto de profundidade 10 parece ser um ponto de interseção entre aumentar muito a acurácia de treino e diminuir a de teste (overfit). O mesmo é válido para os AUC de treino e de teste."
   ]
  },
  {
   "cell_type": "markdown",
   "id": "a9172198",
   "metadata": {},
   "source": [
    "### Análise do min_samples_leaf"
   ]
  },
  {
   "cell_type": "code",
   "execution_count": 69,
   "id": "a5fbc47f",
   "metadata": {
    "scrolled": true
   },
   "outputs": [
    {
     "name": "stdout",
     "output_type": "stream",
     "text": [
      "min_samples_leaf: 2\n",
      "Acurácia Treino: 0.795774612174107\n",
      "Acurácia Teste: 0.7988134084841293\n",
      "AUC Treino: 0.8357603703294092\n",
      "AUC Teste: 0.8332357305853931\n",
      "\n",
      "min_samples_leaf: 10\n",
      "Acurácia Treino: 0.7948059983061936\n",
      "Acurácia Teste: 0.7993869277168002\n",
      "AUC Treino: 0.8346211947208669\n",
      "AUC Teste: 0.8348635410668308\n",
      "\n",
      "min_samples_leaf: 20\n",
      "Acurácia Treino: 0.7942836567962716\n",
      "Acurácia Teste: 0.7994462572925937\n",
      "AUC Treino: 0.8338561358592046\n",
      "AUC Teste: 0.8359724314320656\n",
      "\n",
      "min_samples_leaf: 30\n",
      "Acurácia Treino: 0.7938728833758475\n",
      "Acurácia Teste: 0.7999011173736774\n",
      "AUC Treino: 0.8334232456648015\n",
      "AUC Teste: 0.8361879652630797\n",
      "\n",
      "min_samples_leaf: 40\n",
      "Acurácia Treino: 0.7935128227233771\n",
      "Acurácia Teste: 0.8001977652526451\n",
      "AUC Treino: 0.8331113366431074\n",
      "AUC Teste: 0.8368338320415598\n",
      "\n",
      "min_samples_leaf: 50\n",
      "Acurácia Treino: 0.7931071205797484\n",
      "Acurácia Teste: 0.8007910610105804\n",
      "AUC Treino: 0.8328001897639943\n",
      "AUC Teste: 0.8370916336779212\n",
      "\n",
      "min_samples_leaf: 100\n",
      "Acurácia Treino: 0.7925898503466218\n",
      "Acurácia Teste: 0.7996835755957679\n",
      "AUC Treino: 0.8315683393893283\n",
      "AUC Teste: 0.8376069606240348\n",
      "\n",
      "min_samples_leaf: 200\n",
      "Acurácia Treino: 0.7915705237107546\n",
      "Acurácia Teste: 0.8003164244042322\n",
      "AUC Treino: 0.8301637025804822\n",
      "AUC Teste: 0.8372486029028298\n",
      "\n",
      "min_samples_leaf: 300\n",
      "Acurácia Treino: 0.7910887524151956\n",
      "Acurácia Teste: 0.7998615643231485\n",
      "AUC Treino: 0.8290846446960561\n",
      "AUC Teste: 0.8370803680546227\n",
      "\n",
      "min_samples_leaf: 400\n",
      "Acurácia Treino: 0.7907591194234973\n",
      "Acurácia Teste: 0.8010877088895481\n",
      "AUC Treino: 0.8281656318518532\n",
      "AUC Teste: 0.8373380319897642\n",
      "\n",
      "min_samples_leaf: 500\n",
      "Acurácia Treino: 0.7904041300478222\n",
      "Acurácia Teste: 0.8012261445663997\n",
      "AUC Treino: 0.8276533624258364\n",
      "AUC Teste: 0.8372257842395923\n",
      "\n",
      "min_samples_leaf: 600\n",
      "Acurácia Treino: 0.7900643545025331\n",
      "Acurácia Teste: 0.7998022347473549\n",
      "AUC Treino: 0.8270632062802022\n",
      "AUC Teste: 0.837302904316132\n",
      "\n",
      "min_samples_leaf: 700\n",
      "Acurácia Treino: 0.7898412183235373\n",
      "Acurácia Teste: 0.799149609413626\n",
      "AUC Treino: 0.8267260501707907\n",
      "AUC Teste: 0.8363347104034476\n",
      "\n",
      "min_samples_leaf: 800\n",
      "Acurácia Treino: 0.7894710151174761\n",
      "Acurácia Teste: 0.7987738554336004\n",
      "AUC Treino: 0.8263931617645437\n",
      "AUC Teste: 0.8364062743743866\n",
      "\n",
      "min_samples_leaf: 900\n",
      "Acurácia Treino: 0.7889791012683264\n",
      "Acurácia Teste: 0.7987738554336004\n",
      "AUC Treino: 0.8259066662229764\n",
      "AUC Teste: 0.8366035549383156\n",
      "\n",
      "min_samples_leaf: 1000\n",
      "Acurácia Treino: 0.7889791012683264\n",
      "Acurácia Teste: 0.7987738554336004\n",
      "AUC Treino: 0.8255892241229186\n",
      "AUC Teste: 0.8368379233388806\n",
      "\n",
      "min_samples_leaf: 2000\n",
      "Acurácia Treino: 0.7867629533087546\n",
      "Acurácia Teste: 0.7996835755957679\n",
      "AUC Treino: 0.8216447760123549\n",
      "AUC Teste: 0.8331898317190174\n",
      "\n",
      "min_samples_leaf: 5000\n",
      "Acurácia Treino: 0.7832434872127756\n",
      "Acurácia Teste: 0.7986947493325423\n",
      "AUC Treino: 0.8158980499781532\n",
      "AUC Teste: 0.8279151042368477\n",
      "\n",
      "min_samples_leaf: 10000\n",
      "Acurácia Treino: 0.7770818859064147\n",
      "Acurácia Teste: 0.7920893898941956\n",
      "AUC Treino: 0.8009447259580428\n",
      "AUC Teste: 0.8111710757925741\n",
      "\n",
      "Wall time: 17.6 s\n"
     ]
    }
   ],
   "source": [
    "%%time\n",
    "\n",
    "samp_leaf = [2, 10, 20, 30, 40, 50, 100, 200, 300, 400, 500, 600, 700, 800, 900, 1000, 2000, 5000, 10000]\n",
    "\n",
    "acuracia_treino = []\n",
    "acuracia_teste  = []\n",
    "auc_treino      = []\n",
    "auc_teste       = []\n",
    "\n",
    "for samples_leaf in samp_leaf:\n",
    "    dt = Pipeline(steps=[\n",
    "        ('dt', DecisionTreeClassifier(random_state=42, max_depth=10, min_samples_leaf=samples_leaf))\n",
    "    ])\n",
    "    \n",
    "    dt.fit(X_train_transf, y_train)\n",
    "    \n",
    "    y_pred_train = dt.predict(X_train_transf)\n",
    "    train_accuracy = accuracy_score(y_train, y_pred_train)\n",
    "    y_pred_test = dt.predict(X_test_transf)\n",
    "    test_accuracy = accuracy_score(y_test, y_pred_test)\n",
    "    \n",
    "    y_proba = dt.predict_proba(X_train_transf)[:, 1]\n",
    "    train_auc = roc_auc_score(y_train, y_proba)\n",
    "    y_proba_test = dt.predict_proba(X_test_transf)[:, 1]\n",
    "    test_auc = roc_auc_score(y_test, y_proba_test)\n",
    "\n",
    "    acuracia_treino.append(train_accuracy)\n",
    "    acuracia_teste.append(test_accuracy)\n",
    "    auc_treino.append(train_auc)\n",
    "    auc_teste.append(test_auc)\n",
    "    \n",
    "    print('min_samples_leaf:', samples_leaf)\n",
    "    print('Acurácia Treino:', train_accuracy)\n",
    "    print('Acurácia Teste:', test_accuracy)\n",
    "    print('AUC Treino:', train_auc)\n",
    "    print('AUC Teste:', test_auc)\n",
    "    print('')"
   ]
  },
  {
   "cell_type": "code",
   "execution_count": 72,
   "id": "9f14f013",
   "metadata": {},
   "outputs": [
    {
     "data": {
      "text/html": [
       "<div>\n",
       "<style scoped>\n",
       "    .dataframe tbody tr th:only-of-type {\n",
       "        vertical-align: middle;\n",
       "    }\n",
       "\n",
       "    .dataframe tbody tr th {\n",
       "        vertical-align: top;\n",
       "    }\n",
       "\n",
       "    .dataframe thead th {\n",
       "        text-align: right;\n",
       "    }\n",
       "</style>\n",
       "<table border=\"1\" class=\"dataframe\">\n",
       "  <thead>\n",
       "    <tr style=\"text-align: right;\">\n",
       "      <th></th>\n",
       "      <th>min_samples_leaf</th>\n",
       "      <th>Acuracia_treino</th>\n",
       "      <th>Acuracia_teste</th>\n",
       "      <th>AUC_treino</th>\n",
       "      <th>AUC_teste</th>\n",
       "    </tr>\n",
       "  </thead>\n",
       "  <tbody>\n",
       "    <tr>\n",
       "      <th>0</th>\n",
       "      <td>2</td>\n",
       "      <td>0.795775</td>\n",
       "      <td>0.798813</td>\n",
       "      <td>0.835760</td>\n",
       "      <td>0.833236</td>\n",
       "    </tr>\n",
       "    <tr>\n",
       "      <th>1</th>\n",
       "      <td>10</td>\n",
       "      <td>0.794806</td>\n",
       "      <td>0.799387</td>\n",
       "      <td>0.834621</td>\n",
       "      <td>0.834864</td>\n",
       "    </tr>\n",
       "    <tr>\n",
       "      <th>2</th>\n",
       "      <td>20</td>\n",
       "      <td>0.794284</td>\n",
       "      <td>0.799446</td>\n",
       "      <td>0.833856</td>\n",
       "      <td>0.835972</td>\n",
       "    </tr>\n",
       "    <tr>\n",
       "      <th>3</th>\n",
       "      <td>30</td>\n",
       "      <td>0.793873</td>\n",
       "      <td>0.799901</td>\n",
       "      <td>0.833423</td>\n",
       "      <td>0.836188</td>\n",
       "    </tr>\n",
       "    <tr>\n",
       "      <th>4</th>\n",
       "      <td>40</td>\n",
       "      <td>0.793513</td>\n",
       "      <td>0.800198</td>\n",
       "      <td>0.833111</td>\n",
       "      <td>0.836834</td>\n",
       "    </tr>\n",
       "    <tr>\n",
       "      <th>5</th>\n",
       "      <td>50</td>\n",
       "      <td>0.793107</td>\n",
       "      <td>0.800791</td>\n",
       "      <td>0.832800</td>\n",
       "      <td>0.837092</td>\n",
       "    </tr>\n",
       "    <tr>\n",
       "      <th>6</th>\n",
       "      <td>100</td>\n",
       "      <td>0.792590</td>\n",
       "      <td>0.799684</td>\n",
       "      <td>0.831568</td>\n",
       "      <td>0.837607</td>\n",
       "    </tr>\n",
       "    <tr>\n",
       "      <th>7</th>\n",
       "      <td>200</td>\n",
       "      <td>0.791571</td>\n",
       "      <td>0.800316</td>\n",
       "      <td>0.830164</td>\n",
       "      <td>0.837249</td>\n",
       "    </tr>\n",
       "    <tr>\n",
       "      <th>8</th>\n",
       "      <td>300</td>\n",
       "      <td>0.791089</td>\n",
       "      <td>0.799862</td>\n",
       "      <td>0.829085</td>\n",
       "      <td>0.837080</td>\n",
       "    </tr>\n",
       "    <tr>\n",
       "      <th>9</th>\n",
       "      <td>400</td>\n",
       "      <td>0.790759</td>\n",
       "      <td>0.801088</td>\n",
       "      <td>0.828166</td>\n",
       "      <td>0.837338</td>\n",
       "    </tr>\n",
       "    <tr>\n",
       "      <th>10</th>\n",
       "      <td>500</td>\n",
       "      <td>0.790404</td>\n",
       "      <td>0.801226</td>\n",
       "      <td>0.827653</td>\n",
       "      <td>0.837226</td>\n",
       "    </tr>\n",
       "    <tr>\n",
       "      <th>11</th>\n",
       "      <td>600</td>\n",
       "      <td>0.790064</td>\n",
       "      <td>0.799802</td>\n",
       "      <td>0.827063</td>\n",
       "      <td>0.837303</td>\n",
       "    </tr>\n",
       "    <tr>\n",
       "      <th>12</th>\n",
       "      <td>700</td>\n",
       "      <td>0.789841</td>\n",
       "      <td>0.799150</td>\n",
       "      <td>0.826726</td>\n",
       "      <td>0.836335</td>\n",
       "    </tr>\n",
       "    <tr>\n",
       "      <th>13</th>\n",
       "      <td>800</td>\n",
       "      <td>0.789471</td>\n",
       "      <td>0.798774</td>\n",
       "      <td>0.826393</td>\n",
       "      <td>0.836406</td>\n",
       "    </tr>\n",
       "    <tr>\n",
       "      <th>14</th>\n",
       "      <td>900</td>\n",
       "      <td>0.788979</td>\n",
       "      <td>0.798774</td>\n",
       "      <td>0.825907</td>\n",
       "      <td>0.836604</td>\n",
       "    </tr>\n",
       "    <tr>\n",
       "      <th>15</th>\n",
       "      <td>1000</td>\n",
       "      <td>0.788979</td>\n",
       "      <td>0.798774</td>\n",
       "      <td>0.825589</td>\n",
       "      <td>0.836838</td>\n",
       "    </tr>\n",
       "    <tr>\n",
       "      <th>16</th>\n",
       "      <td>2000</td>\n",
       "      <td>0.786763</td>\n",
       "      <td>0.799684</td>\n",
       "      <td>0.821645</td>\n",
       "      <td>0.833190</td>\n",
       "    </tr>\n",
       "    <tr>\n",
       "      <th>17</th>\n",
       "      <td>5000</td>\n",
       "      <td>0.783243</td>\n",
       "      <td>0.798695</td>\n",
       "      <td>0.815898</td>\n",
       "      <td>0.827915</td>\n",
       "    </tr>\n",
       "    <tr>\n",
       "      <th>18</th>\n",
       "      <td>10000</td>\n",
       "      <td>0.777082</td>\n",
       "      <td>0.792089</td>\n",
       "      <td>0.800945</td>\n",
       "      <td>0.811171</td>\n",
       "    </tr>\n",
       "  </tbody>\n",
       "</table>\n",
       "</div>"
      ],
      "text/plain": [
       "    min_samples_leaf  Acuracia_treino  Acuracia_teste  AUC_treino  AUC_teste\n",
       "0                  2         0.795775        0.798813    0.835760   0.833236\n",
       "1                 10         0.794806        0.799387    0.834621   0.834864\n",
       "2                 20         0.794284        0.799446    0.833856   0.835972\n",
       "3                 30         0.793873        0.799901    0.833423   0.836188\n",
       "4                 40         0.793513        0.800198    0.833111   0.836834\n",
       "5                 50         0.793107        0.800791    0.832800   0.837092\n",
       "6                100         0.792590        0.799684    0.831568   0.837607\n",
       "7                200         0.791571        0.800316    0.830164   0.837249\n",
       "8                300         0.791089        0.799862    0.829085   0.837080\n",
       "9                400         0.790759        0.801088    0.828166   0.837338\n",
       "10               500         0.790404        0.801226    0.827653   0.837226\n",
       "11               600         0.790064        0.799802    0.827063   0.837303\n",
       "12               700         0.789841        0.799150    0.826726   0.836335\n",
       "13               800         0.789471        0.798774    0.826393   0.836406\n",
       "14               900         0.788979        0.798774    0.825907   0.836604\n",
       "15              1000         0.788979        0.798774    0.825589   0.836838\n",
       "16              2000         0.786763        0.799684    0.821645   0.833190\n",
       "17              5000         0.783243        0.798695    0.815898   0.827915\n",
       "18             10000         0.777082        0.792089    0.800945   0.811171"
      ]
     },
     "execution_count": 72,
     "metadata": {},
     "output_type": "execute_result"
    }
   ],
   "source": [
    "result_minleaf = pd.DataFrame(data = {\n",
    "    'min_samples_leaf': samp_leaf,\n",
    "    'Acuracia_treino': acuracia_treino,\n",
    "    'Acuracia_teste': acuracia_teste,\n",
    "    'AUC_treino': auc_treino,\n",
    "    'AUC_teste': auc_teste\n",
    "})\n",
    "\n",
    "result_minleaf"
   ]
  },
  {
   "cell_type": "code",
   "execution_count": 77,
   "id": "7a463e21",
   "metadata": {},
   "outputs": [
    {
     "data": {
      "image/png": "[encoded data removed]",
      "text/plain": [
       "<Figure size 864x576 with 1 Axes>"
      ]
     },
     "metadata": {
      "needs_background": "light"
     },
     "output_type": "display_data"
    }
   ],
   "source": [
    "plt.figure(figsize = (12,8))\n",
    "sns.lineplot(x = result_minleaf.min_samples_leaf, y = result_minleaf.Acuracia_treino)\n",
    "sns.lineplot(x = result_minleaf.min_samples_leaf, y = result_minleaf.Acuracia_teste)\n",
    "sns.lineplot(x = result_minleaf.min_samples_leaf, y = result_minleaf.AUC_treino)\n",
    "sns.lineplot(x = result_minleaf.min_samples_leaf, y = result_minleaf.AUC_teste)\n",
    "plt.ylabel('Scores')\n",
    "\n",
    "plt.show()"
   ]
  },
  {
   "cell_type": "markdown",
   "id": "90bd1113",
   "metadata": {},
   "source": [
    "min_samples_leaf = 100 parece uma boa ideia para tentar diminuir o tamanho da árvore"
   ]
  },
  {
   "cell_type": "code",
   "execution_count": 24,
   "id": "3d943b50",
   "metadata": {},
   "outputs": [],
   "source": [
    "dt = Pipeline(steps=[\n",
    "    ('dt', DecisionTreeClassifier(random_state=42, max_depth=10, min_samples_leaf=100, class_weight = 'balanced'))\n",
    "])"
   ]
  },
  {
   "cell_type": "code",
   "execution_count": 25,
   "id": "6fe60d1c",
   "metadata": {},
   "outputs": [
    {
     "data": {
      "text/plain": [
       "Pipeline(steps=[('dt',\n",
       "                 DecisionTreeClassifier(class_weight='balanced', max_depth=10,\n",
       "                                        min_samples_leaf=100,\n",
       "                                        random_state=42))])"
      ]
     },
     "execution_count": 25,
     "metadata": {},
     "output_type": "execute_result"
    }
   ],
   "source": [
    "dt.fit(X_train_transf, y_train)"
   ]
  },
  {
   "cell_type": "markdown",
   "id": "f9ccfabc",
   "metadata": {},
   "source": [
    "## Avaliação do modelo"
   ]
  },
  {
   "cell_type": "markdown",
   "id": "f4bcac1a",
   "metadata": {},
   "source": [
    "### Acurácia"
   ]
  },
  {
   "cell_type": "code",
   "execution_count": 26,
   "id": "a830f9b1",
   "metadata": {},
   "outputs": [
    {
     "name": "stdout",
     "output_type": "stream",
     "text": [
      "Acurácia Treino: 0.759925756507716\n",
      "Acurácia Teste: 0.7536636013052507\n"
     ]
    }
   ],
   "source": [
    "y_pred_train = dt.predict(X_train_transf)\n",
    "y_pred_test = dt.predict(X_test_transf)\n",
    "from sklearn.metrics import accuracy_score\n",
    "\n",
    "print('Acurácia Treino:', accuracy_score(y_train, y_pred_train))\n",
    "print('Acurácia Teste:', accuracy_score(y_test, y_pred_test))"
   ]
  },
  {
   "cell_type": "markdown",
   "id": "3b015940",
   "metadata": {},
   "source": [
    "### AUROC"
   ]
  },
  {
   "cell_type": "code",
   "execution_count": 27,
   "id": "fdbdf5c2",
   "metadata": {},
   "outputs": [
    {
     "name": "stdout",
     "output_type": "stream",
     "text": [
      "AUC Treino: 0.8317262284607744\n",
      "AUC Teste: 0.8374452772117231\n"
     ]
    }
   ],
   "source": [
    "from sklearn.metrics import roc_auc_score\n",
    "\n",
    "y_proba = dt.predict_proba(X_train_transf)[:, 1]\n",
    "\n",
    "y_proba_test = dt.predict_proba(X_test_transf)[:, 1]\n",
    "\n",
    "\n",
    "print('AUC Treino:', roc_auc_score(y_train, y_proba))\n",
    "print('AUC Teste:', roc_auc_score(y_test, y_proba_test))"
   ]
  },
  {
   "cell_type": "markdown",
   "id": "b1224f18",
   "metadata": {},
   "source": [
    "### Confusion Matrix"
   ]
  },
  {
   "cell_type": "code",
   "execution_count": 36,
   "id": "aec4a6aa",
   "metadata": {
    "scrolled": true
   },
   "outputs": [
    {
     "data": {
      "text/plain": [
       "<sklearn.metrics._plot.confusion_matrix.ConfusionMatrixDisplay at 0x267104d93a0>"
      ]
     },
     "execution_count": 36,
     "metadata": {},
     "output_type": "execute_result"
    },
    {
     "data": {
      "image/png": "[encoded data removed]",
      "text/plain": [
       "<Figure size 432x288 with 2 Axes>"
      ]
     },
     "metadata": {
      "needs_background": "light"
     },
     "output_type": "display_data"
    }
   ],
   "source": [
    "from sklearn.metrics import confusion_matrix, ConfusionMatrixDisplay\n",
    "import matplotlib.pyplot as plt\n",
    "\n",
    "cm = confusion_matrix(y_test, y_pred_test)\n",
    "disp = ConfusionMatrixDisplay(confusion_matrix=cm)\n",
    "disp.plot()"
   ]
  },
  {
   "cell_type": "markdown",
   "id": "6343a877",
   "metadata": {},
   "source": [
    "### Classification Report"
   ]
  },
  {
   "cell_type": "code",
   "execution_count": 37,
   "id": "1efde403",
   "metadata": {},
   "outputs": [
    {
     "name": "stdout",
     "output_type": "stream",
     "text": [
      "              precision    recall  f1-score   support\n",
      "\n",
      "        Alta       0.88      0.74      0.81     35191\n",
      "       Obito       0.57      0.77      0.66     15374\n",
      "\n",
      "    accuracy                           0.75     50565\n",
      "   macro avg       0.73      0.76      0.73     50565\n",
      "weighted avg       0.79      0.75      0.76     50565\n",
      "\n"
     ]
    }
   ],
   "source": [
    "from sklearn.metrics import classification_report\n",
    "\n",
    "print(classification_report(y_test, y_pred_test, target_names=['Alta', 'Obito']))"
   ]
  },
  {
   "cell_type": "markdown",
   "id": "6c8496c6",
   "metadata": {},
   "source": [
    "## Feature Importances\n",
    "\n",
    "Entendendo quais são as características que não podem faltar na triagem de um paciente com suspeita de SRAG"
   ]
  },
  {
   "cell_type": "code",
   "execution_count": 30,
   "id": "34103278",
   "metadata": {},
   "outputs": [
    {
     "data": {
      "text/html": [
       "<div>\n",
       "<style scoped>\n",
       "    .dataframe tbody tr th:only-of-type {\n",
       "        vertical-align: middle;\n",
       "    }\n",
       "\n",
       "    .dataframe tbody tr th {\n",
       "        vertical-align: top;\n",
       "    }\n",
       "\n",
       "    .dataframe thead th {\n",
       "        text-align: right;\n",
       "    }\n",
       "</style>\n",
       "<table border=\"1\" class=\"dataframe\">\n",
       "  <thead>\n",
       "    <tr style=\"text-align: right;\">\n",
       "      <th></th>\n",
       "      <th>features</th>\n",
       "      <th>importances</th>\n",
       "    </tr>\n",
       "  </thead>\n",
       "  <tbody>\n",
       "    <tr>\n",
       "      <th>38</th>\n",
       "      <td>suporte_vent_Invasivo</td>\n",
       "      <td>0.573332</td>\n",
       "    </tr>\n",
       "    <tr>\n",
       "      <th>27</th>\n",
       "      <td>uti</td>\n",
       "      <td>0.104524</td>\n",
       "    </tr>\n",
       "    <tr>\n",
       "      <th>44</th>\n",
       "      <td>idade1_(75.0, 121.0]</td>\n",
       "      <td>0.101841</td>\n",
       "    </tr>\n",
       "    <tr>\n",
       "      <th>33</th>\n",
       "      <td>diagnostico_COVID</td>\n",
       "      <td>0.064326</td>\n",
       "    </tr>\n",
       "    <tr>\n",
       "      <th>42</th>\n",
       "      <td>idade1_(63.0, 75.0]</td>\n",
       "      <td>0.037505</td>\n",
       "    </tr>\n",
       "    <tr>\n",
       "      <th>43</th>\n",
       "      <td>idade1_(-0.001, 39.0]</td>\n",
       "      <td>0.020628</td>\n",
       "    </tr>\n",
       "    <tr>\n",
       "      <th>22</th>\n",
       "      <td>saturacao</td>\n",
       "      <td>0.012787</td>\n",
       "    </tr>\n",
       "    <tr>\n",
       "      <th>21</th>\n",
       "      <td>desc_resp</td>\n",
       "      <td>0.009695</td>\n",
       "    </tr>\n",
       "    <tr>\n",
       "      <th>9</th>\n",
       "      <td>imunodepre</td>\n",
       "      <td>0.006820</td>\n",
       "    </tr>\n",
       "    <tr>\n",
       "      <th>11</th>\n",
       "      <td>neurologic</td>\n",
       "      <td>0.006682</td>\n",
       "    </tr>\n",
       "    <tr>\n",
       "      <th>40</th>\n",
       "      <td>vacina_covid19_Nao</td>\n",
       "      <td>0.006325</td>\n",
       "    </tr>\n",
       "    <tr>\n",
       "      <th>37</th>\n",
       "      <td>suporte_vent_Nao-invasivo</td>\n",
       "      <td>0.005906</td>\n",
       "    </tr>\n",
       "    <tr>\n",
       "      <th>39</th>\n",
       "      <td>vacina_covid19_Nao-disponivel</td>\n",
       "      <td>0.005900</td>\n",
       "    </tr>\n",
       "    <tr>\n",
       "      <th>45</th>\n",
       "      <td>idade1_(52.0, 63.0]</td>\n",
       "      <td>0.005242</td>\n",
       "    </tr>\n",
       "    <tr>\n",
       "      <th>49</th>\n",
       "      <td>tempo_alta_obito_final1_(-0.001, 14.0]</td>\n",
       "      <td>0.005179</td>\n",
       "    </tr>\n",
       "    <tr>\n",
       "      <th>46</th>\n",
       "      <td>idade1_(39.0, 52.0]</td>\n",
       "      <td>0.004851</td>\n",
       "    </tr>\n",
       "    <tr>\n",
       "      <th>28</th>\n",
       "      <td>vacina_gripe</td>\n",
       "      <td>0.004203</td>\n",
       "    </tr>\n",
       "    <tr>\n",
       "      <th>8</th>\n",
       "      <td>renal</td>\n",
       "      <td>0.003617</td>\n",
       "    </tr>\n",
       "    <tr>\n",
       "      <th>17</th>\n",
       "      <td>dispneia</td>\n",
       "      <td>0.002789</td>\n",
       "    </tr>\n",
       "    <tr>\n",
       "      <th>16</th>\n",
       "      <td>tosse</td>\n",
       "      <td>0.002127</td>\n",
       "    </tr>\n",
       "    <tr>\n",
       "      <th>26</th>\n",
       "      <td>perd_pala</td>\n",
       "      <td>0.002094</td>\n",
       "    </tr>\n",
       "    <tr>\n",
       "      <th>36</th>\n",
       "      <td>suporte_vent_Nao</td>\n",
       "      <td>0.001799</td>\n",
       "    </tr>\n",
       "    <tr>\n",
       "      <th>5</th>\n",
       "      <td>asma</td>\n",
       "      <td>0.001251</td>\n",
       "    </tr>\n",
       "    <tr>\n",
       "      <th>30</th>\n",
       "      <td>CS_SEXO_F</td>\n",
       "      <td>0.001191</td>\n",
       "    </tr>\n",
       "    <tr>\n",
       "      <th>6</th>\n",
       "      <td>diabetes</td>\n",
       "      <td>0.001167</td>\n",
       "    </tr>\n",
       "    <tr>\n",
       "      <th>15</th>\n",
       "      <td>febre</td>\n",
       "      <td>0.001081</td>\n",
       "    </tr>\n",
       "    <tr>\n",
       "      <th>24</th>\n",
       "      <td>fadiga</td>\n",
       "      <td>0.001068</td>\n",
       "    </tr>\n",
       "    <tr>\n",
       "      <th>31</th>\n",
       "      <td>CS_SEXO_M</td>\n",
       "      <td>0.001009</td>\n",
       "    </tr>\n",
       "    <tr>\n",
       "      <th>4</th>\n",
       "      <td>cardiopati</td>\n",
       "      <td>0.000959</td>\n",
       "    </tr>\n",
       "    <tr>\n",
       "      <th>50</th>\n",
       "      <td>tempo_alta_obito_final1_(14.0, 36.0]</td>\n",
       "      <td>0.000579</td>\n",
       "    </tr>\n",
       "    <tr>\n",
       "      <th>12</th>\n",
       "      <td>obesidade</td>\n",
       "      <td>0.000565</td>\n",
       "    </tr>\n",
       "    <tr>\n",
       "      <th>7</th>\n",
       "      <td>pneumopati</td>\n",
       "      <td>0.000473</td>\n",
       "    </tr>\n",
       "    <tr>\n",
       "      <th>25</th>\n",
       "      <td>perd_olft</td>\n",
       "      <td>0.000464</td>\n",
       "    </tr>\n",
       "    <tr>\n",
       "      <th>51</th>\n",
       "      <td>tempo_alta_obito_final1_(36.0, 85.0]</td>\n",
       "      <td>0.000431</td>\n",
       "    </tr>\n",
       "    <tr>\n",
       "      <th>19</th>\n",
       "      <td>vomito</td>\n",
       "      <td>0.000339</td>\n",
       "    </tr>\n",
       "    <tr>\n",
       "      <th>32</th>\n",
       "      <td>diagnostico_Desconhecido</td>\n",
       "      <td>0.000329</td>\n",
       "    </tr>\n",
       "    <tr>\n",
       "      <th>20</th>\n",
       "      <td>garganta</td>\n",
       "      <td>0.000313</td>\n",
       "    </tr>\n",
       "    <tr>\n",
       "      <th>48</th>\n",
       "      <td>tempo_alta_obito_final1_(162.0, 703.0]</td>\n",
       "      <td>0.000307</td>\n",
       "    </tr>\n",
       "    <tr>\n",
       "      <th>41</th>\n",
       "      <td>vacina_covid19_Sim</td>\n",
       "      <td>0.000182</td>\n",
       "    </tr>\n",
       "    <tr>\n",
       "      <th>29</th>\n",
       "      <td>antiviral</td>\n",
       "      <td>0.000068</td>\n",
       "    </tr>\n",
       "    <tr>\n",
       "      <th>3</th>\n",
       "      <td>hematologi</td>\n",
       "      <td>0.000033</td>\n",
       "    </tr>\n",
       "    <tr>\n",
       "      <th>47</th>\n",
       "      <td>tempo_alta_obito_final1_(85.0, 162.0]</td>\n",
       "      <td>0.000019</td>\n",
       "    </tr>\n",
       "    <tr>\n",
       "      <th>34</th>\n",
       "      <td>diagnostico_Outros</td>\n",
       "      <td>0.000000</td>\n",
       "    </tr>\n",
       "    <tr>\n",
       "      <th>10</th>\n",
       "      <td>hepatica</td>\n",
       "      <td>0.000000</td>\n",
       "    </tr>\n",
       "    <tr>\n",
       "      <th>2</th>\n",
       "      <td>mae_vacinada_gripe</td>\n",
       "      <td>0.000000</td>\n",
       "    </tr>\n",
       "    <tr>\n",
       "      <th>18</th>\n",
       "      <td>diarreia</td>\n",
       "      <td>0.000000</td>\n",
       "    </tr>\n",
       "    <tr>\n",
       "      <th>13</th>\n",
       "      <td>puerpera</td>\n",
       "      <td>0.000000</td>\n",
       "    </tr>\n",
       "    <tr>\n",
       "      <th>14</th>\n",
       "      <td>sind_down</td>\n",
       "      <td>0.000000</td>\n",
       "    </tr>\n",
       "    <tr>\n",
       "      <th>35</th>\n",
       "      <td>diagnostico_Influenza</td>\n",
       "      <td>0.000000</td>\n",
       "    </tr>\n",
       "    <tr>\n",
       "      <th>23</th>\n",
       "      <td>dor_abd</td>\n",
       "      <td>0.000000</td>\n",
       "    </tr>\n",
       "    <tr>\n",
       "      <th>1</th>\n",
       "      <td>mae_amamenta</td>\n",
       "      <td>0.000000</td>\n",
       "    </tr>\n",
       "    <tr>\n",
       "      <th>0</th>\n",
       "      <td>gravidez</td>\n",
       "      <td>0.000000</td>\n",
       "    </tr>\n",
       "  </tbody>\n",
       "</table>\n",
       "</div>"
      ],
      "text/plain": [
       "                                  features  importances\n",
       "38                   suporte_vent_Invasivo     0.573332\n",
       "27                                     uti     0.104524\n",
       "44                    idade1_(75.0, 121.0]     0.101841\n",
       "33                       diagnostico_COVID     0.064326\n",
       "42                     idade1_(63.0, 75.0]     0.037505\n",
       "43                   idade1_(-0.001, 39.0]     0.020628\n",
       "22                               saturacao     0.012787\n",
       "21                               desc_resp     0.009695\n",
       "9                               imunodepre     0.006820\n",
       "11                              neurologic     0.006682\n",
       "40                      vacina_covid19_Nao     0.006325\n",
       "37               suporte_vent_Nao-invasivo     0.005906\n",
       "39           vacina_covid19_Nao-disponivel     0.005900\n",
       "45                     idade1_(52.0, 63.0]     0.005242\n",
       "49  tempo_alta_obito_final1_(-0.001, 14.0]     0.005179\n",
       "46                     idade1_(39.0, 52.0]     0.004851\n",
       "28                            vacina_gripe     0.004203\n",
       "8                                    renal     0.003617\n",
       "17                                dispneia     0.002789\n",
       "16                                   tosse     0.002127\n",
       "26                               perd_pala     0.002094\n",
       "36                        suporte_vent_Nao     0.001799\n",
       "5                                     asma     0.001251\n",
       "30                               CS_SEXO_F     0.001191\n",
       "6                                 diabetes     0.001167\n",
       "15                                   febre     0.001081\n",
       "24                                  fadiga     0.001068\n",
       "31                               CS_SEXO_M     0.001009\n",
       "4                               cardiopati     0.000959\n",
       "50    tempo_alta_obito_final1_(14.0, 36.0]     0.000579\n",
       "12                               obesidade     0.000565\n",
       "7                               pneumopati     0.000473\n",
       "25                               perd_olft     0.000464\n",
       "51    tempo_alta_obito_final1_(36.0, 85.0]     0.000431\n",
       "19                                  vomito     0.000339\n",
       "32                diagnostico_Desconhecido     0.000329\n",
       "20                                garganta     0.000313\n",
       "48  tempo_alta_obito_final1_(162.0, 703.0]     0.000307\n",
       "41                      vacina_covid19_Sim     0.000182\n",
       "29                               antiviral     0.000068\n",
       "3                               hematologi     0.000033\n",
       "47   tempo_alta_obito_final1_(85.0, 162.0]     0.000019\n",
       "34                      diagnostico_Outros     0.000000\n",
       "10                                hepatica     0.000000\n",
       "2                       mae_vacinada_gripe     0.000000\n",
       "18                                diarreia     0.000000\n",
       "13                                puerpera     0.000000\n",
       "14                               sind_down     0.000000\n",
       "35                   diagnostico_Influenza     0.000000\n",
       "23                                 dor_abd     0.000000\n",
       "1                             mae_amamenta     0.000000\n",
       "0                                 gravidez     0.000000"
      ]
     },
     "execution_count": 30,
     "metadata": {},
     "output_type": "execute_result"
    }
   ],
   "source": [
    "pd.set_option('display.max_rows', len(X_train_transf.columns))\n",
    "\n",
    "feature_importances_df = pd.DataFrame({\n",
    "    'features': X_train_transf.columns,\n",
    "    'importances': dt.steps[-1][1].feature_importances_\n",
    "}).sort_values(by='importances', ascending=False)\n",
    "\n",
    "feature_importances_df"
   ]
  },
  {
   "cell_type": "code",
   "execution_count": 31,
   "id": "4930266d",
   "metadata": {},
   "outputs": [],
   "source": [
    "pd.reset_option('display.max_rows')"
   ]
  },
  {
   "cell_type": "code",
   "execution_count": 32,
   "id": "799b1eca",
   "metadata": {
    "scrolled": false
   },
   "outputs": [
    {
     "data": {
      "image/png": "[encoded data removed]",
      "text/plain": [
       "<Figure size 720x504 with 1 Axes>"
      ]
     },
     "metadata": {
      "needs_background": "light"
     },
     "output_type": "display_data"
    }
   ],
   "source": [
    "import seaborn as sns\n",
    "import matplotlib.pyplot as plt\n",
    "plt.figure(figsize = (10,7))\n",
    "plt.title(\"Feature importances\")\n",
    "sns.barplot(data = feature_importances_df[:15], x = 'importances', y = 'features')\n",
    "plt.show()"
   ]
  },
  {
   "cell_type": "code",
   "execution_count": 39,
   "id": "42bfcb58",
   "metadata": {},
   "outputs": [],
   "source": [
    "plt.rcParams['figure.figsize'] = 35, 15"
   ]
  },
  {
   "cell_type": "code",
   "execution_count": 40,
   "id": "1fc18b3e",
   "metadata": {},
   "outputs": [
    {
     "data": {
      "image/png": "[encoded data removed]",
      "text/plain": [
       "<Figure size 2520x1080 with 1 Axes>"
      ]
     },
     "metadata": {
      "needs_background": "light"
     },
     "output_type": "display_data"
    }
   ],
   "source": [
    "plot_tree(\n",
    "    dt.steps[-1][1],\n",
    "    feature_names=X_train_transf.columns,\n",
    "    class_names=['Alta', 'Obito'],\n",
    "    rounded=True,\n",
    "    filled=True,\n",
    "    proportion=True\n",
    ");\n",
    "\n",
    "plt.savefig('tree_10_100_semignull.pdf',format='pdf')"
   ]
  },
  {
   "cell_type": "code",
   "execution_count": 41,
   "id": "186471a8",
   "metadata": {},
   "outputs": [
    {
     "data": {
      "image/png": "[encoded data removed]",
      "text/plain": [
       "<Figure size 576x684 with 2 Axes>"
      ]
     },
     "metadata": {
      "needs_background": "light"
     },
     "output_type": "display_data"
    }
   ],
   "source": [
    "import shap\n",
    "\n",
    "explainer = shap.Explainer(dt.steps[-1][1])\n",
    "shap_values = explainer(X_test_transf)\n",
    "\n",
    "shap.plots.beeswarm(shap_values[:, :, 1], max_display = 20) # 1 é o óbito e 0 a alta"
   ]
  },
  {
   "cell_type": "markdown",
   "id": "599cdc7c",
   "metadata": {},
   "source": [
    "Pode-se observar que o class_weight = 'balanced' faz diferença no modelo, melhorando os verdadeiros positivos, mas, em contra partida, piora os falsos positivos. Como estamos tratando de óbitos, um falso negativo é pior que um falso positivo, portanto podemos seguir desta forma."
   ]
  },
  {
   "cell_type": "markdown",
   "id": "a48264c1",
   "metadata": {},
   "source": [
    "## Alterando o ponto de corte do modelo\n",
    "\n",
    "Para isso, vou utilizar o ROC através de uma função que irá retornar o ponto de corte ótimo que tem alta taxa de verdadeiros positivos e baixa taxa de falsos positivos"
   ]
  },
  {
   "cell_type": "code",
   "execution_count": 34,
   "id": "794240a4",
   "metadata": {},
   "outputs": [],
   "source": [
    "from sklearn.metrics import roc_curve, auc\n",
    "\n",
    "def Find_Optimal_Cutoff(target, predicted):\n",
    "    \"\"\" Find the optimal probability cutoff point for a classification model related to event rate\n",
    "    Parameters\n",
    "    ----------\n",
    "    target : Matrix with dependent or target data, where rows are observations\n",
    "\n",
    "    predicted : Matrix with predicted data, where rows are observations\n",
    "\n",
    "    Returns\n",
    "    -------     \n",
    "    list type, with optimal cutoff value\n",
    "        \n",
    "    \"\"\"\n",
    "    fpr, tpr, threshold = roc_curve(target, predicted)\n",
    "    i = np.arange(len(tpr)) \n",
    "    roc = pd.DataFrame({'tf' : pd.Series(tpr-(1-fpr), index=i), 'threshold' : pd.Series(threshold, index=i)})\n",
    "    roc_t = roc.iloc[(roc.tf-0).abs().argsort()[:1]]\n",
    "\n",
    "    return list(roc_t['threshold'])"
   ]
  },
  {
   "cell_type": "code",
   "execution_count": 35,
   "id": "1d907e38",
   "metadata": {},
   "outputs": [
    {
     "data": {
      "text/plain": [
       "0.4755588849182593"
      ]
     },
     "execution_count": 35,
     "metadata": {},
     "output_type": "execute_result"
    }
   ],
   "source": [
    "threshold = Find_Optimal_Cutoff(y_train, y_proba)[0]\n",
    "threshold"
   ]
  },
  {
   "cell_type": "markdown",
   "id": "6cdf0af3",
   "metadata": {},
   "source": [
    "### Treino"
   ]
  },
  {
   "cell_type": "code",
   "execution_count": 93,
   "id": "659c303d",
   "metadata": {},
   "outputs": [],
   "source": [
    "train_cuttoff_pred = []\n",
    "for i in y_proba:\n",
    "    if i > threshold:\n",
    "        i = 1\n",
    "        train_cuttoff_pred.append(i)\n",
    "    else:\n",
    "        i = 0\n",
    "        train_cuttoff_pred.append(i)"
   ]
  },
  {
   "cell_type": "code",
   "execution_count": 94,
   "id": "eb3a91f9",
   "metadata": {},
   "outputs": [
    {
     "data": {
      "text/plain": [
       "<sklearn.metrics._plot.confusion_matrix.ConfusionMatrixDisplay at 0x1dfab8da4f0>"
      ]
     },
     "execution_count": 94,
     "metadata": {},
     "output_type": "execute_result"
    },
    {
     "data": {
      "image/png": "[encoded data removed]",
      "text/plain": [
       "<Figure size 1800x720 with 2 Axes>"
      ]
     },
     "metadata": {
      "needs_background": "light"
     },
     "output_type": "display_data"
    }
   ],
   "source": [
    "cm = confusion_matrix(y_train, train_cuttoff_pred)\n",
    "disp = ConfusionMatrixDisplay(confusion_matrix=cm)\n",
    "disp.plot()"
   ]
  },
  {
   "cell_type": "code",
   "execution_count": 95,
   "id": "0a154c62",
   "metadata": {},
   "outputs": [
    {
     "name": "stdout",
     "output_type": "stream",
     "text": [
      "              precision    recall  f1-score   support\n",
      "\n",
      "        Alta       0.86      0.76      0.81    134015\n",
      "       Obito       0.59      0.75      0.66     63174\n",
      "\n",
      "    accuracy                           0.76    197189\n",
      "   macro avg       0.73      0.75      0.74    197189\n",
      "weighted avg       0.78      0.76      0.76    197189\n",
      "\n"
     ]
    }
   ],
   "source": [
    "print(classification_report(y_train, train_cuttoff_pred, target_names=['Alta', 'Obito']))"
   ]
  },
  {
   "cell_type": "markdown",
   "id": "857f7156",
   "metadata": {},
   "source": [
    "### Teste"
   ]
  },
  {
   "cell_type": "code",
   "execution_count": 96,
   "id": "678e3240",
   "metadata": {},
   "outputs": [],
   "source": [
    "# Add prediction probability to dataframe\n",
    "test_cuttoff_pred = []\n",
    "\n",
    "for i in y_proba_test:\n",
    "    if i > threshold:\n",
    "        i = 1\n",
    "        test_cuttoff_pred.append(i)\n",
    "    else:\n",
    "        i = 0\n",
    "        test_cuttoff_pred.append(i)"
   ]
  },
  {
   "cell_type": "code",
   "execution_count": 97,
   "id": "f1bdd16b",
   "metadata": {},
   "outputs": [
    {
     "data": {
      "text/plain": [
       "<sklearn.metrics._plot.confusion_matrix.ConfusionMatrixDisplay at 0x1dfab8a0eb0>"
      ]
     },
     "execution_count": 97,
     "metadata": {},
     "output_type": "execute_result"
    },
    {
     "data": {
      "image/png": "[encoded data removed]",
      "text/plain": [
       "<Figure size 1800x720 with 2 Axes>"
      ]
     },
     "metadata": {
      "needs_background": "light"
     },
     "output_type": "display_data"
    }
   ],
   "source": [
    "cm = confusion_matrix(y_test, test_cuttoff_pred)\n",
    "disp = ConfusionMatrixDisplay(confusion_matrix=cm)\n",
    "disp.plot()"
   ]
  },
  {
   "cell_type": "code",
   "execution_count": 98,
   "id": "5a8a77a2",
   "metadata": {},
   "outputs": [
    {
     "name": "stdout",
     "output_type": "stream",
     "text": [
      "              precision    recall  f1-score   support\n",
      "\n",
      "        Alta       0.89      0.73      0.80     35191\n",
      "       Obito       0.56      0.79      0.65     15374\n",
      "\n",
      "    accuracy                           0.75     50565\n",
      "   macro avg       0.72      0.76      0.73     50565\n",
      "weighted avg       0.79      0.75      0.76     50565\n",
      "\n"
     ]
    }
   ],
   "source": [
    "print(classification_report(y_test, test_cuttoff_pred, target_names=['Alta', 'Obito']))"
   ]
  },
  {
   "cell_type": "markdown",
   "id": "770e3f32",
   "metadata": {},
   "source": [
    "Não altera muita coisa, mas diminui a precisão mais ainda."
   ]
  },
  {
   "cell_type": "markdown",
   "id": "4990ec57",
   "metadata": {},
   "source": [
    "## Modelagem - Regressão Logística"
   ]
  },
  {
   "cell_type": "markdown",
   "id": "2b852c74",
   "metadata": {},
   "source": [
    "No caso da regressão logística, é necessário aplicar o parâmetro drop_last = True ao dummificar as colunas"
   ]
  },
  {
   "cell_type": "code",
   "execution_count": 99,
   "id": "e5eab255",
   "metadata": {},
   "outputs": [],
   "source": [
    "onehot = OneHotEncoder(drop_last = True)"
   ]
  },
  {
   "cell_type": "code",
   "execution_count": 100,
   "id": "ded5b1c9",
   "metadata": {},
   "outputs": [],
   "source": [
    "X_train_transf = onehot.fit_transform(X_train)\n",
    "\n",
    "X_test_transf = onehot.transform(X_test)"
   ]
  },
  {
   "cell_type": "code",
   "execution_count": 101,
   "id": "c2c4c3fb",
   "metadata": {},
   "outputs": [
    {
     "data": {
      "text/plain": [
       "((197189, 46), (50565, 46))"
      ]
     },
     "execution_count": 101,
     "metadata": {},
     "output_type": "execute_result"
    }
   ],
   "source": [
    "X_train_transf.shape, X_test_transf.shape"
   ]
  },
  {
   "cell_type": "markdown",
   "id": "73c65063",
   "metadata": {},
   "source": [
    "### Modelo Baseline"
   ]
  },
  {
   "cell_type": "code",
   "execution_count": 102,
   "id": "308b54c1",
   "metadata": {},
   "outputs": [],
   "source": [
    "from sklearn.linear_model import LogisticRegression"
   ]
  },
  {
   "cell_type": "code",
   "execution_count": 103,
   "id": "29c8b5e1",
   "metadata": {},
   "outputs": [],
   "source": [
    "lr = Pipeline(steps=[\n",
    "    ('lr', LogisticRegression(random_state=42, max_iter = 1000))\n",
    "])"
   ]
  },
  {
   "cell_type": "code",
   "execution_count": 104,
   "id": "cc556032",
   "metadata": {},
   "outputs": [
    {
     "data": {
      "text/plain": [
       "Pipeline(steps=[('lr', LogisticRegression(max_iter=1000, random_state=42))])"
      ]
     },
     "execution_count": 104,
     "metadata": {},
     "output_type": "execute_result"
    }
   ],
   "source": [
    "lr.fit(X_train_transf, y_train)"
   ]
  },
  {
   "cell_type": "markdown",
   "id": "05059db0",
   "metadata": {},
   "source": [
    "## Avaliação do modelo"
   ]
  },
  {
   "cell_type": "markdown",
   "id": "4ca54815",
   "metadata": {},
   "source": [
    "### Acurácia"
   ]
  },
  {
   "cell_type": "code",
   "execution_count": 105,
   "id": "e21ae7d2",
   "metadata": {},
   "outputs": [
    {
     "name": "stdout",
     "output_type": "stream",
     "text": [
      "Acurácia Treino: 0.7910228258168559\n",
      "Acurácia Teste: 0.8034015623454959\n"
     ]
    }
   ],
   "source": [
    "y_pred_train = lr.predict(X_train_transf)\n",
    "y_pred_test = lr.predict(X_test_transf)\n",
    "from sklearn.metrics import accuracy_score\n",
    "\n",
    "print('Acurácia Treino:', accuracy_score(y_train, y_pred_train))\n",
    "print('Acurácia Teste:', accuracy_score(y_test, y_pred_test))"
   ]
  },
  {
   "cell_type": "markdown",
   "id": "235d0a4c",
   "metadata": {},
   "source": [
    "### AUROC"
   ]
  },
  {
   "cell_type": "code",
   "execution_count": 106,
   "id": "b0cfa25a",
   "metadata": {},
   "outputs": [
    {
     "name": "stdout",
     "output_type": "stream",
     "text": [
      "AUC Treino: 0.8304313229977492\n",
      "AUC Teste: 0.8411578869360754\n"
     ]
    }
   ],
   "source": [
    "from sklearn.metrics import roc_auc_score\n",
    "\n",
    "y_proba = lr.predict_proba(X_train_transf)[:, 1]\n",
    "\n",
    "y_proba_test = lr.predict_proba(X_test_transf)[:, 1]\n",
    "\n",
    "\n",
    "print('AUC Treino:', roc_auc_score(y_train, y_proba))\n",
    "print('AUC Teste:', roc_auc_score(y_test, y_proba_test))"
   ]
  },
  {
   "cell_type": "markdown",
   "id": "992e289d",
   "metadata": {},
   "source": [
    "### Confusion Matrix"
   ]
  },
  {
   "cell_type": "code",
   "execution_count": 107,
   "id": "7002d4db",
   "metadata": {
    "scrolled": true
   },
   "outputs": [
    {
     "data": {
      "text/plain": [
       "<sklearn.metrics._plot.confusion_matrix.ConfusionMatrixDisplay at 0x1dfabba5820>"
      ]
     },
     "execution_count": 107,
     "metadata": {},
     "output_type": "execute_result"
    },
    {
     "data": {
      "image/png": "[encoded data removed]",
      "text/plain": [
       "<Figure size 1800x720 with 2 Axes>"
      ]
     },
     "metadata": {
      "needs_background": "light"
     },
     "output_type": "display_data"
    }
   ],
   "source": [
    "from sklearn.metrics import confusion_matrix, ConfusionMatrixDisplay\n",
    "import matplotlib.pyplot as plt\n",
    "\n",
    "cm = confusion_matrix(y_test, y_pred_test)\n",
    "disp = ConfusionMatrixDisplay(confusion_matrix=cm)\n",
    "disp.plot()"
   ]
  },
  {
   "cell_type": "markdown",
   "id": "3042beaa",
   "metadata": {},
   "source": [
    "### Classification Report"
   ]
  },
  {
   "cell_type": "code",
   "execution_count": 108,
   "id": "b9701cd5",
   "metadata": {},
   "outputs": [
    {
     "name": "stdout",
     "output_type": "stream",
     "text": [
      "              precision    recall  f1-score   support\n",
      "\n",
      "        Alta       0.83      0.90      0.86     35191\n",
      "       Obito       0.72      0.58      0.64     15374\n",
      "\n",
      "    accuracy                           0.80     50565\n",
      "   macro avg       0.78      0.74      0.75     50565\n",
      "weighted avg       0.80      0.80      0.80     50565\n",
      "\n"
     ]
    }
   ],
   "source": [
    "from sklearn.metrics import classification_report\n",
    "\n",
    "print(classification_report(y_test, y_pred_test, target_names=['Alta', 'Obito']))"
   ]
  },
  {
   "cell_type": "markdown",
   "id": "8eb4894b",
   "metadata": {},
   "source": [
    "## Coeficientes"
   ]
  },
  {
   "cell_type": "code",
   "execution_count": 109,
   "id": "d0a277ba",
   "metadata": {},
   "outputs": [],
   "source": [
    "coefs = pd.DataFrame(data = {\n",
    "    'Colunas': X_train_transf.columns,\n",
    "    'Coeficientes': lr.steps[-1][1].coef_.ravel()\n",
    "})"
   ]
  },
  {
   "cell_type": "code",
   "execution_count": 110,
   "id": "7bfe52ba",
   "metadata": {},
   "outputs": [],
   "source": [
    "coefs_ordenado = coefs.reindex(coefs.Coeficientes.abs().sort_values(ascending = False).index).reset_index(drop=True)"
   ]
  },
  {
   "cell_type": "code",
   "execution_count": 111,
   "id": "d3d7139c",
   "metadata": {},
   "outputs": [
    {
     "name": "stderr",
     "output_type": "stream",
     "text": [
      "Creating an ndarray from ragged nested sequences (which is a list-or-tuple of lists-or-tuples-or ndarrays with different lengths or shapes) is deprecated. If you meant to do this, you must specify 'dtype=object' when creating the ndarray.\n"
     ]
    }
   ],
   "source": [
    "coefs_ordenado.loc[0, :] = ['Intercepto', lr.steps[-1][1].intercept_]"
   ]
  },
  {
   "cell_type": "code",
   "execution_count": 112,
   "id": "5e023ec0",
   "metadata": {},
   "outputs": [
    {
     "data": {
      "text/html": [
       "<div>\n",
       "<style scoped>\n",
       "    .dataframe tbody tr th:only-of-type {\n",
       "        vertical-align: middle;\n",
       "    }\n",
       "\n",
       "    .dataframe tbody tr th {\n",
       "        vertical-align: top;\n",
       "    }\n",
       "\n",
       "    .dataframe thead th {\n",
       "        text-align: right;\n",
       "    }\n",
       "</style>\n",
       "<table border=\"1\" class=\"dataframe\">\n",
       "  <thead>\n",
       "    <tr style=\"text-align: right;\">\n",
       "      <th></th>\n",
       "      <th>Colunas</th>\n",
       "      <th>Coeficientes</th>\n",
       "    </tr>\n",
       "  </thead>\n",
       "  <tbody>\n",
       "    <tr>\n",
       "      <th>0</th>\n",
       "      <td>Intercepto</td>\n",
       "      <td>-1.376290</td>\n",
       "    </tr>\n",
       "    <tr>\n",
       "      <th>1</th>\n",
       "      <td>suporte_vent_Nao-invasivo</td>\n",
       "      <td>-1.763474</td>\n",
       "    </tr>\n",
       "    <tr>\n",
       "      <th>2</th>\n",
       "      <td>idade1_(75.0, 121.0]</td>\n",
       "      <td>1.616284</td>\n",
       "    </tr>\n",
       "    <tr>\n",
       "      <th>3</th>\n",
       "      <td>uti</td>\n",
       "      <td>0.977798</td>\n",
       "    </tr>\n",
       "    <tr>\n",
       "      <th>4</th>\n",
       "      <td>idade1_(63.0, 75.0]</td>\n",
       "      <td>0.969353</td>\n",
       "    </tr>\n",
       "    <tr>\n",
       "      <th>5</th>\n",
       "      <td>mae_amamenta</td>\n",
       "      <td>-0.841461</td>\n",
       "    </tr>\n",
       "    <tr>\n",
       "      <th>6</th>\n",
       "      <td>imunodepre</td>\n",
       "      <td>0.733152</td>\n",
       "    </tr>\n",
       "    <tr>\n",
       "      <th>7</th>\n",
       "      <td>diagnostico_COVID</td>\n",
       "      <td>0.620479</td>\n",
       "    </tr>\n",
       "    <tr>\n",
       "      <th>8</th>\n",
       "      <td>mae_vacinada_gripe</td>\n",
       "      <td>-0.575024</td>\n",
       "    </tr>\n",
       "    <tr>\n",
       "      <th>9</th>\n",
       "      <td>diagnostico_Outros</td>\n",
       "      <td>-0.511907</td>\n",
       "    </tr>\n",
       "    <tr>\n",
       "      <th>10</th>\n",
       "      <td>hepatica</td>\n",
       "      <td>0.508720</td>\n",
       "    </tr>\n",
       "    <tr>\n",
       "      <th>11</th>\n",
       "      <td>renal</td>\n",
       "      <td>0.485842</td>\n",
       "    </tr>\n",
       "    <tr>\n",
       "      <th>12</th>\n",
       "      <td>neurologic</td>\n",
       "      <td>0.466022</td>\n",
       "    </tr>\n",
       "    <tr>\n",
       "      <th>13</th>\n",
       "      <td>idade1_(52.0, 63.0]</td>\n",
       "      <td>0.424998</td>\n",
       "    </tr>\n",
       "    <tr>\n",
       "      <th>14</th>\n",
       "      <td>idade1_(-0.001, 39.0]</td>\n",
       "      <td>-0.403170</td>\n",
       "    </tr>\n",
       "    <tr>\n",
       "      <th>15</th>\n",
       "      <td>diagnostico_Desconhecido</td>\n",
       "      <td>-0.325127</td>\n",
       "    </tr>\n",
       "    <tr>\n",
       "      <th>16</th>\n",
       "      <td>gravidez</td>\n",
       "      <td>-0.300395</td>\n",
       "    </tr>\n",
       "    <tr>\n",
       "      <th>17</th>\n",
       "      <td>asma</td>\n",
       "      <td>-0.296315</td>\n",
       "    </tr>\n",
       "    <tr>\n",
       "      <th>18</th>\n",
       "      <td>vacina_covid19_Nao</td>\n",
       "      <td>0.284145</td>\n",
       "    </tr>\n",
       "    <tr>\n",
       "      <th>19</th>\n",
       "      <td>tempo_alta_obito_final1_(-0.001, 14.0]</td>\n",
       "      <td>0.280036</td>\n",
       "    </tr>\n",
       "    <tr>\n",
       "      <th>20</th>\n",
       "      <td>desc_resp</td>\n",
       "      <td>0.279635</td>\n",
       "    </tr>\n",
       "    <tr>\n",
       "      <th>21</th>\n",
       "      <td>hematologi</td>\n",
       "      <td>0.236377</td>\n",
       "    </tr>\n",
       "    <tr>\n",
       "      <th>22</th>\n",
       "      <td>saturacao</td>\n",
       "      <td>0.218424</td>\n",
       "    </tr>\n",
       "    <tr>\n",
       "      <th>23</th>\n",
       "      <td>dispneia</td>\n",
       "      <td>0.190798</td>\n",
       "    </tr>\n",
       "    <tr>\n",
       "      <th>24</th>\n",
       "      <td>perd_pala</td>\n",
       "      <td>-0.190523</td>\n",
       "    </tr>\n",
       "    <tr>\n",
       "      <th>25</th>\n",
       "      <td>pneumopati</td>\n",
       "      <td>0.188961</td>\n",
       "    </tr>\n",
       "    <tr>\n",
       "      <th>26</th>\n",
       "      <td>sind_down</td>\n",
       "      <td>0.185585</td>\n",
       "    </tr>\n",
       "    <tr>\n",
       "      <th>27</th>\n",
       "      <td>vacina_gripe</td>\n",
       "      <td>-0.165106</td>\n",
       "    </tr>\n",
       "    <tr>\n",
       "      <th>28</th>\n",
       "      <td>CS_SEXO_F</td>\n",
       "      <td>-0.160659</td>\n",
       "    </tr>\n",
       "    <tr>\n",
       "      <th>29</th>\n",
       "      <td>diabetes</td>\n",
       "      <td>0.144001</td>\n",
       "    </tr>\n",
       "    <tr>\n",
       "      <th>30</th>\n",
       "      <td>fadiga</td>\n",
       "      <td>-0.133800</td>\n",
       "    </tr>\n",
       "    <tr>\n",
       "      <th>31</th>\n",
       "      <td>antiviral</td>\n",
       "      <td>-0.128516</td>\n",
       "    </tr>\n",
       "    <tr>\n",
       "      <th>32</th>\n",
       "      <td>tosse</td>\n",
       "      <td>-0.118508</td>\n",
       "    </tr>\n",
       "    <tr>\n",
       "      <th>33</th>\n",
       "      <td>tempo_alta_obito_final1_(14.0, 36.0]</td>\n",
       "      <td>0.094237</td>\n",
       "    </tr>\n",
       "    <tr>\n",
       "      <th>34</th>\n",
       "      <td>obesidade</td>\n",
       "      <td>0.093086</td>\n",
       "    </tr>\n",
       "    <tr>\n",
       "      <th>35</th>\n",
       "      <td>puerpera</td>\n",
       "      <td>-0.091357</td>\n",
       "    </tr>\n",
       "    <tr>\n",
       "      <th>36</th>\n",
       "      <td>vacina_covid19_Nao-disponivel</td>\n",
       "      <td>-0.088557</td>\n",
       "    </tr>\n",
       "    <tr>\n",
       "      <th>37</th>\n",
       "      <td>perd_olft</td>\n",
       "      <td>-0.042741</td>\n",
       "    </tr>\n",
       "    <tr>\n",
       "      <th>38</th>\n",
       "      <td>febre</td>\n",
       "      <td>0.033944</td>\n",
       "    </tr>\n",
       "    <tr>\n",
       "      <th>39</th>\n",
       "      <td>vomito</td>\n",
       "      <td>0.022424</td>\n",
       "    </tr>\n",
       "    <tr>\n",
       "      <th>40</th>\n",
       "      <td>diarreia</td>\n",
       "      <td>-0.018731</td>\n",
       "    </tr>\n",
       "    <tr>\n",
       "      <th>41</th>\n",
       "      <td>dor_abd</td>\n",
       "      <td>0.018108</td>\n",
       "    </tr>\n",
       "    <tr>\n",
       "      <th>42</th>\n",
       "      <td>garganta</td>\n",
       "      <td>-0.014128</td>\n",
       "    </tr>\n",
       "    <tr>\n",
       "      <th>43</th>\n",
       "      <td>cardiopati</td>\n",
       "      <td>0.013885</td>\n",
       "    </tr>\n",
       "    <tr>\n",
       "      <th>44</th>\n",
       "      <td>tempo_alta_obito_final1_(85.0, 162.0]</td>\n",
       "      <td>0.012709</td>\n",
       "    </tr>\n",
       "    <tr>\n",
       "      <th>45</th>\n",
       "      <td>tempo_alta_obito_final1_(162.0, 703.0]</td>\n",
       "      <td>-0.001481</td>\n",
       "    </tr>\n",
       "  </tbody>\n",
       "</table>\n",
       "</div>"
      ],
      "text/plain": [
       "                                   Colunas  Coeficientes\n",
       "0                               Intercepto     -1.376290\n",
       "1                suporte_vent_Nao-invasivo     -1.763474\n",
       "2                     idade1_(75.0, 121.0]      1.616284\n",
       "3                                      uti      0.977798\n",
       "4                      idade1_(63.0, 75.0]      0.969353\n",
       "5                             mae_amamenta     -0.841461\n",
       "6                               imunodepre      0.733152\n",
       "7                        diagnostico_COVID      0.620479\n",
       "8                       mae_vacinada_gripe     -0.575024\n",
       "9                       diagnostico_Outros     -0.511907\n",
       "10                                hepatica      0.508720\n",
       "11                                   renal      0.485842\n",
       "12                              neurologic      0.466022\n",
       "13                     idade1_(52.0, 63.0]      0.424998\n",
       "14                   idade1_(-0.001, 39.0]     -0.403170\n",
       "15                diagnostico_Desconhecido     -0.325127\n",
       "16                                gravidez     -0.300395\n",
       "17                                    asma     -0.296315\n",
       "18                      vacina_covid19_Nao      0.284145\n",
       "19  tempo_alta_obito_final1_(-0.001, 14.0]      0.280036\n",
       "20                               desc_resp      0.279635\n",
       "21                              hematologi      0.236377\n",
       "22                               saturacao      0.218424\n",
       "23                                dispneia      0.190798\n",
       "24                               perd_pala     -0.190523\n",
       "25                              pneumopati      0.188961\n",
       "26                               sind_down      0.185585\n",
       "27                            vacina_gripe     -0.165106\n",
       "28                               CS_SEXO_F     -0.160659\n",
       "29                                diabetes      0.144001\n",
       "30                                  fadiga     -0.133800\n",
       "31                               antiviral     -0.128516\n",
       "32                                   tosse     -0.118508\n",
       "33    tempo_alta_obito_final1_(14.0, 36.0]      0.094237\n",
       "34                               obesidade      0.093086\n",
       "35                                puerpera     -0.091357\n",
       "36           vacina_covid19_Nao-disponivel     -0.088557\n",
       "37                               perd_olft     -0.042741\n",
       "38                                   febre      0.033944\n",
       "39                                  vomito      0.022424\n",
       "40                                diarreia     -0.018731\n",
       "41                                 dor_abd      0.018108\n",
       "42                                garganta     -0.014128\n",
       "43                              cardiopati      0.013885\n",
       "44   tempo_alta_obito_final1_(85.0, 162.0]      0.012709\n",
       "45  tempo_alta_obito_final1_(162.0, 703.0]     -0.001481"
      ]
     },
     "execution_count": 112,
     "metadata": {},
     "output_type": "execute_result"
    }
   ],
   "source": [
    "coefs_ordenado"
   ]
  },
  {
   "cell_type": "markdown",
   "id": "4ffa3bc0",
   "metadata": {},
   "source": [
    "Observa-se que a regressão logística considera que suporte ventilatório, idade, diagnósticos e algumas comorbidades como mais importantes para o óbito (coefs positivos), porém, trata-se de um banco com muitas colunas, assim a regressão logística não é muito indicada, melhor permanecer com a árvore."
   ]
  },
  {
   "cell_type": "markdown",
   "id": "2cdfda3c",
   "metadata": {},
   "source": [
    "### Utilizando o class_weight = 'balanced'"
   ]
  },
  {
   "cell_type": "code",
   "execution_count": 113,
   "id": "ab61511d",
   "metadata": {},
   "outputs": [],
   "source": [
    "lr = Pipeline(steps=[\n",
    "    ('lr', LogisticRegression(random_state=42, max_iter = 1000, class_weight='balanced'))\n",
    "])"
   ]
  },
  {
   "cell_type": "code",
   "execution_count": 114,
   "id": "8e78f9d4",
   "metadata": {},
   "outputs": [
    {
     "data": {
      "text/plain": [
       "Pipeline(steps=[('lr',\n",
       "                 LogisticRegression(class_weight='balanced', max_iter=1000,\n",
       "                                    random_state=42))])"
      ]
     },
     "execution_count": 114,
     "metadata": {},
     "output_type": "execute_result"
    }
   ],
   "source": [
    "lr.fit(X_train_transf, y_train)"
   ]
  },
  {
   "cell_type": "markdown",
   "id": "6f0fc59f",
   "metadata": {},
   "source": [
    "## Avaliação do modelo"
   ]
  },
  {
   "cell_type": "markdown",
   "id": "5429e290",
   "metadata": {},
   "source": [
    "### Acurácia"
   ]
  },
  {
   "cell_type": "code",
   "execution_count": 115,
   "id": "9a2e8b4f",
   "metadata": {},
   "outputs": [
    {
     "name": "stdout",
     "output_type": "stream",
     "text": [
      "Acurácia Treino: 0.7659555046173975\n",
      "Acurácia Teste: 0.7666370018787699\n"
     ]
    }
   ],
   "source": [
    "y_pred_train = lr.predict(X_train_transf)\n",
    "y_pred_test = lr.predict(X_test_transf)\n",
    "from sklearn.metrics import accuracy_score\n",
    "\n",
    "print('Acurácia Treino:', accuracy_score(y_train, y_pred_train))\n",
    "print('Acurácia Teste:', accuracy_score(y_test, y_pred_test))"
   ]
  },
  {
   "cell_type": "markdown",
   "id": "2daffcba",
   "metadata": {},
   "source": [
    "### AUROC"
   ]
  },
  {
   "cell_type": "code",
   "execution_count": 116,
   "id": "16ad31b1",
   "metadata": {},
   "outputs": [
    {
     "name": "stdout",
     "output_type": "stream",
     "text": [
      "AUC Treino: 0.8305960715886569\n",
      "AUC Teste: 0.8411914823370719\n"
     ]
    }
   ],
   "source": [
    "from sklearn.metrics import roc_auc_score\n",
    "\n",
    "y_proba = lr.predict_proba(X_train_transf)[:, 1]\n",
    "\n",
    "y_proba_test = lr.predict_proba(X_test_transf)[:, 1]\n",
    "\n",
    "\n",
    "print('AUC Treino:', roc_auc_score(y_train, y_proba))\n",
    "print('AUC Teste:', roc_auc_score(y_test, y_proba_test))"
   ]
  },
  {
   "cell_type": "markdown",
   "id": "6a87c48c",
   "metadata": {},
   "source": [
    "### Confusion Matrix"
   ]
  },
  {
   "cell_type": "code",
   "execution_count": 117,
   "id": "f8dbb23a",
   "metadata": {
    "scrolled": true
   },
   "outputs": [
    {
     "data": {
      "text/plain": [
       "<sklearn.metrics._plot.confusion_matrix.ConfusionMatrixDisplay at 0x1df85939a00>"
      ]
     },
     "execution_count": 117,
     "metadata": {},
     "output_type": "execute_result"
    },
    {
     "data": {
      "image/png": "[encoded data removed]",
      "text/plain": [
       "<Figure size 1800x720 with 2 Axes>"
      ]
     },
     "metadata": {
      "needs_background": "light"
     },
     "output_type": "display_data"
    }
   ],
   "source": [
    "from sklearn.metrics import confusion_matrix, ConfusionMatrixDisplay\n",
    "import matplotlib.pyplot as plt\n",
    "\n",
    "cm = confusion_matrix(y_test, y_pred_test)\n",
    "disp = ConfusionMatrixDisplay(confusion_matrix=cm)\n",
    "disp.plot()"
   ]
  },
  {
   "cell_type": "markdown",
   "id": "0fd3bb5e",
   "metadata": {},
   "source": [
    "### Classification Report"
   ]
  },
  {
   "cell_type": "code",
   "execution_count": 118,
   "id": "628d774f",
   "metadata": {},
   "outputs": [
    {
     "name": "stdout",
     "output_type": "stream",
     "text": [
      "              precision    recall  f1-score   support\n",
      "\n",
      "        Alta       0.88      0.77      0.82     35191\n",
      "       Obito       0.59      0.75      0.66     15374\n",
      "\n",
      "    accuracy                           0.77     50565\n",
      "   macro avg       0.73      0.76      0.74     50565\n",
      "weighted avg       0.79      0.77      0.77     50565\n",
      "\n"
     ]
    }
   ],
   "source": [
    "from sklearn.metrics import classification_report\n",
    "\n",
    "print(classification_report(y_test, y_pred_test, target_names=['Alta', 'Obito']))"
   ]
  },
  {
   "cell_type": "markdown",
   "id": "be61bcc1",
   "metadata": {},
   "source": [
    "## Coeficientes"
   ]
  },
  {
   "cell_type": "code",
   "execution_count": 119,
   "id": "e05ccb82",
   "metadata": {},
   "outputs": [],
   "source": [
    "coefs = pd.DataFrame(data = {\n",
    "    'Colunas': X_train_transf.columns,\n",
    "    'Coeficientes': lr.steps[-1][1].coef_.ravel()\n",
    "})"
   ]
  },
  {
   "cell_type": "code",
   "execution_count": 120,
   "id": "d6a53fa6",
   "metadata": {},
   "outputs": [],
   "source": [
    "coefs_ordenado = coefs.reindex(coefs.Coeficientes.abs().sort_values(ascending = False).index).reset_index(drop=True)"
   ]
  },
  {
   "cell_type": "code",
   "execution_count": 121,
   "id": "99d2e494",
   "metadata": {},
   "outputs": [
    {
     "name": "stderr",
     "output_type": "stream",
     "text": [
      "Creating an ndarray from ragged nested sequences (which is a list-or-tuple of lists-or-tuples-or ndarrays with different lengths or shapes) is deprecated. If you meant to do this, you must specify 'dtype=object' when creating the ndarray.\n"
     ]
    }
   ],
   "source": [
    "coefs_ordenado.loc[0, :] = ['Intercepto', lr.steps[-1][1].intercept_]"
   ]
  },
  {
   "cell_type": "code",
   "execution_count": 122,
   "id": "40874272",
   "metadata": {},
   "outputs": [
    {
     "data": {
      "text/html": [
       "<div>\n",
       "<style scoped>\n",
       "    .dataframe tbody tr th:only-of-type {\n",
       "        vertical-align: middle;\n",
       "    }\n",
       "\n",
       "    .dataframe tbody tr th {\n",
       "        vertical-align: top;\n",
       "    }\n",
       "\n",
       "    .dataframe thead th {\n",
       "        text-align: right;\n",
       "    }\n",
       "</style>\n",
       "<table border=\"1\" class=\"dataframe\">\n",
       "  <thead>\n",
       "    <tr style=\"text-align: right;\">\n",
       "      <th></th>\n",
       "      <th>Colunas</th>\n",
       "      <th>Coeficientes</th>\n",
       "    </tr>\n",
       "  </thead>\n",
       "  <tbody>\n",
       "    <tr>\n",
       "      <th>0</th>\n",
       "      <td>Intercepto</td>\n",
       "      <td>-0.633099</td>\n",
       "    </tr>\n",
       "    <tr>\n",
       "      <th>1</th>\n",
       "      <td>suporte_vent_Nao-invasivo</td>\n",
       "      <td>-1.764571</td>\n",
       "    </tr>\n",
       "    <tr>\n",
       "      <th>2</th>\n",
       "      <td>idade1_(75.0, 121.0]</td>\n",
       "      <td>1.628466</td>\n",
       "    </tr>\n",
       "    <tr>\n",
       "      <th>3</th>\n",
       "      <td>uti</td>\n",
       "      <td>0.988053</td>\n",
       "    </tr>\n",
       "    <tr>\n",
       "      <th>4</th>\n",
       "      <td>idade1_(63.0, 75.0]</td>\n",
       "      <td>0.975864</td>\n",
       "    </tr>\n",
       "    <tr>\n",
       "      <th>5</th>\n",
       "      <td>mae_amamenta</td>\n",
       "      <td>-0.794066</td>\n",
       "    </tr>\n",
       "    <tr>\n",
       "      <th>6</th>\n",
       "      <td>imunodepre</td>\n",
       "      <td>0.768054</td>\n",
       "    </tr>\n",
       "    <tr>\n",
       "      <th>7</th>\n",
       "      <td>mae_vacinada_gripe</td>\n",
       "      <td>-0.686815</td>\n",
       "    </tr>\n",
       "    <tr>\n",
       "      <th>8</th>\n",
       "      <td>diagnostico_COVID</td>\n",
       "      <td>0.617501</td>\n",
       "    </tr>\n",
       "    <tr>\n",
       "      <th>9</th>\n",
       "      <td>hepatica</td>\n",
       "      <td>0.544170</td>\n",
       "    </tr>\n",
       "    <tr>\n",
       "      <th>10</th>\n",
       "      <td>renal</td>\n",
       "      <td>0.492748</td>\n",
       "    </tr>\n",
       "    <tr>\n",
       "      <th>11</th>\n",
       "      <td>diagnostico_Outros</td>\n",
       "      <td>-0.491122</td>\n",
       "    </tr>\n",
       "    <tr>\n",
       "      <th>12</th>\n",
       "      <td>neurologic</td>\n",
       "      <td>0.479079</td>\n",
       "    </tr>\n",
       "    <tr>\n",
       "      <th>13</th>\n",
       "      <td>idade1_(52.0, 63.0]</td>\n",
       "      <td>0.428226</td>\n",
       "    </tr>\n",
       "    <tr>\n",
       "      <th>14</th>\n",
       "      <td>idade1_(-0.001, 39.0]</td>\n",
       "      <td>-0.419999</td>\n",
       "    </tr>\n",
       "    <tr>\n",
       "      <th>15</th>\n",
       "      <td>asma</td>\n",
       "      <td>-0.320296</td>\n",
       "    </tr>\n",
       "    <tr>\n",
       "      <th>16</th>\n",
       "      <td>gravidez</td>\n",
       "      <td>-0.303753</td>\n",
       "    </tr>\n",
       "    <tr>\n",
       "      <th>17</th>\n",
       "      <td>desc_resp</td>\n",
       "      <td>0.289140</td>\n",
       "    </tr>\n",
       "    <tr>\n",
       "      <th>18</th>\n",
       "      <td>vacina_covid19_Nao</td>\n",
       "      <td>0.288739</td>\n",
       "    </tr>\n",
       "    <tr>\n",
       "      <th>19</th>\n",
       "      <td>diagnostico_Desconhecido</td>\n",
       "      <td>-0.287118</td>\n",
       "    </tr>\n",
       "    <tr>\n",
       "      <th>20</th>\n",
       "      <td>hematologi</td>\n",
       "      <td>0.265261</td>\n",
       "    </tr>\n",
       "    <tr>\n",
       "      <th>21</th>\n",
       "      <td>sind_down</td>\n",
       "      <td>0.255475</td>\n",
       "    </tr>\n",
       "    <tr>\n",
       "      <th>22</th>\n",
       "      <td>tempo_alta_obito_final1_(-0.001, 14.0]</td>\n",
       "      <td>0.239158</td>\n",
       "    </tr>\n",
       "    <tr>\n",
       "      <th>23</th>\n",
       "      <td>saturacao</td>\n",
       "      <td>0.233184</td>\n",
       "    </tr>\n",
       "    <tr>\n",
       "      <th>24</th>\n",
       "      <td>perd_pala</td>\n",
       "      <td>-0.194883</td>\n",
       "    </tr>\n",
       "    <tr>\n",
       "      <th>25</th>\n",
       "      <td>dispneia</td>\n",
       "      <td>0.189558</td>\n",
       "    </tr>\n",
       "    <tr>\n",
       "      <th>26</th>\n",
       "      <td>pneumopati</td>\n",
       "      <td>0.187803</td>\n",
       "    </tr>\n",
       "    <tr>\n",
       "      <th>27</th>\n",
       "      <td>vacina_gripe</td>\n",
       "      <td>-0.179297</td>\n",
       "    </tr>\n",
       "    <tr>\n",
       "      <th>28</th>\n",
       "      <td>CS_SEXO_F</td>\n",
       "      <td>-0.157181</td>\n",
       "    </tr>\n",
       "    <tr>\n",
       "      <th>29</th>\n",
       "      <td>diabetes</td>\n",
       "      <td>0.148970</td>\n",
       "    </tr>\n",
       "    <tr>\n",
       "      <th>30</th>\n",
       "      <td>fadiga</td>\n",
       "      <td>-0.143007</td>\n",
       "    </tr>\n",
       "    <tr>\n",
       "      <th>31</th>\n",
       "      <td>antiviral</td>\n",
       "      <td>-0.132574</td>\n",
       "    </tr>\n",
       "    <tr>\n",
       "      <th>32</th>\n",
       "      <td>tosse</td>\n",
       "      <td>-0.130421</td>\n",
       "    </tr>\n",
       "    <tr>\n",
       "      <th>33</th>\n",
       "      <td>tempo_alta_obito_final1_(14.0, 36.0]</td>\n",
       "      <td>0.103160</td>\n",
       "    </tr>\n",
       "    <tr>\n",
       "      <th>34</th>\n",
       "      <td>puerpera</td>\n",
       "      <td>-0.098793</td>\n",
       "    </tr>\n",
       "    <tr>\n",
       "      <th>35</th>\n",
       "      <td>obesidade</td>\n",
       "      <td>0.094810</td>\n",
       "    </tr>\n",
       "    <tr>\n",
       "      <th>36</th>\n",
       "      <td>vacina_covid19_Nao-disponivel</td>\n",
       "      <td>-0.076582</td>\n",
       "    </tr>\n",
       "    <tr>\n",
       "      <th>37</th>\n",
       "      <td>perd_olft</td>\n",
       "      <td>-0.045580</td>\n",
       "    </tr>\n",
       "    <tr>\n",
       "      <th>38</th>\n",
       "      <td>febre</td>\n",
       "      <td>0.035804</td>\n",
       "    </tr>\n",
       "    <tr>\n",
       "      <th>39</th>\n",
       "      <td>vomito</td>\n",
       "      <td>0.024241</td>\n",
       "    </tr>\n",
       "    <tr>\n",
       "      <th>40</th>\n",
       "      <td>diarreia</td>\n",
       "      <td>-0.023663</td>\n",
       "    </tr>\n",
       "    <tr>\n",
       "      <th>41</th>\n",
       "      <td>garganta</td>\n",
       "      <td>-0.015976</td>\n",
       "    </tr>\n",
       "    <tr>\n",
       "      <th>42</th>\n",
       "      <td>tempo_alta_obito_final1_(162.0, 703.0]</td>\n",
       "      <td>-0.013834</td>\n",
       "    </tr>\n",
       "    <tr>\n",
       "      <th>43</th>\n",
       "      <td>dor_abd</td>\n",
       "      <td>0.011671</td>\n",
       "    </tr>\n",
       "    <tr>\n",
       "      <th>44</th>\n",
       "      <td>tempo_alta_obito_final1_(85.0, 162.0]</td>\n",
       "      <td>0.001905</td>\n",
       "    </tr>\n",
       "    <tr>\n",
       "      <th>45</th>\n",
       "      <td>cardiopati</td>\n",
       "      <td>-0.000381</td>\n",
       "    </tr>\n",
       "  </tbody>\n",
       "</table>\n",
       "</div>"
      ],
      "text/plain": [
       "                                   Colunas  Coeficientes\n",
       "0                               Intercepto     -0.633099\n",
       "1                suporte_vent_Nao-invasivo     -1.764571\n",
       "2                     idade1_(75.0, 121.0]      1.628466\n",
       "3                                      uti      0.988053\n",
       "4                      idade1_(63.0, 75.0]      0.975864\n",
       "5                             mae_amamenta     -0.794066\n",
       "6                               imunodepre      0.768054\n",
       "7                       mae_vacinada_gripe     -0.686815\n",
       "8                        diagnostico_COVID      0.617501\n",
       "9                                 hepatica      0.544170\n",
       "10                                   renal      0.492748\n",
       "11                      diagnostico_Outros     -0.491122\n",
       "12                              neurologic      0.479079\n",
       "13                     idade1_(52.0, 63.0]      0.428226\n",
       "14                   idade1_(-0.001, 39.0]     -0.419999\n",
       "15                                    asma     -0.320296\n",
       "16                                gravidez     -0.303753\n",
       "17                               desc_resp      0.289140\n",
       "18                      vacina_covid19_Nao      0.288739\n",
       "19                diagnostico_Desconhecido     -0.287118\n",
       "20                              hematologi      0.265261\n",
       "21                               sind_down      0.255475\n",
       "22  tempo_alta_obito_final1_(-0.001, 14.0]      0.239158\n",
       "23                               saturacao      0.233184\n",
       "24                               perd_pala     -0.194883\n",
       "25                                dispneia      0.189558\n",
       "26                              pneumopati      0.187803\n",
       "27                            vacina_gripe     -0.179297\n",
       "28                               CS_SEXO_F     -0.157181\n",
       "29                                diabetes      0.148970\n",
       "30                                  fadiga     -0.143007\n",
       "31                               antiviral     -0.132574\n",
       "32                                   tosse     -0.130421\n",
       "33    tempo_alta_obito_final1_(14.0, 36.0]      0.103160\n",
       "34                                puerpera     -0.098793\n",
       "35                               obesidade      0.094810\n",
       "36           vacina_covid19_Nao-disponivel     -0.076582\n",
       "37                               perd_olft     -0.045580\n",
       "38                                   febre      0.035804\n",
       "39                                  vomito      0.024241\n",
       "40                                diarreia     -0.023663\n",
       "41                                garganta     -0.015976\n",
       "42  tempo_alta_obito_final1_(162.0, 703.0]     -0.013834\n",
       "43                                 dor_abd      0.011671\n",
       "44   tempo_alta_obito_final1_(85.0, 162.0]      0.001905\n",
       "45                              cardiopati     -0.000381"
      ]
     },
     "execution_count": 122,
     "metadata": {},
     "output_type": "execute_result"
    }
   ],
   "source": [
    "coefs_ordenado"
   ]
  },
  {
   "cell_type": "markdown",
   "id": "2d4b18fe",
   "metadata": {},
   "source": [
    "Aplicar o class_weight = 'balanced' melhora o recall porém diminui a precisão. \n",
    "\n",
    "O modelo de regressão logística não teve muita diferença nos resultados quanto a árvore de decisão, porém acredito que a árvore de decisão tem melhor interpretabilidade e é mais fácil de explicar."
   ]
  },
  {
   "cell_type": "markdown",
   "id": "a65fa6de",
   "metadata": {},
   "source": [
    "Não muda muita coisa eliminar as colunas, o que indica mais ainda que eram inúteis"
   ]
  },
  {
   "cell_type": "markdown",
   "id": "0b74bfcc",
   "metadata": {},
   "source": [
    "**Remover os ignorados e nulos facilita muito a explicabilidade da árvore de decisão e da regressão logística, uma vez que cada sintoma, morbidades e outras variáveis tenham apenas 2 categorias, 1 ou 0.**\n",
    "\n",
    "**Como não há uma alteração significativa da proporção entre 1 e 0 da variável resposta quando se eliminam as linhas, pode-se dizer que é relativamente seguro removê-las.**\n",
    "\n",
    "**Sua remoção também nos traz uma pista do que precisamos ter no prontuário de um paciente de SRAG**"
   ]
  },
  {
   "cell_type": "code",
   "execution_count": null,
   "id": "c762b57e",
   "metadata": {},
   "outputs": [],
   "source": []
  }
 ],
 "metadata": {
  "kernelspec": {
   "display_name": "Python 3 (ipykernel)",
   "language": "python",
   "name": "python3"
  },
  "language_info": {
   "codemirror_mode": {
    "name": "ipython",
    "version": 3
   },
   "file_extension": ".py",
   "mimetype": "text/x-python",
   "name": "python",
   "nbconvert_exporter": "python",
   "pygments_lexer": "ipython3",
   "version": "3.9.7"
  },
  "varInspector": {
   "cols": {
    "lenName": 16,
    "lenType": 16,
    "lenVar": 40
   },
   "kernels_config": {
    "python": {
     "delete_cmd_postfix": "",
     "delete_cmd_prefix": "del ",
     "library": "var_list.py",
     "varRefreshCmd": "print(var_dic_list())"
    },
    "r": {
     "delete_cmd_postfix": ") ",
     "delete_cmd_prefix": "rm(",
     "library": "var_list.r",
     "varRefreshCmd": "cat(var_dic_list()) "
    }
   },
   "position": {
    "height": "540.844px",
    "left": "1546px",
    "right": "20px",
    "top": "120px",
    "width": "354px"
   },
   "types_to_exclude": [
    "module",
    "function",
    "builtin_function_or_method",
    "instance",
    "_Feature"
   ],
   "window_display": false
  }
 },
 "nbformat": 4,
 "nbformat_minor": 5
}
