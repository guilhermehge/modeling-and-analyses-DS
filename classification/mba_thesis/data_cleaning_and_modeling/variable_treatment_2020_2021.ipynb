{
 "cells": [
  {
   "cell_type": "markdown",
   "id": "2d95bd64",
   "metadata": {},
   "source": [
    "# TCC — MBA Analytics - Data Science\n",
    "\n",
    "### Dados sobre Síndrome Respiratória Aguda Grave do DataSUS\n",
    "### 2020 e 2021 (união)"
   ]
  },
  {
   "cell_type": "markdown",
   "id": "b39d5ce7",
   "metadata": {},
   "source": [
    "## Importação do banco de dados\n",
    "Em 2020 tivemos o início oficial da pandemia da COVID-19 no Brasil. A COVID-19 é uma doença que também causa SRAG, porém as circunstâncias são diferentes das de 2013 a 2018.\n",
    "\n",
    "Em 2021 tivemos o início da vacinação contra a COVID-19 no Brasil. Apesar de ser tardia em comparação com os EUA e alguns países da Europa, tivemos o início da nossa vacinação em janeiro, o que modificou bastante o panorama da doença. Em abril, com a vacinação ainda muito lenta, tivemos um pico de [4249 mortes em 8 de abril](https://www.poder360.com.br/coronavirus/pico-da-pandemia-em-2021-teve-mais-que-o-dobro-de-mortes-que-a-alta-em-2020/).\n",
    "\n",
    "Hoje, com a vacinação mais avançada, a média móvel de mortes está na casa dos [500 óbitos por dia](https://www.uol.com.br/vivabem/noticias/redacao/2021/09/16/covid-19-coronavirus-casos-mortes-16-de-setembro.htm).\n",
    "\n",
    "O dataset disponibilizado pelo DataSUS é atualizado semanalmente com novos dados. Vou fazer o tratamento em um deles e, em um ponto futuro, irei baixar o mais atualizado e aplicar as transformações."
   ]
  },
  {
   "cell_type": "code",
   "execution_count": 1,
   "id": "62ece2cf",
   "metadata": {},
   "outputs": [],
   "source": [
    "import pandas as pd\n",
    "import numpy as np"
   ]
  },
  {
   "cell_type": "code",
   "execution_count": 2,
   "id": "7ce99066",
   "metadata": {},
   "outputs": [],
   "source": [
    "df_2020 = pd.read_csv('INFLUD-29-11-2021.csv', sep=';', low_memory = False, encoding=\"ISO-8859-1\")\n",
    "df_2021 = pd.read_csv('INFLUD21-29-11-2021.csv', sep=';', low_memory = False, encoding=\"ISO-8859-1\")"
   ]
  },
  {
   "cell_type": "code",
   "execution_count": 3,
   "id": "baff51a6",
   "metadata": {},
   "outputs": [
    {
     "data": {
      "text/html": [
       "<div>\n",
       "<style scoped>\n",
       "    .dataframe tbody tr th:only-of-type {\n",
       "        vertical-align: middle;\n",
       "    }\n",
       "\n",
       "    .dataframe tbody tr th {\n",
       "        vertical-align: top;\n",
       "    }\n",
       "\n",
       "    .dataframe thead th {\n",
       "        text-align: right;\n",
       "    }\n",
       "</style>\n",
       "<table border=\"1\" class=\"dataframe\">\n",
       "  <thead>\n",
       "    <tr style=\"text-align: right;\">\n",
       "      <th></th>\n",
       "      <th>DT_NOTIFIC</th>\n",
       "      <th>SEM_NOT</th>\n",
       "      <th>DT_SIN_PRI</th>\n",
       "      <th>SEM_PRI</th>\n",
       "      <th>SG_UF_NOT</th>\n",
       "      <th>ID_REGIONA</th>\n",
       "      <th>CO_REGIONA</th>\n",
       "      <th>ID_MUNICIP</th>\n",
       "      <th>CO_MUN_NOT</th>\n",
       "      <th>ID_UNIDADE</th>\n",
       "      <th>...</th>\n",
       "      <th>DS_AN_OUT</th>\n",
       "      <th>TP_AM_SOR</th>\n",
       "      <th>SOR_OUT</th>\n",
       "      <th>DT_CO_SOR</th>\n",
       "      <th>TP_SOR</th>\n",
       "      <th>OUT_SOR</th>\n",
       "      <th>DT_RES</th>\n",
       "      <th>RES_IGG</th>\n",
       "      <th>RES_IGM</th>\n",
       "      <th>RES_IGA</th>\n",
       "    </tr>\n",
       "  </thead>\n",
       "  <tbody>\n",
       "    <tr>\n",
       "      <th>0</th>\n",
       "      <td>07/01/2020</td>\n",
       "      <td>2</td>\n",
       "      <td>03/01/2020</td>\n",
       "      <td>1</td>\n",
       "      <td>DF</td>\n",
       "      <td>NaN</td>\n",
       "      <td>NaN</td>\n",
       "      <td>BRASILIA</td>\n",
       "      <td>530010</td>\n",
       "      <td>HRT HOSPITAL REGIONAL DE TAGUATINGA</td>\n",
       "      <td>...</td>\n",
       "      <td>NaN</td>\n",
       "      <td>NaN</td>\n",
       "      <td>NaN</td>\n",
       "      <td>NaN</td>\n",
       "      <td>NaN</td>\n",
       "      <td>NaN</td>\n",
       "      <td>NaN</td>\n",
       "      <td>NaN</td>\n",
       "      <td>NaN</td>\n",
       "      <td>NaN</td>\n",
       "    </tr>\n",
       "    <tr>\n",
       "      <th>1</th>\n",
       "      <td>10/01/2020</td>\n",
       "      <td>2</td>\n",
       "      <td>07/01/2020</td>\n",
       "      <td>2</td>\n",
       "      <td>DF</td>\n",
       "      <td>NaN</td>\n",
       "      <td>NaN</td>\n",
       "      <td>BRASILIA</td>\n",
       "      <td>530010</td>\n",
       "      <td>HOSPITAL MATERNO INFANTIL DR ANTONIO LISBOA</td>\n",
       "      <td>...</td>\n",
       "      <td>NaN</td>\n",
       "      <td>NaN</td>\n",
       "      <td>NaN</td>\n",
       "      <td>NaN</td>\n",
       "      <td>NaN</td>\n",
       "      <td>NaN</td>\n",
       "      <td>NaN</td>\n",
       "      <td>NaN</td>\n",
       "      <td>NaN</td>\n",
       "      <td>NaN</td>\n",
       "    </tr>\n",
       "    <tr>\n",
       "      <th>2</th>\n",
       "      <td>13/02/2020</td>\n",
       "      <td>7</td>\n",
       "      <td>08/02/2020</td>\n",
       "      <td>6</td>\n",
       "      <td>SP</td>\n",
       "      <td>GVE XXXI SOROCABA</td>\n",
       "      <td>1353.0</td>\n",
       "      <td>SALTO</td>\n",
       "      <td>354520</td>\n",
       "      <td>HOSPITAL E MATERNIDADE MUNICIPAL N S DO MONTE ...</td>\n",
       "      <td>...</td>\n",
       "      <td>NaN</td>\n",
       "      <td>NaN</td>\n",
       "      <td>NaN</td>\n",
       "      <td>NaN</td>\n",
       "      <td>NaN</td>\n",
       "      <td>NaN</td>\n",
       "      <td>NaN</td>\n",
       "      <td>NaN</td>\n",
       "      <td>NaN</td>\n",
       "      <td>NaN</td>\n",
       "    </tr>\n",
       "    <tr>\n",
       "      <th>3</th>\n",
       "      <td>27/01/2020</td>\n",
       "      <td>5</td>\n",
       "      <td>26/01/2020</td>\n",
       "      <td>5</td>\n",
       "      <td>CE</td>\n",
       "      <td>1 CRES FORTALEZA</td>\n",
       "      <td>1519.0</td>\n",
       "      <td>FORTALEZA</td>\n",
       "      <td>230440</td>\n",
       "      <td>HIAS HOSPITAL INFANTIL ALBERT SABIN</td>\n",
       "      <td>...</td>\n",
       "      <td>NaN</td>\n",
       "      <td>NaN</td>\n",
       "      <td>NaN</td>\n",
       "      <td>NaN</td>\n",
       "      <td>NaN</td>\n",
       "      <td>NaN</td>\n",
       "      <td>NaN</td>\n",
       "      <td>NaN</td>\n",
       "      <td>NaN</td>\n",
       "      <td>NaN</td>\n",
       "    </tr>\n",
       "    <tr>\n",
       "      <th>4</th>\n",
       "      <td>16/01/2020</td>\n",
       "      <td>3</td>\n",
       "      <td>10/01/2020</td>\n",
       "      <td>2</td>\n",
       "      <td>SP</td>\n",
       "      <td>GVE XXXIII TAUBATE</td>\n",
       "      <td>1352.0</td>\n",
       "      <td>TAUBATE</td>\n",
       "      <td>355410</td>\n",
       "      <td>HOSPITAL REGIONAL DO VALE DO PARAIBA</td>\n",
       "      <td>...</td>\n",
       "      <td>NaN</td>\n",
       "      <td>NaN</td>\n",
       "      <td>NaN</td>\n",
       "      <td>NaN</td>\n",
       "      <td>NaN</td>\n",
       "      <td>NaN</td>\n",
       "      <td>NaN</td>\n",
       "      <td>NaN</td>\n",
       "      <td>NaN</td>\n",
       "      <td>NaN</td>\n",
       "    </tr>\n",
       "  </tbody>\n",
       "</table>\n",
       "<p>5 rows × 154 columns</p>\n",
       "</div>"
      ],
      "text/plain": [
       "   DT_NOTIFIC  SEM_NOT  DT_SIN_PRI  SEM_PRI SG_UF_NOT          ID_REGIONA  \\\n",
       "0  07/01/2020        2  03/01/2020        1        DF                 NaN   \n",
       "1  10/01/2020        2  07/01/2020        2        DF                 NaN   \n",
       "2  13/02/2020        7  08/02/2020        6        SP   GVE XXXI SOROCABA   \n",
       "3  27/01/2020        5  26/01/2020        5        CE    1 CRES FORTALEZA   \n",
       "4  16/01/2020        3  10/01/2020        2        SP  GVE XXXIII TAUBATE   \n",
       "\n",
       "   CO_REGIONA ID_MUNICIP  CO_MUN_NOT  \\\n",
       "0         NaN   BRASILIA      530010   \n",
       "1         NaN   BRASILIA      530010   \n",
       "2      1353.0      SALTO      354520   \n",
       "3      1519.0  FORTALEZA      230440   \n",
       "4      1352.0    TAUBATE      355410   \n",
       "\n",
       "                                          ID_UNIDADE  ...  DS_AN_OUT  \\\n",
       "0                HRT HOSPITAL REGIONAL DE TAGUATINGA  ...        NaN   \n",
       "1        HOSPITAL MATERNO INFANTIL DR ANTONIO LISBOA  ...        NaN   \n",
       "2  HOSPITAL E MATERNIDADE MUNICIPAL N S DO MONTE ...  ...        NaN   \n",
       "3                HIAS HOSPITAL INFANTIL ALBERT SABIN  ...        NaN   \n",
       "4               HOSPITAL REGIONAL DO VALE DO PARAIBA  ...        NaN   \n",
       "\n",
       "  TP_AM_SOR SOR_OUT  DT_CO_SOR  TP_SOR OUT_SOR  DT_RES  RES_IGG RES_IGM  \\\n",
       "0       NaN     NaN        NaN     NaN     NaN     NaN      NaN     NaN   \n",
       "1       NaN     NaN        NaN     NaN     NaN     NaN      NaN     NaN   \n",
       "2       NaN     NaN        NaN     NaN     NaN     NaN      NaN     NaN   \n",
       "3       NaN     NaN        NaN     NaN     NaN     NaN      NaN     NaN   \n",
       "4       NaN     NaN        NaN     NaN     NaN     NaN      NaN     NaN   \n",
       "\n",
       "   RES_IGA  \n",
       "0      NaN  \n",
       "1      NaN  \n",
       "2      NaN  \n",
       "3      NaN  \n",
       "4      NaN  \n",
       "\n",
       "[5 rows x 154 columns]"
      ]
     },
     "execution_count": 3,
     "metadata": {},
     "output_type": "execute_result"
    }
   ],
   "source": [
    "df_2020.head()"
   ]
  },
  {
   "cell_type": "code",
   "execution_count": 4,
   "id": "be809b25",
   "metadata": {},
   "outputs": [
    {
     "data": {
      "text/html": [
       "<div>\n",
       "<style scoped>\n",
       "    .dataframe tbody tr th:only-of-type {\n",
       "        vertical-align: middle;\n",
       "    }\n",
       "\n",
       "    .dataframe tbody tr th {\n",
       "        vertical-align: top;\n",
       "    }\n",
       "\n",
       "    .dataframe thead th {\n",
       "        text-align: right;\n",
       "    }\n",
       "</style>\n",
       "<table border=\"1\" class=\"dataframe\">\n",
       "  <thead>\n",
       "    <tr style=\"text-align: right;\">\n",
       "      <th></th>\n",
       "      <th>DT_NOTIFIC</th>\n",
       "      <th>SEM_NOT</th>\n",
       "      <th>DT_SIN_PRI</th>\n",
       "      <th>SEM_PRI</th>\n",
       "      <th>SG_UF_NOT</th>\n",
       "      <th>ID_REGIONA</th>\n",
       "      <th>CO_REGIONA</th>\n",
       "      <th>ID_MUNICIP</th>\n",
       "      <th>CO_MUN_NOT</th>\n",
       "      <th>ID_UNIDADE</th>\n",
       "      <th>...</th>\n",
       "      <th>RES_IGM</th>\n",
       "      <th>RES_IGA</th>\n",
       "      <th>ESTRANG</th>\n",
       "      <th>VACINA_COV</th>\n",
       "      <th>DOSE_1_COV</th>\n",
       "      <th>DOSE_2_COV</th>\n",
       "      <th>LAB_PR_COV</th>\n",
       "      <th>LOTE_1_COV</th>\n",
       "      <th>LOTE_2_COV</th>\n",
       "      <th>FNT_IN_COV</th>\n",
       "    </tr>\n",
       "  </thead>\n",
       "  <tbody>\n",
       "    <tr>\n",
       "      <th>0</th>\n",
       "      <td>05/01/2021</td>\n",
       "      <td>1</td>\n",
       "      <td>03/01/2021</td>\n",
       "      <td>1</td>\n",
       "      <td>PR</td>\n",
       "      <td>09RS FOZ DO IGUACU</td>\n",
       "      <td>1363.0</td>\n",
       "      <td>MATELANDIA</td>\n",
       "      <td>411560</td>\n",
       "      <td>HOSPITAL E MATERNIDADE PADRE TEZZA</td>\n",
       "      <td>...</td>\n",
       "      <td>NaN</td>\n",
       "      <td>NaN</td>\n",
       "      <td>NaN</td>\n",
       "      <td>2.0</td>\n",
       "      <td>NaN</td>\n",
       "      <td>NaN</td>\n",
       "      <td>NaN</td>\n",
       "      <td>NaN</td>\n",
       "      <td>NaN</td>\n",
       "      <td>1.0</td>\n",
       "    </tr>\n",
       "    <tr>\n",
       "      <th>1</th>\n",
       "      <td>07/01/2021</td>\n",
       "      <td>1</td>\n",
       "      <td>04/01/2021</td>\n",
       "      <td>1</td>\n",
       "      <td>SP</td>\n",
       "      <td>GVE I CAPITAL</td>\n",
       "      <td>1331.0</td>\n",
       "      <td>SAO PAULO</td>\n",
       "      <td>355030</td>\n",
       "      <td>HOSP STA CRUZ</td>\n",
       "      <td>...</td>\n",
       "      <td>NaN</td>\n",
       "      <td>NaN</td>\n",
       "      <td>NaN</td>\n",
       "      <td>NaN</td>\n",
       "      <td>NaN</td>\n",
       "      <td>NaN</td>\n",
       "      <td>NaN</td>\n",
       "      <td>NaN</td>\n",
       "      <td>NaN</td>\n",
       "      <td>NaN</td>\n",
       "    </tr>\n",
       "    <tr>\n",
       "      <th>2</th>\n",
       "      <td>08/01/2021</td>\n",
       "      <td>1</td>\n",
       "      <td>05/01/2021</td>\n",
       "      <td>1</td>\n",
       "      <td>SP</td>\n",
       "      <td>GVE XVII CAMPINAS</td>\n",
       "      <td>1342.0</td>\n",
       "      <td>CAMPINAS</td>\n",
       "      <td>350950</td>\n",
       "      <td>HOSPITAL DAS CLINICAS DA UNICAMP DE CAMPINAS</td>\n",
       "      <td>...</td>\n",
       "      <td>NaN</td>\n",
       "      <td>NaN</td>\n",
       "      <td>NaN</td>\n",
       "      <td>NaN</td>\n",
       "      <td>NaN</td>\n",
       "      <td>NaN</td>\n",
       "      <td>NaN</td>\n",
       "      <td>NaN</td>\n",
       "      <td>NaN</td>\n",
       "      <td>NaN</td>\n",
       "    </tr>\n",
       "    <tr>\n",
       "      <th>3</th>\n",
       "      <td>11/01/2021</td>\n",
       "      <td>2</td>\n",
       "      <td>09/01/2021</td>\n",
       "      <td>1</td>\n",
       "      <td>PR</td>\n",
       "      <td>02RS METROPOLITANA</td>\n",
       "      <td>1356.0</td>\n",
       "      <td>CURITIBA</td>\n",
       "      <td>410690</td>\n",
       "      <td>COMPLEXO HOSPITAL DE CLINICAS</td>\n",
       "      <td>...</td>\n",
       "      <td>NaN</td>\n",
       "      <td>NaN</td>\n",
       "      <td>2.0</td>\n",
       "      <td>2.0</td>\n",
       "      <td>NaN</td>\n",
       "      <td>NaN</td>\n",
       "      <td>NaN</td>\n",
       "      <td>NaN</td>\n",
       "      <td>NaN</td>\n",
       "      <td>2.0</td>\n",
       "    </tr>\n",
       "    <tr>\n",
       "      <th>4</th>\n",
       "      <td>09/01/2021</td>\n",
       "      <td>1</td>\n",
       "      <td>07/01/2021</td>\n",
       "      <td>1</td>\n",
       "      <td>SP</td>\n",
       "      <td>GVE VIII MOGI DAS CRUZES</td>\n",
       "      <td>1333.0</td>\n",
       "      <td>ITAQUAQUECETUBA</td>\n",
       "      <td>352310</td>\n",
       "      <td>HOSPITAL GERAL DE ITAQUAQUECETUBA</td>\n",
       "      <td>...</td>\n",
       "      <td>NaN</td>\n",
       "      <td>NaN</td>\n",
       "      <td>NaN</td>\n",
       "      <td>NaN</td>\n",
       "      <td>NaN</td>\n",
       "      <td>NaN</td>\n",
       "      <td>NaN</td>\n",
       "      <td>NaN</td>\n",
       "      <td>NaN</td>\n",
       "      <td>NaN</td>\n",
       "    </tr>\n",
       "  </tbody>\n",
       "</table>\n",
       "<p>5 rows × 162 columns</p>\n",
       "</div>"
      ],
      "text/plain": [
       "   DT_NOTIFIC  SEM_NOT  DT_SIN_PRI  SEM_PRI SG_UF_NOT  \\\n",
       "0  05/01/2021        1  03/01/2021        1        PR   \n",
       "1  07/01/2021        1  04/01/2021        1        SP   \n",
       "2  08/01/2021        1  05/01/2021        1        SP   \n",
       "3  11/01/2021        2  09/01/2021        1        PR   \n",
       "4  09/01/2021        1  07/01/2021        1        SP   \n",
       "\n",
       "                 ID_REGIONA  CO_REGIONA       ID_MUNICIP  CO_MUN_NOT  \\\n",
       "0        09RS FOZ DO IGUACU      1363.0       MATELANDIA      411560   \n",
       "1             GVE I CAPITAL      1331.0        SAO PAULO      355030   \n",
       "2         GVE XVII CAMPINAS      1342.0         CAMPINAS      350950   \n",
       "3        02RS METROPOLITANA      1356.0         CURITIBA      410690   \n",
       "4  GVE VIII MOGI DAS CRUZES      1333.0  ITAQUAQUECETUBA      352310   \n",
       "\n",
       "                                     ID_UNIDADE  ...  RES_IGM RES_IGA ESTRANG  \\\n",
       "0            HOSPITAL E MATERNIDADE PADRE TEZZA  ...      NaN     NaN     NaN   \n",
       "1                                 HOSP STA CRUZ  ...      NaN     NaN     NaN   \n",
       "2  HOSPITAL DAS CLINICAS DA UNICAMP DE CAMPINAS  ...      NaN     NaN     NaN   \n",
       "3                 COMPLEXO HOSPITAL DE CLINICAS  ...      NaN     NaN     2.0   \n",
       "4             HOSPITAL GERAL DE ITAQUAQUECETUBA  ...      NaN     NaN     NaN   \n",
       "\n",
       "   VACINA_COV  DOSE_1_COV DOSE_2_COV  LAB_PR_COV  LOTE_1_COV LOTE_2_COV  \\\n",
       "0         2.0         NaN        NaN         NaN         NaN        NaN   \n",
       "1         NaN         NaN        NaN         NaN         NaN        NaN   \n",
       "2         NaN         NaN        NaN         NaN         NaN        NaN   \n",
       "3         2.0         NaN        NaN         NaN         NaN        NaN   \n",
       "4         NaN         NaN        NaN         NaN         NaN        NaN   \n",
       "\n",
       "   FNT_IN_COV  \n",
       "0         1.0  \n",
       "1         NaN  \n",
       "2         NaN  \n",
       "3         2.0  \n",
       "4         NaN  \n",
       "\n",
       "[5 rows x 162 columns]"
      ]
     },
     "execution_count": 4,
     "metadata": {},
     "output_type": "execute_result"
    }
   ],
   "source": [
    "df_2021.head()"
   ]
  },
  {
   "cell_type": "code",
   "execution_count": 5,
   "id": "6c6107c9",
   "metadata": {},
   "outputs": [
    {
     "data": {
      "text/plain": [
       "((1199699, 154), (1625471, 162))"
      ]
     },
     "execution_count": 5,
     "metadata": {},
     "output_type": "execute_result"
    }
   ],
   "source": [
    "df_2020.shape, df_2021.shape"
   ]
  },
  {
   "cell_type": "markdown",
   "id": "e9a50fe1",
   "metadata": {},
   "source": [
    "## Diferenças do banco de 2021 para o banco de 2020\n",
    "\n",
    "Para analisar a diferença, irei comparar as colunas do banco de 2021 com as colunas do banco de 2020."
   ]
  },
  {
   "cell_type": "code",
   "execution_count": 6,
   "id": "27c3fd58",
   "metadata": {},
   "outputs": [
    {
     "data": {
      "text/plain": [
       "['ESTRANG',\n",
       " 'VACINA_COV',\n",
       " 'DOSE_1_COV',\n",
       " 'DOSE_2_COV',\n",
       " 'LAB_PR_COV',\n",
       " 'LOTE_1_COV',\n",
       " 'LOTE_2_COV',\n",
       " 'FNT_IN_COV']"
      ]
     },
     "execution_count": 6,
     "metadata": {},
     "output_type": "execute_result"
    }
   ],
   "source": [
    "colunas_diferentes = []\n",
    "\n",
    "for i in df_2021.columns:\n",
    "    if i not in df_2020.columns:\n",
    "        colunas_diferentes.append(i)\n",
    "        \n",
    "colunas_diferentes"
   ]
  },
  {
   "cell_type": "markdown",
   "id": "4f2dda24",
   "metadata": {},
   "source": [
    "Temos apenas as colunas de vacina COVID 19 e se o paciente é estrangeiro"
   ]
  },
  {
   "cell_type": "markdown",
   "id": "6b89678f",
   "metadata": {},
   "source": [
    "### Teste das variáveis:"
   ]
  },
  {
   "cell_type": "code",
   "execution_count": 7,
   "id": "b4038320",
   "metadata": {
    "scrolled": true
   },
   "outputs": [
    {
     "data": {
      "text/plain": [
       "2.0    1146596\n",
       "NaN     471037\n",
       "1.0       7838\n",
       "Name: ESTRANG, dtype: int64"
      ]
     },
     "execution_count": 7,
     "metadata": {},
     "output_type": "execute_result"
    }
   ],
   "source": [
    "df_2021.ESTRANG.value_counts(dropna=False)"
   ]
  },
  {
   "cell_type": "code",
   "execution_count": 8,
   "id": "b6b32925",
   "metadata": {
    "scrolled": false
   },
   "outputs": [
    {
     "data": {
      "text/plain": [
       "2.0    531033\n",
       "NaN    516800\n",
       "1.0    310068\n",
       "9.0    267570\n",
       "Name: VACINA_COV, dtype: int64"
      ]
     },
     "execution_count": 8,
     "metadata": {},
     "output_type": "execute_result"
    }
   ],
   "source": [
    "df_2021.VACINA_COV.value_counts(dropna=False)"
   ]
  },
  {
   "cell_type": "code",
   "execution_count": 9,
   "id": "24195111",
   "metadata": {},
   "outputs": [
    {
     "data": {
      "text/plain": [
       "NaN           1353655\n",
       "23/03/2021       5684\n",
       "26/03/2021       4925\n",
       "25/03/2021       4637\n",
       "24/03/2021       4510\n",
       "               ...   \n",
       "07/03/2011          1\n",
       "14/04/2015          1\n",
       "24/07/2019          1\n",
       "21/04/0221          1\n",
       "28/02/2020          1\n",
       "Name: DOSE_1_COV, Length: 517, dtype: int64"
      ]
     },
     "execution_count": 9,
     "metadata": {},
     "output_type": "execute_result"
    }
   ],
   "source": [
    "df_2021.DOSE_1_COV.value_counts(dropna=False)"
   ]
  },
  {
   "cell_type": "code",
   "execution_count": 10,
   "id": "559e2e3c",
   "metadata": {
    "scrolled": true
   },
   "outputs": [
    {
     "data": {
      "text/plain": [
       "NaN           1465349\n",
       "20/04/2021       3339\n",
       "16/04/2021       3160\n",
       "19/04/2021       3136\n",
       "22/04/2021       3046\n",
       "               ...   \n",
       "28/04/1900          1\n",
       "20/12/2020          1\n",
       "08/04/7202          1\n",
       "20/10/2020          1\n",
       "10/04/2013          1\n",
       "Name: DOSE_2_COV, Length: 472, dtype: int64"
      ]
     },
     "execution_count": 10,
     "metadata": {},
     "output_type": "execute_result"
    }
   ],
   "source": [
    "df_2021.DOSE_2_COV.value_counts(dropna=False)"
   ]
  },
  {
   "cell_type": "code",
   "execution_count": 11,
   "id": "5784c18d",
   "metadata": {
    "scrolled": false
   },
   "outputs": [
    {
     "data": {
      "text/plain": [
       "NaN                                              1352907\n",
       "CORONAVAC                                          39163\n",
       "BUTANTAN                                           27262\n",
       "86 - COVID-19 SINOVAC/BUTANTAN - CORONAVAC         26779\n",
       "ASTRAZENECA                                        23465\n",
       "                                                  ...   \n",
       "JANSEN JULHO                                           1\n",
       "CORONAVAC, NAO SABE DATA QUE TOMOU AS 2 DOSES          1\n",
       "1 DOSE FPFIZZER                                        1\n",
       "NAO HA REGISTRO EM ESF.                                1\n",
       "1 DOSE, NAO ESPECIFICADO                               1\n",
       "Name: LAB_PR_COV, Length: 5525, dtype: int64"
      ]
     },
     "execution_count": 11,
     "metadata": {},
     "output_type": "execute_result"
    }
   ],
   "source": [
    "df_2021.LAB_PR_COV.value_counts(dropna=False)"
   ]
  },
  {
   "cell_type": "code",
   "execution_count": 12,
   "id": "9dc949d0",
   "metadata": {
    "scrolled": true
   },
   "outputs": [
    {
     "data": {
      "text/plain": [
       "NaN           1433877\n",
       "4120Z005         4205\n",
       "4120Z026         3596\n",
       "4120Z001         2719\n",
       "210071           2488\n",
       "               ...   \n",
       "215vcd115w          1\n",
       "duartina            1\n",
       "4102Z025            1\n",
       "214VED089W          1\n",
       "213V6D030Z          1\n",
       "Name: LOTE_1_COV, Length: 8220, dtype: int64"
      ]
     },
     "execution_count": 12,
     "metadata": {},
     "output_type": "execute_result"
    }
   ],
   "source": [
    "df_2021.LOTE_1_COV.value_counts(dropna=False)"
   ]
  },
  {
   "cell_type": "code",
   "execution_count": 13,
   "id": "ac628405",
   "metadata": {
    "scrolled": true
   },
   "outputs": [
    {
     "data": {
      "text/plain": [
       "NaN           1502539\n",
       "210130           1913\n",
       "210048           1571\n",
       "210114           1566\n",
       "210146           1440\n",
       "               ...   \n",
       "210040,             1\n",
       "218VCD2467          1\n",
       "214vc80             1\n",
       "214vcd0802          1\n",
       "213vc0017w          1\n",
       "Name: LOTE_2_COV, Length: 4379, dtype: int64"
      ]
     },
     "execution_count": 13,
     "metadata": {},
     "output_type": "execute_result"
    }
   ],
   "source": [
    "df_2021.LOTE_2_COV.value_counts(dropna=False)"
   ]
  },
  {
   "cell_type": "code",
   "execution_count": 14,
   "id": "0e698862",
   "metadata": {},
   "outputs": [
    {
     "data": {
      "text/plain": [
       "1.0    1003650\n",
       "NaN     516581\n",
       "2.0     105240\n",
       "Name: FNT_IN_COV, dtype: int64"
      ]
     },
     "execution_count": 14,
     "metadata": {},
     "output_type": "execute_result"
    }
   ],
   "source": [
    "df_2021.FNT_IN_COV.value_counts(dropna=False)"
   ]
  },
  {
   "cell_type": "markdown",
   "id": "f6ba9f79",
   "metadata": {},
   "source": [
    "## Seleção preliminar de colunas\n",
    "\n",
    "A ideia agora é, através da documentação e do banco, achar as colunas que não servirão para a análise e eliminá-las do banco.\n",
    "Um exemplo de colunas que podem ser eliminadas são os campos internos do SUS que, muitas vezes, não sabemos o significado.<br>\n",
    "Algumas datas também são, ou redundantes, ou não relevantes para análise e podem ser eliminadas.<br>\n",
    "Temos 162 colunas para análise"
   ]
  },
  {
   "cell_type": "code",
   "execution_count": 15,
   "id": "a77a95f2",
   "metadata": {},
   "outputs": [
    {
     "name": "stdout",
     "output_type": "stream",
     "text": [
      "DT_NOTIFIC\n",
      "SEM_NOT\n",
      "DT_SIN_PRI\n",
      "SEM_PRI\n",
      "SG_UF_NOT\n",
      "ID_REGIONA\n",
      "CO_REGIONA\n",
      "ID_MUNICIP\n",
      "CO_MUN_NOT\n",
      "ID_UNIDADE\n",
      "CO_UNI_NOT\n",
      "CS_SEXO\n",
      "DT_NASC\n",
      "NU_IDADE_N\n",
      "TP_IDADE\n",
      "COD_IDADE\n",
      "CS_GESTANT\n",
      "CS_RACA\n",
      "CS_ETINIA\n",
      "CS_ESCOL_N\n",
      "ID_PAIS\n",
      "CO_PAIS\n",
      "SG_UF\n",
      "ID_RG_RESI\n",
      "CO_RG_RESI\n",
      "ID_MN_RESI\n",
      "CO_MUN_RES\n",
      "CS_ZONA\n",
      "SURTO_SG\n",
      "NOSOCOMIAL\n",
      "AVE_SUINO\n",
      "FEBRE\n",
      "TOSSE\n",
      "GARGANTA\n",
      "DISPNEIA\n",
      "DESC_RESP\n",
      "SATURACAO\n",
      "DIARREIA\n",
      "VOMITO\n",
      "OUTRO_SIN\n",
      "OUTRO_DES\n",
      "PUERPERA\n",
      "FATOR_RISC\n",
      "CARDIOPATI\n",
      "HEMATOLOGI\n",
      "SIND_DOWN\n",
      "HEPATICA\n",
      "ASMA\n",
      "DIABETES\n",
      "NEUROLOGIC\n",
      "PNEUMOPATI\n",
      "IMUNODEPRE\n",
      "RENAL\n",
      "OBESIDADE\n",
      "OBES_IMC\n",
      "OUT_MORBI\n",
      "MORB_DESC\n",
      "VACINA\n",
      "DT_UT_DOSE\n",
      "MAE_VAC\n",
      "DT_VAC_MAE\n",
      "M_AMAMENTA\n",
      "DT_DOSEUNI\n",
      "DT_1_DOSE\n",
      "DT_2_DOSE\n",
      "ANTIVIRAL\n",
      "TP_ANTIVIR\n",
      "OUT_ANTIV\n",
      "DT_ANTIVIR\n",
      "HOSPITAL\n",
      "DT_INTERNA\n",
      "SG_UF_INTE\n",
      "ID_RG_INTE\n",
      "CO_RG_INTE\n",
      "ID_MN_INTE\n",
      "CO_MU_INTE\n",
      "UTI\n",
      "DT_ENTUTI\n",
      "DT_SAIDUTI\n",
      "SUPORT_VEN\n",
      "RAIOX_RES\n",
      "RAIOX_OUT\n",
      "DT_RAIOX\n",
      "AMOSTRA\n",
      "DT_COLETA\n",
      "TP_AMOSTRA\n",
      "OUT_AMOST\n",
      "PCR_RESUL\n",
      "DT_PCR\n",
      "POS_PCRFLU\n",
      "TP_FLU_PCR\n",
      "PCR_FLUASU\n",
      "FLUASU_OUT\n",
      "PCR_FLUBLI\n",
      "FLUBLI_OUT\n",
      "POS_PCROUT\n",
      "PCR_VSR\n",
      "PCR_PARA1\n",
      "PCR_PARA2\n",
      "PCR_PARA3\n",
      "PCR_PARA4\n",
      "PCR_ADENO\n",
      "PCR_METAP\n",
      "PCR_BOCA\n",
      "PCR_RINO\n",
      "PCR_OUTRO\n",
      "DS_PCR_OUT\n",
      "CLASSI_FIN\n",
      "CLASSI_OUT\n",
      "CRITERIO\n",
      "EVOLUCAO\n",
      "DT_EVOLUCA\n",
      "DT_ENCERRA\n",
      "DT_DIGITA\n",
      "HISTO_VGM\n",
      "PAIS_VGM\n",
      "CO_PS_VGM\n",
      "LO_PS_VGM\n",
      "DT_VGM\n",
      "DT_RT_VGM\n",
      "PCR_SARS2\n",
      "PAC_COCBO\n",
      "PAC_DSCBO\n",
      "OUT_ANIM\n",
      "DOR_ABD\n",
      "FADIGA\n",
      "PERD_OLFT\n",
      "PERD_PALA\n",
      "TOMO_RES\n",
      "TOMO_OUT\n",
      "DT_TOMO\n",
      "TP_TES_AN\n",
      "DT_RES_AN\n",
      "RES_AN\n",
      "POS_AN_FLU\n",
      "TP_FLU_AN\n",
      "POS_AN_OUT\n",
      "AN_SARS2\n",
      "AN_VSR\n",
      "AN_PARA1\n",
      "AN_PARA2\n",
      "AN_PARA3\n",
      "AN_ADENO\n",
      "AN_OUTRO\n",
      "DS_AN_OUT\n",
      "TP_AM_SOR\n",
      "SOR_OUT\n",
      "DT_CO_SOR\n",
      "TP_SOR\n",
      "OUT_SOR\n",
      "DT_RES\n",
      "RES_IGG\n",
      "RES_IGM\n",
      "RES_IGA\n"
     ]
    }
   ],
   "source": [
    "for i in df_2020.columns:\n",
    "    print(i)"
   ]
  },
  {
   "cell_type": "code",
   "execution_count": 16,
   "id": "9eb83889",
   "metadata": {},
   "outputs": [
    {
     "name": "stdout",
     "output_type": "stream",
     "text": [
      "DT_NOTIFIC\n",
      "SEM_NOT\n",
      "DT_SIN_PRI\n",
      "SEM_PRI\n",
      "SG_UF_NOT\n",
      "ID_REGIONA\n",
      "CO_REGIONA\n",
      "ID_MUNICIP\n",
      "CO_MUN_NOT\n",
      "ID_UNIDADE\n",
      "CO_UNI_NOT\n",
      "CS_SEXO\n",
      "DT_NASC\n",
      "NU_IDADE_N\n",
      "TP_IDADE\n",
      "COD_IDADE\n",
      "CS_GESTANT\n",
      "CS_RACA\n",
      "CS_ETINIA\n",
      "CS_ESCOL_N\n",
      "ID_PAIS\n",
      "CO_PAIS\n",
      "SG_UF\n",
      "ID_RG_RESI\n",
      "CO_RG_RESI\n",
      "ID_MN_RESI\n",
      "CO_MUN_RES\n",
      "CS_ZONA\n",
      "SURTO_SG\n",
      "NOSOCOMIAL\n",
      "AVE_SUINO\n",
      "FEBRE\n",
      "TOSSE\n",
      "GARGANTA\n",
      "DISPNEIA\n",
      "DESC_RESP\n",
      "SATURACAO\n",
      "DIARREIA\n",
      "VOMITO\n",
      "OUTRO_SIN\n",
      "OUTRO_DES\n",
      "PUERPERA\n",
      "FATOR_RISC\n",
      "CARDIOPATI\n",
      "HEMATOLOGI\n",
      "SIND_DOWN\n",
      "HEPATICA\n",
      "ASMA\n",
      "DIABETES\n",
      "NEUROLOGIC\n",
      "PNEUMOPATI\n",
      "IMUNODEPRE\n",
      "RENAL\n",
      "OBESIDADE\n",
      "OBES_IMC\n",
      "OUT_MORBI\n",
      "MORB_DESC\n",
      "VACINA\n",
      "DT_UT_DOSE\n",
      "MAE_VAC\n",
      "DT_VAC_MAE\n",
      "M_AMAMENTA\n",
      "DT_DOSEUNI\n",
      "DT_1_DOSE\n",
      "DT_2_DOSE\n",
      "ANTIVIRAL\n",
      "TP_ANTIVIR\n",
      "OUT_ANTIV\n",
      "DT_ANTIVIR\n",
      "HOSPITAL\n",
      "DT_INTERNA\n",
      "SG_UF_INTE\n",
      "ID_RG_INTE\n",
      "CO_RG_INTE\n",
      "ID_MN_INTE\n",
      "CO_MU_INTE\n",
      "UTI\n",
      "DT_ENTUTI\n",
      "DT_SAIDUTI\n",
      "SUPORT_VEN\n",
      "RAIOX_RES\n",
      "RAIOX_OUT\n",
      "DT_RAIOX\n",
      "AMOSTRA\n",
      "DT_COLETA\n",
      "TP_AMOSTRA\n",
      "OUT_AMOST\n",
      "PCR_RESUL\n",
      "DT_PCR\n",
      "POS_PCRFLU\n",
      "TP_FLU_PCR\n",
      "PCR_FLUASU\n",
      "FLUASU_OUT\n",
      "PCR_FLUBLI\n",
      "FLUBLI_OUT\n",
      "POS_PCROUT\n",
      "PCR_VSR\n",
      "PCR_PARA1\n",
      "PCR_PARA2\n",
      "PCR_PARA3\n",
      "PCR_PARA4\n",
      "PCR_ADENO\n",
      "PCR_METAP\n",
      "PCR_BOCA\n",
      "PCR_RINO\n",
      "PCR_OUTRO\n",
      "DS_PCR_OUT\n",
      "CLASSI_FIN\n",
      "CLASSI_OUT\n",
      "CRITERIO\n",
      "EVOLUCAO\n",
      "DT_EVOLUCA\n",
      "DT_ENCERRA\n",
      "DT_DIGITA\n",
      "HISTO_VGM\n",
      "PAIS_VGM\n",
      "CO_PS_VGM\n",
      "LO_PS_VGM\n",
      "DT_VGM\n",
      "DT_RT_VGM\n",
      "PCR_SARS2\n",
      "PAC_COCBO\n",
      "PAC_DSCBO\n",
      "OUT_ANIM\n",
      "DOR_ABD\n",
      "FADIGA\n",
      "PERD_OLFT\n",
      "PERD_PALA\n",
      "TOMO_RES\n",
      "TOMO_OUT\n",
      "DT_TOMO\n",
      "TP_TES_AN\n",
      "DT_RES_AN\n",
      "RES_AN\n",
      "POS_AN_FLU\n",
      "TP_FLU_AN\n",
      "POS_AN_OUT\n",
      "AN_SARS2\n",
      "AN_VSR\n",
      "AN_PARA1\n",
      "AN_PARA2\n",
      "AN_PARA3\n",
      "AN_ADENO\n",
      "AN_OUTRO\n",
      "DS_AN_OUT\n",
      "TP_AM_SOR\n",
      "SOR_OUT\n",
      "DT_CO_SOR\n",
      "TP_SOR\n",
      "OUT_SOR\n",
      "DT_RES\n",
      "RES_IGG\n",
      "RES_IGM\n",
      "RES_IGA\n",
      "ESTRANG\n",
      "VACINA_COV\n",
      "DOSE_1_COV\n",
      "DOSE_2_COV\n",
      "LAB_PR_COV\n",
      "LOTE_1_COV\n",
      "LOTE_2_COV\n",
      "FNT_IN_COV\n"
     ]
    }
   ],
   "source": [
    "for i in df_2021.columns:\n",
    "    print(i)"
   ]
  },
  {
   "cell_type": "code",
   "execution_count": 17,
   "id": "d8e6ec32",
   "metadata": {},
   "outputs": [
    {
     "data": {
      "text/plain": [
       "DT_NOTIFIC          0\n",
       "SEM_NOT             0\n",
       "DT_SIN_PRI          0\n",
       "SEM_PRI             0\n",
       "SG_UF_NOT           0\n",
       "ID_REGIONA     161607\n",
       "CO_REGIONA     161607\n",
       "ID_MUNICIP          0\n",
       "CO_MUN_NOT          0\n",
       "ID_UNIDADE          0\n",
       "CO_UNI_NOT          0\n",
       "CS_SEXO             0\n",
       "DT_NASC          2243\n",
       "NU_IDADE_N          0\n",
       "TP_IDADE            0\n",
       "COD_IDADE           0\n",
       "CS_GESTANT          0\n",
       "CS_RACA         49335\n",
       "CS_ETINIA     1197052\n",
       "CS_ESCOL_N     359870\n",
       "ID_PAIS             0\n",
       "CO_PAIS             0\n",
       "SG_UF             114\n",
       "ID_RG_RESI     159278\n",
       "CO_RG_RESI     159278\n",
       "ID_MN_RESI        114\n",
       "CO_MUN_RES        114\n",
       "CS_ZONA        128961\n",
       "SURTO_SG       316562\n",
       "NOSOCOMIAL     252695\n",
       "AVE_SUINO      216787\n",
       "FEBRE          157972\n",
       "TOSSE          133197\n",
       "GARGANTA       296482\n",
       "DISPNEIA       134144\n",
       "DESC_RESP      196692\n",
       "SATURACAO      190175\n",
       "DIARREIA       309297\n",
       "VOMITO         320616\n",
       "OUTRO_SIN      311196\n",
       "OUTRO_DES      823696\n",
       "PUERPERA       716177\n",
       "FATOR_RISC          0\n",
       "CARDIOPATI     578246\n",
       "HEMATOLOGI     712450\n",
       "SIND_DOWN      714537\n",
       "HEPATICA       713621\n",
       "ASMA           703383\n",
       "DIABETES       618900\n",
       "NEUROLOGIC     699164\n",
       "PNEUMOPATI     698675\n",
       "IMUNODEPRE     707162\n",
       "RENAL          702958\n",
       "OBESIDADE      701657\n",
       "OBES_IMC      1171881\n",
       "OUT_MORBI      627447\n",
       "MORB_DESC      883479\n",
       "VACINA         254278\n",
       "DT_UT_DOSE    1092762\n",
       "MAE_VAC       1190175\n",
       "DT_VAC_MAE    1198402\n",
       "M_AMAMENTA    1192400\n",
       "DT_DOSEUNI    1198829\n",
       "DT_1_DOSE     1198830\n",
       "DT_2_DOSE     1198865\n",
       "ANTIVIRAL      167931\n",
       "TP_ANTIVIR    1026668\n",
       "OUT_ANTIV     1190951\n",
       "DT_ANTIVIR    1030344\n",
       "HOSPITAL        29747\n",
       "DT_INTERNA      92258\n",
       "SG_UF_INTE         14\n",
       "ID_RG_INTE     283722\n",
       "CO_RG_INTE     283722\n",
       "ID_MN_INTE      73747\n",
       "CO_MU_INTE      73747\n",
       "UTI            168913\n",
       "DT_ENTUTI      859768\n",
       "DT_SAIDUTI    1010668\n",
       "SUPORT_VEN     161654\n",
       "RAIOX_RES      407229\n",
       "RAIOX_OUT     1105319\n",
       "DT_RAIOX       843966\n",
       "AMOSTRA         34240\n",
       "DT_COLETA       85170\n",
       "TP_AMOSTRA     104067\n",
       "OUT_AMOST     1068674\n",
       "PCR_RESUL       93982\n",
       "DT_PCR         244571\n",
       "POS_PCRFLU     893839\n",
       "TP_FLU_PCR    1196949\n",
       "PCR_FLUASU    1197605\n",
       "FLUASU_OUT    1198964\n",
       "PCR_FLUBLI    1198594\n",
       "FLUBLI_OUT    1198967\n",
       "POS_PCROUT     684458\n",
       "PCR_VSR       1197741\n",
       "PCR_PARA1     1198888\n",
       "PCR_PARA2     1198947\n",
       "PCR_PARA3     1198859\n",
       "PCR_PARA4     1198947\n",
       "PCR_ADENO     1198528\n",
       "PCR_METAP     1198537\n",
       "PCR_BOCA      1198921\n",
       "PCR_RINO      1196530\n",
       "PCR_OUTRO     1195492\n",
       "DS_PCR_OUT    1197347\n",
       "CLASSI_FIN      55426\n",
       "CLASSI_OUT    1196923\n",
       "CRITERIO        82607\n",
       "EVOLUCAO       111141\n",
       "DT_EVOLUCA     197743\n",
       "DT_ENCERRA     108081\n",
       "DT_DIGITA           0\n",
       "HISTO_VGM           0\n",
       "PAIS_VGM      1197806\n",
       "CO_PS_VGM     1197806\n",
       "LO_PS_VGM     1198209\n",
       "DT_VGM        1197867\n",
       "DT_RT_VGM     1197868\n",
       "PCR_SARS2      692663\n",
       "PAC_COCBO     1174713\n",
       "PAC_DSCBO     1174713\n",
       "OUT_ANIM      1198508\n",
       "DOR_ABD        666742\n",
       "FADIGA         651428\n",
       "PERD_OLFT      660923\n",
       "PERD_PALA      662092\n",
       "TOMO_RES       753955\n",
       "TOMO_OUT      1176646\n",
       "DT_TOMO        952971\n",
       "TP_TES_AN      717978\n",
       "DT_RES_AN     1115508\n",
       "RES_AN         177427\n",
       "POS_AN_FLU    1163122\n",
       "TP_FLU_AN     1198603\n",
       "POS_AN_OUT    1151932\n",
       "AN_SARS2      1170155\n",
       "AN_VSR        1198457\n",
       "AN_PARA1      1198956\n",
       "AN_PARA2      1198969\n",
       "AN_PARA3      1198966\n",
       "AN_ADENO      1198941\n",
       "AN_OUTRO      1179011\n",
       "DS_AN_OUT     1181517\n",
       "TP_AM_SOR     1081753\n",
       "SOR_OUT       1188158\n",
       "DT_CO_SOR     1097851\n",
       "TP_SOR        1086882\n",
       "OUT_SOR       1191755\n",
       "DT_RES        1085931\n",
       "RES_IGG       1061878\n",
       "RES_IGM       1056390\n",
       "RES_IGA       1109458\n",
       "dtype: int64"
      ]
     },
     "execution_count": 17,
     "metadata": {},
     "output_type": "execute_result"
    }
   ],
   "source": [
    "pd.set_option('display.max_rows', None)\n",
    "df_2020.isnull().sum()"
   ]
  },
  {
   "cell_type": "code",
   "execution_count": 18,
   "id": "5b9514c7",
   "metadata": {
    "scrolled": true
   },
   "outputs": [
    {
     "data": {
      "text/plain": [
       "DT_NOTIFIC          0\n",
       "SEM_NOT             0\n",
       "DT_SIN_PRI          0\n",
       "SEM_PRI             0\n",
       "SG_UF_NOT           0\n",
       "ID_REGIONA     171634\n",
       "CO_REGIONA     171634\n",
       "ID_MUNICIP          0\n",
       "CO_MUN_NOT          0\n",
       "ID_UNIDADE          0\n",
       "CO_UNI_NOT          0\n",
       "CS_SEXO             0\n",
       "DT_NASC          1094\n",
       "NU_IDADE_N          0\n",
       "TP_IDADE            0\n",
       "COD_IDADE           0\n",
       "CS_GESTANT          0\n",
       "CS_RACA             0\n",
       "CS_ETINIA     1524501\n",
       "CS_ESCOL_N     541064\n",
       "ID_PAIS             0\n",
       "CO_PAIS             0\n",
       "SG_UF             224\n",
       "ID_RG_RESI     168897\n",
       "CO_RG_RESI     168897\n",
       "ID_MN_RESI        224\n",
       "CO_MUN_RES        224\n",
       "CS_ZONA        177451\n",
       "SURTO_SG      1361344\n",
       "NOSOCOMIAL     276722\n",
       "AVE_SUINO      292430\n",
       "FEBRE          276266\n",
       "TOSSE          211493\n",
       "GARGANTA       476632\n",
       "DISPNEIA       197245\n",
       "DESC_RESP      306686\n",
       "SATURACAO      249827\n",
       "DIARREIA       493896\n",
       "VOMITO         511422\n",
       "OUTRO_SIN      476685\n",
       "OUTRO_DES     1058535\n",
       "PUERPERA      1018601\n",
       "FATOR_RISC          0\n",
       "CARDIOPATI     855659\n",
       "HEMATOLOGI    1018478\n",
       "SIND_DOWN     1020070\n",
       "HEPATICA      1020052\n",
       "ASMA          1008517\n",
       "DIABETES       904197\n",
       "NEUROLOGIC    1007007\n",
       "PNEUMOPATI    1006954\n",
       "IMUNODEPRE    1013777\n",
       "RENAL         1009820\n",
       "OBESIDADE      980141\n",
       "OBES_IMC      1505770\n",
       "OUT_MORBI      898389\n",
       "MORB_DESC     1168465\n",
       "VACINA         417734\n",
       "DT_UT_DOSE    1460997\n",
       "MAE_VAC       1512840\n",
       "DT_VAC_MAE    1525283\n",
       "M_AMAMENTA    1515653\n",
       "DT_DOSEUNI    1525577\n",
       "DT_1_DOSE     1525594\n",
       "DT_2_DOSE     1525619\n",
       "ANTIVIRAL      283398\n",
       "TP_ANTIVIR    1494284\n",
       "OUT_ANTIV     1520544\n",
       "DT_ANTIVIR    1498950\n",
       "HOSPITAL        45639\n",
       "DT_INTERNA     104877\n",
       "SG_UF_INTE          8\n",
       "ID_RG_INTE     352457\n",
       "CO_RG_INTE     352457\n",
       "ID_MN_INTE      74832\n",
       "CO_MU_INTE      74832\n",
       "UTI            215372\n",
       "DT_ENTUTI     1100618\n",
       "DT_SAIDUTI    1283993\n",
       "SUPORT_VEN     212607\n",
       "RAIOX_RES      664990\n",
       "RAIOX_OUT     1482600\n",
       "DT_RAIOX      1252187\n",
       "AMOSTRA         89166\n",
       "DT_COLETA      165705\n",
       "TP_AMOSTRA     191509\n",
       "OUT_AMOST     1390615\n",
       "PCR_RESUL      192829\n",
       "DT_PCR         562117\n",
       "POS_PCRFLU    1119295\n",
       "TP_FLU_PCR    1525570\n",
       "PCR_FLUASU    1525630\n",
       "FLUASU_OUT    1525675\n",
       "PCR_FLUBLI    1525641\n",
       "FLUBLI_OUT    1525678\n",
       "POS_PCROUT     882845\n",
       "PCR_VSR       1519085\n",
       "PCR_PARA1     1525543\n",
       "PCR_PARA2     1525611\n",
       "PCR_PARA3     1525441\n",
       "PCR_PARA4     1525511\n",
       "PCR_ADENO     1525288\n",
       "PCR_METAP     1525668\n",
       "PCR_BOCA      1525242\n",
       "PCR_RINO      1522689\n",
       "PCR_OUTRO     1524480\n",
       "DS_PCR_OUT    1524596\n",
       "CLASSI_FIN     142209\n",
       "CLASSI_OUT    1524001\n",
       "CRITERIO       191775\n",
       "EVOLUCAO       249939\n",
       "DT_EVOLUCA     345479\n",
       "DT_ENCERRA     246264\n",
       "DT_DIGITA           0\n",
       "HISTO_VGM           0\n",
       "PAIS_VGM      1525610\n",
       "CO_PS_VGM     1525610\n",
       "LO_PS_VGM     1525631\n",
       "DT_VGM        1525618\n",
       "DT_RT_VGM     1525618\n",
       "PCR_SARS2      895801\n",
       "PAC_COCBO     1484408\n",
       "PAC_DSCBO     1484408\n",
       "OUT_ANIM      1524318\n",
       "DOR_ABD        531029\n",
       "FADIGA         465215\n",
       "PERD_OLFT      517147\n",
       "PERD_PALA      517582\n",
       "TOMO_RES       541320\n",
       "TOMO_OUT      1488822\n",
       "DT_TOMO        948466\n",
       "TP_TES_AN     1226589\n",
       "DT_RES_AN     1222002\n",
       "RES_AN         240430\n",
       "POS_AN_FLU    1371076\n",
       "TP_FLU_AN     1525378\n",
       "POS_AN_OUT    1316314\n",
       "AN_SARS2      1321473\n",
       "AN_VSR        1523680\n",
       "AN_PARA1      1525670\n",
       "AN_PARA2      1525668\n",
       "AN_PARA3      1525646\n",
       "AN_ADENO      1525646\n",
       "AN_OUTRO      1525040\n",
       "DS_AN_OUT     1525103\n",
       "TP_AM_SOR     1405049\n",
       "SOR_OUT       1511099\n",
       "DT_CO_SOR     1426894\n",
       "TP_SOR        1414420\n",
       "OUT_SOR       1517102\n",
       "DT_RES        1414206\n",
       "RES_IGG       1348142\n",
       "RES_IGM       1345318\n",
       "RES_IGA       1396688\n",
       "ESTRANG        468038\n",
       "VACINA_COV     544452\n",
       "DOSE_1_COV    1328788\n",
       "DOSE_2_COV    1429569\n",
       "LAB_PR_COV    1329967\n",
       "LOTE_1_COV    1406654\n",
       "LOTE_2_COV    1464427\n",
       "FNT_IN_COV     544452\n",
       "dtype: int64"
      ]
     },
     "execution_count": 18,
     "metadata": {},
     "output_type": "execute_result"
    }
   ],
   "source": [
    "df_2021.isnull().sum()"
   ]
  },
  {
   "cell_type": "code",
   "execution_count": 19,
   "id": "f64484c8",
   "metadata": {},
   "outputs": [],
   "source": [
    "pd.reset_option('display.max_rows')"
   ]
  },
  {
   "cell_type": "markdown",
   "id": "9ff62ddd",
   "metadata": {},
   "source": [
    "Observa-se muitos valores nulos em algumas colunas, alguns são triviais de resolver e outros não. O banco necessita de um tratamento individualizado para cada categoria"
   ]
  },
  {
   "cell_type": "markdown",
   "id": "29b80fbc",
   "metadata": {},
   "source": [
    "### Concatenação dos bancos de dados"
   ]
  },
  {
   "cell_type": "code",
   "execution_count": 15,
   "id": "1ed7a7fa",
   "metadata": {
    "scrolled": true
   },
   "outputs": [
    {
     "data": {
      "text/html": [
       "<div>\n",
       "<style scoped>\n",
       "    .dataframe tbody tr th:only-of-type {\n",
       "        vertical-align: middle;\n",
       "    }\n",
       "\n",
       "    .dataframe tbody tr th {\n",
       "        vertical-align: top;\n",
       "    }\n",
       "\n",
       "    .dataframe thead th {\n",
       "        text-align: right;\n",
       "    }\n",
       "</style>\n",
       "<table border=\"1\" class=\"dataframe\">\n",
       "  <thead>\n",
       "    <tr style=\"text-align: right;\">\n",
       "      <th></th>\n",
       "      <th>DT_NOTIFIC</th>\n",
       "      <th>SEM_NOT</th>\n",
       "      <th>DT_SIN_PRI</th>\n",
       "      <th>SEM_PRI</th>\n",
       "      <th>SG_UF_NOT</th>\n",
       "      <th>ID_REGIONA</th>\n",
       "      <th>CO_REGIONA</th>\n",
       "      <th>ID_MUNICIP</th>\n",
       "      <th>CO_MUN_NOT</th>\n",
       "      <th>ID_UNIDADE</th>\n",
       "      <th>...</th>\n",
       "      <th>RES_IGM</th>\n",
       "      <th>RES_IGA</th>\n",
       "      <th>ESTRANG</th>\n",
       "      <th>VACINA_COV</th>\n",
       "      <th>DOSE_1_COV</th>\n",
       "      <th>DOSE_2_COV</th>\n",
       "      <th>LAB_PR_COV</th>\n",
       "      <th>LOTE_1_COV</th>\n",
       "      <th>LOTE_2_COV</th>\n",
       "      <th>FNT_IN_COV</th>\n",
       "    </tr>\n",
       "  </thead>\n",
       "  <tbody>\n",
       "    <tr>\n",
       "      <th>0</th>\n",
       "      <td>07/01/2020</td>\n",
       "      <td>2</td>\n",
       "      <td>03/01/2020</td>\n",
       "      <td>1</td>\n",
       "      <td>DF</td>\n",
       "      <td>NaN</td>\n",
       "      <td>NaN</td>\n",
       "      <td>BRASILIA</td>\n",
       "      <td>530010</td>\n",
       "      <td>HRT HOSPITAL REGIONAL DE TAGUATINGA</td>\n",
       "      <td>...</td>\n",
       "      <td>NaN</td>\n",
       "      <td>NaN</td>\n",
       "      <td>NaN</td>\n",
       "      <td>NaN</td>\n",
       "      <td>NaN</td>\n",
       "      <td>NaN</td>\n",
       "      <td>NaN</td>\n",
       "      <td>NaN</td>\n",
       "      <td>NaN</td>\n",
       "      <td>NaN</td>\n",
       "    </tr>\n",
       "    <tr>\n",
       "      <th>1</th>\n",
       "      <td>10/01/2020</td>\n",
       "      <td>2</td>\n",
       "      <td>07/01/2020</td>\n",
       "      <td>2</td>\n",
       "      <td>DF</td>\n",
       "      <td>NaN</td>\n",
       "      <td>NaN</td>\n",
       "      <td>BRASILIA</td>\n",
       "      <td>530010</td>\n",
       "      <td>HOSPITAL MATERNO INFANTIL DR ANTONIO LISBOA</td>\n",
       "      <td>...</td>\n",
       "      <td>NaN</td>\n",
       "      <td>NaN</td>\n",
       "      <td>NaN</td>\n",
       "      <td>NaN</td>\n",
       "      <td>NaN</td>\n",
       "      <td>NaN</td>\n",
       "      <td>NaN</td>\n",
       "      <td>NaN</td>\n",
       "      <td>NaN</td>\n",
       "      <td>NaN</td>\n",
       "    </tr>\n",
       "    <tr>\n",
       "      <th>2</th>\n",
       "      <td>13/02/2020</td>\n",
       "      <td>7</td>\n",
       "      <td>08/02/2020</td>\n",
       "      <td>6</td>\n",
       "      <td>SP</td>\n",
       "      <td>GVE XXXI SOROCABA</td>\n",
       "      <td>1353.0</td>\n",
       "      <td>SALTO</td>\n",
       "      <td>354520</td>\n",
       "      <td>HOSPITAL E MATERNIDADE MUNICIPAL N S DO MONTE ...</td>\n",
       "      <td>...</td>\n",
       "      <td>NaN</td>\n",
       "      <td>NaN</td>\n",
       "      <td>NaN</td>\n",
       "      <td>NaN</td>\n",
       "      <td>NaN</td>\n",
       "      <td>NaN</td>\n",
       "      <td>NaN</td>\n",
       "      <td>NaN</td>\n",
       "      <td>NaN</td>\n",
       "      <td>NaN</td>\n",
       "    </tr>\n",
       "    <tr>\n",
       "      <th>3</th>\n",
       "      <td>27/01/2020</td>\n",
       "      <td>5</td>\n",
       "      <td>26/01/2020</td>\n",
       "      <td>5</td>\n",
       "      <td>CE</td>\n",
       "      <td>1 CRES FORTALEZA</td>\n",
       "      <td>1519.0</td>\n",
       "      <td>FORTALEZA</td>\n",
       "      <td>230440</td>\n",
       "      <td>HIAS HOSPITAL INFANTIL ALBERT SABIN</td>\n",
       "      <td>...</td>\n",
       "      <td>NaN</td>\n",
       "      <td>NaN</td>\n",
       "      <td>NaN</td>\n",
       "      <td>NaN</td>\n",
       "      <td>NaN</td>\n",
       "      <td>NaN</td>\n",
       "      <td>NaN</td>\n",
       "      <td>NaN</td>\n",
       "      <td>NaN</td>\n",
       "      <td>NaN</td>\n",
       "    </tr>\n",
       "    <tr>\n",
       "      <th>4</th>\n",
       "      <td>16/01/2020</td>\n",
       "      <td>3</td>\n",
       "      <td>10/01/2020</td>\n",
       "      <td>2</td>\n",
       "      <td>SP</td>\n",
       "      <td>GVE XXXIII TAUBATE</td>\n",
       "      <td>1352.0</td>\n",
       "      <td>TAUBATE</td>\n",
       "      <td>355410</td>\n",
       "      <td>HOSPITAL REGIONAL DO VALE DO PARAIBA</td>\n",
       "      <td>...</td>\n",
       "      <td>NaN</td>\n",
       "      <td>NaN</td>\n",
       "      <td>NaN</td>\n",
       "      <td>NaN</td>\n",
       "      <td>NaN</td>\n",
       "      <td>NaN</td>\n",
       "      <td>NaN</td>\n",
       "      <td>NaN</td>\n",
       "      <td>NaN</td>\n",
       "      <td>NaN</td>\n",
       "    </tr>\n",
       "    <tr>\n",
       "      <th>...</th>\n",
       "      <td>...</td>\n",
       "      <td>...</td>\n",
       "      <td>...</td>\n",
       "      <td>...</td>\n",
       "      <td>...</td>\n",
       "      <td>...</td>\n",
       "      <td>...</td>\n",
       "      <td>...</td>\n",
       "      <td>...</td>\n",
       "      <td>...</td>\n",
       "      <td>...</td>\n",
       "      <td>...</td>\n",
       "      <td>...</td>\n",
       "      <td>...</td>\n",
       "      <td>...</td>\n",
       "      <td>...</td>\n",
       "      <td>...</td>\n",
       "      <td>...</td>\n",
       "      <td>...</td>\n",
       "      <td>...</td>\n",
       "      <td>...</td>\n",
       "    </tr>\n",
       "    <tr>\n",
       "      <th>2825165</th>\n",
       "      <td>26/11/2021</td>\n",
       "      <td>47</td>\n",
       "      <td>21/11/2021</td>\n",
       "      <td>47</td>\n",
       "      <td>BA</td>\n",
       "      <td>NUCLEO REGIONAL DE SAUDE CENTRO-LESTE</td>\n",
       "      <td>1381.0</td>\n",
       "      <td>FEIRA DE SANTANA</td>\n",
       "      <td>291080</td>\n",
       "      <td>HOSPITAL ESTADUAL DA CRIANCA</td>\n",
       "      <td>...</td>\n",
       "      <td>NaN</td>\n",
       "      <td>NaN</td>\n",
       "      <td>2.0</td>\n",
       "      <td>2.0</td>\n",
       "      <td>NaN</td>\n",
       "      <td>NaN</td>\n",
       "      <td>NaN</td>\n",
       "      <td>NaN</td>\n",
       "      <td>NaN</td>\n",
       "      <td>2.0</td>\n",
       "    </tr>\n",
       "    <tr>\n",
       "      <th>2825166</th>\n",
       "      <td>10/06/2021</td>\n",
       "      <td>23</td>\n",
       "      <td>02/04/2021</td>\n",
       "      <td>13</td>\n",
       "      <td>PE</td>\n",
       "      <td>001</td>\n",
       "      <td>1497.0</td>\n",
       "      <td>RECIFE</td>\n",
       "      <td>261160</td>\n",
       "      <td>HOSPITAL ILHA DO LEITE</td>\n",
       "      <td>...</td>\n",
       "      <td>NaN</td>\n",
       "      <td>NaN</td>\n",
       "      <td>NaN</td>\n",
       "      <td>9.0</td>\n",
       "      <td>NaN</td>\n",
       "      <td>NaN</td>\n",
       "      <td>NaN</td>\n",
       "      <td>NaN</td>\n",
       "      <td>NaN</td>\n",
       "      <td>1.0</td>\n",
       "    </tr>\n",
       "    <tr>\n",
       "      <th>2825167</th>\n",
       "      <td>19/11/2021</td>\n",
       "      <td>46</td>\n",
       "      <td>15/11/2021</td>\n",
       "      <td>46</td>\n",
       "      <td>SP</td>\n",
       "      <td>GVE I CAPITAL</td>\n",
       "      <td>1331.0</td>\n",
       "      <td>SAO PAULO</td>\n",
       "      <td>355030</td>\n",
       "      <td>HOSPITAL ESTADUAL DE VILA ALPINA ORG SOCIAL SE...</td>\n",
       "      <td>...</td>\n",
       "      <td>NaN</td>\n",
       "      <td>NaN</td>\n",
       "      <td>2.0</td>\n",
       "      <td>2.0</td>\n",
       "      <td>NaN</td>\n",
       "      <td>NaN</td>\n",
       "      <td>NaN</td>\n",
       "      <td>NaN</td>\n",
       "      <td>NaN</td>\n",
       "      <td>2.0</td>\n",
       "    </tr>\n",
       "    <tr>\n",
       "      <th>2825168</th>\n",
       "      <td>14/11/2021</td>\n",
       "      <td>46</td>\n",
       "      <td>04/11/2021</td>\n",
       "      <td>44</td>\n",
       "      <td>SC</td>\n",
       "      <td>BLUMENAU</td>\n",
       "      <td>1564.0</td>\n",
       "      <td>BLUMENAU</td>\n",
       "      <td>420240</td>\n",
       "      <td>HOSPITAL SANTO ANTONIO</td>\n",
       "      <td>...</td>\n",
       "      <td>NaN</td>\n",
       "      <td>NaN</td>\n",
       "      <td>2.0</td>\n",
       "      <td>2.0</td>\n",
       "      <td>NaN</td>\n",
       "      <td>NaN</td>\n",
       "      <td>NaN</td>\n",
       "      <td>NaN</td>\n",
       "      <td>NaN</td>\n",
       "      <td>2.0</td>\n",
       "    </tr>\n",
       "    <tr>\n",
       "      <th>2825169</th>\n",
       "      <td>24/11/2021</td>\n",
       "      <td>47</td>\n",
       "      <td>20/11/2021</td>\n",
       "      <td>46</td>\n",
       "      <td>GO</td>\n",
       "      <td>CENTRAL</td>\n",
       "      <td>1779.0</td>\n",
       "      <td>GOIANIA</td>\n",
       "      <td>520870</td>\n",
       "      <td>SANTA CASA DE MISERICORDIA DE GOIANIA</td>\n",
       "      <td>...</td>\n",
       "      <td>NaN</td>\n",
       "      <td>NaN</td>\n",
       "      <td>2.0</td>\n",
       "      <td>2.0</td>\n",
       "      <td>NaN</td>\n",
       "      <td>NaN</td>\n",
       "      <td>NaN</td>\n",
       "      <td>NaN</td>\n",
       "      <td>NaN</td>\n",
       "      <td>2.0</td>\n",
       "    </tr>\n",
       "  </tbody>\n",
       "</table>\n",
       "<p>2825170 rows × 162 columns</p>\n",
       "</div>"
      ],
      "text/plain": [
       "         DT_NOTIFIC  SEM_NOT  DT_SIN_PRI  SEM_PRI SG_UF_NOT  \\\n",
       "0        07/01/2020        2  03/01/2020        1        DF   \n",
       "1        10/01/2020        2  07/01/2020        2        DF   \n",
       "2        13/02/2020        7  08/02/2020        6        SP   \n",
       "3        27/01/2020        5  26/01/2020        5        CE   \n",
       "4        16/01/2020        3  10/01/2020        2        SP   \n",
       "...             ...      ...         ...      ...       ...   \n",
       "2825165  26/11/2021       47  21/11/2021       47        BA   \n",
       "2825166  10/06/2021       23  02/04/2021       13        PE   \n",
       "2825167  19/11/2021       46  15/11/2021       46        SP   \n",
       "2825168  14/11/2021       46  04/11/2021       44        SC   \n",
       "2825169  24/11/2021       47  20/11/2021       46        GO   \n",
       "\n",
       "                                    ID_REGIONA  CO_REGIONA        ID_MUNICIP  \\\n",
       "0                                          NaN         NaN          BRASILIA   \n",
       "1                                          NaN         NaN          BRASILIA   \n",
       "2                            GVE XXXI SOROCABA      1353.0             SALTO   \n",
       "3                             1 CRES FORTALEZA      1519.0         FORTALEZA   \n",
       "4                           GVE XXXIII TAUBATE      1352.0           TAUBATE   \n",
       "...                                        ...         ...               ...   \n",
       "2825165  NUCLEO REGIONAL DE SAUDE CENTRO-LESTE      1381.0  FEIRA DE SANTANA   \n",
       "2825166                                    001      1497.0            RECIFE   \n",
       "2825167                          GVE I CAPITAL      1331.0         SAO PAULO   \n",
       "2825168                               BLUMENAU      1564.0          BLUMENAU   \n",
       "2825169                                CENTRAL      1779.0           GOIANIA   \n",
       "\n",
       "         CO_MUN_NOT                                         ID_UNIDADE  ...  \\\n",
       "0            530010                HRT HOSPITAL REGIONAL DE TAGUATINGA  ...   \n",
       "1            530010        HOSPITAL MATERNO INFANTIL DR ANTONIO LISBOA  ...   \n",
       "2            354520  HOSPITAL E MATERNIDADE MUNICIPAL N S DO MONTE ...  ...   \n",
       "3            230440                HIAS HOSPITAL INFANTIL ALBERT SABIN  ...   \n",
       "4            355410               HOSPITAL REGIONAL DO VALE DO PARAIBA  ...   \n",
       "...             ...                                                ...  ...   \n",
       "2825165      291080                       HOSPITAL ESTADUAL DA CRIANCA  ...   \n",
       "2825166      261160                             HOSPITAL ILHA DO LEITE  ...   \n",
       "2825167      355030  HOSPITAL ESTADUAL DE VILA ALPINA ORG SOCIAL SE...  ...   \n",
       "2825168      420240                             HOSPITAL SANTO ANTONIO  ...   \n",
       "2825169      520870              SANTA CASA DE MISERICORDIA DE GOIANIA  ...   \n",
       "\n",
       "         RES_IGM RES_IGA ESTRANG  VACINA_COV  DOSE_1_COV DOSE_2_COV  \\\n",
       "0            NaN     NaN     NaN         NaN         NaN        NaN   \n",
       "1            NaN     NaN     NaN         NaN         NaN        NaN   \n",
       "2            NaN     NaN     NaN         NaN         NaN        NaN   \n",
       "3            NaN     NaN     NaN         NaN         NaN        NaN   \n",
       "4            NaN     NaN     NaN         NaN         NaN        NaN   \n",
       "...          ...     ...     ...         ...         ...        ...   \n",
       "2825165      NaN     NaN     2.0         2.0         NaN        NaN   \n",
       "2825166      NaN     NaN     NaN         9.0         NaN        NaN   \n",
       "2825167      NaN     NaN     2.0         2.0         NaN        NaN   \n",
       "2825168      NaN     NaN     2.0         2.0         NaN        NaN   \n",
       "2825169      NaN     NaN     2.0         2.0         NaN        NaN   \n",
       "\n",
       "         LAB_PR_COV  LOTE_1_COV LOTE_2_COV  FNT_IN_COV  \n",
       "0               NaN         NaN        NaN         NaN  \n",
       "1               NaN         NaN        NaN         NaN  \n",
       "2               NaN         NaN        NaN         NaN  \n",
       "3               NaN         NaN        NaN         NaN  \n",
       "4               NaN         NaN        NaN         NaN  \n",
       "...             ...         ...        ...         ...  \n",
       "2825165         NaN         NaN        NaN         2.0  \n",
       "2825166         NaN         NaN        NaN         1.0  \n",
       "2825167         NaN         NaN        NaN         2.0  \n",
       "2825168         NaN         NaN        NaN         2.0  \n",
       "2825169         NaN         NaN        NaN         2.0  \n",
       "\n",
       "[2825170 rows x 162 columns]"
      ]
     },
     "execution_count": 15,
     "metadata": {},
     "output_type": "execute_result"
    }
   ],
   "source": [
    "df = pd.concat([df_2020, df_2021]).reset_index(drop = True).copy()\n",
    "df"
   ]
  },
  {
   "cell_type": "code",
   "execution_count": 16,
   "id": "680d7220",
   "metadata": {},
   "outputs": [],
   "source": [
    "del df_2020, df_2021"
   ]
  },
  {
   "cell_type": "markdown",
   "id": "e2c8d6a6",
   "metadata": {},
   "source": [
    "### Campos de DATA\n",
    "As datas que serão consideradas na análise, juntamente com suas justificativas, são:\n",
    "* `DT_NOTIFIC` **Data da notificação** - Importante para determinarmos treino e teste;\n",
    "* `DT_SIN_PRI` **Data dos primeiros sintomas** - Utilizada para verificar em quanto tempo o paciente se recuperou ou em quanto tempo foi a óbito;\n",
    "* `DT_EVOLUCA` **Data da alta ou do óbito** - Utilizada para calcular em quanto tempo o paciente faleceu, ou em quanto tempo teve alta;\n",
    "* `DT_ENCERRA` **Data do encerramento da investigação** - Caso a data de óbito ou alta esteja vazia, DT_Encerra será utilizada;\n",
    "* `DT_ENTUTI` **Data da entrada na UTI** - Utilizada para calcular quanto tempo o paciente permaneceu na UTI;\n",
    "* `DT_SAIDUTI` **Data da saída da UTI** - Utilizada para calcular quanto tempo o paciente permaneceu na UTI.\n",
    "\n",
    "No caso das datas, os campos que NÃO serão considerados na a análise, juntamente com suas justificativas são:\n",
    "* `DT_DIGITA` **Data de inclusão do caso no sistema** - Não é necessário para a análise\n",
    "* `DT_NASC` **Data de nascimento** - Como já há um campo de idade (NU_IDADE_N), a data de nascimento não se faz necessária;\n",
    "* `DT_NOTIFIC` **Data da notificação** - O que nos interessa é a data dos primeiros sintomas (DT_SIN_PRI);\n",
    "* `DT_INTERNA` **Data da internação** - Temos uma variável \"UTI\" que já nos diz se o paciente foi internado ou não;\n",
    "* `DT_RAIOX` **Data do Raio X de Tórax** - A realização de um Raio X não é nem um sintoma e nem um agravante da doença, logo não é necessário para a análise;\n",
    "* `DT_COLETA` **Data da coleta da amostra para teste diagnóstico**  - Não faz diferença na análise;\n",
    "* `DT_ANTIVIR` **Data do início do tratamento com antiviral** - Temos uma variável que indica se foi feito tratamento com antiviral. A data não nos interessa;\n",
    "* `DT_PCR` **Data do resultado diagnóstico do PCR** - Não nos interessa qual diagnóstico foi utilizado;\n",
    "* `DT_UT_DOSE` **Data da última dose de vacina contra gripe que o paciente tomou.** - Como já há uma variável de vacina, a data da dose não nos interessa;\n",
    "* `DT_DOSEUNI` **Se >= 6 meses e <= 8 anos, data da dose única para crianças vacinadas em campanhas de anos anteriores** - Apenas nos interessa se foi vacinado e não a data. Há uma variável para isso;\n",
    "* `DT_1_DOSE` **Se >= 6 meses e <= 8 anos, data da 1ª dose para crianças vacinadas pela primeira vez** - Apenas nos interessa se foi vacinado e não a data. Há uma variável para isso;\n",
    "* `DT_2_DOSE` **Se >= 6 meses e <= 8 anos data da 2ª dose para crianças vacinadas pela primeira vez** - Apenas nos interessa se foi vacinado e não a data. Há uma variável para isso;\n",
    "* `DT_ANTIVIR` **Data em que foi iniciado o tratamento com o antiviral.** - Nos interessa se houve tratamento, não a data de início;\n",
    "* `DT_VGM` **Data em que foi realizada a viagem para o exterior** - Nos interessa apenas se houve viagem para o exterior, não a data;\n",
    "* `DT_RT_VGM` **Data em que retornou de viagem do exterior** - Nos interessa apenas se houve viagem para o exterior, não a data;\n",
    "* `DT_VAC_MAE` **Data da vacina da mãe** - Não nos interessa a data;\n",
    "* `DT_TOMO` **Se realizou tomografia, especificar a data do exame.** - Não nos interessa a data do exame e nem se fez o exame;\n",
    "* `DT_RES_AN` **Data do resultado do teste antigênico.** - A data do resultado não é útil para a análise;\n",
    "* `DT_CO_SOR` **Data da coleta do material para diagnóstico por Sorologia.** - A data da coleta não é útil para a análise;\n",
    "* `DT_RES` **Data do Resultado do Teste Sorológico** - A data não é útil para a análise;\n",
    "* `SEM_NOT` **Semana epidemiológica em que o caso foi notificado** - Não faz diferença para a análise;\n",
    "* `SEM_PRI` **Semana epidemiológica do início dos sintomas** - Não faz diferença para a análise."
   ]
  },
  {
   "cell_type": "code",
   "execution_count": 17,
   "id": "dba0c2e5",
   "metadata": {},
   "outputs": [
    {
     "data": {
      "text/plain": [
       "(6, 20)"
      ]
     },
     "execution_count": 17,
     "metadata": {},
     "output_type": "execute_result"
    }
   ],
   "source": [
    "datas = ['DT_NOTIFIC', 'DT_SIN_PRI', 'DT_EVOLUCA', 'DT_ENCERRA', 'DT_ENTUTI', 'DT_SAIDUTI']\n",
    "\n",
    "datas_drop = ['DT_DIGITA', 'DT_NASC', 'DT_INTERNA', 'DT_RAIOX', 'DT_COLETA', 'DT_ANTIVIR', 'DT_PCR', \n",
    "              'DT_UT_DOSE', 'DT_DOSEUNI', 'DT_1_DOSE', 'DT_2_DOSE', 'DT_ANTIVIR', 'DT_VGM', 'DT_RT_VGM', 'DT_TOMO',\n",
    "              'DT_RES_AN', 'DT_CO_SOR', 'DT_RES', 'SEM_NOT', 'SEM_PRI']\n",
    "\n",
    "len(datas), len(datas_drop)"
   ]
  },
  {
   "cell_type": "markdown",
   "id": "4e711fc4",
   "metadata": {},
   "source": [
    "### Campos de SINTOMAS\n",
    "Os sintomas que serão considerados na análise serão os principais, sinalizados como sim ou não no BD, eles são:\n",
    "* `FEBRE`\n",
    "* `TOSSE`\n",
    "* `DISPNEIA`\n",
    "* `DIARREIA`\n",
    "* `VOMITO`\n",
    "* `GARGANTA` **Dor de garganta**\n",
    "* `DESC_RESP` **Desconforto respiratório**\n",
    "* `SATURACAO` **Saturação de oxigênio abaixo de 95%**\n",
    "* `DOR_ABD` **Dor abdominal**\n",
    "* `FADIGA`\n",
    "* `PERD_OLFT` **Perda olfativa**\n",
    "* `PERD_PALA` **Perda de paladar**\n",
    "\n",
    "\n",
    "Os sintomas que não serão considerados são os descritos como \"Outros\", já que devem ser especificados manualmente pelo médico responsável, eles são:\n",
    "* `OUTRO_SIN` **Se o paciente possui outros sintomas**\n",
    "* `OUTRO_DES` **Descrição dos outros sintomas (escrito manualmente)**\n",
    "\n",
    "\n",
    "É possível observar que não há mais MIALGIA e adicionaram-se alguns outros sintomas"
   ]
  },
  {
   "cell_type": "code",
   "execution_count": 18,
   "id": "7cdfaaf0",
   "metadata": {},
   "outputs": [
    {
     "data": {
      "text/plain": [
       "(12, 2)"
      ]
     },
     "execution_count": 18,
     "metadata": {},
     "output_type": "execute_result"
    }
   ],
   "source": [
    "sintomas = ['FEBRE', 'TOSSE', 'DISPNEIA', 'DIARREIA', 'VOMITO', 'GARGANTA', 'DESC_RESP', 'SATURACAO', 'DOR_ABD', \n",
    "            'FADIGA', 'PERD_OLFT', 'PERD_PALA']\n",
    "sintomas_drop = ['OUTRO_DES', 'OUTRO_SIN']\n",
    "\n",
    "len(sintomas), len(sintomas_drop)"
   ]
  },
  {
   "cell_type": "markdown",
   "id": "507e1e3c",
   "metadata": {},
   "source": [
    "### Campos de FATORES DE RISCO\n",
    "Análogo aos sintomas, serão considerados todos os fatores de risco exceto os \"Outros\", eles são:\n",
    "\n",
    "* `HEMATOLOGI` **Condição hematológica** - As doenças hematológicas são aquelas que comprometem a produção dos componentes do sangue, como as hemácias (glóbulos vermelhos), os leucócitos (glóbulos brancos) e as plaquetas, geradas na medula óssea. Essas complicações variam entre anemias, linfomas, leucemias e mielomas, podendo ser benignas ou malignas. [Fonte](https://www.h9j.com.br/pt/sobre-nos/blog/doencas-hematologicas-e-seus-principais-tratamentos)\n",
    "* `CARDIOPATI` **Cardiopatia crônica associada**\n",
    "* `ASMA` **Paciente com asma crônica**\n",
    "* `DIABETES` **Paciente com diabetes**\n",
    "* `PNEUMOPATI` **Pneumopatia crônica associada**\n",
    "* `RENAL` **Doença renal crônica associada**\n",
    "* `IMUNODEPRE` **Imunodepressão associada**\n",
    "* `METABOLICA` **Doença metabólica crônica associada**\n",
    "* `HEPATICA` **Doença hepática crônica associada**\n",
    "* `NEUROLOGIC` **Doença neurológica crônica associada**\n",
    "* `OBESIDADE` **Obesidade**\n",
    "* `PUERPERA` **Mulher puérpera** - Que acabou de dar a luz\n",
    "* `SIND_DOWN` **Síndrome de down**\n",
    "* `OUT_MORBI` **Se o paciente possui outras morbidades**\n",
    "\n",
    "Não serão considerados:\n",
    "* `FATOR_RISC` **Paciente apresenta algum fator de risco** - Variável redundante\n",
    "* `MORB_DESC` **Descrição das outras morbidades**\n",
    "* `OBES_IMC` **IMC do paciente obeso** - Foi removido no banco de 2013 por ter muitos valores faltantes."
   ]
  },
  {
   "cell_type": "code",
   "execution_count": 19,
   "id": "fb9eac91",
   "metadata": {},
   "outputs": [
    {
     "data": {
      "text/plain": [
       "(12, 4)"
      ]
     },
     "execution_count": 19,
     "metadata": {},
     "output_type": "execute_result"
    }
   ],
   "source": [
    "morbidades = ['HEMATOLOGI', 'CARDIOPATI', 'ASMA', 'DIABETES', 'PNEUMOPATI', 'RENAL', 'IMUNODEPRE', \n",
    "              'HEPATICA', 'NEUROLOGIC', 'OBESIDADE', 'PUERPERA', 'SIND_DOWN']\n",
    "\n",
    "morbi_drop = ['MORB_DESC', 'OBES_IMC', 'OUT_MORBI', 'FATOR_RISC']\n",
    "\n",
    "len(morbidades), len(morbi_drop)"
   ]
  },
  {
   "cell_type": "markdown",
   "id": "fb81cc62",
   "metadata": {},
   "source": [
    "### Campos DEMOGRÁFICOS\n",
    "Dos campos demográficos, serão considerados:\n",
    "* `SG_UF_NOT` **Código UF da unidade de saúde** - Podemos verificar qual UF possui mais casos e se há alguma correlação com os casos de SRAG. Não irei utilizar UF do paciente pois nem sempre indica a localização da pessoa;\n",
    "* `NU_IDADE_N` **Idade do paciente** - Verificar se há correlação entre idade e óbito;\n",
    "* `TP_IDADE` **Indica se a idade é em dias, meses ou anos**\n",
    "* `CS_SEXO` **Sexo do paciente** - Verificar se há alguma predisposição relacionada ao sexo do paciente;\n",
    "* `CS_GESTANT` **Idade gestacional do paciente** - Verificar se há correlação entre tempo de gravidez e óbito;\n",
    "* `CS_RACA` **Raça do paciente** - Verificar se há diferença de raça nos óbitos de SRAG;\n",
    "* `M_AMAMENTA` **Se paciente < 6 meses, a mãe amamenta a criança?** - Verificar se o leite materno ajuda com a SRAG;\n",
    "* `MAE_VAC`\t**Se paciente < 6 meses, a mãe recebeu vacina?** - Vacina na mãe faz diferença?\n",
    "* `VACINA` **Paciente foi vacinado contra gripe** - Verificar se a vacina da gripe ajuda a evitar óbitos no caso da SRAG.\n",
    "\n",
    "Os que não serão considerados são:\n",
    "* `ID_REGIONA` **Regional de Saúde onde está localizado o Município realizou a notificação.** - Não contribui para a análise;\n",
    "* `CO_REGIONA` **Regional de Saúde onde está localizado o Município realizou a notificação.** - Não contribui para a análise;\n",
    "* `CO_MUN_NOT` **Município onde está localizada a Unidade Sentinela que realizou a notificação.** - Não contribui para a análise;\n",
    "* `ID_UNIDADE` **Unidade Sentinela que realizou o atendimento, coleta de amostra e registro do caso.** - Não contribui para a análise;\n",
    "* `CO_UNI_NOT` **Unidade Sentinela que realizou o atendimento, coleta de amostra e registro do caso.** - Não contribui para a análise;\n",
    "* `CS_ETINIA` **Etnia do paciente quando indigena** - Não vou avaliar etnia indígena\n",
    "* `CS_ESCOL_N` **Escolaridade do paciente** - Não contribui para a análise. Não irei analisar escolaridade;\n",
    "* `ID_PAIS` **País de residência do paciente** - Não contribui para a análise;\n",
    "* `CO_PAIS` **País de residência do paciente** - Não contribui para a análise;\n",
    "* `ID_RG_RESI` **Regional de Saúde onde está localizado o Município de residência do paciente.** - Não contribui para a análise. Já temos o código da UF da unidade de saúde;\n",
    "* `CO_RG_RESI` **Regional de Saúde onde está localizado o Município de residência do paciente.** - Não contribui para a análise;\n",
    "* `CO_MUN_RES` **Município de residência do paciente.** - Não contribui para a análise;\n",
    "* `CS_ZONA` **Zona geográfica do endereço de residência do paciente.** - Não contribui para a análise;\n",
    "* `SG_UF_INTE` **Unidade Federativa de internação do paciente.** - Não contribui para a análise;\n",
    "* `ID_RG_INTE` **Unidade Federativa de internação do paciente.** - Não contribui para a análise;\n",
    "* `CO_RG_INTE` **Unidade Federativa de internação do paciente.** - Não contribui para a análise;\n",
    "* `ID_MN_INTE` **Município onde está localizado a Unidade de Saúde onde o paciente internou.** - Não contribui para a análise;\n",
    "* `CO_MU_INTE` **Código do município de internação** - Vou utilizar apenas a UF da notificação;\n",
    "* `OUT_ANIM` **Informar o animal que o paciente teve contato se selecionado a opção 3.** - Não contribui para a análise;\n",
    "* `PAC_COCBO` **Ocupação profissional do paciente** - Não contribui para a análise;\n",
    "* `PAC_DSCBO` **Ocupação profissional do paciente** - Não contribui para a análise;\n",
    "* `ID_MUNICIP` **Código do município da unidade de saúde que realizou a notificação** - Vou abordar apenas UF e não município; \n",
    "* `SG_UF` **Código da UF do paciente** - Como mencionado acima, nem sempre a UF do paciente indica sua localização. Na análise, focarei na localização;\n",
    "* `ID_MN_RESI` **Código do município de residência do caso notificado** - Vou abordar apenas UF e não município;"
   ]
  },
  {
   "cell_type": "code",
   "execution_count": 20,
   "id": "0e652d40",
   "metadata": {},
   "outputs": [
    {
     "data": {
      "text/plain": [
       "(9, 24)"
      ]
     },
     "execution_count": 20,
     "metadata": {},
     "output_type": "execute_result"
    }
   ],
   "source": [
    "demograficos = ['SG_UF_NOT', 'NU_IDADE_N', 'TP_IDADE', 'CS_SEXO', 'CS_GESTANT', 'CS_RACA', 'M_AMAMENTA', 'MAE_VAC', 'VACINA']\n",
    "\n",
    "demog_drop = ['ID_REGIONA', 'CO_REGIONA', 'CO_MUN_NOT', 'ID_UNIDADE', 'CO_UNI_NOT', 'CS_ETINIA', 'CS_ESCOL_N', 'ID_PAIS', \n",
    "             'CO_PAIS', 'ID_RG_RESI', 'CO_RG_RESI', 'CO_MUN_RES', 'CS_ZONA', 'SG_UF_INTE', 'ID_RG_INTE', 'CO_RG_INTE',\n",
    "             'ID_MN_INTE', 'CO_MU_INTE', 'OUT_ANIM', 'PAC_COCBO', 'PAC_DSCBO', 'ID_MUNICIP', 'SG_UF', 'ID_MN_RESI']\n",
    "\n",
    "len(demograficos), len(demog_drop)"
   ]
  },
  {
   "cell_type": "markdown",
   "id": "f9a351c6",
   "metadata": {},
   "source": [
    "### Campos de DOENÇA e DIAGNÓSTICO\n",
    "Dos campos de doença e diagnóstico, serão utilizados:\n",
    "* `EVOLUCAO` **Evolução do caso** - VARIÁVEL RESPOSTA! Indica se o paciente faleceu ou não;\n",
    "* `CLASSI_FIN`**Diagnóstico final do caso suspeito** - Poderia ser utilizada para entender qual SRAG mais mata;\n",
    "* `ANTIVIRAL` **Fez uso de antiviral para tratamento da doença** - Indica se o paciente utilizou antiviral para tratar a SRAG;\n",
    "* `SUPORT_VEN` **Fez uso de suporte ventilatório** - Indica se o paciente fez;\n",
    "* `UTI` **Internação em UTI** - Se o paciente foi internado em UTI;\n",
    "* `HISTO_VGM` **Paciente tem histórico de viagem internacional até 14 dias antes do início dos sintomas?** - Bom para identificar se viagens são transmissores de vírus;\n",
    "* `POS_PCRFLU` **Resultado da RT-PCR foi positivo para Influenza** - Indica se a pessoa teve Influenza;\n",
    "* `TP_FLU_PCR` **Resultado diagnóstico do RT-PCR para o tipo de Influenza.** - Indica se o paciente teve influenza A ou B\n",
    "* `POS_PCROUT`\t**Resultado da RT-PCR foi positivo para outro vírus respiratório** - Que não sejam os testados abaixo;\n",
    "* `PCR_VSR` **Resultado do diagnóstico para VSR** - Indica se o paciente teve vírus sincicial respiratório;\n",
    "* `PCR_PARA1` **Diagnóstico Parainfluenza 1** - Indica se a pessoa teve Parainfluenza 1;\n",
    "* `PCR_PARA2` **Diagnóstico Parainfluenza 2** - Indica se a pessoa teve Parainfluenza 2;\n",
    "* `PCR_PARA3` **Diagnóstico Parainfluenza 3** - Indica se a pessoa teve Parainfluenza 3;\n",
    "* `PCR_PARA4` **Diagnóstico Parainfluenza 4** - Indica se a pessoa teve Parainfluenza 4;\n",
    "* `PCR_ADENO` **Resultado diagnóstico para Adenovirus** - Indica se a pessoa teve Adenovirus;\n",
    "* `PCR_METAP` **Resultado diagnóstico do RT-PCR para Metapneumovírus.** - Indica se a pessoa teve Metapneumovírus;\n",
    "* `PCR_BOCA` **Resultado diagnóstico do RT-PCR para Bocavírus.** - Indica se a pessoa teve Bocavírus;\n",
    "* `PCR_RINO` **Resultado diagnóstico do RT-PCR para Rinovírus.** - Indica se a pessoa teve Rinovírus;\n",
    "* `PCR_SARS2` **Resultado diagnóstico do RT-PCR para (SARS-CoV-2)** - Identifica se o paciente teve COVID-19;\n",
    "* `RES_AN` **Resultado do Teste Antigênico** - Alternativa para identificação de COVID-19;\n",
    "* `POS_AN_FLU` **Resultado do Teste Antigênico que foi positivo para Influenza** - Alternativa para identificação de Influenza;\n",
    "* `TP_FLU_AN` **Resultado do Teste Antigênico, para o tipo de Influenza** - Alternativa para identificação do tipo de Influenza\n",
    "* `POS_AN_OUT` **Resultado do Teste Antigênico, que foi positivo para outro vírus respiratório** - Alternativa para identificação de outro vírus respiratório;\n",
    "* `AN_SARS2` **Resultado do Teste Antigênico, para SARS-CoV-2** - Alternativa para identificação de COVID-19;\n",
    "* `AN_VSR` **Resultado do Teste Antigênico, para VSR** - Alternativa para identificação de VSR;\n",
    "* `AN_PARA1` **Resultado do Teste Antigênico, para Parainfluenza 1** - Alternativa para identificação de Parainfluenza 1;\n",
    "* `AN_PARA2` **Resultado do Teste Antigênico, para Parainfluenza 2** - Alternativa para identificação de Parainfluenza 2;\n",
    "* `AN_PARA3` **Resultado do Teste Antigênico, para Parainfluenza 3** - Alternativa para identificação de Parainfluenza 3;\n",
    "* `AN_ADENO` **Resultado do Teste Antigênico para Adenovírus** - Alternativa para identificação de Adenovírus;\n",
    "* `AN_OUTRO` **Resultado do Teste Antigênico Outro vírus respiratório** - Alternativa para identificação de outro vírus respiratório;\n",
    "* `RES_IGG` **Resultado da Sorologia para SARS-CoV-2** - Alternativa para identificação de COVID-19;\n",
    "* `RES_IGM` **Resultado da Sorologia para SARS-CoV-2** - Alternativa para identificação de COVID-19;\n",
    "* `RES_IGA` **Resultado da Sorologia para SARS-CoV-2** - Alternativa para identificação de COVID-19;\n",
    "\n",
    "Os que não serão considerados são:\n",
    "* `TP_ANTIVIR` **Tipo do antiviral** - Nos interessa apenas se o paciente fez ou não uso de antiviral;\n",
    "* `OUT_ANTIV` **Antiviral além de Oseltamivir ou Zanamivir** - Nos interessa apenas se fez ou não uso de antiviral;\n",
    "* `HOSPITAL` **Se o paciente foi hospitalizado em decorrência da influenza** - O que nos interessa é UTI, que já tem uma variável;\n",
    "* `RAIOX_RES` **Se foi realizado um Raio X de Tórax** - Não faz diferença para a análise;\n",
    "* `RAIOX_OUT` **Se o resultado do RX de tórax for igual a 5 (Outro)** - Não faz diferença para a análise;\n",
    "* `AMOSTRA` **Coletou amostra clínica do paciente para diagnóstico laboratorial** - Interessa o diagnóstico apenas;\n",
    "* `TP_AMOSTRA` **Tipo da amostra clínica coletada para o teste diagnóstico** - Nos interessa apenas o diagnóstico;\n",
    "* `OUT_AMOST` **Descrição do tipo da amostra clínica** - Não faz diferença para a análise;\n",
    "* `PCR_RESUL` **Resultado do teste de RT-PCR/outro método por Biologia Molecular** - Temos outras variáveis para identificar a doença;\n",
    "* `AVE_SUINO` **Caso com contato direto com aves ou suínos** - Aparentemente aves e suínos podem causar problemas respiratórios, porém não é relevante para a análise;\n",
    "* `SURTO_SG` **Caso proveniente de surto de síndrome gripal (SG)** - SG pré-aguda\n",
    "* `PCR_FLUASU` **Subtipo para Influenza A.** - Não vou entrar no nível de detalhe dos tipos de Influenza;\n",
    "* `FLUASU_OUT` **Outro subtipo para Influenza A.** - Não vou entrar no nível de detalhe dos tipos de Influenza;\n",
    "* `PCR_FLUBLI` **Linhagem para Influenza B** - Não vou entrar no nível de detalhe dos tipos de Influenza;\n",
    "* `FLUBLI_OUT` **Outra linhagem para Influenza B.** - Não vou entrar no nível de detalhe dos tipos de Influenza;\n",
    "* `PCR_OUTRO` **Resultado diagnóstico do RT-PCR para Outro vírus respiratório.**\n",
    "* `DS_PCR_OUT` **Nome do outro vírus respiratório identificado pelo RT-PCR.**\n",
    "* `CLASSI_OUT` **Diagnóstico final do caso suspeito por outro agente etiológico** - Pode ser utilizado para identificar qual a doença, mas é um campo de escrita livre;\n",
    "* `CRITERIO` **Critério de confirmação do diagnóstico** - Basta apenas o diagnóstico e não o critério de confirmação;\n",
    "* `PAIS_VGM` **País onde foi realizada a viagem** - Campo majoritariamente vazio, não faz diferença na análise nessas condições;\n",
    "* `CO_PS_VGM` **País onde foi realizada a viagem** - Campo majoritariamente vazio, não faz diferença na análise nessas condições;\n",
    "* `NOSOCOMIAL` **Caso de SRAG com infecção adquirida após internação.** - SRAG é SRAG, vindo do hospital ou não;\n",
    "* `LO_PS_VGM` **Local (cidade, estado, província e outros) onde foi realizada a viagem** - Campo majoritariamente vazio, não faz diferença na análise nessas condições;\n",
    "* `TOMO_RES` **Resultado da tomografia** - Nos interessa o diagnóstico final;\n",
    "* `TOMO_OUT` **Informar o resultado da tomografia** - Campo majoritariamente vazio;\n",
    "* `TP_TES_AN` **Tipo do teste antigênico que foi realizado** - O tipo do teste não nos interessa;\n",
    "* `DS_AN_OUT` **Nome do outro vírus respiratório identificado pelo Teste Antigênico** - Campo de escrita livre;\n",
    "* `TP_AM_SOR` **Tipo de amostra sorológica que foi coletada** - O tipo da amostra não faz diferença;\n",
    "* `SOR_OUT` **Descrição do tipo da amostra clínica, caso diferente das listadas na categoria um (1) do campo** - Não nos interessa;\n",
    "* `TP_SOR` **Tipo do Teste Sorológico que foi realizado** - Não nos interessa;\n",
    "* `OUT_SOR` **Descrição do tipo de Teste Sorológico** - Não nos interessa."
   ]
  },
  {
   "cell_type": "code",
   "execution_count": 21,
   "id": "5000b41e",
   "metadata": {},
   "outputs": [
    {
     "data": {
      "text/plain": [
       "(33, 31)"
      ]
     },
     "execution_count": 21,
     "metadata": {},
     "output_type": "execute_result"
    }
   ],
   "source": [
    "doediag = ['EVOLUCAO', 'CLASSI_FIN', 'ANTIVIRAL', 'SUPORT_VEN', 'UTI', 'HISTO_VGM', \n",
    "           'POS_PCRFLU', 'TP_FLU_PCR', 'POS_PCROUT', 'PCR_VSR', 'PCR_PARA1', 'PCR_PARA2', 'PCR_PARA3', 'PCR_PARA4', 'PCR_ADENO',\n",
    "           'PCR_METAP', 'PCR_BOCA', 'PCR_RINO', 'PCR_SARS2', 'RES_AN', 'POS_AN_FLU', 'TP_FLU_AN', 'POS_AN_OUT', 'AN_SARS2',\n",
    "           'AN_VSR', 'AN_PARA1', 'AN_PARA2', 'AN_PARA3', 'AN_ADENO', 'AN_OUTRO', 'RES_IGG', 'RES_IGM', 'RES_IGA']\n",
    "\n",
    "doediag_drop = ['TP_ANTIVIR', 'OUT_ANTIV', 'AVE_SUINO', 'NOSOCOMIAL', 'SURTO_SG', 'HOSPITAL', 'RAIOX_RES', 'RAIOX_OUT', 'AMOSTRA', 'TP_AMOSTRA', 'OUT_AMOST', \n",
    "                'PCR_RESUL', 'PCR_FLUASU', 'FLUASU_OUT', 'PCR_FLUBLI', 'FLUBLI_OUT', 'PCR_OUTRO', 'DS_PCR_OUT', 'CLASSI_OUT', \n",
    "                'CRITERIO', 'PAIS_VGM', 'CO_PS_VGM', 'LO_PS_VGM', 'TOMO_RES', 'TOMO_OUT', 'TP_TES_AN', 'DS_AN_OUT', \n",
    "                'TP_AM_SOR', 'SOR_OUT', 'TP_SOR', 'OUT_SOR']\n",
    "\n",
    "len(doediag), len(doediag_drop)"
   ]
  },
  {
   "cell_type": "markdown",
   "id": "fdf81840",
   "metadata": {},
   "source": [
    "### Variáveis exclusivas 2021\n",
    "\n",
    "Sabemos que a vacinação tem uma forte eficácia contra a COVID, portanto, a informação se o paciente vacinou ou não é muito importante para identificar o que causa o óbito de um paciente vítima de SRAG\n",
    "\n",
    "As colunas que serão utilizadas são:\n",
    "* `VACINA_COV` **Informa se o paciente tomou a vacina contra a COVID-19**\n",
    "* `DOSE_1_COV` **Traz a data da 1a dose, caso o paciente tenha sido vacinado** - Como temos vacinas diferentes com eficácias diferentes de 1a e 2a dose e uma vacina de dose única, vou apenas utilizar os campos de dose para complementar o campo de vacinação;\n",
    "* `DOSE_2_COV` **Traz a data da 2a dose, caso o paciente tenha sido vacinado** - Como temos vacinas diferentes com eficácias diferentes de 1a e 2a dose e uma vacina de dose única, vou apenas utilizar os campos de dose para complementar o campo de vacinação;\n",
    "\n",
    "As colunas que NÃO serão utilizadas são:\n",
    "* `ESTRANG` **Paciente é ou não estrangeiro** - Não é útil para a análise saber se o paciente é estrangeiro;\n",
    "* `LAB_PR_COV` **Laboratório produtor da vacina contra covid-19** - Seria um campo interessante de analisar se não fosse escrita livre. Há muitos erros de digitação e variações, não há como utilizar como está;\n",
    "* `LOTE_1_COV` **Lote da 1a dose da vacina contra covid-19** - Não nos interessa o lote da vacina;\n",
    "* `LOTE_2_COV` **Lote da 2a dose da vacina contra covid-19** - Não nos interessa o lote da vacina;\n",
    "* `FNT_IN_COV` **Campo interno do SUS**"
   ]
  },
  {
   "cell_type": "code",
   "execution_count": 22,
   "id": "45d9fffd",
   "metadata": {},
   "outputs": [
    {
     "data": {
      "text/plain": [
       "(2825170, 162)"
      ]
     },
     "execution_count": 22,
     "metadata": {},
     "output_type": "execute_result"
    }
   ],
   "source": [
    "df.shape"
   ]
  },
  {
   "cell_type": "markdown",
   "id": "e78931c1",
   "metadata": {},
   "source": [
    "## Função para tratamento de variável cujo NaN não é trivial"
   ]
  },
  {
   "cell_type": "code",
   "execution_count": 23,
   "id": "3cbda71c",
   "metadata": {},
   "outputs": [],
   "source": [
    "def trat_nan_nove(variavel, nova_variavel):\n",
    "\n",
    "    df[nova_variavel] = 'Nulo'\n",
    "\n",
    "    df.loc[df[variavel] == 1, nova_variavel] = 'Sim'\n",
    "    df.loc[df[variavel] == 2, nova_variavel] = 'Nao'\n",
    "    df.loc[df[variavel] == 9, nova_variavel] = 'Ignorado'"
   ]
  },
  {
   "cell_type": "markdown",
   "id": "1bfceab4",
   "metadata": {},
   "source": [
    "### Evolução (variável resposta)\n",
    "\n",
    "A variável resposta é o que nos indica se o paciente faleceu, categoria 1, que queremos descobrir, ou se teve alta, categoria 0. Entretanto, na documentação do SUS, há 3 possibilidades para este campo: \n",
    "\n",
    "* 1 - Cura\n",
    "* 2 - Óbito por SRAG\n",
    "* 3 - Óbito por outras causas\n",
    "* 9 - Ignorado\n",
    "\n",
    "O valor 9 e os NaN precisam ser eliminados da base já que não há como determinar se o paciente foi a óbito ou não. A variável DT_EVOLUCA poderia ser utilizada se indicasse APENAS óbito, mas indica também data da alta, o que deixa o tratamento ambíguo.\n",
    "\n",
    "A categoria 3 também merece atenção, uma vez que relata o óbito por outras causas que não SRAG. Não são muitos casos, apenas 1,2% da base, porém é importante saber o que fazer com ela. Neste caso, vou eliminar a categoria 3 também."
   ]
  },
  {
   "cell_type": "code",
   "execution_count": 24,
   "id": "7046c53f",
   "metadata": {},
   "outputs": [
    {
     "data": {
      "text/plain": [
       "1.0    1656801\n",
       "2.0     720984\n",
       "NaN     339446\n",
       "9.0      74930\n",
       "3.0      33009\n",
       "Name: EVOLUCAO, dtype: int64"
      ]
     },
     "execution_count": 24,
     "metadata": {},
     "output_type": "execute_result"
    }
   ],
   "source": [
    "df['EVOLUCAO'].value_counts(dropna=False)"
   ]
  },
  {
   "cell_type": "code",
   "execution_count": 25,
   "id": "3603447c",
   "metadata": {},
   "outputs": [
    {
     "data": {
      "text/plain": [
       "1.0    0.586443\n",
       "2.0    0.255200\n",
       "NaN    0.120151\n",
       "9.0    0.026522\n",
       "3.0    0.011684\n",
       "Name: EVOLUCAO, dtype: float64"
      ]
     },
     "execution_count": 25,
     "metadata": {},
     "output_type": "execute_result"
    }
   ],
   "source": [
    "df['EVOLUCAO'].value_counts(dropna=False, normalize=True)"
   ]
  },
  {
   "cell_type": "code",
   "execution_count": 26,
   "id": "24422e35",
   "metadata": {},
   "outputs": [],
   "source": [
    "df = df[(df['EVOLUCAO'].notna()) & (df['EVOLUCAO'] != 9) & (df['EVOLUCAO'] != 3)]\n",
    "\n",
    "df = (\n",
    "    df.assign\n",
    "    (\n",
    "        EVOLUCAO = np.where(df.EVOLUCAO == 1, 0, 1),\n",
    "    )\n",
    ").reset_index(drop=True)"
   ]
  },
  {
   "cell_type": "code",
   "execution_count": 27,
   "id": "5b1ba98f",
   "metadata": {},
   "outputs": [
    {
     "data": {
      "text/plain": [
       "0    1656801\n",
       "1     720984\n",
       "Name: EVOLUCAO, dtype: int64"
      ]
     },
     "execution_count": 27,
     "metadata": {},
     "output_type": "execute_result"
    }
   ],
   "source": [
    "df.EVOLUCAO.value_counts(dropna=False)"
   ]
  },
  {
   "cell_type": "code",
   "execution_count": 28,
   "id": "b752ece4",
   "metadata": {},
   "outputs": [
    {
     "data": {
      "text/plain": [
       "0    0.696783\n",
       "1    0.303217\n",
       "Name: EVOLUCAO, dtype: float64"
      ]
     },
     "execution_count": 28,
     "metadata": {},
     "output_type": "execute_result"
    }
   ],
   "source": [
    "df.EVOLUCAO.value_counts(dropna=False, normalize=True)"
   ]
  },
  {
   "cell_type": "code",
   "execution_count": 29,
   "id": "8e9965d4",
   "metadata": {},
   "outputs": [],
   "source": [
    "doediag_finais = ['EVOLUCAO']"
   ]
  },
  {
   "cell_type": "markdown",
   "id": "77d11d7b",
   "metadata": {},
   "source": [
    "### Variáveis de data\n",
    "Para utilizar as datas, é necessário transformá-las em uma diferença de datas na escala de dias. Por exemplo: DT_OBITO deve ser subtraída de DT_SIN_PRI para entendermos quanto tempo o paciente ficou sendo observado"
   ]
  },
  {
   "cell_type": "code",
   "execution_count": 32,
   "id": "be9ec983",
   "metadata": {},
   "outputs": [
    {
     "data": {
      "text/plain": [
       "['DT_NOTIFIC',\n",
       " 'DT_SIN_PRI',\n",
       " 'DT_EVOLUCA',\n",
       " 'DT_ENCERRA',\n",
       " 'DT_ENTUTI',\n",
       " 'DT_SAIDUTI']"
      ]
     },
     "execution_count": 32,
     "metadata": {},
     "output_type": "execute_result"
    }
   ],
   "source": [
    "datas"
   ]
  },
  {
   "cell_type": "code",
   "execution_count": 33,
   "id": "0b933166",
   "metadata": {},
   "outputs": [
    {
     "data": {
      "text/html": [
       "<div>\n",
       "<style scoped>\n",
       "    .dataframe tbody tr th:only-of-type {\n",
       "        vertical-align: middle;\n",
       "    }\n",
       "\n",
       "    .dataframe tbody tr th {\n",
       "        vertical-align: top;\n",
       "    }\n",
       "\n",
       "    .dataframe thead th {\n",
       "        text-align: right;\n",
       "    }\n",
       "</style>\n",
       "<table border=\"1\" class=\"dataframe\">\n",
       "  <thead>\n",
       "    <tr style=\"text-align: right;\">\n",
       "      <th></th>\n",
       "      <th>DT_NOTIFIC</th>\n",
       "      <th>DT_SIN_PRI</th>\n",
       "      <th>DT_EVOLUCA</th>\n",
       "      <th>DT_ENCERRA</th>\n",
       "      <th>DT_ENTUTI</th>\n",
       "      <th>DT_SAIDUTI</th>\n",
       "    </tr>\n",
       "  </thead>\n",
       "  <tbody>\n",
       "    <tr>\n",
       "      <th>0</th>\n",
       "      <td>10/01/2020</td>\n",
       "      <td>07/01/2020</td>\n",
       "      <td>12/01/2020</td>\n",
       "      <td>17/01/2020</td>\n",
       "      <td>NaN</td>\n",
       "      <td>NaN</td>\n",
       "    </tr>\n",
       "    <tr>\n",
       "      <th>1</th>\n",
       "      <td>07/01/2020</td>\n",
       "      <td>03/01/2020</td>\n",
       "      <td>08/01/2020</td>\n",
       "      <td>09/01/2020</td>\n",
       "      <td>NaN</td>\n",
       "      <td>NaN</td>\n",
       "    </tr>\n",
       "    <tr>\n",
       "      <th>2</th>\n",
       "      <td>27/01/2020</td>\n",
       "      <td>26/01/2020</td>\n",
       "      <td>NaN</td>\n",
       "      <td>06/02/2020</td>\n",
       "      <td>NaN</td>\n",
       "      <td>NaN</td>\n",
       "    </tr>\n",
       "    <tr>\n",
       "      <th>3</th>\n",
       "      <td>13/02/2020</td>\n",
       "      <td>08/02/2020</td>\n",
       "      <td>13/02/2020</td>\n",
       "      <td>19/02/2020</td>\n",
       "      <td>12/02/2020</td>\n",
       "      <td>NaN</td>\n",
       "    </tr>\n",
       "    <tr>\n",
       "      <th>4</th>\n",
       "      <td>26/02/2020</td>\n",
       "      <td>24/02/2020</td>\n",
       "      <td>NaN</td>\n",
       "      <td>02/03/2020</td>\n",
       "      <td>NaN</td>\n",
       "      <td>NaN</td>\n",
       "    </tr>\n",
       "    <tr>\n",
       "      <th>...</th>\n",
       "      <td>...</td>\n",
       "      <td>...</td>\n",
       "      <td>...</td>\n",
       "      <td>...</td>\n",
       "      <td>...</td>\n",
       "      <td>...</td>\n",
       "    </tr>\n",
       "    <tr>\n",
       "      <th>2261579</th>\n",
       "      <td>30/09/2021</td>\n",
       "      <td>05/07/2021</td>\n",
       "      <td>28/07/2021</td>\n",
       "      <td>30/09/2021</td>\n",
       "      <td>NaN</td>\n",
       "      <td>NaN</td>\n",
       "    </tr>\n",
       "    <tr>\n",
       "      <th>2261580</th>\n",
       "      <td>24/09/2021</td>\n",
       "      <td>20/09/2021</td>\n",
       "      <td>28/09/2021</td>\n",
       "      <td>30/09/2021</td>\n",
       "      <td>NaN</td>\n",
       "      <td>NaN</td>\n",
       "    </tr>\n",
       "    <tr>\n",
       "      <th>2261581</th>\n",
       "      <td>25/09/2021</td>\n",
       "      <td>23/09/2021</td>\n",
       "      <td>26/09/2021</td>\n",
       "      <td>28/09/2021</td>\n",
       "      <td>NaN</td>\n",
       "      <td>NaN</td>\n",
       "    </tr>\n",
       "    <tr>\n",
       "      <th>2261582</th>\n",
       "      <td>09/05/2021</td>\n",
       "      <td>03/05/2021</td>\n",
       "      <td>16/05/2021</td>\n",
       "      <td>29/09/2021</td>\n",
       "      <td>NaN</td>\n",
       "      <td>NaN</td>\n",
       "    </tr>\n",
       "    <tr>\n",
       "      <th>2261583</th>\n",
       "      <td>26/09/2021</td>\n",
       "      <td>26/09/2021</td>\n",
       "      <td>30/09/2021</td>\n",
       "      <td>01/10/2021</td>\n",
       "      <td>NaN</td>\n",
       "      <td>NaN</td>\n",
       "    </tr>\n",
       "  </tbody>\n",
       "</table>\n",
       "<p>2261584 rows × 6 columns</p>\n",
       "</div>"
      ],
      "text/plain": [
       "         DT_NOTIFIC  DT_SIN_PRI  DT_EVOLUCA  DT_ENCERRA   DT_ENTUTI DT_SAIDUTI\n",
       "0        10/01/2020  07/01/2020  12/01/2020  17/01/2020         NaN        NaN\n",
       "1        07/01/2020  03/01/2020  08/01/2020  09/01/2020         NaN        NaN\n",
       "2        27/01/2020  26/01/2020         NaN  06/02/2020         NaN        NaN\n",
       "3        13/02/2020  08/02/2020  13/02/2020  19/02/2020  12/02/2020        NaN\n",
       "4        26/02/2020  24/02/2020         NaN  02/03/2020         NaN        NaN\n",
       "...             ...         ...         ...         ...         ...        ...\n",
       "2261579  30/09/2021  05/07/2021  28/07/2021  30/09/2021         NaN        NaN\n",
       "2261580  24/09/2021  20/09/2021  28/09/2021  30/09/2021         NaN        NaN\n",
       "2261581  25/09/2021  23/09/2021  26/09/2021  28/09/2021         NaN        NaN\n",
       "2261582  09/05/2021  03/05/2021  16/05/2021  29/09/2021         NaN        NaN\n",
       "2261583  26/09/2021  26/09/2021  30/09/2021  01/10/2021         NaN        NaN\n",
       "\n",
       "[2261584 rows x 6 columns]"
      ]
     },
     "execution_count": 33,
     "metadata": {},
     "output_type": "execute_result"
    }
   ],
   "source": [
    "df.loc[:, datas]"
   ]
  },
  {
   "cell_type": "code",
   "execution_count": 34,
   "id": "8410f256",
   "metadata": {},
   "outputs": [
    {
     "data": {
      "text/plain": [
       "DT_NOTIFIC          0\n",
       "DT_SIN_PRI          0\n",
       "DT_EVOLUCA     110099\n",
       "DT_ENCERRA      32260\n",
       "DT_ENTUTI     1591768\n",
       "DT_SAIDUTI    1846523\n",
       "dtype: int64"
      ]
     },
     "execution_count": 34,
     "metadata": {},
     "output_type": "execute_result"
    }
   ],
   "source": [
    "df[datas].isnull().sum()"
   ]
  },
  {
   "cell_type": "code",
   "execution_count": 30,
   "id": "f2e775cc",
   "metadata": {},
   "outputs": [],
   "source": [
    "df = (\n",
    "    df.assign\n",
    "    (\n",
    "        DT_NOTIFIC = pd.to_datetime(df['DT_NOTIFIC']),\n",
    "        DT_SIN_PRI = pd.to_datetime(df['DT_SIN_PRI']),\n",
    "        DT_EVOLUCA = pd.to_datetime(df['DT_EVOLUCA']),\n",
    "        DT_ENCERRA = pd.to_datetime(df['DT_ENCERRA']),\n",
    "        # DT_ENTUTI = pd.to_datetime(df['DT_ENTUTI']),\n",
    "        # DT_SAIDUTI = pd.to_datetime(df['DT_SAIDUTI']),\n",
    "        tempo_alta_obito_1 = lambda df_mem: ((df_mem['DT_EVOLUCA'] - df_mem['DT_SIN_PRI']).dt.days),\n",
    "        tempo_alta_obito_2 = lambda df_mem: ((df_mem['DT_ENCERRA'] - df_mem['DT_SIN_PRI']).dt.days),\n",
    "        # tempo_uti = lambda df_mem: ((df_mem['DT_SAIDUTI'] - df_mem['DT_ENTUTI']).dt.days)\n",
    "    )\n",
    ")"
   ]
  },
  {
   "cell_type": "code",
   "execution_count": 31,
   "id": "65a45594",
   "metadata": {},
   "outputs": [
    {
     "data": {
      "text/html": [
       "<div>\n",
       "<style scoped>\n",
       "    .dataframe tbody tr th:only-of-type {\n",
       "        vertical-align: middle;\n",
       "    }\n",
       "\n",
       "    .dataframe tbody tr th {\n",
       "        vertical-align: top;\n",
       "    }\n",
       "\n",
       "    .dataframe thead th {\n",
       "        text-align: right;\n",
       "    }\n",
       "</style>\n",
       "<table border=\"1\" class=\"dataframe\">\n",
       "  <thead>\n",
       "    <tr style=\"text-align: right;\">\n",
       "      <th></th>\n",
       "      <th>DT_NOTIFIC</th>\n",
       "      <th>DT_SIN_PRI</th>\n",
       "    </tr>\n",
       "  </thead>\n",
       "  <tbody>\n",
       "    <tr>\n",
       "      <th>count</th>\n",
       "      <td>2377785</td>\n",
       "      <td>2377785</td>\n",
       "    </tr>\n",
       "    <tr>\n",
       "      <th>mean</th>\n",
       "      <td>2021-01-16 17:34:28.505098752</td>\n",
       "      <td>2021-01-06 00:43:40.540377600</td>\n",
       "    </tr>\n",
       "    <tr>\n",
       "      <th>min</th>\n",
       "      <td>2019-12-29 00:00:00</td>\n",
       "      <td>2019-12-29 00:00:00</td>\n",
       "    </tr>\n",
       "    <tr>\n",
       "      <th>25%</th>\n",
       "      <td>2020-08-17 00:00:00</td>\n",
       "      <td>2020-08-07 00:00:00</td>\n",
       "    </tr>\n",
       "    <tr>\n",
       "      <th>50%</th>\n",
       "      <td>2021-02-18 00:00:00</td>\n",
       "      <td>2021-02-02 00:00:00</td>\n",
       "    </tr>\n",
       "    <tr>\n",
       "      <th>75%</th>\n",
       "      <td>2021-05-31 00:00:00</td>\n",
       "      <td>2021-05-21 00:00:00</td>\n",
       "    </tr>\n",
       "    <tr>\n",
       "      <th>max</th>\n",
       "      <td>2021-12-11 00:00:00</td>\n",
       "      <td>2021-12-11 00:00:00</td>\n",
       "    </tr>\n",
       "  </tbody>\n",
       "</table>\n",
       "</div>"
      ],
      "text/plain": [
       "                          DT_NOTIFIC                     DT_SIN_PRI\n",
       "count                        2377785                        2377785\n",
       "mean   2021-01-16 17:34:28.505098752  2021-01-06 00:43:40.540377600\n",
       "min              2019-12-29 00:00:00            2019-12-29 00:00:00\n",
       "25%              2020-08-17 00:00:00            2020-08-07 00:00:00\n",
       "50%              2021-02-18 00:00:00            2021-02-02 00:00:00\n",
       "75%              2021-05-31 00:00:00            2021-05-21 00:00:00\n",
       "max              2021-12-11 00:00:00            2021-12-11 00:00:00"
      ]
     },
     "execution_count": 31,
     "metadata": {},
     "output_type": "execute_result"
    }
   ],
   "source": [
    "df[['DT_NOTIFIC', 'DT_SIN_PRI']].describe(datetime_is_numeric=True)"
   ]
  },
  {
   "cell_type": "code",
   "execution_count": 32,
   "id": "adf4e276",
   "metadata": {},
   "outputs": [
    {
     "data": {
      "text/plain": [
       "(-334.0, 703.0)"
      ]
     },
     "execution_count": 32,
     "metadata": {},
     "output_type": "execute_result"
    }
   ],
   "source": [
    "df.tempo_alta_obito_1.min(), df.tempo_alta_obito_1.max()"
   ]
  },
  {
   "cell_type": "markdown",
   "id": "ca561177",
   "metadata": {},
   "source": [
    "Temos o menor valor em -334 e o maior em 703. Para os valores negativos que não fazem sentido, vou inverter o sinal para os valores, pois podem ser apenas erro de entrada da data."
   ]
  },
  {
   "cell_type": "code",
   "execution_count": 33,
   "id": "9d0f9f6b",
   "metadata": {},
   "outputs": [],
   "source": [
    "df = (\n",
    "    df.assign\n",
    "    (\n",
    "        tempo_alta_obito_1 = np.where(df['tempo_alta_obito_1'] < 0, \n",
    "                                      df['tempo_alta_obito_1']*-1, \n",
    "                                      df['tempo_alta_obito_1']),\n",
    "       \n",
    "        tempo_alta_obito_2 = np.where(df['tempo_alta_obito_2'] < 0, \n",
    "                                      df['tempo_alta_obito_2']*-1, \n",
    "                                      df['tempo_alta_obito_2']),\n",
    "        \n",
    "        tempo_alta_obito_final = lambda df_mem: df_mem['tempo_alta_obito_1'].fillna(df_mem['tempo_alta_obito_2'])\n",
    "    )\n",
    "    .drop(columns = ['tempo_alta_obito_1', 'tempo_alta_obito_2'])\n",
    ")"
   ]
  },
  {
   "cell_type": "code",
   "execution_count": 34,
   "id": "62c3c2a6",
   "metadata": {},
   "outputs": [
    {
     "data": {
      "text/plain": [
       "7400"
      ]
     },
     "execution_count": 34,
     "metadata": {},
     "output_type": "execute_result"
    }
   ],
   "source": [
    "df.tempo_alta_obito_final.isnull().sum()"
   ]
  },
  {
   "cell_type": "markdown",
   "id": "dc7e555e",
   "metadata": {},
   "source": [
    "Ainda há registros NaN na variável tempo_alta_obito_final, vou preenchê-los com o valor -999, isso ajudará a identificá-los na montagem do modelo."
   ]
  },
  {
   "cell_type": "code",
   "execution_count": 35,
   "id": "c50f8199",
   "metadata": {},
   "outputs": [],
   "source": [
    "df.tempo_alta_obito_final = df.tempo_alta_obito_final.fillna(-999)"
   ]
  },
  {
   "cell_type": "code",
   "execution_count": 36,
   "id": "fe79c670",
   "metadata": {},
   "outputs": [],
   "source": [
    "datas_finais = ['DT_NOTIFIC','tempo_alta_obito_final']"
   ]
  },
  {
   "cell_type": "markdown",
   "id": "654a3f7b",
   "metadata": {},
   "source": [
    "### Variáveis de sintomas e fatores de risco\n",
    "\n",
    "No caso dos sintomas, precisamos entender o que cada valor significa e como tratar os valores NaN<br>\n",
    "Pela documentação, as respostas possíveis para esse campo são:\n",
    "* 1 - Sim\n",
    "* 2 - Não\n",
    "* 9 - Campo ignorado\n",
    "\n",
    "Semelhante às variáveis de sintoma, as opções dos campos são:\n",
    "* 1 - Sim\n",
    "* 2 - Não\n",
    "* 9 - Campo ignorado\n",
    "\n",
    "Além dos 3 campos, há também o valor NaN para estas variáveis. Ao avaliar as categorias 9 e NaN, é possível ver que não há um padrão que explique o motivo do campo estar como 9 ou NaN. Desse modo, vou manter as 4 categorias para todas essas variáveis."
   ]
  },
  {
   "cell_type": "markdown",
   "id": "da37e646",
   "metadata": {},
   "source": [
    "**Teste da variável de perda de olfato que possui muitos valores nulos**"
   ]
  },
  {
   "cell_type": "code",
   "execution_count": 37,
   "id": "98f367ed",
   "metadata": {},
   "outputs": [
    {
     "data": {
      "image/png": "[encoded data removed]",
      "text/plain": [
       "<Figure size 864x432 with 1 Axes>"
      ]
     },
     "metadata": {
      "needs_background": "light"
     },
     "output_type": "display_data"
    }
   ],
   "source": [
    "import matplotlib.pyplot as plt\n",
    "import seaborn as sns\n",
    "\n",
    "df1 = df[['PERD_OLFT', 'EVOLUCAO']].copy()\n",
    "\n",
    "plt.figure(figsize = (12,6))\n",
    "ax = sns.barplot(x=\"PERD_OLFT\", y=\"EVOLUCAO\", data=df1.fillna(30))"
   ]
  },
  {
   "cell_type": "code",
   "execution_count": 38,
   "id": "f827094b",
   "metadata": {},
   "outputs": [
    {
     "data": {
      "text/plain": [
       "2.0    1154923\n",
       "NaN     996920\n",
       "1.0     166388\n",
       "9.0      59554\n",
       "Name: PERD_OLFT, dtype: int64"
      ]
     },
     "execution_count": 38,
     "metadata": {},
     "output_type": "execute_result"
    }
   ],
   "source": [
    "df['PERD_OLFT'].value_counts(dropna=False)"
   ]
  },
  {
   "cell_type": "code",
   "execution_count": 39,
   "id": "b3e52dca",
   "metadata": {},
   "outputs": [
    {
     "data": {
      "image/png": "[encoded data removed]",
      "text/plain": [
       "<Figure size 864x432 with 1 Axes>"
      ]
     },
     "metadata": {
      "needs_background": "light"
     },
     "output_type": "display_data"
    }
   ],
   "source": [
    "df2 = df[['CARDIOPATI', 'EVOLUCAO']].copy()\n",
    "\n",
    "plt.figure(figsize = (12,6))\n",
    "ax = sns.barplot(x=\"CARDIOPATI\", y=\"EVOLUCAO\", data=df2.fillna(30))"
   ]
  },
  {
   "cell_type": "code",
   "execution_count": 40,
   "id": "88a1fd14",
   "metadata": {},
   "outputs": [
    {
     "data": {
      "text/plain": [
       "NaN    1216602\n",
       "1.0     717234\n",
       "2.0     431105\n",
       "9.0      12844\n",
       "Name: CARDIOPATI, dtype: int64"
      ]
     },
     "execution_count": 40,
     "metadata": {},
     "output_type": "execute_result"
    }
   ],
   "source": [
    "df2.CARDIOPATI.value_counts(dropna=False)"
   ]
  },
  {
   "cell_type": "markdown",
   "id": "13b04f7a",
   "metadata": {},
   "source": [
    "É possível observar nestas duas variáveis que não há um grupo semelhante aos NaN (chamado de 30) em nenhum dos casos. No caso da perda olfativa, o 9 não se aproxima nem do 1 e nem do 2 quando se analisa a taxa de óbito. O NaN está próximo do 2, mas não muito.\n",
    "\n",
    "No caso da cardiopatia, a categoria com mais óbitos é o NaN, portanto é complicado assumir onde jogar este valor."
   ]
  },
  {
   "cell_type": "code",
   "execution_count": 41,
   "id": "2b7890de",
   "metadata": {},
   "outputs": [],
   "source": [
    "del df1, df2"
   ]
  },
  {
   "cell_type": "code",
   "execution_count": 42,
   "id": "bae1fe29",
   "metadata": {},
   "outputs": [
    {
     "data": {
      "text/plain": [
       "['FEBRE',\n",
       " 'TOSSE',\n",
       " 'DISPNEIA',\n",
       " 'DIARREIA',\n",
       " 'VOMITO',\n",
       " 'GARGANTA',\n",
       " 'DESC_RESP',\n",
       " 'SATURACAO',\n",
       " 'DOR_ABD',\n",
       " 'FADIGA',\n",
       " 'PERD_OLFT',\n",
       " 'PERD_PALA',\n",
       " 'HEMATOLOGI',\n",
       " 'CARDIOPATI',\n",
       " 'ASMA',\n",
       " 'DIABETES',\n",
       " 'PNEUMOPATI',\n",
       " 'RENAL',\n",
       " 'IMUNODEPRE',\n",
       " 'HEPATICA',\n",
       " 'NEUROLOGIC',\n",
       " 'OBESIDADE',\n",
       " 'PUERPERA',\n",
       " 'SIND_DOWN']"
      ]
     },
     "execution_count": 42,
     "metadata": {},
     "output_type": "execute_result"
    }
   ],
   "source": [
    "sint_morb = sintomas + morbidades\n",
    "sint_morb"
   ]
  },
  {
   "cell_type": "code",
   "execution_count": 43,
   "id": "7b39adae",
   "metadata": {},
   "outputs": [
    {
     "data": {
      "text/plain": [
       "['febre',\n",
       " 'tosse',\n",
       " 'dispneia',\n",
       " 'diarreia',\n",
       " 'vomito',\n",
       " 'garganta',\n",
       " 'desc_resp',\n",
       " 'saturacao',\n",
       " 'dor_abd',\n",
       " 'fadiga',\n",
       " 'perd_olft',\n",
       " 'perd_pala',\n",
       " 'hematologi',\n",
       " 'cardiopati',\n",
       " 'asma',\n",
       " 'diabetes',\n",
       " 'pneumopati',\n",
       " 'renal',\n",
       " 'imunodepre',\n",
       " 'hepatica',\n",
       " 'neurologic',\n",
       " 'obesidade',\n",
       " 'puerpera',\n",
       " 'sind_down']"
      ]
     },
     "execution_count": 43,
     "metadata": {},
     "output_type": "execute_result"
    }
   ],
   "source": [
    "sint_morb_finais = []\n",
    "\n",
    "for i in sint_morb:\n",
    "    df[i.lower()] = 'Nulo'\n",
    "    \n",
    "    df.loc[df[i] == 1, i.lower()] = 'Sim'\n",
    "    df.loc[df[i] == 2, i.lower()] = 'Nao'\n",
    "    df.loc[df[i] == 9, i.lower()] = 'Ignorado'\n",
    "    \n",
    "    sint_morb_finais.append(i.lower())\n",
    "    \n",
    "sint_morb_finais"
   ]
  },
  {
   "cell_type": "markdown",
   "id": "66000612",
   "metadata": {},
   "source": [
    "### Variáveis demográficas\n",
    "As variáveis demográficas necessitam de um tratamento mais específico para cada variável."
   ]
  },
  {
   "cell_type": "code",
   "execution_count": 44,
   "id": "dfd3f376",
   "metadata": {},
   "outputs": [
    {
     "data": {
      "text/plain": [
       "['SG_UF_NOT',\n",
       " 'NU_IDADE_N',\n",
       " 'TP_IDADE',\n",
       " 'CS_SEXO',\n",
       " 'CS_GESTANT',\n",
       " 'CS_RACA',\n",
       " 'M_AMAMENTA',\n",
       " 'MAE_VAC',\n",
       " 'VACINA']"
      ]
     },
     "execution_count": 44,
     "metadata": {},
     "output_type": "execute_result"
    }
   ],
   "source": [
    "demograficos"
   ]
  },
  {
   "cell_type": "code",
   "execution_count": 45,
   "id": "f6a22baf",
   "metadata": {
    "scrolled": true
   },
   "outputs": [
    {
     "data": {
      "text/plain": [
       "SG_UF_NOT           0\n",
       "NU_IDADE_N          0\n",
       "TP_IDADE            0\n",
       "CS_SEXO             0\n",
       "CS_GESTANT          0\n",
       "CS_RACA         41476\n",
       "M_AMAMENTA    2363589\n",
       "MAE_VAC       2359467\n",
       "VACINA         549457\n",
       "dtype: int64"
      ]
     },
     "execution_count": 45,
     "metadata": {},
     "output_type": "execute_result"
    }
   ],
   "source": [
    "df[demograficos].isnull().sum()"
   ]
  },
  {
   "cell_type": "markdown",
   "id": "aaca19cc",
   "metadata": {},
   "source": [
    "#### Estado\n",
    "Para a variável de Estado, não é necessário fazer nenhum tratamento. Esta variável será utilizada apenas na análise exploratória e não entrará no modelo.\n",
    "\n",
    "Para os dados de 2020:\n",
    "\n",
    "Os 5 Estados com mais casos são:\n",
    "* São Paulo;\n",
    "* Rio de Janeiro;\n",
    "* Minas Gerais;\n",
    "* Paraná e;\n",
    "* Pernambuco.\n",
    "\n",
    "Os 5 Estados com menos casos, do menor para cima, são:\n",
    "* Roraima;\n",
    "* Amapá;\n",
    "* Acre;\n",
    "* Tocantins;\n",
    "* Rondônia.\n",
    "\n",
    "Vale lembrar que podem se tratar de subnotificações nestes últimos Estados."
   ]
  },
  {
   "cell_type": "code",
   "execution_count": 46,
   "id": "6938f63d",
   "metadata": {},
   "outputs": [
    {
     "data": {
      "text/plain": [
       "SP    726980\n",
       "MG    271778\n",
       "RJ    192813\n",
       "PR    170342\n",
       "RS    141766\n",
       "SC     89637\n",
       "BA     88580\n",
       "GO     86628\n",
       "CE     81829\n",
       "PE     76554\n",
       "PA     58539\n",
       "DF     54244\n",
       "AM     46972\n",
       "MS     42480\n",
       "MT     40392\n",
       "PB     35441\n",
       "AL     26938\n",
       "MA     26622\n",
       "PI     23074\n",
       "RN     22116\n",
       "ES     16658\n",
       "RO     15659\n",
       "SE     12698\n",
       "TO     11664\n",
       "AC      6470\n",
       "AP      6173\n",
       "RR      4738\n",
       "Name: SG_UF_NOT, dtype: int64"
      ]
     },
     "execution_count": 46,
     "metadata": {},
     "output_type": "execute_result"
    }
   ],
   "source": [
    "df['SG_UF_NOT'].value_counts()"
   ]
  },
  {
   "cell_type": "markdown",
   "id": "8b08d967",
   "metadata": {},
   "source": [
    "#### Idade\n",
    "\n",
    "A variável de idade neste banco de dados é composta por 2 colunas, NU_IDADE_N e TP_IDADE. A primeira traz um número inteiro que indica a idade em dias, meses ou anos e a 2a indica qual o tipo da idade, 1 para dia, 2 para mês e 3 para ano. \n",
    "\n",
    "Exemplo: NU_IDADE_N = 8, TP_IDADE = 2 -- Idade = 8 meses.\n",
    "\n",
    "Desse modo, a determinação da idade exige um tratamento especial utilizando as duas variáveis. Vou converter todas as idades para ANO, assim, caso a idade seja 8 meses, vou dividir 8 por 12, que indica 0,67 anos. Caso seja dia, vou dividir por 365 e, caso seja ano, manterei como está.\n",
    "\n",
    "Para o caso de valores negativos, irei apenas inverter o sinal, pois pode se tratar de um erro."
   ]
  },
  {
   "cell_type": "code",
   "execution_count": 47,
   "id": "6585903a",
   "metadata": {
    "scrolled": true
   },
   "outputs": [
    {
     "data": {
      "text/plain": [
       "3    2326673\n",
       "2      43806\n",
       "1       7306\n",
       "Name: TP_IDADE, dtype: int64"
      ]
     },
     "execution_count": 47,
     "metadata": {},
     "output_type": "execute_result"
    }
   ],
   "source": [
    "df.TP_IDADE.value_counts(dropna = False)"
   ]
  },
  {
   "cell_type": "code",
   "execution_count": 48,
   "id": "14efad28",
   "metadata": {},
   "outputs": [],
   "source": [
    "idade_trat = []\n",
    "idade_temp = 0\n",
    "\n",
    "for idade, tipo in zip(df.NU_IDADE_N, df.TP_IDADE):\n",
    "    if tipo == 1:\n",
    "        idade_temp = abs(round(idade/365,3))\n",
    "        idade_trat.append(idade_temp)\n",
    "    elif tipo == 2:\n",
    "        idade_temp = abs(round(idade/12,3))\n",
    "        idade_trat.append(idade_temp)\n",
    "    else:\n",
    "        idade_temp = abs(idade)\n",
    "        idade_trat.append(idade_temp)\n",
    "            \n",
    "idade_trat = np.asarray(idade_trat)"
   ]
  },
  {
   "cell_type": "code",
   "execution_count": 49,
   "id": "6f4f8118",
   "metadata": {},
   "outputs": [],
   "source": [
    "df['idade'] = idade_trat"
   ]
  },
  {
   "cell_type": "code",
   "execution_count": 50,
   "id": "3e7346cf",
   "metadata": {},
   "outputs": [
    {
     "data": {
      "text/plain": [
       "150.000       1\n",
       "140.000       1\n",
       "136.000       2\n",
       "133.000       1\n",
       "127.000       1\n",
       "           ... \n",
       "0.011       116\n",
       "0.008       166\n",
       "0.005       233\n",
       "0.003       433\n",
       "0.000      4816\n",
       "Name: idade, Length: 186, dtype: int64"
      ]
     },
     "execution_count": 50,
     "metadata": {},
     "output_type": "execute_result"
    }
   ],
   "source": [
    "df.idade.value_counts().sort_index(ascending = False)"
   ]
  },
  {
   "cell_type": "markdown",
   "id": "9b2507d3",
   "metadata": {},
   "source": [
    "É possível observar que há idades muito maiores que a [pessoa mais velha do mundo, que viveu 122 anos](https://www.cnnbrasil.com.br/internacional/guinness-aos-112-anos-porto-riquenho-se-torna-homem-mais-velho-do-mundo/).\n",
    "\n",
    "Desse modo, irei eliminar os registros acima de 122 anos."
   ]
  },
  {
   "cell_type": "code",
   "execution_count": 51,
   "id": "7cf282f9",
   "metadata": {},
   "outputs": [],
   "source": [
    "df = df[df['idade'] < 122]"
   ]
  },
  {
   "cell_type": "markdown",
   "id": "f5571585",
   "metadata": {},
   "source": [
    "#### Sexo\n",
    "\n",
    "A variável sexo possui 3 possibilidades:\n",
    "\n",
    "* M - Masculino\n",
    "* F - Feminino\n",
    "* I - Ignorado\n",
    "\n",
    "Como há apenas 410 ignorados, vou apenas eliminar estes registros pois não há como tratá-los."
   ]
  },
  {
   "cell_type": "code",
   "execution_count": 52,
   "id": "77fe6c3c",
   "metadata": {},
   "outputs": [
    {
     "data": {
      "text/plain": [
       "M    1298155\n",
       "F    1079114\n",
       "I        509\n",
       "Name: CS_SEXO, dtype: int64"
      ]
     },
     "execution_count": 52,
     "metadata": {},
     "output_type": "execute_result"
    }
   ],
   "source": [
    "df['CS_SEXO'].value_counts()"
   ]
  },
  {
   "cell_type": "code",
   "execution_count": 53,
   "id": "19ddbaeb",
   "metadata": {},
   "outputs": [],
   "source": [
    "df = df[df['CS_SEXO'] != 'I']"
   ]
  },
  {
   "cell_type": "markdown",
   "id": "f8f3708d",
   "metadata": {},
   "source": [
    "#### Gestante\n",
    "\n",
    "Esta variável indica a idade gestacional do paciente. O campo só é habilitado se o sexo for Feminino.\n",
    "\n",
    "Os possíveis valores são:\n",
    "\n",
    "* 0 - Não está na documentação.\n",
    "* 1 - 1º Trimestre\n",
    "* 2 - 2º Trimestre\n",
    "* 3 - 3º Trimestre\n",
    "* 4 - Idade gestacional ignorada\n",
    "* 5 - Não\n",
    "* 6 - Não se aplica\n",
    "* 9 - Ignorado\n",
    "\n",
    "É importante para checar se a gestação é um fator de risco para SRAG."
   ]
  },
  {
   "cell_type": "code",
   "execution_count": 54,
   "id": "bd5bde1b",
   "metadata": {},
   "outputs": [
    {
     "data": {
      "text/plain": [
       "6    1503166\n",
       "5     746138\n",
       "9     105117\n",
       "3      13236\n",
       "2       5942\n",
       "1       2354\n",
       "4       1090\n",
       "0        226\n",
       "Name: CS_GESTANT, dtype: int64"
      ]
     },
     "execution_count": 54,
     "metadata": {},
     "output_type": "execute_result"
    }
   ],
   "source": [
    "df.CS_GESTANT.value_counts(dropna=False)"
   ]
  },
  {
   "cell_type": "markdown",
   "id": "ec978d72",
   "metadata": {},
   "source": [
    "Para uma melhor avaliação desta variável após a dummificação, vou transformar os números em strings e utilizar apenas as classificações de SIM, NÃO, NÃO SE APLICA. Os Ignorados e o 0 serão classificados como NÃO."
   ]
  },
  {
   "cell_type": "markdown",
   "id": "c6c8a577",
   "metadata": {},
   "source": [
    "Abaixo vou verificar para alguns valores, se o sexo está correto, uma vez que apenas pessoas do sexo Feminino engravidam.\n",
    "\n",
    "Pela documentação temos:\n",
    "\n",
    "* Se selecionado categoria 2-Feminino no campo Sexo.\n",
    "* Se selecionado sexo igual a Masculino ou a idade for menor ou igual a 9 anos o campo é preenchido automaticamente com 6-Não se aplica.\n",
    "* Se selecionado sexo igual a Feminino e idade for maior que 9 anos, o campo não pode ser preenchido com 6-Não se aplica."
   ]
  },
  {
   "cell_type": "code",
   "execution_count": 55,
   "id": "3ff1871c",
   "metadata": {},
   "outputs": [
    {
     "name": "stdout",
     "output_type": "stream",
     "text": [
      "['M' 'F']\n",
      "['F']\n",
      "['F']\n",
      "['F']\n",
      "['F']\n",
      "['F' 'M']\n",
      "['M' 'F']\n",
      "['F' 'M']\n"
     ]
    }
   ],
   "source": [
    "print(df[df['CS_GESTANT'] == 0]['CS_SEXO'].unique())\n",
    "print(df[df['CS_GESTANT'] == 1]['CS_SEXO'].unique())\n",
    "print(df[df['CS_GESTANT'] == 2]['CS_SEXO'].unique())\n",
    "print(df[df['CS_GESTANT'] == 3]['CS_SEXO'].unique())\n",
    "print(df[df['CS_GESTANT'] == 4]['CS_SEXO'].unique())\n",
    "print(df[df['CS_GESTANT'] == 5]['CS_SEXO'].unique())\n",
    "print(df[df['CS_GESTANT'] == 6]['CS_SEXO'].unique())\n",
    "print(df[df['CS_GESTANT'] == 9]['CS_SEXO'].unique())"
   ]
  },
  {
   "cell_type": "markdown",
   "id": "f3a96d12",
   "metadata": {},
   "source": [
    "Tudo certo com relação ao sexo. Precisamos verificar a idade."
   ]
  },
  {
   "cell_type": "code",
   "execution_count": 56,
   "id": "bb3e9d94",
   "metadata": {
    "scrolled": true
   },
   "outputs": [
    {
     "name": "stdout",
     "output_type": "stream",
     "text": [
      "[31. 24. 28. 25. 23. 33. 29. 40. 39. 18. 22. 34. 37. 35. 30. 27. 26. 54.\n",
      " 21. 38. 36. 45. 32. 20. 17. 44. 16. 15. 53. 19. 41. 58. 43. 46. 42. 14.\n",
      " 55. 13. 47. 56. 60. 49. 50. 57. 51. 52. 48. 12. 59.]\n",
      "[16. 20. 32. 19. 24. 23. 55. 29. 21. 22. 26. 35. 18. 42. 28. 33. 34. 45.\n",
      " 36. 37. 31. 27. 14. 25. 38. 30. 39. 17. 56. 13. 44. 50. 15. 40. 41. 60.\n",
      " 58. 48. 43. 53. 12. 57. 51. 46. 47. 49. 10. 59. 52. 54.  9.]\n",
      "[29. 20. 28. 26. 31. 17. 36. 35. 22. 24. 34. 40. 39. 33. 21. 27. 25. 37.\n",
      " 16. 30. 15. 19. 38. 44. 32. 42. 23. 18. 49. 43. 41. 48. 14. 13. 45. 46.\n",
      " 51. 47. 54. 52. 11. 12. 58. 55. 56. 57. 53. 59. 50. 60.]\n"
     ]
    }
   ],
   "source": [
    "print(df[df['CS_GESTANT'] == 1]['idade'].unique())\n",
    "print(df[df['CS_GESTANT'] == 2]['idade'].unique())\n",
    "print(df[df['CS_GESTANT'] == 3]['idade'].unique())"
   ]
  },
  {
   "cell_type": "code",
   "execution_count": 57,
   "id": "25e268b3",
   "metadata": {},
   "outputs": [],
   "source": [
    "df = df.reset_index(drop=True)"
   ]
  },
  {
   "cell_type": "markdown",
   "id": "75ae228d",
   "metadata": {},
   "source": [
    "Vendo pelo dado acima, é possível observar que há apenas 1 pessoa gestante com idade menor que 10 anos, vou eliminar este registro."
   ]
  },
  {
   "cell_type": "code",
   "execution_count": 58,
   "id": "9032cfa3",
   "metadata": {},
   "outputs": [],
   "source": [
    "indice_gest_drop = []\n",
    "\n",
    "for i, (idade, gest) in enumerate(zip(df.idade, df.CS_GESTANT)):\n",
    "    if (gest == 1 or gest == 2 or gest == 3) and idade < 10:\n",
    "        indice_gest_drop.append(i)      \n",
    "\n",
    "df = df.drop(indice_gest_drop)"
   ]
  },
  {
   "cell_type": "code",
   "execution_count": 59,
   "id": "30d97772",
   "metadata": {},
   "outputs": [
    {
     "name": "stdout",
     "output_type": "stream",
     "text": [
      "[31. 24. 28. 25. 23. 33. 29. 40. 39. 18. 22. 34. 37. 35. 30. 27. 26. 54.\n",
      " 21. 38. 36. 45. 32. 20. 17. 44. 16. 15. 53. 19. 41. 58. 43. 46. 42. 14.\n",
      " 55. 13. 47. 56. 60. 49. 50. 57. 51. 52. 48. 12. 59.]\n",
      "[16. 20. 32. 19. 24. 23. 55. 29. 21. 22. 26. 35. 18. 42. 28. 33. 34. 45.\n",
      " 36. 37. 31. 27. 14. 25. 38. 30. 39. 17. 56. 13. 44. 50. 15. 40. 41. 60.\n",
      " 58. 48. 43. 53. 12. 57. 51. 46. 47. 49. 10. 59. 52. 54.]\n",
      "[29. 20. 28. 26. 31. 17. 36. 35. 22. 24. 34. 40. 39. 33. 21. 27. 25. 37.\n",
      " 16. 30. 15. 19. 38. 44. 32. 42. 23. 18. 49. 43. 41. 48. 14. 13. 45. 46.\n",
      " 51. 47. 54. 52. 11. 12. 58. 55. 56. 57. 53. 59. 50. 60.]\n"
     ]
    }
   ],
   "source": [
    "print(df[df['CS_GESTANT'] == 1]['idade'].unique())\n",
    "print(df[df['CS_GESTANT'] == 2]['idade'].unique())\n",
    "print(df[df['CS_GESTANT'] == 3]['idade'].unique())"
   ]
  },
  {
   "cell_type": "markdown",
   "id": "4c5a2535",
   "metadata": {},
   "source": [
    "Tratamento"
   ]
  },
  {
   "cell_type": "code",
   "execution_count": 60,
   "id": "7fe8330c",
   "metadata": {},
   "outputs": [],
   "source": [
    "df['gravidez'] = 0\n",
    "\n",
    "df.loc[df['CS_GESTANT'] == 1, 'gravidez'] = 1\n",
    "df.loc[df['CS_GESTANT'] == 2, 'gravidez'] = 1\n",
    "df.loc[df['CS_GESTANT'] == 3, 'gravidez'] = 1\n",
    "df.loc[df['CS_GESTANT'] == 4, 'gravidez'] = 1"
   ]
  },
  {
   "cell_type": "code",
   "execution_count": 61,
   "id": "b4c6510b",
   "metadata": {
    "scrolled": true
   },
   "outputs": [
    {
     "data": {
      "text/plain": [
       "0    2354647\n",
       "1      22621\n",
       "Name: gravidez, dtype: int64"
      ]
     },
     "execution_count": 61,
     "metadata": {},
     "output_type": "execute_result"
    }
   ],
   "source": [
    "df.gravidez.value_counts()"
   ]
  },
  {
   "cell_type": "markdown",
   "id": "69537fa5",
   "metadata": {},
   "source": [
    "#### Raça\n",
    "\n",
    "O campo RAÇA pode ser utilizado para uma avaliação demográfica da SRAG, de modo a identificar quais grupos étnicos são mais afetados pela doença e se há alguma diferenciação entre os grupos no quesito óbito e se é um fator determinante para a SRAG.\n",
    "\n",
    "O campo é dado por:\n",
    "\n",
    "* 1 - Branca\n",
    "* 2 - Preta\n",
    "* 3 - Amarela\n",
    "* 4 - Parda\n",
    "* 5 - Indígena\n",
    "* 9 - Ignorado"
   ]
  },
  {
   "cell_type": "code",
   "execution_count": 62,
   "id": "61c1b966",
   "metadata": {},
   "outputs": [
    {
     "data": {
      "text/plain": [
       "1.0    996865\n",
       "4.0    811279\n",
       "9.0    392475\n",
       "2.0    107151\n",
       "NaN     41470\n",
       "3.0     23121\n",
       "5.0      4907\n",
       "Name: CS_RACA, dtype: int64"
      ]
     },
     "execution_count": 62,
     "metadata": {},
     "output_type": "execute_result"
    }
   ],
   "source": [
    "df.CS_RACA.value_counts(dropna=False)"
   ]
  },
  {
   "cell_type": "code",
   "execution_count": 63,
   "id": "bb5f128a",
   "metadata": {},
   "outputs": [],
   "source": [
    "df['raca'] = 'Desconhecido'\n",
    "\n",
    "df.loc[df['CS_RACA'] == 1, 'raca'] = 'Branca'\n",
    "df.loc[df['CS_RACA'] == 2, 'raca'] = 'Preta'\n",
    "df.loc[df['CS_RACA'] == 3, 'raca'] = 'Amarela'\n",
    "df.loc[df['CS_RACA'] == 4, 'raca'] = 'Parda'\n",
    "df.loc[df['CS_RACA'] == 5, 'raca'] = 'Indigena'\n",
    "df.loc[df['CS_RACA'] == 9, 'raca'] = 'Ignorado'"
   ]
  },
  {
   "cell_type": "code",
   "execution_count": 64,
   "id": "4f874bda",
   "metadata": {},
   "outputs": [
    {
     "data": {
      "text/plain": [
       "Branca          996865\n",
       "Parda           811279\n",
       "Ignorado        392475\n",
       "Preta           107151\n",
       "Desconhecido     41470\n",
       "Amarela          23121\n",
       "Indigena          4907\n",
       "Name: raca, dtype: int64"
      ]
     },
     "execution_count": 64,
     "metadata": {},
     "output_type": "execute_result"
    }
   ],
   "source": [
    "df['raca'].value_counts(dropna = False)"
   ]
  },
  {
   "cell_type": "markdown",
   "id": "de33e9ce",
   "metadata": {},
   "source": [
    "#### Vacina\n",
    "\n",
    "O campo vacina é de suma importância para a análise. Sabemos hoje, em 2021, que a vacina da gripe ajuda a prevenir os sintomas graves até da COVID, portanto, esse campo é importante para SRAG como um todo.\n",
    "\n",
    "Em 2020 ainda não havia vacina contra a COVID-19.\n",
    "\n",
    "O campo é dado por:\n",
    "* 1 - Sim\n",
    "* 2 - Não\n",
    "* 9 - Ignorado"
   ]
  },
  {
   "cell_type": "code",
   "execution_count": 65,
   "id": "298b72b4",
   "metadata": {},
   "outputs": [
    {
     "name": "stdout",
     "output_type": "stream",
     "text": [
      "9.0    836526\n",
      "2.0    740951\n",
      "NaN    549238\n",
      "1.0    250553\n",
      "Name: VACINA, dtype: int64\n",
      "\n",
      "9.0    0.351885\n",
      "2.0    0.311682\n",
      "NaN    0.231037\n",
      "1.0    0.105395\n",
      "Name: VACINA, dtype: float64\n"
     ]
    }
   ],
   "source": [
    "print(df['VACINA'].value_counts(dropna=False))\n",
    "print()\n",
    "print(df['VACINA'].value_counts(dropna=False, normalize = True))"
   ]
  },
  {
   "cell_type": "markdown",
   "id": "a2473ab9",
   "metadata": {},
   "source": [
    "Apesar de ser uma ótima informação para a análise, podemos observar que muitas vezes o médico não pergunta para o paciente se ele foi vacinado ou não e apenas ignora o campo. em 37% dos casos isso aconteceu. \n",
    "\n",
    "Para este tratamento, vou manter 3 categorias, Sim, Não e Ignorado. Passar os ignorados para \"Não\" inflaria muito esta categoria, portanto não seria ideal.\n",
    "\n",
    "Os NaN serão colocados sob a categoria \"Ignorado\""
   ]
  },
  {
   "cell_type": "code",
   "execution_count": 66,
   "id": "36b783c1",
   "metadata": {},
   "outputs": [],
   "source": [
    "trat_nan_nove('VACINA', 'vacina_gripe')"
   ]
  },
  {
   "cell_type": "code",
   "execution_count": 67,
   "id": "d63c06e3",
   "metadata": {},
   "outputs": [
    {
     "data": {
      "text/plain": [
       "Ignorado    836526\n",
       "Nao         740951\n",
       "Nulo        549238\n",
       "Sim         250553\n",
       "Name: vacina_gripe, dtype: int64"
      ]
     },
     "execution_count": 67,
     "metadata": {},
     "output_type": "execute_result"
    }
   ],
   "source": [
    "df['vacina_gripe'].value_counts(dropna = False)"
   ]
  },
  {
   "cell_type": "markdown",
   "id": "311359d1",
   "metadata": {},
   "source": [
    "#### Mãe Amamenta\n",
    "\n",
    "Pela documentação: Se paciente < 6 meses, a mãe amamenta a criança?\n",
    "\n",
    "Este campo estará majoritariamente vazio, mas, no caso de pessoas abaixo de 6 meses (0,5 anos), é importante.\n",
    "\n",
    "O campo é dado por:\n",
    "* 1 - Sim\n",
    "* 2 - Não\n",
    "* 9 - Ignorado\n",
    "\n",
    "Os ignorados serão classificados como \"NÃO\" e os NaN como \"NÃO\" também."
   ]
  },
  {
   "cell_type": "code",
   "execution_count": 68,
   "id": "72e977cf",
   "metadata": {},
   "outputs": [
    {
     "data": {
      "text/plain": [
       "NaN    2363109\n",
       "1.0       5500\n",
       "9.0       4864\n",
       "2.0       3795\n",
       "Name: M_AMAMENTA, dtype: int64"
      ]
     },
     "execution_count": 68,
     "metadata": {},
     "output_type": "execute_result"
    }
   ],
   "source": [
    "df.M_AMAMENTA.value_counts(dropna=False)"
   ]
  },
  {
   "cell_type": "markdown",
   "id": "8a3a9589",
   "metadata": {},
   "source": [
    "Vou verificar se as idades, para as quais o campo foi habilitado para preenchimento, estão corretas."
   ]
  },
  {
   "cell_type": "code",
   "execution_count": 69,
   "id": "41ec5008",
   "metadata": {},
   "outputs": [
    {
     "data": {
      "text/plain": [
       "0.083     3468\n",
       "0.167     2617\n",
       "0.250     1873\n",
       "0.000     1787\n",
       "0.333     1483\n",
       "0.417     1153\n",
       "0.003      189\n",
       "0.500      113\n",
       "0.022       99\n",
       "0.005       95\n",
       "0.025       95\n",
       "0.033       87\n",
       "0.027       85\n",
       "0.008       78\n",
       "0.019       74\n",
       "0.030       74\n",
       "0.038       71\n",
       "0.036       70\n",
       "0.016       57\n",
       "0.049       56\n",
       "0.014       54\n",
       "0.047       53\n",
       "0.041       52\n",
       "0.044       51\n",
       "0.052       49\n",
       "0.011       46\n",
       "0.060       35\n",
       "0.055       33\n",
       "0.058       31\n",
       "0.066       26\n",
       "0.068       20\n",
       "0.071       19\n",
       "0.074       13\n",
       "0.063       13\n",
       "0.077        7\n",
       "0.079        5\n",
       "1.000        3\n",
       "53.000       2\n",
       "26.000       2\n",
       "68.000       2\n",
       "28.000       1\n",
       "5.000        1\n",
       "0.750        1\n",
       "70.000       1\n",
       "48.000       1\n",
       "65.000       1\n",
       "61.000       1\n",
       "3.000        1\n",
       "4.000        1\n",
       "38.000       1\n",
       "2.000        1\n",
       "55.000       1\n",
       "45.000       1\n",
       "62.000       1\n",
       "0.667        1\n",
       "73.000       1\n",
       "69.000       1\n",
       "84.000       1\n",
       "0.082        1\n",
       "Name: idade, dtype: int64"
      ]
     },
     "execution_count": 69,
     "metadata": {},
     "output_type": "execute_result"
    }
   ],
   "source": [
    "df[df.M_AMAMENTA.notna()]['idade'].value_counts()"
   ]
  },
  {
   "cell_type": "code",
   "execution_count": 70,
   "id": "c5ff376b",
   "metadata": {
    "scrolled": true
   },
   "outputs": [
    {
     "data": {
      "text/plain": [
       "0.000      2971\n",
       "0.003       238\n",
       "0.005       136\n",
       "0.008        87\n",
       "0.011        68\n",
       "           ... \n",
       "117.000       5\n",
       "118.000       1\n",
       "119.000       1\n",
       "120.000       4\n",
       "121.000       1\n",
       "Name: idade, Length: 180, dtype: int64"
      ]
     },
     "execution_count": 70,
     "metadata": {},
     "output_type": "execute_result"
    }
   ],
   "source": [
    "df[df.M_AMAMENTA.isna()]['idade'].value_counts().sort_index(ascending = True)"
   ]
  },
  {
   "cell_type": "markdown",
   "id": "b26f8775",
   "metadata": {},
   "source": [
    "É possível observar que há alguns valores de idade incorretos, acima de 6 meses. Além disso, é possível observar que há muitos registros que deveriam conter a informação mas estão como NaN, estes são os valores com idade abaixo de 1.\n",
    "\n",
    "Para o primeiro caso, irei eliminar os registros com idade incorreta. Para o segundo caso, como é altamente provável que a mãe amamente a [criança abaixo de 6 meses](https://www.trocandofraldas.com.br/ate-quando-amamentar/#:~:text=A%20Organiza%C3%A7%C3%A3o%20Mundial%20de%20Sa%C3%BAde,sem%20outros%20alimentos%20ou%20l%C3%ADquidos), vou classificar estes registros como \"Sim\". "
   ]
  },
  {
   "cell_type": "code",
   "execution_count": 71,
   "id": "88b10a01",
   "metadata": {},
   "outputs": [],
   "source": [
    "df = df.reset_index(drop=True)"
   ]
  },
  {
   "cell_type": "code",
   "execution_count": 72,
   "id": "2d312499",
   "metadata": {},
   "outputs": [],
   "source": [
    "amam_drop = []\n",
    "\n",
    "for i, (idade, amam) in enumerate(zip(df.idade, df.M_AMAMENTA)):\n",
    "    if pd.notna(amam) and idade > 1:\n",
    "        amam_drop.append(i)\n",
    "\n",
    "df = df.drop(amam_drop)"
   ]
  },
  {
   "cell_type": "code",
   "execution_count": 73,
   "id": "94d31f5a",
   "metadata": {},
   "outputs": [
    {
     "data": {
      "text/plain": [
       "0.083    3468\n",
       "0.167    2617\n",
       "0.250    1873\n",
       "0.000    1787\n",
       "0.333    1483\n",
       "0.417    1153\n",
       "0.003     189\n",
       "0.500     113\n",
       "0.022      99\n",
       "0.005      95\n",
       "0.025      95\n",
       "0.033      87\n",
       "0.027      85\n",
       "0.008      78\n",
       "0.030      74\n",
       "0.019      74\n",
       "0.038      71\n",
       "0.036      70\n",
       "0.016      57\n",
       "0.049      56\n",
       "0.014      54\n",
       "0.047      53\n",
       "0.041      52\n",
       "0.044      51\n",
       "0.052      49\n",
       "0.011      46\n",
       "0.060      35\n",
       "0.055      33\n",
       "0.058      31\n",
       "0.066      26\n",
       "0.068      20\n",
       "0.071      19\n",
       "0.063      13\n",
       "0.074      13\n",
       "0.077       7\n",
       "0.079       5\n",
       "1.000       3\n",
       "0.667       1\n",
       "0.750       1\n",
       "0.082       1\n",
       "Name: idade, dtype: int64"
      ]
     },
     "execution_count": 73,
     "metadata": {},
     "output_type": "execute_result"
    }
   ],
   "source": [
    "df[df.M_AMAMENTA.notna()]['idade'].value_counts()"
   ]
  },
  {
   "cell_type": "markdown",
   "id": "d94e89ce",
   "metadata": {},
   "source": [
    "Tudo certo. Agora para a parte 2"
   ]
  },
  {
   "cell_type": "code",
   "execution_count": 74,
   "id": "3ba834c2",
   "metadata": {},
   "outputs": [],
   "source": [
    "amam_trat = []\n",
    "\n",
    "amam_temp = 0\n",
    "\n",
    "for idade, amam in zip(df.idade, df.M_AMAMENTA):\n",
    "    if pd.isna(amam) and idade <= 0.5:\n",
    "        amam_temp = 1\n",
    "        amam_trat.append(amam_temp)\n",
    "    else:\n",
    "        amam_temp = amam\n",
    "        amam_trat.append(amam_temp)\n",
    "\n",
    "amam_trat = np.asarray(amam_trat)\n",
    "df['amam_trat'] = amam_trat"
   ]
  },
  {
   "cell_type": "code",
   "execution_count": 75,
   "id": "62664329",
   "metadata": {},
   "outputs": [],
   "source": [
    "df['mae_amamenta'] = 0\n",
    "\n",
    "df.loc[df['amam_trat'] == 1, 'mae_amamenta'] = 1"
   ]
  },
  {
   "cell_type": "code",
   "execution_count": 76,
   "id": "1042e277",
   "metadata": {},
   "outputs": [
    {
     "data": {
      "text/plain": [
       "0    2348580\n",
       "1      28666\n",
       "Name: mae_amamenta, dtype: int64"
      ]
     },
     "execution_count": 76,
     "metadata": {},
     "output_type": "execute_result"
    }
   ],
   "source": [
    "df.mae_amamenta.value_counts(dropna=False)"
   ]
  },
  {
   "cell_type": "markdown",
   "id": "2fe94abb",
   "metadata": {},
   "source": [
    "#### Mãe Vacinada\n",
    "\n",
    "Da documentação: Se paciente < 6 meses, a mãe recebeu vacina?\n",
    "\n",
    "O campo é composto por:\n",
    "\n",
    "* 1 - Sim\n",
    "* 2 - Não\n",
    "* 9 - Ignorado\n",
    "\n",
    "Os ignorados e os NaN serão classificados como \"Não\""
   ]
  },
  {
   "cell_type": "code",
   "execution_count": 77,
   "id": "f0662d20",
   "metadata": {},
   "outputs": [
    {
     "data": {
      "text/plain": [
       "NaN    2359001\n",
       "9.0       9116\n",
       "2.0       7302\n",
       "1.0       1827\n",
       "Name: MAE_VAC, dtype: int64"
      ]
     },
     "execution_count": 77,
     "metadata": {},
     "output_type": "execute_result"
    }
   ],
   "source": [
    "df.MAE_VAC.value_counts(dropna=False)"
   ]
  },
  {
   "cell_type": "code",
   "execution_count": 78,
   "id": "33e58a83",
   "metadata": {},
   "outputs": [
    {
     "data": {
      "text/plain": [
       "0.000     188\n",
       "0.003      27\n",
       "0.005      14\n",
       "0.008       4\n",
       "0.011       9\n",
       "0.014       6\n",
       "0.016       9\n",
       "0.019      10\n",
       "0.022      15\n",
       "0.025      16\n",
       "0.027      16\n",
       "0.030      14\n",
       "0.033      10\n",
       "0.036       6\n",
       "0.038       5\n",
       "0.041       8\n",
       "0.044      10\n",
       "0.047       4\n",
       "0.049       5\n",
       "0.052       7\n",
       "0.055       1\n",
       "0.058       3\n",
       "0.060       6\n",
       "0.063       2\n",
       "0.066       1\n",
       "0.068       4\n",
       "0.071       1\n",
       "0.074       2\n",
       "0.083     485\n",
       "0.167     367\n",
       "0.250     237\n",
       "0.333     178\n",
       "0.417     140\n",
       "0.500      15\n",
       "60.000      1\n",
       "80.000      1\n",
       "Name: idade, dtype: int64"
      ]
     },
     "execution_count": 78,
     "metadata": {},
     "output_type": "execute_result"
    }
   ],
   "source": [
    "df[df.MAE_VAC == 1]['idade'].value_counts().sort_index(ascending = True)"
   ]
  },
  {
   "cell_type": "markdown",
   "id": "5a5762ee",
   "metadata": {},
   "source": [
    "Neste caso vou optar por não tratar os problemas de idade, já que é apenas 1 registro. Vou apenas fazer a dummificação."
   ]
  },
  {
   "cell_type": "code",
   "execution_count": 79,
   "id": "b877366f",
   "metadata": {},
   "outputs": [],
   "source": [
    "df['mae_vacinada_gripe'] = 0\n",
    "\n",
    "df.loc[df['MAE_VAC'] == 1, 'mae_vacinada_gripe'] = 1"
   ]
  },
  {
   "cell_type": "code",
   "execution_count": 80,
   "id": "fbdacce8",
   "metadata": {},
   "outputs": [
    {
     "data": {
      "text/plain": [
       "0    2375419\n",
       "1       1827\n",
       "Name: mae_vacinada_gripe, dtype: int64"
      ]
     },
     "execution_count": 80,
     "metadata": {},
     "output_type": "execute_result"
    }
   ],
   "source": [
    "df.mae_vacinada_gripe.value_counts(dropna=False)"
   ]
  },
  {
   "cell_type": "code",
   "execution_count": 81,
   "id": "491ff929",
   "metadata": {},
   "outputs": [],
   "source": [
    "demog_finais = ['SG_UF_NOT', 'idade', 'CS_SEXO', 'gravidez', 'raca', 'vacina_gripe', 'mae_amamenta', 'mae_vacinada_gripe']"
   ]
  },
  {
   "cell_type": "markdown",
   "id": "26680963",
   "metadata": {},
   "source": [
    "### Variáveis de DOENÇA e DIAGNÓSTICO"
   ]
  },
  {
   "cell_type": "code",
   "execution_count": 82,
   "id": "b39864d0",
   "metadata": {},
   "outputs": [
    {
     "data": {
      "text/plain": [
       "['EVOLUCAO',\n",
       " 'CLASSI_FIN',\n",
       " 'ANTIVIRAL',\n",
       " 'SUPORT_VEN',\n",
       " 'UTI',\n",
       " 'HISTO_VGM',\n",
       " 'POS_PCRFLU',\n",
       " 'TP_FLU_PCR',\n",
       " 'POS_PCROUT',\n",
       " 'PCR_VSR',\n",
       " 'PCR_PARA1',\n",
       " 'PCR_PARA2',\n",
       " 'PCR_PARA3',\n",
       " 'PCR_PARA4',\n",
       " 'PCR_ADENO',\n",
       " 'PCR_METAP',\n",
       " 'PCR_BOCA',\n",
       " 'PCR_RINO',\n",
       " 'PCR_SARS2',\n",
       " 'RES_AN',\n",
       " 'POS_AN_FLU',\n",
       " 'TP_FLU_AN',\n",
       " 'POS_AN_OUT',\n",
       " 'AN_SARS2',\n",
       " 'AN_VSR',\n",
       " 'AN_PARA1',\n",
       " 'AN_PARA2',\n",
       " 'AN_PARA3',\n",
       " 'AN_ADENO',\n",
       " 'AN_OUTRO',\n",
       " 'RES_IGG',\n",
       " 'RES_IGM',\n",
       " 'RES_IGA']"
      ]
     },
     "execution_count": 82,
     "metadata": {},
     "output_type": "execute_result"
    }
   ],
   "source": [
    "doediag"
   ]
  },
  {
   "cell_type": "code",
   "execution_count": 83,
   "id": "ee0e5e91",
   "metadata": {},
   "outputs": [
    {
     "data": {
      "text/plain": [
       "EVOLUCAO            0\n",
       "CLASSI_FIN       5971\n",
       "ANTIVIRAL      354539\n",
       "SUPORT_VEN     281592\n",
       "UTI            283474\n",
       "HISTO_VGM           0\n",
       "POS_PCRFLU    1687306\n",
       "TP_FLU_PCR    2375244\n",
       "POS_PCROUT    1274513\n",
       "PCR_VSR       2368775\n",
       "PCR_PARA1     2376940\n",
       "PCR_PARA2     2377147\n",
       "PCR_PARA3     2376602\n",
       "PCR_PARA4     2376982\n",
       "PCR_ADENO     2376303\n",
       "PCR_METAP     2376786\n",
       "PCR_BOCA      2376582\n",
       "PCR_RINO      2371473\n",
       "PCR_SARS2     1296758\n",
       "RES_AN         324853\n",
       "POS_AN_FLU    2193887\n",
       "TP_FLU_AN     2376581\n",
       "POS_AN_OUT    2130695\n",
       "AN_SARS2      2152253\n",
       "AN_VSR        2374554\n",
       "AN_PARA1      2377225\n",
       "AN_PARA2      2377237\n",
       "AN_PARA3      2377175\n",
       "AN_ADENO      2377174\n",
       "AN_OUTRO      2358233\n",
       "RES_IGG       2084657\n",
       "RES_IGM       2077165\n",
       "RES_IGA       2170862\n",
       "dtype: int64"
      ]
     },
     "execution_count": 83,
     "metadata": {},
     "output_type": "execute_result"
    }
   ],
   "source": [
    "df[doediag].isnull().sum()"
   ]
  },
  {
   "cell_type": "code",
   "execution_count": 84,
   "id": "0785b4e7",
   "metadata": {},
   "outputs": [],
   "source": [
    "df = df.reset_index(drop=True)"
   ]
  },
  {
   "cell_type": "markdown",
   "id": "2c035a28",
   "metadata": {},
   "source": [
    "#### Evolução (variável resposta)\n",
    "\n",
    "Já tratada acima"
   ]
  },
  {
   "cell_type": "code",
   "execution_count": 85,
   "id": "e65306eb",
   "metadata": {},
   "outputs": [
    {
     "data": {
      "text/plain": [
       "0    0.69676\n",
       "1    0.30324\n",
       "Name: EVOLUCAO, dtype: float64"
      ]
     },
     "execution_count": 85,
     "metadata": {},
     "output_type": "execute_result"
    }
   ],
   "source": [
    "df.EVOLUCAO.value_counts(dropna=False, normalize = True)"
   ]
  },
  {
   "cell_type": "markdown",
   "id": "4d78ab9b",
   "metadata": {},
   "source": [
    "#### Classificação final do caso\n",
    "\n",
    "Traz o motivo da SRAG.\n",
    "\n",
    "O campo é composto por:\n",
    "\n",
    "* 1 - SRAG por influenza\n",
    "* 2 - SRAG por outro vírus respiratório\n",
    "* 3 - SRAG por outro agente etiológico, qual:\n",
    "* 4 - SRAG não especificado\n",
    "* 5 - SRAG por COVID-19\n",
    "\n",
    "Irei transformar esta variável em 4 valores, 'COVID', 'Desconhecido', 'Influenza' e 'Outros'. NaN será colocado em 'Desconhecido'.\n",
    "\n",
    "É curioso pensar que, entre 2013 e 2018 tivemos, aproximadamente, 190 mil casos, sem a existência de covid e, em 2020, tivemos 385 mil casos de SRAG no SUS de causa Desconhecida. Seria por causa de subnotificação?"
   ]
  },
  {
   "cell_type": "code",
   "execution_count": 86,
   "id": "7278464f",
   "metadata": {},
   "outputs": [
    {
     "name": "stdout",
     "output_type": "stream",
     "text": [
      "5.0    1709040\n",
      "4.0     634637\n",
      "2.0      18130\n",
      "3.0       6161\n",
      "NaN       5971\n",
      "1.0       3307\n",
      "Name: CLASSI_FIN, dtype: int64\n",
      "\n",
      "5.0    0.718916\n",
      "4.0    0.266963\n",
      "2.0    0.007626\n",
      "3.0    0.002592\n",
      "NaN    0.002512\n",
      "1.0    0.001391\n",
      "Name: CLASSI_FIN, dtype: float64\n"
     ]
    }
   ],
   "source": [
    "print(df.CLASSI_FIN.value_counts(dropna=False))\n",
    "print()\n",
    "print(df.CLASSI_FIN.value_counts(dropna=False, normalize=True))"
   ]
  },
  {
   "cell_type": "markdown",
   "id": "2ef78bea",
   "metadata": {},
   "source": [
    "É notório como a COVID-19 mudou o cenário da SRAG, 62% dos casos são por COVID-19."
   ]
  },
  {
   "cell_type": "code",
   "execution_count": 87,
   "id": "d7045b2c",
   "metadata": {},
   "outputs": [],
   "source": [
    "df['diagnostico'] = 'Desconhecido'\n",
    "\n",
    "df.loc[df['CLASSI_FIN'] == 1, 'diagnostico'] = 'Influenza'\n",
    "df.loc[df['CLASSI_FIN'] == 2, 'diagnostico'] = 'Outros'\n",
    "df.loc[df['CLASSI_FIN'] == 3, 'diagnostico'] = 'Outros'\n",
    "df.loc[df['CLASSI_FIN'] == 5, 'diagnostico'] = 'COVID'"
   ]
  },
  {
   "cell_type": "code",
   "execution_count": 88,
   "id": "d4d48b13",
   "metadata": {},
   "outputs": [
    {
     "name": "stdout",
     "output_type": "stream",
     "text": [
      "COVID           1709040\n",
      "Desconhecido     640608\n",
      "Outros            24291\n",
      "Influenza          3307\n",
      "Name: diagnostico, dtype: int64\n",
      "\n",
      "COVID           0.718916\n",
      "Desconhecido    0.269475\n",
      "Outros          0.010218\n",
      "Influenza       0.001391\n",
      "Name: diagnostico, dtype: float64\n"
     ]
    }
   ],
   "source": [
    "print(df.diagnostico.value_counts(dropna=False))\n",
    "print()\n",
    "print(df.diagnostico.value_counts(dropna=False, normalize=True))"
   ]
  },
  {
   "cell_type": "markdown",
   "id": "62cc7e8e",
   "metadata": {},
   "source": [
    "#### Uso de Antiviral\n",
    "\n",
    "A variável ANTIVIRAL indica se o paciente fez uso de antiviral para tratar a doença. As categorias trazem 2 dos mais utilizados. É uma variável relevante pois pode indicar se o tratamento com antiviral faz sentido para SRAG, que geralmente é causada por vírus.\n",
    "\n",
    "As categorias são: \n",
    "* 1 - Sim\n",
    "* 2 - Não\n",
    "* 9 - Ignorado\n",
    "\n",
    "Utilizarei a função de tratamento"
   ]
  },
  {
   "cell_type": "code",
   "execution_count": 89,
   "id": "f659a321",
   "metadata": {},
   "outputs": [
    {
     "data": {
      "text/plain": [
       "2.0    1486551\n",
       "NaN     354539\n",
       "9.0     333989\n",
       "1.0     202167\n",
       "Name: ANTIVIRAL, dtype: int64"
      ]
     },
     "execution_count": 89,
     "metadata": {},
     "output_type": "execute_result"
    }
   ],
   "source": [
    "df.ANTIVIRAL.value_counts(dropna=False)"
   ]
  },
  {
   "cell_type": "code",
   "execution_count": 90,
   "id": "7444b1c4",
   "metadata": {},
   "outputs": [],
   "source": [
    "trat_nan_nove('ANTIVIRAL', 'antiviral')"
   ]
  },
  {
   "cell_type": "code",
   "execution_count": 91,
   "id": "e50f55b3",
   "metadata": {
    "scrolled": true
   },
   "outputs": [
    {
     "data": {
      "text/plain": [
       "Nao         1486551\n",
       "Nulo         354539\n",
       "Ignorado     333989\n",
       "Sim          202167\n",
       "Name: antiviral, dtype: int64"
      ]
     },
     "execution_count": 91,
     "metadata": {},
     "output_type": "execute_result"
    }
   ],
   "source": [
    "df.antiviral.value_counts(dropna=False)"
   ]
  },
  {
   "cell_type": "markdown",
   "id": "fc5e9b9b",
   "metadata": {},
   "source": [
    "#### Suporte ventilatório\n",
    "\n",
    "Da categoria: O paciente fez uso de suporte ventilatório?\n",
    "\n",
    "* 1 - Sim, invasivo\n",
    "* 2 - Sim, não invasivo\n",
    "* 3 - Não\n",
    "* 9 - Ignorado\n",
    "\n",
    "Os NaN entrarão como \"Não\"."
   ]
  },
  {
   "cell_type": "code",
   "execution_count": 92,
   "id": "c2adc5fd",
   "metadata": {},
   "outputs": [
    {
     "data": {
      "text/plain": [
       "2.0    1141404\n",
       "3.0     487480\n",
       "1.0     391861\n",
       "NaN     281592\n",
       "9.0      74909\n",
       "Name: SUPORT_VEN, dtype: int64"
      ]
     },
     "execution_count": 92,
     "metadata": {},
     "output_type": "execute_result"
    }
   ],
   "source": [
    "df['SUPORT_VEN'].value_counts(dropna = False)"
   ]
  },
  {
   "cell_type": "code",
   "execution_count": 93,
   "id": "2dbf74f0",
   "metadata": {},
   "outputs": [],
   "source": [
    "df['suporte_vent'] = 'Nulo'\n",
    "\n",
    "df.loc[df['SUPORT_VEN'] == 1, 'suporte_vent'] = 'Invasivo'\n",
    "df.loc[df['SUPORT_VEN'] == 2, 'suporte_vent'] = 'Nao-invasivo'\n",
    "df.loc[df['SUPORT_VEN'] == 3, 'suporte_vent'] = 'Nao'\n",
    "df.loc[df['SUPORT_VEN'] == 9, 'suporte_vent'] = 'Ignorado'"
   ]
  },
  {
   "cell_type": "code",
   "execution_count": 94,
   "id": "7a7bacf7",
   "metadata": {},
   "outputs": [
    {
     "data": {
      "text/plain": [
       "Nao-invasivo    1141404\n",
       "Nao              487480\n",
       "Invasivo         391861\n",
       "Nulo             281592\n",
       "Ignorado          74909\n",
       "Name: suporte_vent, dtype: int64"
      ]
     },
     "execution_count": 94,
     "metadata": {},
     "output_type": "execute_result"
    }
   ],
   "source": [
    "df['suporte_vent'].value_counts(dropna = False)"
   ]
  },
  {
   "cell_type": "markdown",
   "id": "42a5fa4b",
   "metadata": {},
   "source": [
    "#### UTI\n",
    "\n",
    "A variável UTI é importante para avaliarmos a gravidade da evolução da doença. Ela, juntamente com a variável de suporte ventilatório, podem nos dizer se um paciente foi internado e intubado devido a SRAG. Como vemos atualmente com o coronavirus, quando um paciente é internado e intubado a chance de óbito aumenta consideravelmente, como mostra [esta reportagem](https://www.bbc.com/portuguese/brasil-56407803) que afirma que **80% dos intubados por covid-19 morreram no Brasil em 2020.**\n",
    "\n",
    "A documentação retrata que a variável UTI possui as seguintes categorias:\n",
    "\n",
    "* 1 - Sim\n",
    "* 2 - Não\n",
    "* 9 - Ignorado\n",
    "\n",
    "Já a variável SUPORT_VEN possui as categorias:\n",
    "\n",
    "* 1 - Sim, invasivo\n",
    "* 2 - Sim, não invasivo\n",
    "* 3 - Não\n",
    "* 9 - Ignorado\n",
    "\n",
    "Para o tratamento da variável UTI, utilizarei a variável de SUPORT_VEN como auxiliar. Nos casos em que houve suporte ventilatório INVASIVO e a variável UTI está como NaN, vou inferir que o paciente eventualmente foi para a UTI para acompanhamento. Nos outros casos, vou inferir que o paciente não foi para a UTI.\n",
    "\n",
    "Para os UTI = 9 também utilizarei a mesma premissa. No fim, UTI ficará com 2 valores, 0 (Não) e 1 (Sim)."
   ]
  },
  {
   "cell_type": "code",
   "execution_count": 95,
   "id": "6e115962",
   "metadata": {},
   "outputs": [
    {
     "data": {
      "text/plain": [
       "2.0    1325149\n",
       "1.0     724970\n",
       "NaN     283474\n",
       "9.0      43653\n",
       "Name: UTI, dtype: int64"
      ]
     },
     "execution_count": 95,
     "metadata": {},
     "output_type": "execute_result"
    }
   ],
   "source": [
    "df['UTI'].value_counts(dropna = False)"
   ]
  },
  {
   "cell_type": "code",
   "execution_count": 96,
   "id": "18fe68b8",
   "metadata": {},
   "outputs": [
    {
     "data": {
      "text/plain": [
       "NaN    179223\n",
       "2.0     50029\n",
       "3.0     37312\n",
       "1.0     10322\n",
       "9.0      6588\n",
       "Name: SUPORT_VEN, dtype: int64"
      ]
     },
     "execution_count": 96,
     "metadata": {},
     "output_type": "execute_result"
    }
   ],
   "source": [
    "df[df['UTI'].isnull()]['SUPORT_VEN'].value_counts(dropna=False)"
   ]
  },
  {
   "cell_type": "code",
   "execution_count": 97,
   "id": "5d275697",
   "metadata": {},
   "outputs": [
    {
     "data": {
      "text/plain": [
       "9.0    22520\n",
       "2.0    12242\n",
       "3.0     3454\n",
       "NaN     2931\n",
       "1.0     2506\n",
       "Name: SUPORT_VEN, dtype: int64"
      ]
     },
     "execution_count": 97,
     "metadata": {},
     "output_type": "execute_result"
    }
   ],
   "source": [
    "df[df['UTI'] == 9]['SUPORT_VEN'].value_counts(dropna=False)"
   ]
  },
  {
   "cell_type": "code",
   "execution_count": 98,
   "id": "f8d3f164",
   "metadata": {},
   "outputs": [],
   "source": [
    "# Vou fazer o tratamento por etapas para não ter confusão no entendimento. Inicialmente vou atender a condição descrita acima\n",
    "# e depois transformar tudo para 0 e 1\n",
    "UTI_trat = []\n",
    "UTI_temp = -1\n",
    "\n",
    "for i, j in zip(df['UTI'], df['SUPORT_VEN']):\n",
    "    if (j == 1 and pd.isnull(i)) or (j == 1 and i == 9):\n",
    "        UTI_temp = 1\n",
    "        UTI_trat.append(UTI_temp)\n",
    "    else:\n",
    "        UTI_temp = i\n",
    "        UTI_trat.append(UTI_temp)\n",
    "        \n",
    "UTI_trat = np.asarray(UTI_trat)"
   ]
  },
  {
   "cell_type": "code",
   "execution_count": 99,
   "id": "8b583b05",
   "metadata": {},
   "outputs": [],
   "source": [
    "df['uti_aux'] = UTI_trat"
   ]
  },
  {
   "cell_type": "code",
   "execution_count": 100,
   "id": "3a9b2112",
   "metadata": {},
   "outputs": [
    {
     "data": {
      "text/plain": [
       "2.0    1325149\n",
       "1.0     737798\n",
       "NaN     273152\n",
       "9.0      41147\n",
       "Name: uti_aux, dtype: int64"
      ]
     },
     "execution_count": 100,
     "metadata": {},
     "output_type": "execute_result"
    }
   ],
   "source": [
    "df['uti_aux'].value_counts(dropna = False)"
   ]
  },
  {
   "cell_type": "code",
   "execution_count": 101,
   "id": "1340a33c",
   "metadata": {},
   "outputs": [
    {
     "data": {
      "text/plain": [
       "Nao         1325149\n",
       "Sim          737798\n",
       "Nulo         273152\n",
       "Ignorado      41147\n",
       "Name: uti, dtype: int64"
      ]
     },
     "execution_count": 101,
     "metadata": {},
     "output_type": "execute_result"
    }
   ],
   "source": [
    "trat_nan_nove('uti_aux', 'uti')\n",
    "\n",
    "# df = (\n",
    "#     df.assign\n",
    "#     (\n",
    "#         uti = np.where((df.uti == 2) | (df.uti == 9), 0, df.uti.fillna(0))\n",
    "#     )\n",
    "# )\n",
    "\n",
    "df['uti'].value_counts(dropna=False)"
   ]
  },
  {
   "cell_type": "markdown",
   "id": "66f64d62",
   "metadata": {},
   "source": [
    "#### Histórico de viagem\n",
    "\n",
    "No início da pandemia soubemos que o primeiro caso foi um [homem de 61 anos que viajou à Itália](https://www.sanarmed.com/linha-do-tempo-do-coronavirus-no-brasil) emn 26/02/2020, desse modo, a viagem a outros países é um problema. Sabemos que o vírus também possui variantes e que estas podem ser adquiridas em outros países, por isso esta variável é importante. Será que pacientes que viajaram para outros países morrem mais?\n",
    "\n",
    "A variável possui as categorias:\n",
    "* 0 - _Não está na documentação_\n",
    "* 1 - Sim\n",
    "* 2 - Não\n",
    "* 9 - Ignorado"
   ]
  },
  {
   "cell_type": "code",
   "execution_count": 102,
   "id": "ee683153",
   "metadata": {},
   "outputs": [
    {
     "data": {
      "text/plain": [
       "0    1482172\n",
       "2     762342\n",
       "9     131708\n",
       "1       1024\n",
       "Name: HISTO_VGM, dtype: int64"
      ]
     },
     "execution_count": 102,
     "metadata": {},
     "output_type": "execute_result"
    }
   ],
   "source": [
    "df.HISTO_VGM.value_counts(dropna=False)"
   ]
  },
  {
   "cell_type": "markdown",
   "id": "d0880e39",
   "metadata": {},
   "source": [
    "Podemos ver que é uma variável que possui apenas 998 registros de Sim e o resto teria de entrar no campo do Não. Infelizmente há nenhuma maneira de utilizar esta variável no problema, pois, além de possuir uma categoria não documentada com muitos registros, ainda possui muitos registros como \"ignorado\". Vou optar por não utilizá-la."
   ]
  },
  {
   "cell_type": "markdown",
   "id": "94adef97",
   "metadata": {},
   "source": [
    "#### PCR e teste de antígeno positivo para outro vírus e/ou positivo para VSR, Parainfluenza 1, 2 e 3, Adenovirus, Metapneumovírus, Bocavirus, Rinovirus, Influenza e SARS-Cov-2 (Covid-19) \n",
    "\n",
    "Com exceção do PCR e teste de antígeno para Influenza e Outros vírus, os campos dos testes possuem as seguintes características:\n",
    "\n",
    "* 1 - Positivo\n",
    "* 2 - Não preenchido ou negativo\n",
    "\n",
    "Já os campos de Influenza e Outros vírus são dados por:\n",
    "\n",
    "* 1 - Sim\n",
    "* 2 - Não\n",
    "* 9 - Ignorado\n",
    "\n",
    "A variável Tipo de Influenza possui as categorias\n",
    "* 1 - Influenza A\n",
    "* 2 - Influenza B"
   ]
  },
  {
   "cell_type": "code",
   "execution_count": 103,
   "id": "869e2a1e",
   "metadata": {},
   "outputs": [
    {
     "data": {
      "text/plain": [
       "21"
      ]
     },
     "execution_count": 103,
     "metadata": {},
     "output_type": "execute_result"
    }
   ],
   "source": [
    "pcr_an_doencas = ['POS_PCRFLU', 'POS_PCROUT', 'PCR_VSR', 'PCR_PARA1', 'PCR_PARA2', 'PCR_PARA3', 'PCR_PARA4', 'PCR_ADENO', \n",
    "               'PCR_METAP', 'PCR_BOCA', 'PCR_RINO', 'PCR_SARS2', 'RES_AN', 'POS_AN_FLU', 'AN_SARS2', 'AN_VSR', 'AN_PARA1',\n",
    "               'AN_PARA2', 'AN_PARA3', 'AN_ADENO', 'AN_OUTRO']\n",
    "len(pcr_an_doencas)"
   ]
  },
  {
   "cell_type": "code",
   "execution_count": 104,
   "id": "55f4eb7f",
   "metadata": {},
   "outputs": [
    {
     "name": "stdout",
     "output_type": "stream",
     "text": [
      "NaN    1687306\n",
      "2.0     609448\n",
      "9.0      78475\n",
      "1.0       2017\n",
      "Name: POS_PCRFLU, dtype: int64\n",
      "\n",
      "NaN    1274513\n",
      "1.0    1097317\n",
      "2.0       4236\n",
      "9.0       1180\n",
      "Name: POS_PCROUT, dtype: int64\n",
      "\n",
      "NaN    2368775\n",
      "1.0       8471\n",
      "Name: PCR_VSR, dtype: int64\n",
      "\n",
      "NaN    2376940\n",
      "1.0        306\n",
      "Name: PCR_PARA1, dtype: int64\n",
      "\n",
      "NaN    2377147\n",
      "1.0         99\n",
      "Name: PCR_PARA2, dtype: int64\n",
      "\n",
      "NaN    2376602\n",
      "1.0        644\n",
      "Name: PCR_PARA3, dtype: int64\n",
      "\n",
      "NaN    2376982\n",
      "1.0        264\n",
      "Name: PCR_PARA4, dtype: int64\n",
      "\n",
      "NaN    2376303\n",
      "1.0        943\n",
      "Name: PCR_ADENO, dtype: int64\n",
      "\n",
      "NaN    2376786\n",
      "1.0        460\n",
      "Name: PCR_METAP, dtype: int64\n",
      "\n",
      "NaN    2376582\n",
      "1.0        664\n",
      "Name: PCR_BOCA, dtype: int64\n",
      "\n",
      "NaN    2371473\n",
      "1.0       5773\n",
      "Name: PCR_RINO, dtype: int64\n",
      "\n",
      "NaN    1296758\n",
      "1.0    1080488\n",
      "Name: PCR_SARS2, dtype: int64\n",
      "\n",
      "5.0    1028640\n",
      "4.0     652648\n",
      "NaN     324853\n",
      "1.0     286436\n",
      "2.0      64812\n",
      "9.0      19589\n",
      "3.0        268\n",
      "Name: RES_AN, dtype: int64\n",
      "\n",
      "NaN    2193887\n",
      "2.0     164284\n",
      "9.0      18406\n",
      "1.0        669\n",
      "Name: POS_AN_FLU, dtype: int64\n",
      "\n",
      "NaN    2152253\n",
      "1.0     224993\n",
      "Name: AN_SARS2, dtype: int64\n",
      "\n",
      "NaN    2374554\n",
      "1.0       2692\n",
      "Name: AN_VSR, dtype: int64\n",
      "\n",
      "NaN    2377225\n",
      "1.0         21\n",
      "Name: AN_PARA1, dtype: int64\n",
      "\n",
      "NaN    2377237\n",
      "1.0          9\n",
      "Name: AN_PARA2, dtype: int64\n",
      "\n",
      "NaN    2377175\n",
      "1.0         71\n",
      "Name: AN_PARA3, dtype: int64\n",
      "\n",
      "NaN    2377174\n",
      "1.0         72\n",
      "Name: AN_ADENO, dtype: int64\n",
      "\n",
      "NaN    2358233\n",
      "1.0      19013\n",
      "Name: AN_OUTRO, dtype: int64\n",
      "\n"
     ]
    }
   ],
   "source": [
    "for i in pcr_an_doencas:\n",
    "    print(df[i].value_counts(dropna = False))\n",
    "    print(\"\")"
   ]
  },
  {
   "cell_type": "markdown",
   "id": "97010caf",
   "metadata": {},
   "source": [
    "As variáveis RES_AN, TP_FLU_AN e TP_FLU_PCR não fazem sentido para a análise, uma vez que RES_AN apenas acompanha o resultado do teste de antígeno mas não identifica a doença e não irei analisar o subtipo de Influenza, apenas se o paciente teve influenza.\n",
    "\n",
    "Nem todos os vírus que se testam com PCR é feito também o teste com Antígeno, como por exemplo Bocavirus, Rinovirus, entre outros.\n",
    "\n",
    "Lembrando que, por mais que o paciente seja diagnosticado com a doença, pode ser que a causa da SRAG não tenha sido esta doença em si."
   ]
  },
  {
   "cell_type": "code",
   "execution_count": 105,
   "id": "39bc51f3",
   "metadata": {},
   "outputs": [],
   "source": [
    "pcr_doencas = ['PCR_VSR', 'PCR_PARA1', 'PCR_PARA2', 'PCR_PARA3', 'PCR_ADENO', 'PCR_SARS2']\n",
    "antigeno_doencas = ['AN_VSR', 'AN_PARA1', 'AN_PARA2', 'AN_PARA3', 'AN_ADENO', 'AN_SARS2']"
   ]
  },
  {
   "cell_type": "code",
   "execution_count": 106,
   "id": "50aef82e",
   "metadata": {
    "scrolled": false
   },
   "outputs": [],
   "source": [
    "df = df.reset_index(drop=True)"
   ]
  },
  {
   "cell_type": "code",
   "execution_count": 107,
   "id": "8be92708",
   "metadata": {},
   "outputs": [],
   "source": [
    "# Loop para as doenças que tem teste com antígeno e PCR. Se 1 em qlqr uma das duas colunas, 1 para a doença.\n",
    "for i, j in zip(pcr_doencas, antigeno_doencas):\n",
    "    \n",
    "    col_temp = []\n",
    "    col_num = -1\n",
    "    \n",
    "    for k, l in zip(df[i], df[j]):\n",
    "        if (k == 1 or l == 1):\n",
    "            col_num = 1\n",
    "            col_temp.append(col_num)\n",
    "        else:\n",
    "            col_num = 0\n",
    "            col_temp.append(col_num)\n",
    "        \n",
    "    df['positivo_' + j.lower().split('_')[1]] = col_temp   "
   ]
  },
  {
   "cell_type": "code",
   "execution_count": 108,
   "id": "ce7fabd9",
   "metadata": {
    "scrolled": true
   },
   "outputs": [
    {
     "data": {
      "text/plain": [
       "['POS_PCRFLU',\n",
       " 'POS_PCROUT',\n",
       " 'PCR_PARA4',\n",
       " 'PCR_METAP',\n",
       " 'PCR_BOCA',\n",
       " 'PCR_RINO',\n",
       " 'RES_AN',\n",
       " 'POS_AN_FLU',\n",
       " 'AN_OUTRO']"
      ]
     },
     "execution_count": 108,
     "metadata": {},
     "output_type": "execute_result"
    }
   ],
   "source": [
    "doencas_faltantes = []\n",
    "for i in pcr_an_doencas:\n",
    "    if i not in pcr_doencas and i not in antigeno_doencas:\n",
    "        doencas_faltantes.append(i)\n",
    "        \n",
    "doencas_faltantes"
   ]
  },
  {
   "cell_type": "code",
   "execution_count": 109,
   "id": "0d263ec7",
   "metadata": {},
   "outputs": [],
   "source": [
    "influ_temp = []\n",
    "influ_num_temp = -1\n",
    "\n",
    "for i, j in zip(df.POS_PCRFLU, df.POS_AN_FLU):\n",
    "    if (i == 1 or j == 1):\n",
    "        influ_num_temp = 1\n",
    "        influ_temp.append(influ_num_temp)\n",
    "    \n",
    "    else:\n",
    "        influ_num_temp = 0\n",
    "        influ_temp.append(influ_num_temp)\n",
    "\n",
    "df['positivo_influenza'] = influ_temp\n",
    "\n",
    "outro_temp = []\n",
    "outro_num_temp = -1\n",
    "\n",
    "for i, j in zip(df.POS_PCROUT, df.AN_OUTRO):\n",
    "    if (i == 1 or j == 1):\n",
    "        outro_num_temp = 1\n",
    "        outro_temp.append(outro_num_temp)\n",
    "    \n",
    "    else:\n",
    "        outro_num_temp = 0\n",
    "        outro_temp.append(outro_num_temp)\n",
    "        \n",
    "df['positivo_outro'] = outro_temp"
   ]
  },
  {
   "cell_type": "code",
   "execution_count": 110,
   "id": "2c5e8a57",
   "metadata": {},
   "outputs": [],
   "source": [
    "df['positivo_para4'] = 0\n",
    "\n",
    "df.loc[df['PCR_PARA4'] == 1, 'positivo_para4'] = 1\n",
    "\n",
    "df['positivo_metap'] = 0\n",
    "\n",
    "df.loc[df['PCR_METAP'] == 1, 'positivo_metap'] = 1\n",
    "\n",
    "df['positivo_boca'] = 0\n",
    "\n",
    "df.loc[df['PCR_BOCA'] == 1, 'positivo_boca'] = 1\n",
    "\n",
    "df['positivo_rino'] = 0\n",
    "\n",
    "df.loc[df['PCR_RINO'] == 1, 'positivo_rino'] = 1"
   ]
  },
  {
   "cell_type": "code",
   "execution_count": 111,
   "id": "250a720a",
   "metadata": {},
   "outputs": [
    {
     "name": "stdout",
     "output_type": "stream",
     "text": [
      "NaN    2376850\n",
      "3.0        312\n",
      "1.0         57\n",
      "5.0         11\n",
      "2.0         10\n",
      "4.0          6\n",
      "Name: PCR_FLUBLI, dtype: int64\n",
      "\n",
      "NaN                 2377240\n",
      "SARS-COV-2                2\n",
      "NAO ESPECIFICADO          1\n",
      "SAZONAL                   1\n",
      "N1N1                      1\n",
      "H1N1                      1\n",
      "Name: FLUBLI_OUT, dtype: int64\n",
      "\n",
      "NaN    1274513\n",
      "1.0    1097317\n",
      "2.0       4236\n",
      "9.0       1180\n",
      "Name: POS_PCROUT, dtype: int64\n",
      "\n",
      "NaN    2368775\n",
      "1.0       8471\n",
      "Name: PCR_VSR, dtype: int64\n",
      "\n",
      "NaN    2376940\n",
      "1.0        306\n",
      "Name: PCR_PARA1, dtype: int64\n",
      "\n",
      "NaN    2377147\n",
      "1.0         99\n",
      "Name: PCR_PARA2, dtype: int64\n",
      "\n",
      "NaN    2376602\n",
      "1.0        644\n",
      "Name: PCR_PARA3, dtype: int64\n",
      "\n",
      "NaN    2376982\n",
      "1.0        264\n",
      "Name: PCR_PARA4, dtype: int64\n",
      "\n",
      "NaN    2376303\n",
      "1.0        943\n",
      "Name: PCR_ADENO, dtype: int64\n",
      "\n",
      "NaN    2376786\n",
      "1.0        460\n",
      "Name: PCR_METAP, dtype: int64\n",
      "\n",
      "NaN    2376582\n",
      "1.0        664\n",
      "Name: PCR_BOCA, dtype: int64\n",
      "\n",
      "NaN    2371473\n",
      "1.0       5773\n",
      "Name: PCR_RINO, dtype: int64\n",
      "\n",
      "NaN    2372664\n",
      "1.0       4582\n",
      "Name: PCR_OUTRO, dtype: int64\n",
      "\n",
      "NaN                          2374588\n",
      "COVID-19                        1046\n",
      "COVID 19                         381\n",
      "COVID                            191\n",
      "ENTEROVIRUS                      151\n",
      "                              ...   \n",
      "IGNORADO                           1\n",
      "CORONA VIRUS SUBTIPO HKU1          1\n",
      "COV-HKU1                           1\n",
      "NOVO CORONAVIRUS                   1\n",
      "GI/ GII                            1\n",
      "Name: DS_PCR_OUT, Length: 193, dtype: int64\n",
      "\n",
      "5.0    1709040\n",
      "4.0     634637\n",
      "2.0      18130\n",
      "3.0       6161\n",
      "NaN       5971\n",
      "1.0       3307\n",
      "Name: CLASSI_FIN, dtype: int64\n",
      "\n",
      "NaN                               2373769\n",
      "TUBERCULOSE                           358\n",
      "PNEUMONIA BACTERIANA                  200\n",
      "IC DESCOMPENSADA                      117\n",
      "MYCOBACTERIUM TUBERCULOSIS            115\n",
      "                                   ...   \n",
      "M. TUBERCULOSIS; P. JIROVECII           1\n",
      "INSUFICIENCIA RESPIRATORIA AGD          1\n",
      "DENGUE IGM+                             1\n",
      "NEOPLASIA DE PULMAO, DPOC               1\n",
      "TESTE NEGATIVO COVID                    1\n",
      "Name: CLASSI_OUT, Length: 1292, dtype: int64\n",
      "\n",
      "1.0    2112639\n",
      "4.0      95200\n",
      "3.0      90011\n",
      "NaN      49153\n",
      "2.0      30243\n",
      "Name: CRITERIO, dtype: int64\n",
      "\n",
      "0    1656369\n",
      "1     720877\n",
      "Name: EVOLUCAO, dtype: int64\n",
      "\n",
      "NaT           115819\n",
      "2021-03-30      9248\n",
      "2021-03-29      9081\n",
      "2021-03-31      8994\n",
      "2021-03-26      8914\n",
      "               ...  \n",
      "2020-04-01         6\n",
      "2020-02-01         5\n",
      "2020-01-01         2\n",
      "2019-12-30         1\n",
      "2019-12-31         1\n",
      "Name: DT_EVOLUCA, Length: 701, dtype: int64\n",
      "\n",
      "NaT           31797\n",
      "2021-05-04    10962\n",
      "2021-12-04    10622\n",
      "2021-03-30    10610\n",
      "2021-04-19    10610\n",
      "              ...  \n",
      "2020-04-01        2\n",
      "2020-01-01        1\n",
      "2020-11-01        1\n",
      "2020-01-26        1\n",
      "2019-12-30        1\n",
      "Name: DT_ENCERRA, Length: 697, dtype: int64\n",
      "\n",
      "29/03/2021    12261\n",
      "05/04/2021    11894\n",
      "22/03/2021    11582\n",
      "25/03/2021    11568\n",
      "12/04/2021    11451\n",
      "              ...  \n",
      "11/01/2020        1\n",
      "16/02/2020        1\n",
      "08/03/2020        1\n",
      "18/01/2020        1\n",
      "02/02/2020        1\n",
      "Name: DT_DIGITA, Length: 690, dtype: int64\n",
      "\n",
      "0    1482172\n",
      "2     762342\n",
      "9     131708\n",
      "1       1024\n",
      "Name: HISTO_VGM, dtype: int64\n",
      "\n",
      "NaN                                     2376157\n",
      "BRASIL                                      367\n",
      "ESTADOS UNIDOS DA AMERICA                   138\n",
      "ITALIA                                      104\n",
      "PORTUGAL                                     56\n",
      "PARAGUAI                                     50\n",
      "FRANCA                                       41\n",
      "ARGENTINA                                    39\n",
      "ESPANHA                                      38\n",
      "BOLIVIA                                      36\n",
      "REINO UNIDO                                  25\n",
      "MEXICO                                       20\n",
      "CHILE                                        17\n",
      "ALEMANHA                                     16\n",
      "URUGUAI                                      16\n",
      "EMIRADOS ARABES UNIDOS                       14\n",
      "REPUBLICA DOMINICANA                          8\n",
      "CANADA                                        8\n",
      "COLOMBIA                                      8\n",
      "AUSTRALIA                                     5\n",
      "SUICA                                         5\n",
      "CHINA, REPUBLICA POPULAR                      5\n",
      "PAISES BAIXOS (HOLANDA)                       5\n",
      "PANAMA                                        4\n",
      "ISRAEL                                        4\n",
      "GUIANA FRANCESA                               4\n",
      "PERU                                          4\n",
      "TAILANDIA                                     4\n",
      "TURQUIA, REPUBLICA DA                         3\n",
      "RUSSIA, FEDERACAO DA                          3\n",
      "AFRICA DO SUL                                 3\n",
      "IRLANDA                                       3\n",
      "JAPAO                                         3\n",
      "FILIPINAS                                     2\n",
      "INDIA                                         2\n",
      "ANGOLA, REPUBLICA DE                          2\n",
      "GUIANA                                        2\n",
      "EGITO                                         2\n",
      "VENEZUELA                                     2\n",
      "AUSTRIA                                       2\n",
      "MOCAMBIQUE                                    1\n",
      "MALDIVAS                                      1\n",
      "COSTA RICA                                    1\n",
      "MALASIA                                       1\n",
      "MARROCOS                                      1\n",
      "NIGERIA                                       1\n",
      "MARTINICA                                     1\n",
      "DINAMARCA                                     1\n",
      "COREIA, REPUBLICA DA (COREIA DO SUL)          1\n",
      "NORUEGA                                       1\n",
      "SUECIA                                        1\n",
      "BANGLADESH                                    1\n",
      "HONDURAS                                      1\n",
      "UCRANIA                                       1\n",
      "ILHAS BAHAMAS                                 1\n",
      "INDONESIA                                     1\n",
      "ARABIA SAUDITA                                1\n",
      "BELGICA                                       1\n",
      "ANTARCTICA                                    1\n",
      "Name: PAIS_VGM, dtype: int64\n",
      "\n",
      "NaN      2376157\n",
      "1.0          367\n",
      "45.0         138\n",
      "19.0         104\n",
      "182.0         56\n",
      "126.0         50\n",
      "46.0          41\n",
      "32.0          39\n",
      "44.0          38\n",
      "68.0          36\n",
      "38.0          25\n",
      "21.0          20\n",
      "192.0         17\n",
      "41.0          16\n",
      "137.0         16\n",
      "157.0         14\n",
      "129.0          8\n",
      "96.0           8\n",
      "151.0          8\n",
      "92.0           5\n",
      "9.0            5\n",
      "193.0          5\n",
      "37.0           5\n",
      "124.0          4\n",
      "54.0           4\n",
      "111.0          4\n",
      "7.0            4\n",
      "186.0          4\n",
      "136.0          3\n",
      "49.0           3\n",
      "140.0          3\n",
      "17.0           3\n",
      "55.0           3\n",
      "107.0          2\n",
      "164.0          2\n",
      "31.0           2\n",
      "199.0          2\n",
      "102.0          2\n",
      "138.0          2\n",
      "143.0          2\n",
      "22.0           1\n",
      "36.0           1\n",
      "100.0          1\n",
      "171.0          1\n",
      "6.0            1\n",
      "177.0          1\n",
      "233.0          1\n",
      "196.0          1\n",
      "34.0           1\n",
      "24.0           1\n",
      "23.0           1\n",
      "145.0          1\n",
      "72.0           1\n",
      "39.0           1\n",
      "52.0           1\n",
      "165.0          1\n",
      "141.0          1\n",
      "43.0           1\n",
      "261.0          1\n",
      "Name: CO_PS_VGM, dtype: int64\n",
      "\n",
      "NaN                            2376540\n",
      "SAO PAULO                           36\n",
      "CUIABA                              23\n",
      "ROMA                                17\n",
      "RIO DE JANEIRO                      17\n",
      "                                ...   \n",
      "IMPERATRIZ, MARABA, TUCURUI          1\n",
      "CALIFORNIA                           1\n",
      "SAO PAULO CAPITAL                    1\n",
      "1837                                 1\n",
      "JEQUIE                               1\n",
      "Name: LO_PS_VGM, Length: 398, dtype: int64\n",
      "\n",
      "NaN           2376217\n",
      "01/03/2020         43\n",
      "10/03/2020         41\n",
      "08/03/2020         28\n",
      "06/03/2020         25\n",
      "               ...   \n",
      "21/03/2020          1\n",
      "06/09/2020          1\n",
      "20/05/2019          1\n",
      "04/02/2000          1\n",
      "01/02/2021          1\n",
      "Name: DT_VGM, Length: 296, dtype: int64\n",
      "\n",
      "NaN           2376218\n",
      "15/03/2020         44\n",
      "14/03/2020         38\n",
      "13/03/2020         29\n",
      "17/03/2020         27\n",
      "               ...   \n",
      "04/12/2020          1\n",
      "17/07/2020          1\n",
      "10/07/2020          1\n",
      "29/08/2020          1\n",
      "12/02/2021          1\n",
      "Name: DT_RT_VGM, Length: 271, dtype: int64\n",
      "\n",
      "NaN    1296758\n",
      "1.0    1080488\n",
      "Name: PCR_SARS2, dtype: int64\n",
      "\n",
      "NaN       2323947\n",
      "XXX          6744\n",
      "622020       3446\n",
      "141410       1819\n",
      "621005       1793\n",
      "           ...   \n",
      "514305          1\n",
      "261710          1\n",
      "111345          1\n",
      "312210          1\n",
      "233225          1\n",
      "Name: PAC_COCBO, Length: 1445, dtype: int64\n",
      "\n",
      "NaN                                                         2323947\n",
      "NAO INFORMADO                                                  6744\n",
      "TRABALHADOR VOLANTE DA AGRICULTURA                             3446\n",
      "COMERCIANTE VAREJISTA                                          1819\n",
      "TRABALHADOR AGROPECUARIO EM GERAL                              1793\n",
      "                                                             ...   \n",
      "LIMPADOR DE VIDROS                                                1\n",
      "COMENTARISTA DE RADIO E TELEVISAO                                 1\n",
      "JUIZ DO TRABALHO                                                  1\n",
      "TECNICO DE SANEAMENTO                                             1\n",
      "PROFESSOR INSTRUTOR DE ENSINO E APRENDIZAGEM EM SERVICOS          1\n",
      "Name: PAC_DSCBO, Length: 1445, dtype: int64\n",
      "\n"
     ]
    },
    {
     "name": "stdout",
     "output_type": "stream",
     "text": [
      "NaN                            2375598\n",
      "CACHORRO                           706\n",
      "GATO                               180\n",
      "CAO                                 78\n",
      "CACHORRO E GATO                     45\n",
      "                                ...   \n",
      "AVES E CACHORROS                     1\n",
      "GATO/FELINO                          1\n",
      "GATO1                                1\n",
      "CACHORRO E GATOS                     1\n",
      "GENITOR TRABALHA EM FAZENDA          1\n",
      "Name: OUT_ANIM, Length: 251, dtype: int64\n",
      "\n",
      "2.0    1194595\n",
      "NaN    1013622\n",
      "1.0     118047\n",
      "9.0      50982\n",
      "Name: DOR_ABD, dtype: int64\n",
      "\n",
      "NaN    943523\n",
      "2.0    927833\n",
      "1.0    458674\n",
      "9.0     47216\n",
      "Name: FADIGA, dtype: int64\n",
      "\n",
      "2.0    1154683\n",
      "NaN     996675\n",
      "1.0     166367\n",
      "9.0      59521\n",
      "Name: PERD_OLFT, dtype: int64\n",
      "\n",
      "2.0    1149770\n",
      "NaN     998346\n",
      "1.0     168849\n",
      "9.0      60281\n",
      "Name: PERD_PALA, dtype: int64\n",
      "\n",
      "NaN    1073881\n",
      "1.0     670734\n",
      "6.0     358356\n",
      "9.0     113471\n",
      "5.0      65006\n",
      "2.0      50948\n",
      "3.0      35662\n",
      "4.0       9188\n",
      "Name: TOMO_RES, dtype: int64\n",
      "\n",
      "NaN                               2322576\n",
      "VIDRO FOSCO                          5360\n",
      "SOLICITADO                           2271\n",
      "SEM LAUDO                            2003\n",
      "DERRAME PLEURAL                      1923\n",
      "                                   ...   \n",
      "GRANULOMATOSE                           1\n",
      "DERRAME PLEURAL BILATERAL, PR           1\n",
      "TOMOGRAFIA DE TORAX 09/07: SEM          1\n",
      "SEM VF, INESPECIFICO                    1\n",
      "50% DE COMPROMETIDO                     1\n",
      "Name: TOMO_OUT, Length: 12544, dtype: int64\n",
      "\n",
      "NaN           1617422\n",
      "15/03/2021       4276\n",
      "23/03/2021       4227\n",
      "22/03/2021       4160\n",
      "16/03/2021       4109\n",
      "               ...   \n",
      "30/04/2102          1\n",
      "27/02/2020          1\n",
      "04/03/2020          1\n",
      "31/05/2024          1\n",
      "15/12/2021          1\n",
      "Name: DT_TOMO, Length: 927, dtype: int64\n",
      "\n",
      "NaN    1662647\n",
      "1.0     429811\n",
      "2.0     284788\n",
      "Name: TP_TES_AN, dtype: int64\n",
      "\n",
      "NaN           2011999\n",
      "31/05/2021       2625\n",
      "07/06/2021       2436\n",
      "24/05/2021       2402\n",
      "17/05/2021       2360\n",
      "               ...   \n",
      "07/01/2020          1\n",
      "31/12/2019          1\n",
      "02/01/2020          1\n",
      "26/01/2020          1\n",
      "28/11/2021          1\n",
      "Name: DT_RES_AN, Length: 698, dtype: int64\n",
      "\n",
      "5.0    1028640\n",
      "4.0     652648\n",
      "NaN     324853\n",
      "1.0     286436\n",
      "2.0      64812\n",
      "9.0      19589\n",
      "3.0        268\n",
      "Name: RES_AN, dtype: int64\n",
      "\n",
      "NaN    2193887\n",
      "2.0     164284\n",
      "9.0      18406\n",
      "1.0        669\n",
      "Name: POS_AN_FLU, dtype: int64\n",
      "\n",
      "NaN    2376581\n",
      "1.0        409\n",
      "2.0        256\n",
      "Name: TP_FLU_AN, dtype: int64\n",
      "\n",
      "NaN    2130695\n",
      "1.0     242885\n",
      "2.0       2521\n",
      "9.0       1145\n",
      "Name: POS_AN_OUT, dtype: int64\n",
      "\n",
      "NaN    2152253\n",
      "1.0     224993\n",
      "Name: AN_SARS2, dtype: int64\n",
      "\n",
      "NaN    2374554\n",
      "1.0       2692\n",
      "Name: AN_VSR, dtype: int64\n",
      "\n",
      "NaN    2377225\n",
      "1.0         21\n",
      "Name: AN_PARA1, dtype: int64\n",
      "\n",
      "NaN    2377237\n",
      "1.0          9\n",
      "Name: AN_PARA2, dtype: int64\n",
      "\n",
      "NaN    2377175\n",
      "1.0         71\n",
      "Name: AN_PARA3, dtype: int64\n",
      "\n",
      "NaN    2377174\n",
      "1.0         72\n",
      "Name: AN_ADENO, dtype: int64\n",
      "\n",
      "NaN    2358233\n",
      "1.0      19013\n",
      "Name: AN_OUTRO, dtype: int64\n",
      "\n",
      "NaN                         2360715\n",
      "SARS-COV-2                     5205\n",
      "COVID-19                       2284\n",
      "SARS COV 2                     2215\n",
      "COVID 19                       1420\n",
      "                             ...   \n",
      "SARS COV COVID                    1\n",
      "SARS-COV-2(COVID-19)              1\n",
      "SARS COV 2 TR IGM                 1\n",
      "SANGUE                            1\n",
      "RHINOVIRUS E PARECOVIRUS          1\n",
      "Name: DS_AN_OUT, Length: 428, dtype: int64\n",
      "\n",
      "NaN    2158023\n",
      "1.0     172438\n",
      "9.0      23996\n",
      "2.0      22789\n",
      "Name: TP_AM_SOR, dtype: int64\n",
      "\n",
      "NaN                       2354009\n",
      "SWAB                         5049\n",
      "SWAB NASOFARINGE             1815\n",
      "NASO-OROFARINGE              1537\n",
      "NASOFARINGE                  1474\n",
      "                           ...   \n",
      "SECRECAO NASO-FARINGIA          1\n",
      "SWAB NASO ORAFINGE              1\n",
      "Q                               1\n",
      "SWAB NAOSOOROFARINGE            1\n",
      "SWABA NASOFARINGE               1\n",
      "Name: SOR_OUT, Length: 811, dtype: int64\n",
      "\n",
      "NaN           2193895\n",
      "22/03/2021        894\n",
      "15/03/2021        887\n",
      "05/04/2021        829\n",
      "17/03/2021        826\n",
      "               ...   \n",
      "24/02/2020          1\n",
      "01/10/2010          1\n",
      "13/02/2020          1\n",
      "29/11/2021          1\n",
      "30/11/2021          1\n",
      "Name: DT_CO_SOR, Length: 733, dtype: int64\n",
      "\n",
      "NaN    2173807\n",
      "1.0     176885\n",
      "4.0      13846\n",
      "3.0       9497\n",
      "2.0       3211\n",
      "Name: TP_SOR, dtype: int64\n",
      "\n",
      "NaN                          2362940\n",
      "PCR                             2741\n",
      "RT-PCR                          2299\n",
      "SWAB                            1366\n",
      "ELETROQUIMIOLUMINESCENCIA        835\n",
      "                              ...   \n",
      "CLINICO IMAGEM                     1\n",
      "IMUNOENSAIO FLUROSCENTE            1\n",
      "NASOFARINGE E OROFARINGE           1\n",
      "ELETROQUIMIOLUNINESCENCIA          1\n",
      "19042021                           1\n",
      "Name: OUT_SOR, Length: 620, dtype: int64\n",
      "\n",
      "NaN           2172481\n",
      "23/03/2021        998\n",
      "22/03/2021        976\n",
      "15/03/2021        937\n",
      "05/04/2021        914\n",
      "               ...   \n",
      "01/12/2021          1\n",
      "09/02/2020          1\n",
      "24/02/2020          1\n",
      "14/03/2020          1\n",
      "24/11/2021          1\n",
      "Name: DT_RES, Length: 757, dtype: int64\n",
      "\n",
      "NaN    2084657\n",
      "4.0     112835\n",
      "1.0     105529\n",
      "2.0      69000\n",
      "9.0       4610\n",
      "5.0        350\n",
      "3.0        265\n",
      "Name: RES_IGG, dtype: int64\n",
      "\n",
      "NaN    2077165\n",
      "1.0     122434\n",
      "4.0     110872\n",
      "2.0      61962\n",
      "9.0       4043\n",
      "3.0        414\n",
      "5.0        356\n",
      "Name: RES_IGM, dtype: int64\n",
      "\n",
      "NaN    2170862\n",
      "4.0     183004\n",
      "9.0       9349\n",
      "1.0       6879\n",
      "2.0       5863\n",
      "5.0        651\n",
      "3.0        638\n",
      "Name: RES_IGA, dtype: int64\n",
      "\n",
      "NaN    1436220\n",
      "2.0     934562\n",
      "1.0       6464\n",
      "Name: ESTRANG, dtype: int64\n",
      "\n",
      "NaN    1459036\n",
      "2.0     450205\n",
      "1.0     251139\n",
      "9.0     216866\n",
      "Name: VACINA_COV, dtype: int64\n",
      "\n",
      "NaN           2155481\n",
      "23/03/2021       4322\n",
      "26/03/2021       4032\n",
      "25/03/2021       3781\n",
      "24/03/2021       3675\n",
      "               ...   \n",
      "06/07/2921          1\n",
      "21/04/0221          1\n",
      "24/07/2019          1\n",
      "09/06/2023          1\n",
      "28/02/2020          1\n",
      "Name: DOSE_1_COV, Length: 478, dtype: int64\n",
      "\n",
      "NaN           2251416\n",
      "20/04/2021       2605\n",
      "19/04/2021       2536\n",
      "16/04/2021       2523\n",
      "22/04/2021       2422\n",
      "               ...   \n",
      "20/11/2020          1\n",
      "26/05/5202          1\n",
      "15/04/2020          1\n",
      "09/01/2021          1\n",
      "10/04/2013          1\n",
      "Name: DOSE_2_COV, Length: 447, dtype: int64\n",
      "\n",
      "NaN                                                           2155031\n",
      "CORONAVAC                                                       33784\n",
      "BUTANTAN                                                        22997\n",
      "ASTRAZENECA                                                     20334\n",
      "86 - COVID-19 SINOVAC/BUTANTAN - CORONAVAC                      18384\n",
      "                                                               ...   \n",
      "SEM RELATOS O PRONTUARIO                                            1\n",
      "COVISHELD -OSWALDO CRUZ                                             1\n",
      "FUNDACAO BUTANTAN-CORONAVAC-SINOVAC                                 1\n",
      "TOMOU 2 DOSES DE CORONAVAC,MAS NAO SABE INFORMAR AS DATAS.          1\n",
      "CORONAVAC/BUTANTAN/FUNDACAO BUTANTAN                                1\n",
      "Name: LAB_PR_COV, Length: 4865, dtype: int64\n",
      "\n",
      "NaN             2223085\n",
      "4120Z005           3125\n",
      "4120Z026           2790\n",
      "4120Z001           2305\n",
      "210010             1840\n",
      "                 ...   \n",
      "2103VCD014W           1\n",
      "213ucd00szua          1\n",
      "214V2071Z             1\n",
      "214vcd0048z           1\n",
      "fd219                 1\n",
      "Name: LOTE_1_COV, Length: 7247, dtype: int64\n",
      "\n",
      "NaN            2282219\n",
      "210130            1426\n",
      "210048            1322\n",
      "210116            1202\n",
      "210146            1135\n",
      "                ...   \n",
      "ABX052B              1\n",
      "214VC0090Z           1\n",
      "213VCDO22W           1\n",
      "l213vcd004w          1\n",
      "cpi-5                1\n",
      "Name: LOTE_2_COV, Length: 3843, dtype: int64\n",
      "\n",
      "NaN    1458971\n",
      "1.0     846011\n",
      "2.0      72264\n",
      "Name: FNT_IN_COV, dtype: int64\n",
      "\n",
      "7.0      39625\n",
      "10.0     39320\n",
      "8.0      38994\n",
      "9.0      38800\n",
      "15.0     38272\n",
      "         ...  \n",
      "701.0        1\n",
      "612.0        1\n",
      "674.0        1\n",
      "677.0        1\n",
      "564.0        1\n",
      "Name: tempo_alta_obito_final, Length: 689, dtype: int64\n",
      "\n",
      "Sim         1295959\n",
      "Nao          694051\n",
      "Nulo         354864\n",
      "Ignorado      32372\n",
      "Name: febre, dtype: int64\n",
      "\n",
      "Sim         1594500\n",
      "Nao          473304\n",
      "Nulo         282613\n",
      "Ignorado      26829\n",
      "Name: tosse, dtype: int64\n",
      "\n",
      "Sim         1652026\n",
      "Nao          435789\n",
      "Nulo         266170\n",
      "Ignorado      23261\n",
      "Name: dispneia, dtype: int64\n",
      "\n",
      "Nao         1369864\n",
      "Nulo         661473\n",
      "Sim          295458\n",
      "Ignorado      50451\n",
      "Name: diarreia, dtype: int64\n",
      "\n",
      "Nao         1431554\n",
      "Nulo         686468\n",
      "Sim          206913\n",
      "Ignorado      52311\n",
      "Name: vomito, dtype: int64\n",
      "\n",
      "Nao         1295702\n",
      "Nulo         638746\n",
      "Sim          388754\n",
      "Ignorado      54044\n",
      "Name: garganta, dtype: int64\n",
      "\n"
     ]
    },
    {
     "name": "stdout",
     "output_type": "stream",
     "text": [
      "Sim         1325124\n",
      "Nao          609620\n",
      "Nulo         412009\n",
      "Ignorado      30493\n",
      "Name: desc_resp, dtype: int64\n",
      "\n",
      "Sim         1439788\n",
      "Nao          546755\n",
      "Nulo         357210\n",
      "Ignorado      33493\n",
      "Name: saturacao, dtype: int64\n",
      "\n",
      "Nao         1194595\n",
      "Nulo        1013622\n",
      "Sim          118047\n",
      "Ignorado      50982\n",
      "Name: dor_abd, dtype: int64\n",
      "\n",
      "Nulo        943523\n",
      "Nao         927833\n",
      "Sim         458674\n",
      "Ignorado     47216\n",
      "Name: fadiga, dtype: int64\n",
      "\n",
      "Nao         1154683\n",
      "Nulo         996675\n",
      "Sim          166367\n",
      "Ignorado      59521\n",
      "Name: perd_olft, dtype: int64\n",
      "\n",
      "Nao         1149770\n",
      "Nulo         998346\n",
      "Sim          168849\n",
      "Ignorado      60281\n",
      "Name: perd_pala, dtype: int64\n",
      "\n",
      "Nulo        1471180\n",
      "Nao          864997\n",
      "Ignorado      23618\n",
      "Sim           17451\n",
      "Name: hematologi, dtype: int64\n",
      "\n",
      "Nulo        1216258\n",
      "Sim          717149\n",
      "Nao          431003\n",
      "Ignorado      12836\n",
      "Name: cardiopati, dtype: int64\n",
      "\n",
      "Nulo        1455155\n",
      "Nao          822144\n",
      "Sim           78110\n",
      "Ignorado      21837\n",
      "Name: asma, dtype: int64\n",
      "\n",
      "Nulo        1292669\n",
      "Nao          570068\n",
      "Sim          499125\n",
      "Ignorado      15384\n",
      "Name: diabetes, dtype: int64\n",
      "\n",
      "Nulo        1448690\n",
      "Nao          812239\n",
      "Sim           93748\n",
      "Ignorado      22569\n",
      "Name: pneumopati, dtype: int64\n",
      "\n",
      "Nulo        1454979\n",
      "Nao          819017\n",
      "Sim           81236\n",
      "Ignorado      22014\n",
      "Name: renal, dtype: int64\n",
      "\n",
      "Nulo        1462333\n",
      "Nao          830911\n",
      "Sim           60898\n",
      "Ignorado      23104\n",
      "Name: imunodepre, dtype: int64\n",
      "\n",
      "Nulo        1473576\n",
      "Nao          860333\n",
      "Ignorado      23504\n",
      "Sim           19833\n",
      "Name: hepatica, dtype: int64\n",
      "\n",
      "Nulo        1449618\n",
      "Nao          811963\n",
      "Sim           93493\n",
      "Ignorado      22172\n",
      "Name: neurologic, dtype: int64\n",
      "\n",
      "Nulo        1427827\n",
      "Nao          753425\n",
      "Sim          166756\n",
      "Ignorado      29238\n",
      "Name: obesidade, dtype: int64\n",
      "\n",
      "Nulo        1473962\n",
      "Nao          874022\n",
      "Ignorado      21517\n",
      "Sim            7745\n",
      "Name: puerpera, dtype: int64\n",
      "\n",
      "Nulo        1474296\n",
      "Nao          874471\n",
      "Ignorado      21407\n",
      "Sim            7072\n",
      "Name: sind_down, dtype: int64\n",
      "\n",
      "57.000     45469\n",
      "58.000     45442\n",
      "59.000     45319\n",
      "66.000     44762\n",
      "56.000     44371\n",
      "           ...  \n",
      "0.222          1\n",
      "116.000        1\n",
      "0.230          1\n",
      "5.917          1\n",
      "0.181          1\n",
      "Name: idade, Length: 180, dtype: int64\n",
      "\n",
      "0    2354625\n",
      "1      22621\n",
      "Name: gravidez, dtype: int64\n",
      "\n",
      "Branca          996860\n",
      "Parda           811270\n",
      "Ignorado        392468\n",
      "Preta           107151\n",
      "Desconhecido     41469\n",
      "Amarela          23121\n",
      "Indigena          4907\n",
      "Name: raca, dtype: int64\n",
      "\n",
      "Ignorado    836523\n",
      "Nao         740949\n",
      "Nulo        549222\n",
      "Sim         250552\n",
      "Name: vacina_gripe, dtype: int64\n",
      "\n",
      "NaN    2339940\n",
      "1.0      28666\n",
      "9.0       4852\n",
      "2.0       3788\n",
      "Name: amam_trat, dtype: int64\n",
      "\n",
      "0    2348580\n",
      "1      28666\n",
      "Name: mae_amamenta, dtype: int64\n",
      "\n",
      "0    2375419\n",
      "1       1827\n",
      "Name: mae_vacinada_gripe, dtype: int64\n",
      "\n",
      "COVID           1709040\n",
      "Desconhecido     640608\n",
      "Outros            24291\n",
      "Influenza          3307\n",
      "Name: diagnostico, dtype: int64\n",
      "\n",
      "Nao         1486551\n",
      "Nulo         354539\n",
      "Ignorado     333989\n",
      "Sim          202167\n",
      "Name: antiviral, dtype: int64\n",
      "\n",
      "Nao-invasivo    1141404\n",
      "Nao              487480\n",
      "Invasivo         391861\n",
      "Nulo             281592\n",
      "Ignorado          74909\n",
      "Name: suporte_vent, dtype: int64\n",
      "\n",
      "2.0    1325149\n",
      "1.0     737798\n",
      "NaN     273152\n",
      "9.0      41147\n",
      "Name: uti_aux, dtype: int64\n",
      "\n",
      "Nao         1325149\n",
      "Sim          737798\n",
      "Nulo         273152\n",
      "Ignorado      41147\n",
      "Name: uti, dtype: int64\n",
      "\n",
      "0    2366298\n",
      "1      10948\n",
      "Name: positivo_vsr, dtype: int64\n",
      "\n",
      "0    2376920\n",
      "1        326\n",
      "Name: positivo_para1, dtype: int64\n",
      "\n",
      "0    2377138\n",
      "1        108\n",
      "Name: positivo_para2, dtype: int64\n",
      "\n",
      "0    2376533\n",
      "1        713\n",
      "Name: positivo_para3, dtype: int64\n",
      "\n",
      "0    2376238\n",
      "1       1008\n",
      "Name: positivo_adeno, dtype: int64\n",
      "\n",
      "1    1279830\n",
      "0    1097416\n",
      "Name: positivo_sars2, dtype: int64\n",
      "\n",
      "0    2374662\n",
      "1       2584\n",
      "Name: positivo_influenza, dtype: int64\n",
      "\n",
      "0    1263749\n",
      "1    1113497\n",
      "Name: positivo_outro, dtype: int64\n",
      "\n",
      "0    2376982\n",
      "1        264\n",
      "Name: positivo_para4, dtype: int64\n",
      "\n",
      "0    2376786\n",
      "1        460\n",
      "Name: positivo_metap, dtype: int64\n",
      "\n",
      "0    2376582\n",
      "1        664\n",
      "Name: positivo_boca, dtype: int64\n",
      "\n",
      "0    2371473\n",
      "1       5773\n",
      "Name: positivo_rino, dtype: int64\n",
      "\n"
     ]
    }
   ],
   "source": [
    "for i in df.columns[93:]:\n",
    "    print(df[i].value_counts(dropna = False))\n",
    "    print(\"\")"
   ]
  },
  {
   "cell_type": "markdown",
   "id": "f28e34cb",
   "metadata": {},
   "source": [
    "Como as variáveis \"positivo_outro\" e \"positivo_sars2\" possuem alta correlação positiva, vou assumir que os diagnósticos de COVID-19 também estão dentro da 1a. Assim, caso o diagnóstico seja 1 em positivo_outro ou 1 em positivo_sars2, será considerado como sars2"
   ]
  },
  {
   "cell_type": "code",
   "execution_count": 112,
   "id": "d5ff6e26",
   "metadata": {},
   "outputs": [],
   "source": [
    "df = df.reset_index(drop=True)"
   ]
  },
  {
   "cell_type": "code",
   "execution_count": 113,
   "id": "da7c1716",
   "metadata": {},
   "outputs": [],
   "source": [
    "sars2_temp = []\n",
    "sars2_num_temp = -1\n",
    "\n",
    "for i, j in zip(df.positivo_outro, df.positivo_sars2):\n",
    "    if (i == 1 or j == 1):\n",
    "        sars2_num_temp = 1\n",
    "        sars2_temp.append(sars2_num_temp)\n",
    "    else:\n",
    "        sars2_num_temp = 0\n",
    "        sars2_temp.append(sars2_num_temp)\n",
    "        \n",
    "df['positivo_sars2'] = sars2_temp"
   ]
  },
  {
   "cell_type": "code",
   "execution_count": 114,
   "id": "5c6e0995",
   "metadata": {},
   "outputs": [
    {
     "data": {
      "text/plain": [
       "1    1309453\n",
       "0    1067793\n",
       "Name: positivo_sars2, dtype: int64"
      ]
     },
     "execution_count": 114,
     "metadata": {},
     "output_type": "execute_result"
    }
   ],
   "source": [
    "df['positivo_sars2'].value_counts(dropna=False)"
   ]
  },
  {
   "cell_type": "markdown",
   "id": "e5472940",
   "metadata": {},
   "source": [
    "#### Resultados IgG, IgA e IgM\n",
    "\n",
    "Os resultados de exames de anticorpos para COVID não possuem, na documentação, o que cada categoria significa, desse modo, serão excluídas da análise."
   ]
  },
  {
   "cell_type": "markdown",
   "id": "5cbd26e5",
   "metadata": {},
   "source": [
    "#### Vacinação COVID-19\n",
    "\n",
    "Conforme citado acima, irei montar a coluna \"vacina_covid19\" a partir de 3 campos, VACINA_COV, DOSE_1_COV e DOSE_2_COV.\n",
    "\n",
    "Como sabemos que há problemas de preenchimento do banco, vou fazer a seguinte lógica:\n",
    "\n",
    "Se VACINA_COV = 1 ou DOSE_1_COV != nulo ou DOSE_2_COV != nulo, vacina_covid19 = 1, caso contrário, seguirá a classe inicial, Ignorado ou NaN"
   ]
  },
  {
   "cell_type": "code",
   "execution_count": 115,
   "id": "d22fc036",
   "metadata": {},
   "outputs": [
    {
     "data": {
      "text/plain": [
       "NaN    1459036\n",
       "2.0     450205\n",
       "1.0     251139\n",
       "9.0     216866\n",
       "Name: VACINA_COV, dtype: int64"
      ]
     },
     "execution_count": 115,
     "metadata": {},
     "output_type": "execute_result"
    }
   ],
   "source": [
    "df.VACINA_COV.value_counts(dropna=False)"
   ]
  },
  {
   "cell_type": "code",
   "execution_count": 116,
   "id": "15130346",
   "metadata": {},
   "outputs": [],
   "source": [
    "import datetime\n",
    "\n",
    "vacina_covid19_temp = []\n",
    "vacina_covid19_num_temp = 'TESTE'\n",
    "prim_vac_brasil = datetime.date(2021, 1, 17) # Data da 1a vacina no brasil\n",
    "\n",
    "for vac_cov, dose_1, dose_2, data_notific  in zip(df.VACINA_COV, df.DOSE_1_COV, df.DOSE_2_COV, df.DT_NOTIFIC):\n",
    "    if vac_cov == 1 or pd.notna(dose_1) or pd.notna(dose_2):\n",
    "        vacina_covid19_num_temp = 'Sim'\n",
    "        vacina_covid19_temp.append(vacina_covid19_num_temp)\n",
    "    \n",
    "    elif vac_cov == 2:\n",
    "        vacina_covid19_num_temp = 'Nao'\n",
    "        vacina_covid19_temp.append(vacina_covid19_num_temp)\n",
    "    \n",
    "    elif vac_cov == 9:\n",
    "        vacina_covid19_num_temp = 'Ignorado'\n",
    "        vacina_covid19_temp.append(vacina_covid19_num_temp)\n",
    "    \n",
    "    elif pd.isna(vac_cov) and data_notific < prim_vac_brasil:\n",
    "        vacina_covid19_num_temp = 'Nao-disponivel'\n",
    "        vacina_covid19_temp.append(vacina_covid19_num_temp)\n",
    "    \n",
    "    else:\n",
    "        vacina_covid19_num_temp = 'Nulo'\n",
    "        vacina_covid19_temp.append(vacina_covid19_num_temp)  \n",
    "\n",
    "df['vacina_covid19'] = vacina_covid19_temp"
   ]
  },
  {
   "cell_type": "code",
   "execution_count": 117,
   "id": "edf6fca1",
   "metadata": {},
   "outputs": [
    {
     "data": {
      "text/plain": [
       "Nao-disponivel    1034770\n",
       "Nao                449641\n",
       "Nulo               423757\n",
       "Sim                252534\n",
       "Ignorado           216544\n",
       "Name: vacina_covid19, dtype: int64"
      ]
     },
     "execution_count": 117,
     "metadata": {},
     "output_type": "execute_result"
    }
   ],
   "source": [
    "df.vacina_covid19.value_counts(dropna=False)"
   ]
  },
  {
   "cell_type": "code",
   "execution_count": 118,
   "id": "d238a252",
   "metadata": {},
   "outputs": [],
   "source": [
    "doediag_finais = ['EVOLUCAO', 'diagnostico', 'antiviral', 'suporte_vent', 'uti', 'positivo_vsr', 'positivo_para1', \n",
    "                  'positivo_para2', 'positivo_para3', 'positivo_para4','positivo_adeno', 'positivo_sars2', \n",
    "                  'positivo_influenza', 'positivo_metap', 'positivo_boca', 'positivo_rino', 'vacina_covid19']"
   ]
  },
  {
   "cell_type": "markdown",
   "id": "ba16f4ae",
   "metadata": {},
   "source": [
    "### Finalização do tratamento\n",
    "\n",
    "Após o tratamento individual das variáveis, é necessário a escolha das variáveis que irão compor as bases.\n",
    "\n",
    "Para isso, vou armazená-las em um vetor e salvar o dataframe tratado em uma variável para então exportá-lo.<br>\n",
    "Ainda será necessário fazer a dummificação das variáveis, porém este passo será realizado através de um Pipeline.\n",
    "\n",
    "Vou montar uma função com todo o tratamento para que este seja aplicado na base de 2021, que possui todas as variáveis daqui mais os dados de vacinação."
   ]
  },
  {
   "cell_type": "markdown",
   "id": "023e148f",
   "metadata": {},
   "source": [
    "#### Escolha das variáveis e exportação da base de treino\n",
    "\n",
    "As variáveis finais do modelo são:"
   ]
  },
  {
   "cell_type": "code",
   "execution_count": 119,
   "id": "6cacab84",
   "metadata": {
    "scrolled": true
   },
   "outputs": [
    {
     "name": "stdout",
     "output_type": "stream",
     "text": [
      "51\n"
     ]
    },
    {
     "data": {
      "text/plain": [
       "['DT_NOTIFIC',\n",
       " 'tempo_alta_obito_final',\n",
       " 'febre',\n",
       " 'tosse',\n",
       " 'dispneia',\n",
       " 'diarreia',\n",
       " 'vomito',\n",
       " 'garganta',\n",
       " 'desc_resp',\n",
       " 'saturacao',\n",
       " 'dor_abd',\n",
       " 'fadiga',\n",
       " 'perd_olft',\n",
       " 'perd_pala',\n",
       " 'hematologi',\n",
       " 'cardiopati',\n",
       " 'asma',\n",
       " 'diabetes',\n",
       " 'pneumopati',\n",
       " 'renal',\n",
       " 'imunodepre',\n",
       " 'hepatica',\n",
       " 'neurologic',\n",
       " 'obesidade',\n",
       " 'puerpera',\n",
       " 'sind_down',\n",
       " 'SG_UF_NOT',\n",
       " 'idade',\n",
       " 'CS_SEXO',\n",
       " 'gravidez',\n",
       " 'raca',\n",
       " 'vacina_gripe',\n",
       " 'mae_amamenta',\n",
       " 'mae_vacinada_gripe',\n",
       " 'EVOLUCAO',\n",
       " 'diagnostico',\n",
       " 'antiviral',\n",
       " 'suporte_vent',\n",
       " 'uti',\n",
       " 'positivo_vsr',\n",
       " 'positivo_para1',\n",
       " 'positivo_para2',\n",
       " 'positivo_para3',\n",
       " 'positivo_para4',\n",
       " 'positivo_adeno',\n",
       " 'positivo_sars2',\n",
       " 'positivo_influenza',\n",
       " 'positivo_metap',\n",
       " 'positivo_boca',\n",
       " 'positivo_rino',\n",
       " 'vacina_covid19']"
      ]
     },
     "execution_count": 119,
     "metadata": {},
     "output_type": "execute_result"
    }
   ],
   "source": [
    "var_finais = datas_finais + sint_morb_finais + demog_finais + doediag_finais\n",
    "print(len(var_finais))\n",
    "var_finais"
   ]
  },
  {
   "cell_type": "code",
   "execution_count": 120,
   "id": "a229898c",
   "metadata": {},
   "outputs": [
    {
     "data": {
      "text/html": [
       "<div>\n",
       "<style scoped>\n",
       "    .dataframe tbody tr th:only-of-type {\n",
       "        vertical-align: middle;\n",
       "    }\n",
       "\n",
       "    .dataframe tbody tr th {\n",
       "        vertical-align: top;\n",
       "    }\n",
       "\n",
       "    .dataframe thead th {\n",
       "        text-align: right;\n",
       "    }\n",
       "</style>\n",
       "<table border=\"1\" class=\"dataframe\">\n",
       "  <thead>\n",
       "    <tr style=\"text-align: right;\">\n",
       "      <th></th>\n",
       "      <th>DT_NOTIFIC</th>\n",
       "      <th>tempo_alta_obito_final</th>\n",
       "      <th>febre</th>\n",
       "      <th>tosse</th>\n",
       "      <th>dispneia</th>\n",
       "      <th>diarreia</th>\n",
       "      <th>vomito</th>\n",
       "      <th>garganta</th>\n",
       "      <th>desc_resp</th>\n",
       "      <th>saturacao</th>\n",
       "      <th>...</th>\n",
       "      <th>positivo_para2</th>\n",
       "      <th>positivo_para3</th>\n",
       "      <th>positivo_para4</th>\n",
       "      <th>positivo_adeno</th>\n",
       "      <th>positivo_sars2</th>\n",
       "      <th>positivo_influenza</th>\n",
       "      <th>positivo_metap</th>\n",
       "      <th>positivo_boca</th>\n",
       "      <th>positivo_rino</th>\n",
       "      <th>vacina_covid19</th>\n",
       "    </tr>\n",
       "  </thead>\n",
       "  <tbody>\n",
       "    <tr>\n",
       "      <th>0</th>\n",
       "      <td>2020-07-01</td>\n",
       "      <td>153.0</td>\n",
       "      <td>Sim</td>\n",
       "      <td>Sim</td>\n",
       "      <td>Ignorado</td>\n",
       "      <td>Nao</td>\n",
       "      <td>Nao</td>\n",
       "      <td>Nao</td>\n",
       "      <td>Sim</td>\n",
       "      <td>Sim</td>\n",
       "      <td>...</td>\n",
       "      <td>0</td>\n",
       "      <td>0</td>\n",
       "      <td>0</td>\n",
       "      <td>0</td>\n",
       "      <td>0</td>\n",
       "      <td>0</td>\n",
       "      <td>0</td>\n",
       "      <td>0</td>\n",
       "      <td>0</td>\n",
       "      <td>Nao-disponivel</td>\n",
       "    </tr>\n",
       "    <tr>\n",
       "      <th>1</th>\n",
       "      <td>2020-10-01</td>\n",
       "      <td>153.0</td>\n",
       "      <td>Sim</td>\n",
       "      <td>Sim</td>\n",
       "      <td>Sim</td>\n",
       "      <td>Nao</td>\n",
       "      <td>Nao</td>\n",
       "      <td>Nao</td>\n",
       "      <td>Sim</td>\n",
       "      <td>Sim</td>\n",
       "      <td>...</td>\n",
       "      <td>0</td>\n",
       "      <td>0</td>\n",
       "      <td>0</td>\n",
       "      <td>0</td>\n",
       "      <td>1</td>\n",
       "      <td>0</td>\n",
       "      <td>0</td>\n",
       "      <td>0</td>\n",
       "      <td>1</td>\n",
       "      <td>Nao-disponivel</td>\n",
       "    </tr>\n",
       "    <tr>\n",
       "      <th>2</th>\n",
       "      <td>2020-02-13</td>\n",
       "      <td>171.0</td>\n",
       "      <td>Sim</td>\n",
       "      <td>Sim</td>\n",
       "      <td>Sim</td>\n",
       "      <td>Nao</td>\n",
       "      <td>Nao</td>\n",
       "      <td>Nao</td>\n",
       "      <td>Sim</td>\n",
       "      <td>Sim</td>\n",
       "      <td>...</td>\n",
       "      <td>0</td>\n",
       "      <td>0</td>\n",
       "      <td>0</td>\n",
       "      <td>0</td>\n",
       "      <td>0</td>\n",
       "      <td>0</td>\n",
       "      <td>0</td>\n",
       "      <td>0</td>\n",
       "      <td>0</td>\n",
       "      <td>Nao-disponivel</td>\n",
       "    </tr>\n",
       "    <tr>\n",
       "      <th>3</th>\n",
       "      <td>2020-01-27</td>\n",
       "      <td>128.0</td>\n",
       "      <td>Sim</td>\n",
       "      <td>Sim</td>\n",
       "      <td>Sim</td>\n",
       "      <td>Sim</td>\n",
       "      <td>Sim</td>\n",
       "      <td>Nao</td>\n",
       "      <td>Sim</td>\n",
       "      <td>Sim</td>\n",
       "      <td>...</td>\n",
       "      <td>0</td>\n",
       "      <td>0</td>\n",
       "      <td>0</td>\n",
       "      <td>1</td>\n",
       "      <td>1</td>\n",
       "      <td>0</td>\n",
       "      <td>0</td>\n",
       "      <td>0</td>\n",
       "      <td>0</td>\n",
       "      <td>Nao-disponivel</td>\n",
       "    </tr>\n",
       "    <tr>\n",
       "      <th>4</th>\n",
       "      <td>2020-02-26</td>\n",
       "      <td>21.0</td>\n",
       "      <td>Sim</td>\n",
       "      <td>Sim</td>\n",
       "      <td>Nao</td>\n",
       "      <td>Nao</td>\n",
       "      <td>Nao</td>\n",
       "      <td>Nao</td>\n",
       "      <td>Nao</td>\n",
       "      <td>Nao</td>\n",
       "      <td>...</td>\n",
       "      <td>0</td>\n",
       "      <td>0</td>\n",
       "      <td>0</td>\n",
       "      <td>0</td>\n",
       "      <td>0</td>\n",
       "      <td>0</td>\n",
       "      <td>0</td>\n",
       "      <td>0</td>\n",
       "      <td>0</td>\n",
       "      <td>Nao-disponivel</td>\n",
       "    </tr>\n",
       "    <tr>\n",
       "      <th>...</th>\n",
       "      <td>...</td>\n",
       "      <td>...</td>\n",
       "      <td>...</td>\n",
       "      <td>...</td>\n",
       "      <td>...</td>\n",
       "      <td>...</td>\n",
       "      <td>...</td>\n",
       "      <td>...</td>\n",
       "      <td>...</td>\n",
       "      <td>...</td>\n",
       "      <td>...</td>\n",
       "      <td>...</td>\n",
       "      <td>...</td>\n",
       "      <td>...</td>\n",
       "      <td>...</td>\n",
       "      <td>...</td>\n",
       "      <td>...</td>\n",
       "      <td>...</td>\n",
       "      <td>...</td>\n",
       "      <td>...</td>\n",
       "      <td>...</td>\n",
       "    </tr>\n",
       "    <tr>\n",
       "      <th>2377241</th>\n",
       "      <td>2021-10-26</td>\n",
       "      <td>7.0</td>\n",
       "      <td>Sim</td>\n",
       "      <td>Sim</td>\n",
       "      <td>Nao</td>\n",
       "      <td>Nao</td>\n",
       "      <td>Sim</td>\n",
       "      <td>Nao</td>\n",
       "      <td>Nao</td>\n",
       "      <td>Sim</td>\n",
       "      <td>...</td>\n",
       "      <td>0</td>\n",
       "      <td>0</td>\n",
       "      <td>0</td>\n",
       "      <td>0</td>\n",
       "      <td>0</td>\n",
       "      <td>0</td>\n",
       "      <td>0</td>\n",
       "      <td>0</td>\n",
       "      <td>0</td>\n",
       "      <td>Nao</td>\n",
       "    </tr>\n",
       "    <tr>\n",
       "      <th>2377242</th>\n",
       "      <td>2021-11-27</td>\n",
       "      <td>0.0</td>\n",
       "      <td>Nao</td>\n",
       "      <td>Nao</td>\n",
       "      <td>Sim</td>\n",
       "      <td>Nao</td>\n",
       "      <td>Nao</td>\n",
       "      <td>Nao</td>\n",
       "      <td>Sim</td>\n",
       "      <td>Sim</td>\n",
       "      <td>...</td>\n",
       "      <td>0</td>\n",
       "      <td>0</td>\n",
       "      <td>0</td>\n",
       "      <td>0</td>\n",
       "      <td>0</td>\n",
       "      <td>0</td>\n",
       "      <td>0</td>\n",
       "      <td>0</td>\n",
       "      <td>0</td>\n",
       "      <td>Ignorado</td>\n",
       "    </tr>\n",
       "    <tr>\n",
       "      <th>2377243</th>\n",
       "      <td>2021-07-11</td>\n",
       "      <td>77.0</td>\n",
       "      <td>Nulo</td>\n",
       "      <td>Sim</td>\n",
       "      <td>Sim</td>\n",
       "      <td>Nulo</td>\n",
       "      <td>Nulo</td>\n",
       "      <td>Nulo</td>\n",
       "      <td>Nulo</td>\n",
       "      <td>Sim</td>\n",
       "      <td>...</td>\n",
       "      <td>0</td>\n",
       "      <td>0</td>\n",
       "      <td>0</td>\n",
       "      <td>0</td>\n",
       "      <td>0</td>\n",
       "      <td>0</td>\n",
       "      <td>0</td>\n",
       "      <td>0</td>\n",
       "      <td>0</td>\n",
       "      <td>Sim</td>\n",
       "    </tr>\n",
       "    <tr>\n",
       "      <th>2377244</th>\n",
       "      <td>2021-04-11</td>\n",
       "      <td>169.0</td>\n",
       "      <td>Nao</td>\n",
       "      <td>Sim</td>\n",
       "      <td>Sim</td>\n",
       "      <td>Nao</td>\n",
       "      <td>Nao</td>\n",
       "      <td>Nao</td>\n",
       "      <td>Sim</td>\n",
       "      <td>Sim</td>\n",
       "      <td>...</td>\n",
       "      <td>0</td>\n",
       "      <td>0</td>\n",
       "      <td>0</td>\n",
       "      <td>0</td>\n",
       "      <td>0</td>\n",
       "      <td>0</td>\n",
       "      <td>0</td>\n",
       "      <td>0</td>\n",
       "      <td>0</td>\n",
       "      <td>Sim</td>\n",
       "    </tr>\n",
       "    <tr>\n",
       "      <th>2377245</th>\n",
       "      <td>2021-10-06</td>\n",
       "      <td>16.0</td>\n",
       "      <td>Sim</td>\n",
       "      <td>Nao</td>\n",
       "      <td>Sim</td>\n",
       "      <td>Nao</td>\n",
       "      <td>Nao</td>\n",
       "      <td>Nao</td>\n",
       "      <td>Sim</td>\n",
       "      <td>Nao</td>\n",
       "      <td>...</td>\n",
       "      <td>0</td>\n",
       "      <td>0</td>\n",
       "      <td>0</td>\n",
       "      <td>0</td>\n",
       "      <td>1</td>\n",
       "      <td>0</td>\n",
       "      <td>0</td>\n",
       "      <td>0</td>\n",
       "      <td>0</td>\n",
       "      <td>Sim</td>\n",
       "    </tr>\n",
       "  </tbody>\n",
       "</table>\n",
       "<p>2377246 rows × 51 columns</p>\n",
       "</div>"
      ],
      "text/plain": [
       "        DT_NOTIFIC  tempo_alta_obito_final febre tosse  dispneia diarreia  \\\n",
       "0       2020-07-01                   153.0   Sim   Sim  Ignorado      Nao   \n",
       "1       2020-10-01                   153.0   Sim   Sim       Sim      Nao   \n",
       "2       2020-02-13                   171.0   Sim   Sim       Sim      Nao   \n",
       "3       2020-01-27                   128.0   Sim   Sim       Sim      Sim   \n",
       "4       2020-02-26                    21.0   Sim   Sim       Nao      Nao   \n",
       "...            ...                     ...   ...   ...       ...      ...   \n",
       "2377241 2021-10-26                     7.0   Sim   Sim       Nao      Nao   \n",
       "2377242 2021-11-27                     0.0   Nao   Nao       Sim      Nao   \n",
       "2377243 2021-07-11                    77.0  Nulo   Sim       Sim     Nulo   \n",
       "2377244 2021-04-11                   169.0   Nao   Sim       Sim      Nao   \n",
       "2377245 2021-10-06                    16.0   Sim   Nao       Sim      Nao   \n",
       "\n",
       "        vomito garganta desc_resp saturacao  ... positivo_para2  \\\n",
       "0          Nao      Nao       Sim       Sim  ...              0   \n",
       "1          Nao      Nao       Sim       Sim  ...              0   \n",
       "2          Nao      Nao       Sim       Sim  ...              0   \n",
       "3          Sim      Nao       Sim       Sim  ...              0   \n",
       "4          Nao      Nao       Nao       Nao  ...              0   \n",
       "...        ...      ...       ...       ...  ...            ...   \n",
       "2377241    Sim      Nao       Nao       Sim  ...              0   \n",
       "2377242    Nao      Nao       Sim       Sim  ...              0   \n",
       "2377243   Nulo     Nulo      Nulo       Sim  ...              0   \n",
       "2377244    Nao      Nao       Sim       Sim  ...              0   \n",
       "2377245    Nao      Nao       Sim       Nao  ...              0   \n",
       "\n",
       "        positivo_para3 positivo_para4 positivo_adeno positivo_sars2  \\\n",
       "0                    0              0              0              0   \n",
       "1                    0              0              0              1   \n",
       "2                    0              0              0              0   \n",
       "3                    0              0              1              1   \n",
       "4                    0              0              0              0   \n",
       "...                ...            ...            ...            ...   \n",
       "2377241              0              0              0              0   \n",
       "2377242              0              0              0              0   \n",
       "2377243              0              0              0              0   \n",
       "2377244              0              0              0              0   \n",
       "2377245              0              0              0              1   \n",
       "\n",
       "        positivo_influenza positivo_metap positivo_boca positivo_rino  \\\n",
       "0                        0              0             0             0   \n",
       "1                        0              0             0             1   \n",
       "2                        0              0             0             0   \n",
       "3                        0              0             0             0   \n",
       "4                        0              0             0             0   \n",
       "...                    ...            ...           ...           ...   \n",
       "2377241                  0              0             0             0   \n",
       "2377242                  0              0             0             0   \n",
       "2377243                  0              0             0             0   \n",
       "2377244                  0              0             0             0   \n",
       "2377245                  0              0             0             0   \n",
       "\n",
       "         vacina_covid19  \n",
       "0        Nao-disponivel  \n",
       "1        Nao-disponivel  \n",
       "2        Nao-disponivel  \n",
       "3        Nao-disponivel  \n",
       "4        Nao-disponivel  \n",
       "...                 ...  \n",
       "2377241             Nao  \n",
       "2377242        Ignorado  \n",
       "2377243             Sim  \n",
       "2377244             Sim  \n",
       "2377245             Sim  \n",
       "\n",
       "[2377246 rows x 51 columns]"
      ]
     },
     "execution_count": 120,
     "metadata": {},
     "output_type": "execute_result"
    }
   ],
   "source": [
    "df_final = df[var_finais].reset_index(drop=True).copy()\n",
    "df_final"
   ]
  },
  {
   "cell_type": "code",
   "execution_count": 121,
   "id": "22cb73cd",
   "metadata": {},
   "outputs": [
    {
     "data": {
      "text/plain": [
       "DT_NOTIFIC                0\n",
       "tempo_alta_obito_final    0\n",
       "febre                     0\n",
       "tosse                     0\n",
       "dispneia                  0\n",
       "diarreia                  0\n",
       "vomito                    0\n",
       "garganta                  0\n",
       "desc_resp                 0\n",
       "saturacao                 0\n",
       "dor_abd                   0\n",
       "fadiga                    0\n",
       "perd_olft                 0\n",
       "perd_pala                 0\n",
       "hematologi                0\n",
       "cardiopati                0\n",
       "asma                      0\n",
       "diabetes                  0\n",
       "pneumopati                0\n",
       "renal                     0\n",
       "imunodepre                0\n",
       "hepatica                  0\n",
       "neurologic                0\n",
       "obesidade                 0\n",
       "puerpera                  0\n",
       "sind_down                 0\n",
       "SG_UF_NOT                 0\n",
       "idade                     0\n",
       "CS_SEXO                   0\n",
       "gravidez                  0\n",
       "raca                      0\n",
       "vacina_gripe              0\n",
       "mae_amamenta              0\n",
       "mae_vacinada_gripe        0\n",
       "EVOLUCAO                  0\n",
       "diagnostico               0\n",
       "antiviral                 0\n",
       "suporte_vent              0\n",
       "uti                       0\n",
       "positivo_vsr              0\n",
       "positivo_para1            0\n",
       "positivo_para2            0\n",
       "positivo_para3            0\n",
       "positivo_para4            0\n",
       "positivo_adeno            0\n",
       "positivo_sars2            0\n",
       "positivo_influenza        0\n",
       "positivo_metap            0\n",
       "positivo_boca             0\n",
       "positivo_rino             0\n",
       "vacina_covid19            0\n",
       "dtype: int64"
      ]
     },
     "execution_count": 121,
     "metadata": {},
     "output_type": "execute_result"
    }
   ],
   "source": [
    "df_final.isnull().sum()"
   ]
  },
  {
   "cell_type": "markdown",
   "id": "163ac345",
   "metadata": {},
   "source": [
    "## Salvando o Dataset"
   ]
  },
  {
   "cell_type": "code",
   "execution_count": 122,
   "id": "456cbebf",
   "metadata": {},
   "outputs": [],
   "source": [
    "df_final.to_csv('SRAG_2020_2021.csv', index=False)"
   ]
  },
  {
   "cell_type": "code",
   "execution_count": null,
   "id": "7f29af77",
   "metadata": {},
   "outputs": [],
   "source": []
  }
 ],
 "metadata": {
  "kernelspec": {
   "display_name": "Python 3 (ipykernel)",
   "language": "python",
   "name": "python3"
  },
  "language_info": {
   "codemirror_mode": {
    "name": "ipython",
    "version": 3
   },
   "file_extension": ".py",
   "mimetype": "text/x-python",
   "name": "python",
   "nbconvert_exporter": "python",
   "pygments_lexer": "ipython3",
   "version": "3.9.7"
  },
  "varInspector": {
   "cols": {
    "lenName": 16,
    "lenType": 16,
    "lenVar": 40
   },
   "kernels_config": {
    "python": {
     "delete_cmd_postfix": "",
     "delete_cmd_prefix": "del ",
     "library": "var_list.py",
     "varRefreshCmd": "print(var_dic_list())"
    },
    "r": {
     "delete_cmd_postfix": ") ",
     "delete_cmd_prefix": "rm(",
     "library": "var_list.r",
     "varRefreshCmd": "cat(var_dic_list()) "
    }
   },
   "position": {
    "height": "472px",
    "left": "1550px",
    "right": "20px",
    "top": "119px",
    "width": "360px"
   },
   "types_to_exclude": [
    "module",
    "function",
    "builtin_function_or_method",
    "instance",
    "_Feature"
   ],
   "window_display": false
  }
 },
 "nbformat": 4,
 "nbformat_minor": 5
}
